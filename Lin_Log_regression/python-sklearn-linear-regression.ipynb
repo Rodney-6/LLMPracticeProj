{
 "cells": [
  {
   "cell_type": "markdown",
   "id": "greater-color",
   "metadata": {},
   "source": [
    "# Linear Regression with Scikit Learn - Machine Learning with Python\n",
    "\n",
    "This tutorial is a part of [Zero to Data Science Bootcamp by Jovian](https://zerotodatascience.com) and [Machine Learning with Python: Zero to GBMs](https://jovian.ai/learn/machine-learning-with-python-zero-to-gbms)\n",
    "\n",
    "![](https://i.imgur.com/1EzyZvj.png)\n"
   ]
  },
  {
   "cell_type": "markdown",
   "id": "framed-anaheim",
   "metadata": {},
   "source": [
    "The following topics are covered in this tutorial:\n",
    "\n",
    "- A typical problem statement for machine learning\n",
    "- Downloading and exploring a dataset for machine learning\n",
    "- Linear regression with one variable using Scikit-learn\n",
    "- Linear regression with multiple variables \n",
    "- Using categorical features for machine learning\n",
    "- Regression coefficients and feature importance\n",
    "- Other models and techniques for regression using Scikit-learn\n",
    "- Applying linear regression to other datasets"
   ]
  },
  {
   "cell_type": "markdown",
   "id": "asian-little",
   "metadata": {},
   "source": [
    "### How to run the code\n",
    "\n",
    "This tutorial is an executable [Jupyter notebook](https://jupyter.org) hosted on [Jovian](https://www.jovian.ai). You can _run_ this tutorial and experiment with the code examples in a couple of ways: *using free online resources* (recommended) or *on your computer*.\n",
    "\n",
    "#### Option 1: Running using free online resources (1-click, recommended)\n",
    "\n",
    "The easiest way to start executing the code is to click the **Run** button at the top of this page and select **Run on Binder**. You can also select \"Run on Colab\" or \"Run on Kaggle\", but you'll need to create an account on [Google Colab](https://colab.research.google.com) or [Kaggle](https://kaggle.com) to use these platforms.\n",
    "\n",
    "\n",
    "#### Option 2: Running on your computer locally\n",
    "\n",
    "To run the code on your computer locally, you'll need to set up [Python](https://www.python.org), download the notebook and install the required libraries. We recommend using the [Conda](https://docs.conda.io/projects/conda/en/latest/user-guide/install/) distribution of Python. Click the **Run** button at the top of this page, select the **Run Locally** option, and follow the instructions.\n",
    "\n",
    ">  **Jupyter Notebooks**: This tutorial is a [Jupyter notebook](https://jupyter.org) - a document made of _cells_. Each cell can contain code written in Python or explanations in plain English. You can execute code cells and view the results, e.g., numbers, messages, graphs, tables, files, etc., instantly within the notebook. Jupyter is a powerful platform for experimentation and analysis. Don't be afraid to mess around with the code & break things - you'll learn a lot by encountering and fixing errors. You can use the \"Kernel > Restart & Clear Output\" menu option to clear all outputs and start again from the top."
   ]
  },
  {
   "cell_type": "markdown",
   "id": "north-teens",
   "metadata": {},
   "source": [
    "## Problem Statement\n",
    "\n",
    "This tutorial takes a practical and coding-focused. We'll define the terms _machine learning_ and _linear regression_ in the context of a problem, and later generalize their definitions. We'll work through a typical machine learning problem step-by-step:\n",
    "\n",
    "\n",
    "> **QUESTION**: ACME Insurance Inc. offers affordable health insurance to thousands of customer all over the United States. As the lead data scientist at ACME, **you're tasked with creating an automated system to estimate the annual medical expenditure for new customers**, using information such as their age, sex, BMI, children, smoking habits and region of residence. \n",
    ">\n",
    "> Estimates from your system will be used to determine the annual insurance premium (amount paid every month) offered to the customer. Due to regulatory requirements, you must be able to explain why your system outputs a certain prediction.\n",
    "> \n",
    "> You're given a [CSV file](https://raw.githubusercontent.com/JovianML/opendatasets/master/data/medical-charges.csv) containing verified historical data, consisting of the aforementioned information and the actual medical charges incurred by over 1300 customers. \n",
    "> <img src=\"https://i.imgur.com/87Uw0aG.png\" width=\"480\">\n",
    ">\n",
    "> Dataset source: https://github.com/stedy/Machine-Learning-with-R-datasets\n",
    "\n",
    "\n",
    "**EXERCISE**: Before proceeding further, take a moment to think about how can approach this problem. List five or more ideas that come to your mind below:\n",
    " \n",
    " 1. reference historical data to train a ML model the relevant correlations\n",
    " 2. look for correlations in the existing data between given metrics and cost.\n",
    " 3. start by looking at each individual metric with respect to cost, then build more dynamic correlations from there.\n",
    " 4. Use the results of the data analysis to determine what ML model will be the best fit.\n",
    " 5. ???\n",
    "\n"
   ]
  },
  {
   "cell_type": "markdown",
   "id": "otherwise-fifteen",
   "metadata": {},
   "source": [
    "## Downloading the Data\n",
    "\n",
    "To begin, let's download the data using the `urlretrieve` function from `urllib.request`."
   ]
  },
  {
   "cell_type": "code",
   "execution_count": 1,
   "id": "viral-citizenship",
   "metadata": {},
   "outputs": [],
   "source": [
    "medical_charges_url = 'https://raw.githubusercontent.com/JovianML/opendatasets/master/data/medical-charges.csv'"
   ]
  },
  {
   "cell_type": "code",
   "execution_count": 2,
   "id": "hundred-shipping",
   "metadata": {},
   "outputs": [],
   "source": [
    "from urllib.request import urlretrieve"
   ]
  },
  {
   "cell_type": "code",
   "execution_count": 17,
   "id": "norwegian-orientation",
   "metadata": {
    "scrolled": true
   },
   "outputs": [
    {
     "data": {
      "text/plain": [
       "('medical.csv', <http.client.HTTPMessage at 0x7fdd5470cbf0>)"
      ]
     },
     "execution_count": 17,
     "metadata": {},
     "output_type": "execute_result"
    }
   ],
   "source": [
    "urlretrieve(medical_charges_url, 'medical.csv')"
   ]
  },
  {
   "cell_type": "markdown",
   "id": "smart-blues",
   "metadata": {},
   "source": [
    "We can now create a Pandas dataframe using the downloaded file, to view and analyze the data."
   ]
  },
  {
   "cell_type": "code",
   "execution_count": 3,
   "id": "critical-estonia",
   "metadata": {},
   "outputs": [
    {
     "name": "stdout",
     "output_type": "stream",
     "text": [
      "Note: you may need to restart the kernel to use updated packages.\n"
     ]
    }
   ],
   "source": [
    "%pip install pandas --quiet"
   ]
  },
  {
   "cell_type": "code",
   "execution_count": 5,
   "id": "nuclear-omega",
   "metadata": {},
   "outputs": [],
   "source": [
    "import pandas as pd"
   ]
  },
  {
   "cell_type": "code",
   "execution_count": 6,
   "id": "aware-chaos",
   "metadata": {},
   "outputs": [],
   "source": [
    "medical_df = pd.read_csv('medical.csv')"
   ]
  },
  {
   "cell_type": "code",
   "execution_count": 7,
   "id": "dependent-tracy",
   "metadata": {
    "scrolled": false
   },
   "outputs": [
    {
     "data": {
      "text/html": [
       "<div>\n",
       "<style scoped>\n",
       "    .dataframe tbody tr th:only-of-type {\n",
       "        vertical-align: middle;\n",
       "    }\n",
       "\n",
       "    .dataframe tbody tr th {\n",
       "        vertical-align: top;\n",
       "    }\n",
       "\n",
       "    .dataframe thead th {\n",
       "        text-align: right;\n",
       "    }\n",
       "</style>\n",
       "<table border=\"1\" class=\"dataframe\">\n",
       "  <thead>\n",
       "    <tr style=\"text-align: right;\">\n",
       "      <th></th>\n",
       "      <th>age</th>\n",
       "      <th>sex</th>\n",
       "      <th>bmi</th>\n",
       "      <th>children</th>\n",
       "      <th>smoker</th>\n",
       "      <th>region</th>\n",
       "      <th>charges</th>\n",
       "    </tr>\n",
       "  </thead>\n",
       "  <tbody>\n",
       "    <tr>\n",
       "      <th>0</th>\n",
       "      <td>19</td>\n",
       "      <td>female</td>\n",
       "      <td>27.900</td>\n",
       "      <td>0</td>\n",
       "      <td>yes</td>\n",
       "      <td>southwest</td>\n",
       "      <td>16884.92400</td>\n",
       "    </tr>\n",
       "    <tr>\n",
       "      <th>1</th>\n",
       "      <td>18</td>\n",
       "      <td>male</td>\n",
       "      <td>33.770</td>\n",
       "      <td>1</td>\n",
       "      <td>no</td>\n",
       "      <td>southeast</td>\n",
       "      <td>1725.55230</td>\n",
       "    </tr>\n",
       "    <tr>\n",
       "      <th>2</th>\n",
       "      <td>28</td>\n",
       "      <td>male</td>\n",
       "      <td>33.000</td>\n",
       "      <td>3</td>\n",
       "      <td>no</td>\n",
       "      <td>southeast</td>\n",
       "      <td>4449.46200</td>\n",
       "    </tr>\n",
       "    <tr>\n",
       "      <th>3</th>\n",
       "      <td>33</td>\n",
       "      <td>male</td>\n",
       "      <td>22.705</td>\n",
       "      <td>0</td>\n",
       "      <td>no</td>\n",
       "      <td>northwest</td>\n",
       "      <td>21984.47061</td>\n",
       "    </tr>\n",
       "    <tr>\n",
       "      <th>4</th>\n",
       "      <td>32</td>\n",
       "      <td>male</td>\n",
       "      <td>28.880</td>\n",
       "      <td>0</td>\n",
       "      <td>no</td>\n",
       "      <td>northwest</td>\n",
       "      <td>3866.85520</td>\n",
       "    </tr>\n",
       "    <tr>\n",
       "      <th>...</th>\n",
       "      <td>...</td>\n",
       "      <td>...</td>\n",
       "      <td>...</td>\n",
       "      <td>...</td>\n",
       "      <td>...</td>\n",
       "      <td>...</td>\n",
       "      <td>...</td>\n",
       "    </tr>\n",
       "    <tr>\n",
       "      <th>1333</th>\n",
       "      <td>50</td>\n",
       "      <td>male</td>\n",
       "      <td>30.970</td>\n",
       "      <td>3</td>\n",
       "      <td>no</td>\n",
       "      <td>northwest</td>\n",
       "      <td>10600.54830</td>\n",
       "    </tr>\n",
       "    <tr>\n",
       "      <th>1334</th>\n",
       "      <td>18</td>\n",
       "      <td>female</td>\n",
       "      <td>31.920</td>\n",
       "      <td>0</td>\n",
       "      <td>no</td>\n",
       "      <td>northeast</td>\n",
       "      <td>2205.98080</td>\n",
       "    </tr>\n",
       "    <tr>\n",
       "      <th>1335</th>\n",
       "      <td>18</td>\n",
       "      <td>female</td>\n",
       "      <td>36.850</td>\n",
       "      <td>0</td>\n",
       "      <td>no</td>\n",
       "      <td>southeast</td>\n",
       "      <td>1629.83350</td>\n",
       "    </tr>\n",
       "    <tr>\n",
       "      <th>1336</th>\n",
       "      <td>21</td>\n",
       "      <td>female</td>\n",
       "      <td>25.800</td>\n",
       "      <td>0</td>\n",
       "      <td>no</td>\n",
       "      <td>southwest</td>\n",
       "      <td>2007.94500</td>\n",
       "    </tr>\n",
       "    <tr>\n",
       "      <th>1337</th>\n",
       "      <td>61</td>\n",
       "      <td>female</td>\n",
       "      <td>29.070</td>\n",
       "      <td>0</td>\n",
       "      <td>yes</td>\n",
       "      <td>northwest</td>\n",
       "      <td>29141.36030</td>\n",
       "    </tr>\n",
       "  </tbody>\n",
       "</table>\n",
       "<p>1338 rows × 7 columns</p>\n",
       "</div>"
      ],
      "text/plain": [
       "      age     sex     bmi  children smoker     region      charges\n",
       "0      19  female  27.900         0    yes  southwest  16884.92400\n",
       "1      18    male  33.770         1     no  southeast   1725.55230\n",
       "2      28    male  33.000         3     no  southeast   4449.46200\n",
       "3      33    male  22.705         0     no  northwest  21984.47061\n",
       "4      32    male  28.880         0     no  northwest   3866.85520\n",
       "...   ...     ...     ...       ...    ...        ...          ...\n",
       "1333   50    male  30.970         3     no  northwest  10600.54830\n",
       "1334   18  female  31.920         0     no  northeast   2205.98080\n",
       "1335   18  female  36.850         0     no  southeast   1629.83350\n",
       "1336   21  female  25.800         0     no  southwest   2007.94500\n",
       "1337   61  female  29.070         0    yes  northwest  29141.36030\n",
       "\n",
       "[1338 rows x 7 columns]"
      ]
     },
     "execution_count": 7,
     "metadata": {},
     "output_type": "execute_result"
    }
   ],
   "source": [
    "medical_df"
   ]
  },
  {
   "cell_type": "markdown",
   "id": "wrapped-people",
   "metadata": {},
   "source": [
    "The dataset contains 1338 rows and 7 columns. Each row of the dataset contains information about one customer. \n",
    "\n",
    "Our objective is to find a way to estimate the value in the \"charges\" column using the values in the other columns. If we can do so for the historical data, then we should able to estimate charges for new customers too, simply by asking for information like their age, sex, BMI, no. of children, smoking habits and region.\n",
    "\n",
    "Let's check the data type for each column."
   ]
  },
  {
   "cell_type": "code",
   "execution_count": 8,
   "id": "established-saver",
   "metadata": {},
   "outputs": [
    {
     "name": "stdout",
     "output_type": "stream",
     "text": [
      "<class 'pandas.core.frame.DataFrame'>\n",
      "RangeIndex: 1338 entries, 0 to 1337\n",
      "Data columns (total 7 columns):\n",
      " #   Column    Non-Null Count  Dtype  \n",
      "---  ------    --------------  -----  \n",
      " 0   age       1338 non-null   int64  \n",
      " 1   sex       1338 non-null   object \n",
      " 2   bmi       1338 non-null   float64\n",
      " 3   children  1338 non-null   int64  \n",
      " 4   smoker    1338 non-null   object \n",
      " 5   region    1338 non-null   object \n",
      " 6   charges   1338 non-null   float64\n",
      "dtypes: float64(2), int64(2), object(3)\n",
      "memory usage: 73.3+ KB\n"
     ]
    }
   ],
   "source": [
    "medical_df.info()"
   ]
  },
  {
   "cell_type": "markdown",
   "id": "searching-costa",
   "metadata": {},
   "source": [
    "Looks like \"age\", \"children\", \"bmi\" ([body mass index](https://en.wikipedia.org/wiki/Body_mass_index)) and \"charges\" are numbers, whereas \"sex\", \"smoker\" and \"region\" are strings (possibly categories). None of the columns contain any missing values, which saves us a fair bit of work!\n",
    "\n",
    "Here are some statistics for the numerical columns:"
   ]
  },
  {
   "cell_type": "code",
   "execution_count": 9,
   "id": "vertical-lancaster",
   "metadata": {},
   "outputs": [
    {
     "data": {
      "text/html": [
       "<div>\n",
       "<style scoped>\n",
       "    .dataframe tbody tr th:only-of-type {\n",
       "        vertical-align: middle;\n",
       "    }\n",
       "\n",
       "    .dataframe tbody tr th {\n",
       "        vertical-align: top;\n",
       "    }\n",
       "\n",
       "    .dataframe thead th {\n",
       "        text-align: right;\n",
       "    }\n",
       "</style>\n",
       "<table border=\"1\" class=\"dataframe\">\n",
       "  <thead>\n",
       "    <tr style=\"text-align: right;\">\n",
       "      <th></th>\n",
       "      <th>age</th>\n",
       "      <th>bmi</th>\n",
       "      <th>children</th>\n",
       "      <th>charges</th>\n",
       "    </tr>\n",
       "  </thead>\n",
       "  <tbody>\n",
       "    <tr>\n",
       "      <th>count</th>\n",
       "      <td>1338.000000</td>\n",
       "      <td>1338.000000</td>\n",
       "      <td>1338.000000</td>\n",
       "      <td>1338.000000</td>\n",
       "    </tr>\n",
       "    <tr>\n",
       "      <th>mean</th>\n",
       "      <td>39.207025</td>\n",
       "      <td>30.663397</td>\n",
       "      <td>1.094918</td>\n",
       "      <td>13270.422265</td>\n",
       "    </tr>\n",
       "    <tr>\n",
       "      <th>std</th>\n",
       "      <td>14.049960</td>\n",
       "      <td>6.098187</td>\n",
       "      <td>1.205493</td>\n",
       "      <td>12110.011237</td>\n",
       "    </tr>\n",
       "    <tr>\n",
       "      <th>min</th>\n",
       "      <td>18.000000</td>\n",
       "      <td>15.960000</td>\n",
       "      <td>0.000000</td>\n",
       "      <td>1121.873900</td>\n",
       "    </tr>\n",
       "    <tr>\n",
       "      <th>25%</th>\n",
       "      <td>27.000000</td>\n",
       "      <td>26.296250</td>\n",
       "      <td>0.000000</td>\n",
       "      <td>4740.287150</td>\n",
       "    </tr>\n",
       "    <tr>\n",
       "      <th>50%</th>\n",
       "      <td>39.000000</td>\n",
       "      <td>30.400000</td>\n",
       "      <td>1.000000</td>\n",
       "      <td>9382.033000</td>\n",
       "    </tr>\n",
       "    <tr>\n",
       "      <th>75%</th>\n",
       "      <td>51.000000</td>\n",
       "      <td>34.693750</td>\n",
       "      <td>2.000000</td>\n",
       "      <td>16639.912515</td>\n",
       "    </tr>\n",
       "    <tr>\n",
       "      <th>max</th>\n",
       "      <td>64.000000</td>\n",
       "      <td>53.130000</td>\n",
       "      <td>5.000000</td>\n",
       "      <td>63770.428010</td>\n",
       "    </tr>\n",
       "  </tbody>\n",
       "</table>\n",
       "</div>"
      ],
      "text/plain": [
       "               age          bmi     children       charges\n",
       "count  1338.000000  1338.000000  1338.000000   1338.000000\n",
       "mean     39.207025    30.663397     1.094918  13270.422265\n",
       "std      14.049960     6.098187     1.205493  12110.011237\n",
       "min      18.000000    15.960000     0.000000   1121.873900\n",
       "25%      27.000000    26.296250     0.000000   4740.287150\n",
       "50%      39.000000    30.400000     1.000000   9382.033000\n",
       "75%      51.000000    34.693750     2.000000  16639.912515\n",
       "max      64.000000    53.130000     5.000000  63770.428010"
      ]
     },
     "execution_count": 9,
     "metadata": {},
     "output_type": "execute_result"
    }
   ],
   "source": [
    "medical_df.describe()"
   ]
  },
  {
   "cell_type": "markdown",
   "id": "sunrise-toyota",
   "metadata": {},
   "source": [
    "The ranges of values in the numerical columns seem reasonable too (no negative ages!), so we may not have to do much data cleaning or correction. The \"charges\" column seems to be significantly skewed however, as the median (50 pe5rcentile) is much lower than the maximum value.\n",
    "\n",
    "\n",
    "> **EXERCISE**: What other inferences can you draw by looking at the table above? Add your inferences below:\n",
    ">\n",
    "> 1. There isn't anything about pre-existing conditions so we must implying a lot about that through the above.\n",
    "> 2. We have a spreadvariety of data types\n",
    "> 3. We need to be curous about concenctration of this data as it seems like more of the categories have a pretty believable stats.\n",
    "> 4. \n",
    "> 5. \n",
    "\n"
   ]
  },
  {
   "cell_type": "markdown",
   "id": "parallel-affairs",
   "metadata": {},
   "source": [
    "Let's save our work before continuing."
   ]
  },
  {
   "cell_type": "code",
   "execution_count": null,
   "id": "selected-swiss",
   "metadata": {},
   "outputs": [
    {
     "name": "stdout",
     "output_type": "stream",
     "text": [
      "Note: you may need to restart the kernel to use updated packages.\n"
     ]
    }
   ],
   "source": [
    "# %pip install jovian --quiet"
   ]
  },
  {
   "cell_type": "code",
   "execution_count": 25,
   "id": "legendary-water",
   "metadata": {},
   "outputs": [],
   "source": [
    "#import jovian"
   ]
  },
  {
   "cell_type": "code",
   "execution_count": 26,
   "id": "fabulous-radius",
   "metadata": {},
   "outputs": [],
   "source": [
    "#jovian.commit(filename='python-sklearn-linear-regression.ipynb')"
   ]
  },
  {
   "cell_type": "markdown",
   "id": "prescribed-found",
   "metadata": {},
   "source": [
    "## Exploratory Analysis and Visualization\n",
    "\n",
    "Let's explore the data by visualizing the distribution of values in some columns of the dataset, and the relationships between \"charges\" and other columns.\n",
    "\n",
    "We'll use libraries Matplotlib, Seaborn and Plotly for visualization. Follow these tutorials to learn how to use these libraries: \n",
    "\n",
    "- https://jovian.ai/aakashns/python-matplotlib-data-visualization\n",
    "- https://jovian.ai/aakashns/interactive-visualization-plotly\n",
    "- https://jovian.ai/aakashns/dataviz-cheatsheet"
   ]
  },
  {
   "cell_type": "code",
   "execution_count": 10,
   "id": "adapted-transition",
   "metadata": {},
   "outputs": [
    {
     "name": "stdout",
     "output_type": "stream",
     "text": [
      "Note: you may need to restart the kernel to use updated packages.\n"
     ]
    }
   ],
   "source": [
    "%pip install plotly matplotlib seaborn --quiet"
   ]
  },
  {
   "cell_type": "code",
   "execution_count": 11,
   "id": "extensive-freight",
   "metadata": {},
   "outputs": [],
   "source": [
    "import plotly.express as px\n",
    "import matplotlib\n",
    "import matplotlib.pyplot as plt\n",
    "import seaborn as sns\n",
    "%matplotlib inline"
   ]
  },
  {
   "cell_type": "markdown",
   "id": "electronic-resolution",
   "metadata": {},
   "source": [
    "The following settings will improve the default style and font sizes for our charts."
   ]
  },
  {
   "cell_type": "code",
   "execution_count": 12,
   "id": "former-blond",
   "metadata": {},
   "outputs": [],
   "source": [
    "sns.set_style('darkgrid')\n",
    "matplotlib.rcParams['font.size'] = 14\n",
    "matplotlib.rcParams['figure.figsize'] = (10, 6)\n",
    "matplotlib.rcParams['figure.facecolor'] = '#00000000'"
   ]
  },
  {
   "cell_type": "markdown",
   "id": "attended-arizona",
   "metadata": {},
   "source": [
    "### Age\n",
    "\n",
    "Age is a numeric column. The minimum age in the dataset is 18 and the maximum age is 64. Thus, we can visualize the distribution of age using a histogram with 47 bins (one for each year) and a box plot. We'll use plotly to make the chart interactive, but you can create similar charts using Seaborn."
   ]
  },
  {
   "cell_type": "code",
   "execution_count": 13,
   "id": "spanish-recall",
   "metadata": {},
   "outputs": [
    {
     "data": {
      "text/plain": [
       "count    1338.000000\n",
       "mean       39.207025\n",
       "std        14.049960\n",
       "min        18.000000\n",
       "25%        27.000000\n",
       "50%        39.000000\n",
       "75%        51.000000\n",
       "max        64.000000\n",
       "Name: age, dtype: float64"
      ]
     },
     "execution_count": 13,
     "metadata": {},
     "output_type": "execute_result"
    }
   ],
   "source": [
    "medical_df.age.describe()"
   ]
  },
  {
   "cell_type": "code",
   "execution_count": 14,
   "id": "african-adelaide",
   "metadata": {},
   "outputs": [
    {
     "data": {
      "application/vnd.plotly.v1+json": {
       "config": {
        "plotlyServerURL": "https://plot.ly"
       },
       "data": [
        {
         "bingroup": "x",
         "hovertemplate": "age=%{x}<br>count=%{y}<extra></extra>",
         "legendgroup": "",
         "marker": {
          "color": "#636efa",
          "pattern": {
           "shape": ""
          }
         },
         "name": "",
         "nbinsx": 47,
         "orientation": "v",
         "showlegend": false,
         "type": "histogram",
         "x": {
          "bdata": "ExIcISAfLiUlPBk+FzgbEzQXOB48HhIiJTs/NxcfFhITPxwTPhojPBgfKSUmNxIcPCQSFTAkKDo6EjUiKxlAHBQTPSgoHBsfNTosOR0VFikfLRYwJS05OC43FTU7I0AcNjc4JikeEj0iFBMaHT82NyUVNDw6HTElLBIULC8aEzQgJjs9NRMUFhMWNhYiGiIdHh0uMzUTIzAgKigsMBIeMioSNiAlLxQgExs/MRIjGD8mNi4pOhIWLCwkGh4pHT0kGTgSEyctM0ATMDwbLhw7Iz8oFCgYIi0pNRsaGCI1IBMqNxw6KS8qOxM7JygSHxMsFyE3KD82PBgTHRI/NhsyNzgmMxM6FDQTNS4oOy0xEjIpMhkvExY7Myg2Hjc0Li4/OzQcHRkWGRITLx8wJDU4HDkdHB46KTITKzEbNDI2LCAiGiI5HSgbLUA0PTQ9OCtAPD4yLhg+PD8xIiEuJBM5Mh4hEi4uLxcSMCMTFRUxOCosEj05KhoUFycYQD4bNzcjLBM6MhoYMBMwMS4uKxVAEjMvQDEfNCEvJiATLBoZEys0JEA/QD0oGTAtJhIVGxMdKjwfPBYjNBofIRI7OC08OCgjJx4YFCA7Nzk4KDEqPjgTHjw4HBIbEhMvNj0YGRUXPzESMzAfNhMsNRM9Ej0VFB8tLD4dKzMTJiUWFRg5OBszEyc6FC0jHzIgMyYqEhMzLhI5PjslQCYhLi41IhQ/NjYxHDYZKz8gPjQZHC4iIxMuNhsyEhMmKTEwHxIePjk6Fh80GTsTJyATIRUiPSY6LxQVKS4qIis0EjM4QBMzGzscHi8mEiIULzgxEzceJTESOx0kITosNRgdKDNAEyMnOCEqPRcrMCcoEjoxNTAtOzQaGzA5JTkgEkArMSg+KB4dJCksLTc8ODEVEyc1ITUqKC8bFS8UGBsaNSk4FxUyNSIvITMxHyQSMisUGDwxPDM6MzU+EzIeKR0SKSM1GDA7MSUaFx0tGzUfMjIiEy8cJRVAOhgfJy8eEhYXIRstOS8qQCY9NSwTKTMoLSM1HhIzMh8jPBUdPicTFjUnGx4eOiEqQBUSFy0oExIZLiE2HCQUGBcvIS0aEiw8QDgkKSc/JBw6JCokOCM7FTsXOTU8MxcbNyU9LjUxFDAZGTklJjckMygSOT0ZMhoqKywXMSEpJRYXFTMZIDkkFjlAJDYvPj0rExITMTwaMTwaGyw/IBYSOywhGCstPSM+PiYiKzITOT4pGicuLSA7LCcSNRIyEhM+OColKhk5Mx4sIh82GCswEx0/LjQjMywVJzIiFhMaHTAaLSQ2Ih8bFCwrLSIYGiYyJhsnJz8hJB4YGDAvHRwvGTMwKz0wJjsTGjYVMxYvEi8VExc2JS43HhI9NhYtFhMjEhQcNysrFhkxLEAxLxs3MC0YIBg5OyQdKjAnPzYlPxU2PCAvFRw/EiAmID4nNzk0OC83FxYyEjMWNBkhNR06JTYxMhotNiYwHBc3KRkhHhcuNRsXPzcjIhMnGzk0HDIsGiETMik0JzI0PBQ3KhI6KyMwJBMXFCArIh4SKSM5HSAlEis4Jh0WNCgXHyoYGTAXLRQ+KxcfKTowHxMTKSgfJS4WMxIjOyQlOyQnEjQbEigdLiYeKDIUKSEmKjg6NBQ2Oi0aPzolGTRAFhwSHC0hEiAYExQoIiozNjc0IBwpKzFANxgULRoZKyMaORYgJxkwLxISPS8cJBQsJhMVLjoUEhwhEy0+GSsqGB0gGSkqISITHhITEiMnHz4+Kh89KjMXNDkXNDISEhU9",
          "dtype": "i1"
         },
         "xaxis": "x",
         "yaxis": "y"
        },
        {
         "hovertemplate": "age=%{x}<extra></extra>",
         "legendgroup": "",
         "marker": {
          "color": "#636efa"
         },
         "name": "",
         "notched": true,
         "showlegend": false,
         "type": "box",
         "x": {
          "bdata": "ExIcISAfLiUlPBk+FzgbEzQXOB48HhIiJTs/NxcfFhITPxwTPhojPBgfKSUmNxIcPCQSFTAkKDo6EjUiKxlAHBQTPSgoHBsfNTosOR0VFikfLRYwJS05OC43FTU7I0AcNjc4JikeEj0iFBMaHT82NyUVNDw6HTElLBIULC8aEzQgJjs9NRMUFhMWNhYiGiIdHh0uMzUTIzAgKigsMBIeMioSNiAlLxQgExs/MRIjGD8mNi4pOhIWLCwkGh4pHT0kGTgSEyctM0ATMDwbLhw7Iz8oFCgYIi0pNRsaGCI1IBMqNxw6KS8qOxM7JygSHxMsFyE3KD82PBgTHRI/NhsyNzgmMxM6FDQTNS4oOy0xEjIpMhkvExY7Myg2Hjc0Li4/OzQcHRkWGRITLx8wJDU4HDkdHB46KTITKzEbNDI2LCAiGiI5HSgbLUA0PTQ9OCtAPD4yLhg+PD8xIiEuJBM5Mh4hEi4uLxcSMCMTFRUxOCosEj05KhoUFycYQD4bNzcjLBM6MhoYMBMwMS4uKxVAEjMvQDEfNCEvJiATLBoZEys0JEA/QD0oGTAtJhIVGxMdKjwfPBYjNBofIRI7OC08OCgjJx4YFCA7Nzk4KDEqPjgTHjw4HBIbEhMvNj0YGRUXPzESMzAfNhMsNRM9Ej0VFB8tLD4dKzMTJiUWFRg5OBszEyc6FC0jHzIgMyYqEhMzLhI5PjslQCYhLi41IhQ/NjYxHDYZKz8gPjQZHC4iIxMuNhsyEhMmKTEwHxIePjk6Fh80GTsTJyATIRUiPSY6LxQVKS4qIis0EjM4QBMzGzscHi8mEiIULzgxEzceJTESOx0kITosNRgdKDNAEyMnOCEqPRcrMCcoEjoxNTAtOzQaGzA5JTkgEkArMSg+KB4dJCksLTc8ODEVEyc1ITUqKC8bFS8UGBsaNSk4FxUyNSIvITMxHyQSMisUGDwxPDM6MzU+EzIeKR0SKSM1GDA7MSUaFx0tGzUfMjIiEy8cJRVAOhgfJy8eEhYXIRstOS8qQCY9NSwTKTMoLSM1HhIzMh8jPBUdPicTFjUnGx4eOiEqQBUSFy0oExIZLiE2HCQUGBcvIS0aEiw8QDgkKSc/JBw6JCokOCM7FTsXOTU8MxcbNyU9LjUxFDAZGTklJjckMygSOT0ZMhoqKywXMSEpJRYXFTMZIDkkFjlAJDYvPj0rExITMTwaMTwaGyw/IBYSOywhGCstPSM+PiYiKzITOT4pGicuLSA7LCcSNRIyEhM+OColKhk5Mx4sIh82GCswEx0/LjQjMywVJzIiFhMaHTAaLSQ2Ih8bFCwrLSIYGiYyJhsnJz8hJB4YGDAvHRwvGTMwKz0wJjsTGjYVMxYvEi8VExc2JS43HhI9NhYtFhMjEhQcNysrFhkxLEAxLxs3MC0YIBg5OyQdKjAnPzYlPxU2PCAvFRw/EiAmID4nNzk0OC83FxYyEjMWNBkhNR06JTYxMhotNiYwHBc3KRkhHhcuNRsXPzcjIhMnGzk0HDIsGiETMik0JzI0PBQ3KhI6KyMwJBMXFCArIh4SKSM5HSAlEis4Jh0WNCgXHyoYGTAXLRQ+KxcfKTowHxMTKSgfJS4WMxIjOyQlOyQnEjQbEigdLiYeKDIUKSEmKjg6NBQ2Oi0aPzolGTRAFhwSHC0hEiAYExQoIiozNjc0IBwpKzFANxgULRoZKyMaORYgJxkwLxISPS8cJBQsJhMVLjoUEhwhEy0+GSsqGB0gGSkqISITHhITEiMnHz4+Kh89KjMXNDkXNDISEhU9",
          "dtype": "i1"
         },
         "xaxis": "x2",
         "yaxis": "y2"
        }
       ],
       "layout": {
        "bargap": 0.1,
        "barmode": "relative",
        "legend": {
         "tracegroupgap": 0
        },
        "template": {
         "data": {
          "bar": [
           {
            "error_x": {
             "color": "#2a3f5f"
            },
            "error_y": {
             "color": "#2a3f5f"
            },
            "marker": {
             "line": {
              "color": "#E5ECF6",
              "width": 0.5
             },
             "pattern": {
              "fillmode": "overlay",
              "size": 10,
              "solidity": 0.2
             }
            },
            "type": "bar"
           }
          ],
          "barpolar": [
           {
            "marker": {
             "line": {
              "color": "#E5ECF6",
              "width": 0.5
             },
             "pattern": {
              "fillmode": "overlay",
              "size": 10,
              "solidity": 0.2
             }
            },
            "type": "barpolar"
           }
          ],
          "carpet": [
           {
            "aaxis": {
             "endlinecolor": "#2a3f5f",
             "gridcolor": "white",
             "linecolor": "white",
             "minorgridcolor": "white",
             "startlinecolor": "#2a3f5f"
            },
            "baxis": {
             "endlinecolor": "#2a3f5f",
             "gridcolor": "white",
             "linecolor": "white",
             "minorgridcolor": "white",
             "startlinecolor": "#2a3f5f"
            },
            "type": "carpet"
           }
          ],
          "choropleth": [
           {
            "colorbar": {
             "outlinewidth": 0,
             "ticks": ""
            },
            "type": "choropleth"
           }
          ],
          "contour": [
           {
            "colorbar": {
             "outlinewidth": 0,
             "ticks": ""
            },
            "colorscale": [
             [
              0,
              "#0d0887"
             ],
             [
              0.1111111111111111,
              "#46039f"
             ],
             [
              0.2222222222222222,
              "#7201a8"
             ],
             [
              0.3333333333333333,
              "#9c179e"
             ],
             [
              0.4444444444444444,
              "#bd3786"
             ],
             [
              0.5555555555555556,
              "#d8576b"
             ],
             [
              0.6666666666666666,
              "#ed7953"
             ],
             [
              0.7777777777777778,
              "#fb9f3a"
             ],
             [
              0.8888888888888888,
              "#fdca26"
             ],
             [
              1,
              "#f0f921"
             ]
            ],
            "type": "contour"
           }
          ],
          "contourcarpet": [
           {
            "colorbar": {
             "outlinewidth": 0,
             "ticks": ""
            },
            "type": "contourcarpet"
           }
          ],
          "heatmap": [
           {
            "colorbar": {
             "outlinewidth": 0,
             "ticks": ""
            },
            "colorscale": [
             [
              0,
              "#0d0887"
             ],
             [
              0.1111111111111111,
              "#46039f"
             ],
             [
              0.2222222222222222,
              "#7201a8"
             ],
             [
              0.3333333333333333,
              "#9c179e"
             ],
             [
              0.4444444444444444,
              "#bd3786"
             ],
             [
              0.5555555555555556,
              "#d8576b"
             ],
             [
              0.6666666666666666,
              "#ed7953"
             ],
             [
              0.7777777777777778,
              "#fb9f3a"
             ],
             [
              0.8888888888888888,
              "#fdca26"
             ],
             [
              1,
              "#f0f921"
             ]
            ],
            "type": "heatmap"
           }
          ],
          "histogram": [
           {
            "marker": {
             "pattern": {
              "fillmode": "overlay",
              "size": 10,
              "solidity": 0.2
             }
            },
            "type": "histogram"
           }
          ],
          "histogram2d": [
           {
            "colorbar": {
             "outlinewidth": 0,
             "ticks": ""
            },
            "colorscale": [
             [
              0,
              "#0d0887"
             ],
             [
              0.1111111111111111,
              "#46039f"
             ],
             [
              0.2222222222222222,
              "#7201a8"
             ],
             [
              0.3333333333333333,
              "#9c179e"
             ],
             [
              0.4444444444444444,
              "#bd3786"
             ],
             [
              0.5555555555555556,
              "#d8576b"
             ],
             [
              0.6666666666666666,
              "#ed7953"
             ],
             [
              0.7777777777777778,
              "#fb9f3a"
             ],
             [
              0.8888888888888888,
              "#fdca26"
             ],
             [
              1,
              "#f0f921"
             ]
            ],
            "type": "histogram2d"
           }
          ],
          "histogram2dcontour": [
           {
            "colorbar": {
             "outlinewidth": 0,
             "ticks": ""
            },
            "colorscale": [
             [
              0,
              "#0d0887"
             ],
             [
              0.1111111111111111,
              "#46039f"
             ],
             [
              0.2222222222222222,
              "#7201a8"
             ],
             [
              0.3333333333333333,
              "#9c179e"
             ],
             [
              0.4444444444444444,
              "#bd3786"
             ],
             [
              0.5555555555555556,
              "#d8576b"
             ],
             [
              0.6666666666666666,
              "#ed7953"
             ],
             [
              0.7777777777777778,
              "#fb9f3a"
             ],
             [
              0.8888888888888888,
              "#fdca26"
             ],
             [
              1,
              "#f0f921"
             ]
            ],
            "type": "histogram2dcontour"
           }
          ],
          "mesh3d": [
           {
            "colorbar": {
             "outlinewidth": 0,
             "ticks": ""
            },
            "type": "mesh3d"
           }
          ],
          "parcoords": [
           {
            "line": {
             "colorbar": {
              "outlinewidth": 0,
              "ticks": ""
             }
            },
            "type": "parcoords"
           }
          ],
          "pie": [
           {
            "automargin": true,
            "type": "pie"
           }
          ],
          "scatter": [
           {
            "fillpattern": {
             "fillmode": "overlay",
             "size": 10,
             "solidity": 0.2
            },
            "type": "scatter"
           }
          ],
          "scatter3d": [
           {
            "line": {
             "colorbar": {
              "outlinewidth": 0,
              "ticks": ""
             }
            },
            "marker": {
             "colorbar": {
              "outlinewidth": 0,
              "ticks": ""
             }
            },
            "type": "scatter3d"
           }
          ],
          "scattercarpet": [
           {
            "marker": {
             "colorbar": {
              "outlinewidth": 0,
              "ticks": ""
             }
            },
            "type": "scattercarpet"
           }
          ],
          "scattergeo": [
           {
            "marker": {
             "colorbar": {
              "outlinewidth": 0,
              "ticks": ""
             }
            },
            "type": "scattergeo"
           }
          ],
          "scattergl": [
           {
            "marker": {
             "colorbar": {
              "outlinewidth": 0,
              "ticks": ""
             }
            },
            "type": "scattergl"
           }
          ],
          "scattermap": [
           {
            "marker": {
             "colorbar": {
              "outlinewidth": 0,
              "ticks": ""
             }
            },
            "type": "scattermap"
           }
          ],
          "scattermapbox": [
           {
            "marker": {
             "colorbar": {
              "outlinewidth": 0,
              "ticks": ""
             }
            },
            "type": "scattermapbox"
           }
          ],
          "scatterpolar": [
           {
            "marker": {
             "colorbar": {
              "outlinewidth": 0,
              "ticks": ""
             }
            },
            "type": "scatterpolar"
           }
          ],
          "scatterpolargl": [
           {
            "marker": {
             "colorbar": {
              "outlinewidth": 0,
              "ticks": ""
             }
            },
            "type": "scatterpolargl"
           }
          ],
          "scatterternary": [
           {
            "marker": {
             "colorbar": {
              "outlinewidth": 0,
              "ticks": ""
             }
            },
            "type": "scatterternary"
           }
          ],
          "surface": [
           {
            "colorbar": {
             "outlinewidth": 0,
             "ticks": ""
            },
            "colorscale": [
             [
              0,
              "#0d0887"
             ],
             [
              0.1111111111111111,
              "#46039f"
             ],
             [
              0.2222222222222222,
              "#7201a8"
             ],
             [
              0.3333333333333333,
              "#9c179e"
             ],
             [
              0.4444444444444444,
              "#bd3786"
             ],
             [
              0.5555555555555556,
              "#d8576b"
             ],
             [
              0.6666666666666666,
              "#ed7953"
             ],
             [
              0.7777777777777778,
              "#fb9f3a"
             ],
             [
              0.8888888888888888,
              "#fdca26"
             ],
             [
              1,
              "#f0f921"
             ]
            ],
            "type": "surface"
           }
          ],
          "table": [
           {
            "cells": {
             "fill": {
              "color": "#EBF0F8"
             },
             "line": {
              "color": "white"
             }
            },
            "header": {
             "fill": {
              "color": "#C8D4E3"
             },
             "line": {
              "color": "white"
             }
            },
            "type": "table"
           }
          ]
         },
         "layout": {
          "annotationdefaults": {
           "arrowcolor": "#2a3f5f",
           "arrowhead": 0,
           "arrowwidth": 1
          },
          "autotypenumbers": "strict",
          "coloraxis": {
           "colorbar": {
            "outlinewidth": 0,
            "ticks": ""
           }
          },
          "colorscale": {
           "diverging": [
            [
             0,
             "#8e0152"
            ],
            [
             0.1,
             "#c51b7d"
            ],
            [
             0.2,
             "#de77ae"
            ],
            [
             0.3,
             "#f1b6da"
            ],
            [
             0.4,
             "#fde0ef"
            ],
            [
             0.5,
             "#f7f7f7"
            ],
            [
             0.6,
             "#e6f5d0"
            ],
            [
             0.7,
             "#b8e186"
            ],
            [
             0.8,
             "#7fbc41"
            ],
            [
             0.9,
             "#4d9221"
            ],
            [
             1,
             "#276419"
            ]
           ],
           "sequential": [
            [
             0,
             "#0d0887"
            ],
            [
             0.1111111111111111,
             "#46039f"
            ],
            [
             0.2222222222222222,
             "#7201a8"
            ],
            [
             0.3333333333333333,
             "#9c179e"
            ],
            [
             0.4444444444444444,
             "#bd3786"
            ],
            [
             0.5555555555555556,
             "#d8576b"
            ],
            [
             0.6666666666666666,
             "#ed7953"
            ],
            [
             0.7777777777777778,
             "#fb9f3a"
            ],
            [
             0.8888888888888888,
             "#fdca26"
            ],
            [
             1,
             "#f0f921"
            ]
           ],
           "sequentialminus": [
            [
             0,
             "#0d0887"
            ],
            [
             0.1111111111111111,
             "#46039f"
            ],
            [
             0.2222222222222222,
             "#7201a8"
            ],
            [
             0.3333333333333333,
             "#9c179e"
            ],
            [
             0.4444444444444444,
             "#bd3786"
            ],
            [
             0.5555555555555556,
             "#d8576b"
            ],
            [
             0.6666666666666666,
             "#ed7953"
            ],
            [
             0.7777777777777778,
             "#fb9f3a"
            ],
            [
             0.8888888888888888,
             "#fdca26"
            ],
            [
             1,
             "#f0f921"
            ]
           ]
          },
          "colorway": [
           "#636efa",
           "#EF553B",
           "#00cc96",
           "#ab63fa",
           "#FFA15A",
           "#19d3f3",
           "#FF6692",
           "#B6E880",
           "#FF97FF",
           "#FECB52"
          ],
          "font": {
           "color": "#2a3f5f"
          },
          "geo": {
           "bgcolor": "white",
           "lakecolor": "white",
           "landcolor": "#E5ECF6",
           "showlakes": true,
           "showland": true,
           "subunitcolor": "white"
          },
          "hoverlabel": {
           "align": "left"
          },
          "hovermode": "closest",
          "mapbox": {
           "style": "light"
          },
          "paper_bgcolor": "white",
          "plot_bgcolor": "#E5ECF6",
          "polar": {
           "angularaxis": {
            "gridcolor": "white",
            "linecolor": "white",
            "ticks": ""
           },
           "bgcolor": "#E5ECF6",
           "radialaxis": {
            "gridcolor": "white",
            "linecolor": "white",
            "ticks": ""
           }
          },
          "scene": {
           "xaxis": {
            "backgroundcolor": "#E5ECF6",
            "gridcolor": "white",
            "gridwidth": 2,
            "linecolor": "white",
            "showbackground": true,
            "ticks": "",
            "zerolinecolor": "white"
           },
           "yaxis": {
            "backgroundcolor": "#E5ECF6",
            "gridcolor": "white",
            "gridwidth": 2,
            "linecolor": "white",
            "showbackground": true,
            "ticks": "",
            "zerolinecolor": "white"
           },
           "zaxis": {
            "backgroundcolor": "#E5ECF6",
            "gridcolor": "white",
            "gridwidth": 2,
            "linecolor": "white",
            "showbackground": true,
            "ticks": "",
            "zerolinecolor": "white"
           }
          },
          "shapedefaults": {
           "line": {
            "color": "#2a3f5f"
           }
          },
          "ternary": {
           "aaxis": {
            "gridcolor": "white",
            "linecolor": "white",
            "ticks": ""
           },
           "baxis": {
            "gridcolor": "white",
            "linecolor": "white",
            "ticks": ""
           },
           "bgcolor": "#E5ECF6",
           "caxis": {
            "gridcolor": "white",
            "linecolor": "white",
            "ticks": ""
           }
          },
          "title": {
           "x": 0.05
          },
          "xaxis": {
           "automargin": true,
           "gridcolor": "white",
           "linecolor": "white",
           "ticks": "",
           "title": {
            "standoff": 15
           },
           "zerolinecolor": "white",
           "zerolinewidth": 2
          },
          "yaxis": {
           "automargin": true,
           "gridcolor": "white",
           "linecolor": "white",
           "ticks": "",
           "title": {
            "standoff": 15
           },
           "zerolinecolor": "white",
           "zerolinewidth": 2
          }
         }
        },
        "title": {
         "text": "Distribution of Age"
        },
        "xaxis": {
         "anchor": "y",
         "domain": [
          0,
          1
         ],
         "title": {
          "text": "age"
         }
        },
        "xaxis2": {
         "anchor": "y2",
         "domain": [
          0,
          1
         ],
         "matches": "x",
         "showgrid": true,
         "showticklabels": false
        },
        "yaxis": {
         "anchor": "x",
         "domain": [
          0,
          0.8316
         ],
         "title": {
          "text": "count"
         }
        },
        "yaxis2": {
         "anchor": "x2",
         "domain": [
          0.8416,
          1
         ],
         "matches": "y2",
         "showgrid": false,
         "showline": false,
         "showticklabels": false,
         "ticks": ""
        }
       }
      }
     },
     "metadata": {},
     "output_type": "display_data"
    }
   ],
   "source": [
    "fig = px.histogram(medical_df, \n",
    "                   x='age', \n",
    "                   marginal='box', \n",
    "                   nbins=47, \n",
    "                   title='Distribution of Age')\n",
    "fig.update_layout(bargap=0.1)\n",
    "fig.show()"
   ]
  },
  {
   "cell_type": "code",
   "execution_count": null,
   "id": "51453600",
   "metadata": {},
   "outputs": [],
   "source": []
  },
  {
   "cell_type": "markdown",
   "id": "equivalent-sugar",
   "metadata": {},
   "source": [
    "The distribution of ages in the dataset is almost uniform, with 20-30 customers at every age, except for the ages 18 and 19, which seem to have over twice as many customers as other ages. The uniform distribution might arise from the fact that there isn't a big variation in the [number of people of any given age](https://www.statista.com/statistics/241488/population-of-the-us-by-sex-and-age/) (between 18 & 64) in the USA.\n",
    "\n",
    "\n",
    "\n",
    "> **EXERCISE**: Can you explain why there are over twice as many customers with ages 18 and 19, compared to other ages?\n",
    ">\n",
    "> Perhaps more people sign uup at this age because it's their first opportunity to. Perhaps the company ran some kind of promotion? it's also possible that more of these age ranges are not full-time employees and so are picking up insurance independandtly. After a quick search this does seem to somewhat refelct national averages. people in the 18-34 range represent the largest number of covered individuals. I didn't take the time to look up a more precise breakdown, but I think it's safe to say that this company must have done something to draw the attention to this domegraphic."
   ]
  },
  {
   "cell_type": "markdown",
   "id": "revised-fellow",
   "metadata": {},
   "source": [
    "### Body Mass Index\n",
    "\n",
    "Let's look at the distribution of BMI (Body Mass Index) of customers, using a histogram and box plot."
   ]
  },
  {
   "cell_type": "code",
   "execution_count": 15,
   "id": "advisory-holly",
   "metadata": {
    "scrolled": false
   },
   "outputs": [
    {
     "data": {
      "application/vnd.plotly.v1+json": {
       "config": {
        "plotlyServerURL": "https://plot.ly"
       },
       "data": [
        {
         "bingroup": "x",
         "hovertemplate": "bmi=%{x}<br>count=%{y}<extra></extra>",
         "legendgroup": "",
         "marker": {
          "color": "red",
          "pattern": {
           "shape": ""
          }
         },
         "name": "",
         "orientation": "v",
         "showlegend": false,
         "type": "histogram",
         "x": {
          "bdata": "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",
          "dtype": "f8"
         },
         "xaxis": "x",
         "yaxis": "y"
        },
        {
         "hovertemplate": "bmi=%{x}<extra></extra>",
         "legendgroup": "",
         "marker": {
          "color": "red"
         },
         "name": "",
         "notched": true,
         "showlegend": false,
         "type": "box",
         "x": {
          "bdata": "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",
          "dtype": "f8"
         },
         "xaxis": "x2",
         "yaxis": "y2"
        }
       ],
       "layout": {
        "bargap": 0.1,
        "barmode": "relative",
        "legend": {
         "tracegroupgap": 0
        },
        "template": {
         "data": {
          "bar": [
           {
            "error_x": {
             "color": "#2a3f5f"
            },
            "error_y": {
             "color": "#2a3f5f"
            },
            "marker": {
             "line": {
              "color": "#E5ECF6",
              "width": 0.5
             },
             "pattern": {
              "fillmode": "overlay",
              "size": 10,
              "solidity": 0.2
             }
            },
            "type": "bar"
           }
          ],
          "barpolar": [
           {
            "marker": {
             "line": {
              "color": "#E5ECF6",
              "width": 0.5
             },
             "pattern": {
              "fillmode": "overlay",
              "size": 10,
              "solidity": 0.2
             }
            },
            "type": "barpolar"
           }
          ],
          "carpet": [
           {
            "aaxis": {
             "endlinecolor": "#2a3f5f",
             "gridcolor": "white",
             "linecolor": "white",
             "minorgridcolor": "white",
             "startlinecolor": "#2a3f5f"
            },
            "baxis": {
             "endlinecolor": "#2a3f5f",
             "gridcolor": "white",
             "linecolor": "white",
             "minorgridcolor": "white",
             "startlinecolor": "#2a3f5f"
            },
            "type": "carpet"
           }
          ],
          "choropleth": [
           {
            "colorbar": {
             "outlinewidth": 0,
             "ticks": ""
            },
            "type": "choropleth"
           }
          ],
          "contour": [
           {
            "colorbar": {
             "outlinewidth": 0,
             "ticks": ""
            },
            "colorscale": [
             [
              0,
              "#0d0887"
             ],
             [
              0.1111111111111111,
              "#46039f"
             ],
             [
              0.2222222222222222,
              "#7201a8"
             ],
             [
              0.3333333333333333,
              "#9c179e"
             ],
             [
              0.4444444444444444,
              "#bd3786"
             ],
             [
              0.5555555555555556,
              "#d8576b"
             ],
             [
              0.6666666666666666,
              "#ed7953"
             ],
             [
              0.7777777777777778,
              "#fb9f3a"
             ],
             [
              0.8888888888888888,
              "#fdca26"
             ],
             [
              1,
              "#f0f921"
             ]
            ],
            "type": "contour"
           }
          ],
          "contourcarpet": [
           {
            "colorbar": {
             "outlinewidth": 0,
             "ticks": ""
            },
            "type": "contourcarpet"
           }
          ],
          "heatmap": [
           {
            "colorbar": {
             "outlinewidth": 0,
             "ticks": ""
            },
            "colorscale": [
             [
              0,
              "#0d0887"
             ],
             [
              0.1111111111111111,
              "#46039f"
             ],
             [
              0.2222222222222222,
              "#7201a8"
             ],
             [
              0.3333333333333333,
              "#9c179e"
             ],
             [
              0.4444444444444444,
              "#bd3786"
             ],
             [
              0.5555555555555556,
              "#d8576b"
             ],
             [
              0.6666666666666666,
              "#ed7953"
             ],
             [
              0.7777777777777778,
              "#fb9f3a"
             ],
             [
              0.8888888888888888,
              "#fdca26"
             ],
             [
              1,
              "#f0f921"
             ]
            ],
            "type": "heatmap"
           }
          ],
          "histogram": [
           {
            "marker": {
             "pattern": {
              "fillmode": "overlay",
              "size": 10,
              "solidity": 0.2
             }
            },
            "type": "histogram"
           }
          ],
          "histogram2d": [
           {
            "colorbar": {
             "outlinewidth": 0,
             "ticks": ""
            },
            "colorscale": [
             [
              0,
              "#0d0887"
             ],
             [
              0.1111111111111111,
              "#46039f"
             ],
             [
              0.2222222222222222,
              "#7201a8"
             ],
             [
              0.3333333333333333,
              "#9c179e"
             ],
             [
              0.4444444444444444,
              "#bd3786"
             ],
             [
              0.5555555555555556,
              "#d8576b"
             ],
             [
              0.6666666666666666,
              "#ed7953"
             ],
             [
              0.7777777777777778,
              "#fb9f3a"
             ],
             [
              0.8888888888888888,
              "#fdca26"
             ],
             [
              1,
              "#f0f921"
             ]
            ],
            "type": "histogram2d"
           }
          ],
          "histogram2dcontour": [
           {
            "colorbar": {
             "outlinewidth": 0,
             "ticks": ""
            },
            "colorscale": [
             [
              0,
              "#0d0887"
             ],
             [
              0.1111111111111111,
              "#46039f"
             ],
             [
              0.2222222222222222,
              "#7201a8"
             ],
             [
              0.3333333333333333,
              "#9c179e"
             ],
             [
              0.4444444444444444,
              "#bd3786"
             ],
             [
              0.5555555555555556,
              "#d8576b"
             ],
             [
              0.6666666666666666,
              "#ed7953"
             ],
             [
              0.7777777777777778,
              "#fb9f3a"
             ],
             [
              0.8888888888888888,
              "#fdca26"
             ],
             [
              1,
              "#f0f921"
             ]
            ],
            "type": "histogram2dcontour"
           }
          ],
          "mesh3d": [
           {
            "colorbar": {
             "outlinewidth": 0,
             "ticks": ""
            },
            "type": "mesh3d"
           }
          ],
          "parcoords": [
           {
            "line": {
             "colorbar": {
              "outlinewidth": 0,
              "ticks": ""
             }
            },
            "type": "parcoords"
           }
          ],
          "pie": [
           {
            "automargin": true,
            "type": "pie"
           }
          ],
          "scatter": [
           {
            "fillpattern": {
             "fillmode": "overlay",
             "size": 10,
             "solidity": 0.2
            },
            "type": "scatter"
           }
          ],
          "scatter3d": [
           {
            "line": {
             "colorbar": {
              "outlinewidth": 0,
              "ticks": ""
             }
            },
            "marker": {
             "colorbar": {
              "outlinewidth": 0,
              "ticks": ""
             }
            },
            "type": "scatter3d"
           }
          ],
          "scattercarpet": [
           {
            "marker": {
             "colorbar": {
              "outlinewidth": 0,
              "ticks": ""
             }
            },
            "type": "scattercarpet"
           }
          ],
          "scattergeo": [
           {
            "marker": {
             "colorbar": {
              "outlinewidth": 0,
              "ticks": ""
             }
            },
            "type": "scattergeo"
           }
          ],
          "scattergl": [
           {
            "marker": {
             "colorbar": {
              "outlinewidth": 0,
              "ticks": ""
             }
            },
            "type": "scattergl"
           }
          ],
          "scattermap": [
           {
            "marker": {
             "colorbar": {
              "outlinewidth": 0,
              "ticks": ""
             }
            },
            "type": "scattermap"
           }
          ],
          "scattermapbox": [
           {
            "marker": {
             "colorbar": {
              "outlinewidth": 0,
              "ticks": ""
             }
            },
            "type": "scattermapbox"
           }
          ],
          "scatterpolar": [
           {
            "marker": {
             "colorbar": {
              "outlinewidth": 0,
              "ticks": ""
             }
            },
            "type": "scatterpolar"
           }
          ],
          "scatterpolargl": [
           {
            "marker": {
             "colorbar": {
              "outlinewidth": 0,
              "ticks": ""
             }
            },
            "type": "scatterpolargl"
           }
          ],
          "scatterternary": [
           {
            "marker": {
             "colorbar": {
              "outlinewidth": 0,
              "ticks": ""
             }
            },
            "type": "scatterternary"
           }
          ],
          "surface": [
           {
            "colorbar": {
             "outlinewidth": 0,
             "ticks": ""
            },
            "colorscale": [
             [
              0,
              "#0d0887"
             ],
             [
              0.1111111111111111,
              "#46039f"
             ],
             [
              0.2222222222222222,
              "#7201a8"
             ],
             [
              0.3333333333333333,
              "#9c179e"
             ],
             [
              0.4444444444444444,
              "#bd3786"
             ],
             [
              0.5555555555555556,
              "#d8576b"
             ],
             [
              0.6666666666666666,
              "#ed7953"
             ],
             [
              0.7777777777777778,
              "#fb9f3a"
             ],
             [
              0.8888888888888888,
              "#fdca26"
             ],
             [
              1,
              "#f0f921"
             ]
            ],
            "type": "surface"
           }
          ],
          "table": [
           {
            "cells": {
             "fill": {
              "color": "#EBF0F8"
             },
             "line": {
              "color": "white"
             }
            },
            "header": {
             "fill": {
              "color": "#C8D4E3"
             },
             "line": {
              "color": "white"
             }
            },
            "type": "table"
           }
          ]
         },
         "layout": {
          "annotationdefaults": {
           "arrowcolor": "#2a3f5f",
           "arrowhead": 0,
           "arrowwidth": 1
          },
          "autotypenumbers": "strict",
          "coloraxis": {
           "colorbar": {
            "outlinewidth": 0,
            "ticks": ""
           }
          },
          "colorscale": {
           "diverging": [
            [
             0,
             "#8e0152"
            ],
            [
             0.1,
             "#c51b7d"
            ],
            [
             0.2,
             "#de77ae"
            ],
            [
             0.3,
             "#f1b6da"
            ],
            [
             0.4,
             "#fde0ef"
            ],
            [
             0.5,
             "#f7f7f7"
            ],
            [
             0.6,
             "#e6f5d0"
            ],
            [
             0.7,
             "#b8e186"
            ],
            [
             0.8,
             "#7fbc41"
            ],
            [
             0.9,
             "#4d9221"
            ],
            [
             1,
             "#276419"
            ]
           ],
           "sequential": [
            [
             0,
             "#0d0887"
            ],
            [
             0.1111111111111111,
             "#46039f"
            ],
            [
             0.2222222222222222,
             "#7201a8"
            ],
            [
             0.3333333333333333,
             "#9c179e"
            ],
            [
             0.4444444444444444,
             "#bd3786"
            ],
            [
             0.5555555555555556,
             "#d8576b"
            ],
            [
             0.6666666666666666,
             "#ed7953"
            ],
            [
             0.7777777777777778,
             "#fb9f3a"
            ],
            [
             0.8888888888888888,
             "#fdca26"
            ],
            [
             1,
             "#f0f921"
            ]
           ],
           "sequentialminus": [
            [
             0,
             "#0d0887"
            ],
            [
             0.1111111111111111,
             "#46039f"
            ],
            [
             0.2222222222222222,
             "#7201a8"
            ],
            [
             0.3333333333333333,
             "#9c179e"
            ],
            [
             0.4444444444444444,
             "#bd3786"
            ],
            [
             0.5555555555555556,
             "#d8576b"
            ],
            [
             0.6666666666666666,
             "#ed7953"
            ],
            [
             0.7777777777777778,
             "#fb9f3a"
            ],
            [
             0.8888888888888888,
             "#fdca26"
            ],
            [
             1,
             "#f0f921"
            ]
           ]
          },
          "colorway": [
           "#636efa",
           "#EF553B",
           "#00cc96",
           "#ab63fa",
           "#FFA15A",
           "#19d3f3",
           "#FF6692",
           "#B6E880",
           "#FF97FF",
           "#FECB52"
          ],
          "font": {
           "color": "#2a3f5f"
          },
          "geo": {
           "bgcolor": "white",
           "lakecolor": "white",
           "landcolor": "#E5ECF6",
           "showlakes": true,
           "showland": true,
           "subunitcolor": "white"
          },
          "hoverlabel": {
           "align": "left"
          },
          "hovermode": "closest",
          "mapbox": {
           "style": "light"
          },
          "paper_bgcolor": "white",
          "plot_bgcolor": "#E5ECF6",
          "polar": {
           "angularaxis": {
            "gridcolor": "white",
            "linecolor": "white",
            "ticks": ""
           },
           "bgcolor": "#E5ECF6",
           "radialaxis": {
            "gridcolor": "white",
            "linecolor": "white",
            "ticks": ""
           }
          },
          "scene": {
           "xaxis": {
            "backgroundcolor": "#E5ECF6",
            "gridcolor": "white",
            "gridwidth": 2,
            "linecolor": "white",
            "showbackground": true,
            "ticks": "",
            "zerolinecolor": "white"
           },
           "yaxis": {
            "backgroundcolor": "#E5ECF6",
            "gridcolor": "white",
            "gridwidth": 2,
            "linecolor": "white",
            "showbackground": true,
            "ticks": "",
            "zerolinecolor": "white"
           },
           "zaxis": {
            "backgroundcolor": "#E5ECF6",
            "gridcolor": "white",
            "gridwidth": 2,
            "linecolor": "white",
            "showbackground": true,
            "ticks": "",
            "zerolinecolor": "white"
           }
          },
          "shapedefaults": {
           "line": {
            "color": "#2a3f5f"
           }
          },
          "ternary": {
           "aaxis": {
            "gridcolor": "white",
            "linecolor": "white",
            "ticks": ""
           },
           "baxis": {
            "gridcolor": "white",
            "linecolor": "white",
            "ticks": ""
           },
           "bgcolor": "#E5ECF6",
           "caxis": {
            "gridcolor": "white",
            "linecolor": "white",
            "ticks": ""
           }
          },
          "title": {
           "x": 0.05
          },
          "xaxis": {
           "automargin": true,
           "gridcolor": "white",
           "linecolor": "white",
           "ticks": "",
           "title": {
            "standoff": 15
           },
           "zerolinecolor": "white",
           "zerolinewidth": 2
          },
          "yaxis": {
           "automargin": true,
           "gridcolor": "white",
           "linecolor": "white",
           "ticks": "",
           "title": {
            "standoff": 15
           },
           "zerolinecolor": "white",
           "zerolinewidth": 2
          }
         }
        },
        "title": {
         "text": "Distribution of BMI (Body Mass Index)"
        },
        "xaxis": {
         "anchor": "y",
         "domain": [
          0,
          1
         ],
         "title": {
          "text": "bmi"
         }
        },
        "xaxis2": {
         "anchor": "y2",
         "domain": [
          0,
          1
         ],
         "matches": "x",
         "showgrid": true,
         "showticklabels": false
        },
        "yaxis": {
         "anchor": "x",
         "domain": [
          0,
          0.8316
         ],
         "title": {
          "text": "count"
         }
        },
        "yaxis2": {
         "anchor": "x2",
         "domain": [
          0.8416,
          1
         ],
         "matches": "y2",
         "showgrid": false,
         "showline": false,
         "showticklabels": false,
         "ticks": ""
        }
       }
      }
     },
     "metadata": {},
     "output_type": "display_data"
    }
   ],
   "source": [
    "fig = px.histogram(medical_df, \n",
    "                   x='bmi', \n",
    "                   marginal='box', \n",
    "                   color_discrete_sequence=['red'], \n",
    "                   title='Distribution of BMI (Body Mass Index)')\n",
    "fig.update_layout(bargap=0.1)\n",
    "fig.show()"
   ]
  },
  {
   "cell_type": "markdown",
   "id": "working-conditioning",
   "metadata": {},
   "source": [
    "The measurements of body mass index seem to form a [Gaussian distribution](https://en.wikipedia.org/wiki/Normal_distribution) centered around the value 30, with a few outliers towards the right. Here's how BMI values can be interpreted ([source](https://study.com/academy/lesson/what-is-bmi-definition-formula-calculation.html)):\n",
    "\n",
    "![](https://i.imgur.com/lh23OiY.jpg)\n",
    "\n",
    "> **EXERCISE**: Can you explain why the distribution of ages forms a uniform distribution while the distribution of BMIs forms a gaussian distribution?\n",
    ">\n",
    "> All ages must get some kind of health insurance coverage and ages are fairly evenly represented througout society. It is expected that BMI will have outliears but be mostly conecntrated around the mean."
   ]
  },
  {
   "cell_type": "markdown",
   "id": "optical-property",
   "metadata": {},
   "source": [
    "### Charges\n",
    "\n",
    "Let's visualize the distribution of \"charges\" i.e. the annual medical charges for customers. This is the column we're trying to predict. Let's also use the categorical column \"smoker\" to distinguish the charges for smokers and non-smokers."
   ]
  },
  {
   "cell_type": "code",
   "execution_count": 37,
   "id": "according-withdrawal",
   "metadata": {},
   "outputs": [
    {
     "data": {
      "application/vnd.plotly.v1+json": {
       "config": {
        "plotlyServerURL": "https://plot.ly"
       },
       "data": [
        {
         "bingroup": "x",
         "hovertemplate": "smoker=yes<br>charges=%{x}<br>count=%{y}<extra></extra>",
         "legendgroup": "yes",
         "marker": {
          "color": "green",
          "pattern": {
           "shape": ""
          }
         },
         "name": "yes",
         "orientation": "v",
         "showlegend": true,
         "type": "histogram",
         "x": {
          "bdata": "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",
          "dtype": "f8"
         },
         "xaxis": "x",
         "yaxis": "y"
        },
        {
         "hovertemplate": "smoker=yes<br>charges=%{x}<extra></extra>",
         "legendgroup": "yes",
         "marker": {
          "color": "green"
         },
         "name": "yes",
         "notched": true,
         "showlegend": false,
         "type": "box",
         "x": {
          "bdata": "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",
          "dtype": "f8"
         },
         "xaxis": "x2",
         "yaxis": "y2"
        },
        {
         "bingroup": "x",
         "hovertemplate": "smoker=no<br>charges=%{x}<br>count=%{y}<extra></extra>",
         "legendgroup": "no",
         "marker": {
          "color": "grey",
          "pattern": {
           "shape": ""
          }
         },
         "name": "no",
         "orientation": "v",
         "showlegend": true,
         "type": "histogram",
         "x": {
          "bdata": "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",
          "dtype": "f8"
         },
         "xaxis": "x",
         "yaxis": "y"
        },
        {
         "hovertemplate": "smoker=no<br>charges=%{x}<extra></extra>",
         "legendgroup": "no",
         "marker": {
          "color": "grey"
         },
         "name": "no",
         "notched": true,
         "showlegend": false,
         "type": "box",
         "x": {
          "bdata": "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",
          "dtype": "f8"
         },
         "xaxis": "x2",
         "yaxis": "y2"
        }
       ],
       "layout": {
        "bargap": 0.1,
        "barmode": "relative",
        "legend": {
         "title": {
          "text": "smoker"
         },
         "tracegroupgap": 0
        },
        "template": {
         "data": {
          "bar": [
           {
            "error_x": {
             "color": "#2a3f5f"
            },
            "error_y": {
             "color": "#2a3f5f"
            },
            "marker": {
             "line": {
              "color": "#E5ECF6",
              "width": 0.5
             },
             "pattern": {
              "fillmode": "overlay",
              "size": 10,
              "solidity": 0.2
             }
            },
            "type": "bar"
           }
          ],
          "barpolar": [
           {
            "marker": {
             "line": {
              "color": "#E5ECF6",
              "width": 0.5
             },
             "pattern": {
              "fillmode": "overlay",
              "size": 10,
              "solidity": 0.2
             }
            },
            "type": "barpolar"
           }
          ],
          "carpet": [
           {
            "aaxis": {
             "endlinecolor": "#2a3f5f",
             "gridcolor": "white",
             "linecolor": "white",
             "minorgridcolor": "white",
             "startlinecolor": "#2a3f5f"
            },
            "baxis": {
             "endlinecolor": "#2a3f5f",
             "gridcolor": "white",
             "linecolor": "white",
             "minorgridcolor": "white",
             "startlinecolor": "#2a3f5f"
            },
            "type": "carpet"
           }
          ],
          "choropleth": [
           {
            "colorbar": {
             "outlinewidth": 0,
             "ticks": ""
            },
            "type": "choropleth"
           }
          ],
          "contour": [
           {
            "colorbar": {
             "outlinewidth": 0,
             "ticks": ""
            },
            "colorscale": [
             [
              0,
              "#0d0887"
             ],
             [
              0.1111111111111111,
              "#46039f"
             ],
             [
              0.2222222222222222,
              "#7201a8"
             ],
             [
              0.3333333333333333,
              "#9c179e"
             ],
             [
              0.4444444444444444,
              "#bd3786"
             ],
             [
              0.5555555555555556,
              "#d8576b"
             ],
             [
              0.6666666666666666,
              "#ed7953"
             ],
             [
              0.7777777777777778,
              "#fb9f3a"
             ],
             [
              0.8888888888888888,
              "#fdca26"
             ],
             [
              1,
              "#f0f921"
             ]
            ],
            "type": "contour"
           }
          ],
          "contourcarpet": [
           {
            "colorbar": {
             "outlinewidth": 0,
             "ticks": ""
            },
            "type": "contourcarpet"
           }
          ],
          "heatmap": [
           {
            "colorbar": {
             "outlinewidth": 0,
             "ticks": ""
            },
            "colorscale": [
             [
              0,
              "#0d0887"
             ],
             [
              0.1111111111111111,
              "#46039f"
             ],
             [
              0.2222222222222222,
              "#7201a8"
             ],
             [
              0.3333333333333333,
              "#9c179e"
             ],
             [
              0.4444444444444444,
              "#bd3786"
             ],
             [
              0.5555555555555556,
              "#d8576b"
             ],
             [
              0.6666666666666666,
              "#ed7953"
             ],
             [
              0.7777777777777778,
              "#fb9f3a"
             ],
             [
              0.8888888888888888,
              "#fdca26"
             ],
             [
              1,
              "#f0f921"
             ]
            ],
            "type": "heatmap"
           }
          ],
          "histogram": [
           {
            "marker": {
             "pattern": {
              "fillmode": "overlay",
              "size": 10,
              "solidity": 0.2
             }
            },
            "type": "histogram"
           }
          ],
          "histogram2d": [
           {
            "colorbar": {
             "outlinewidth": 0,
             "ticks": ""
            },
            "colorscale": [
             [
              0,
              "#0d0887"
             ],
             [
              0.1111111111111111,
              "#46039f"
             ],
             [
              0.2222222222222222,
              "#7201a8"
             ],
             [
              0.3333333333333333,
              "#9c179e"
             ],
             [
              0.4444444444444444,
              "#bd3786"
             ],
             [
              0.5555555555555556,
              "#d8576b"
             ],
             [
              0.6666666666666666,
              "#ed7953"
             ],
             [
              0.7777777777777778,
              "#fb9f3a"
             ],
             [
              0.8888888888888888,
              "#fdca26"
             ],
             [
              1,
              "#f0f921"
             ]
            ],
            "type": "histogram2d"
           }
          ],
          "histogram2dcontour": [
           {
            "colorbar": {
             "outlinewidth": 0,
             "ticks": ""
            },
            "colorscale": [
             [
              0,
              "#0d0887"
             ],
             [
              0.1111111111111111,
              "#46039f"
             ],
             [
              0.2222222222222222,
              "#7201a8"
             ],
             [
              0.3333333333333333,
              "#9c179e"
             ],
             [
              0.4444444444444444,
              "#bd3786"
             ],
             [
              0.5555555555555556,
              "#d8576b"
             ],
             [
              0.6666666666666666,
              "#ed7953"
             ],
             [
              0.7777777777777778,
              "#fb9f3a"
             ],
             [
              0.8888888888888888,
              "#fdca26"
             ],
             [
              1,
              "#f0f921"
             ]
            ],
            "type": "histogram2dcontour"
           }
          ],
          "mesh3d": [
           {
            "colorbar": {
             "outlinewidth": 0,
             "ticks": ""
            },
            "type": "mesh3d"
           }
          ],
          "parcoords": [
           {
            "line": {
             "colorbar": {
              "outlinewidth": 0,
              "ticks": ""
             }
            },
            "type": "parcoords"
           }
          ],
          "pie": [
           {
            "automargin": true,
            "type": "pie"
           }
          ],
          "scatter": [
           {
            "fillpattern": {
             "fillmode": "overlay",
             "size": 10,
             "solidity": 0.2
            },
            "type": "scatter"
           }
          ],
          "scatter3d": [
           {
            "line": {
             "colorbar": {
              "outlinewidth": 0,
              "ticks": ""
             }
            },
            "marker": {
             "colorbar": {
              "outlinewidth": 0,
              "ticks": ""
             }
            },
            "type": "scatter3d"
           }
          ],
          "scattercarpet": [
           {
            "marker": {
             "colorbar": {
              "outlinewidth": 0,
              "ticks": ""
             }
            },
            "type": "scattercarpet"
           }
          ],
          "scattergeo": [
           {
            "marker": {
             "colorbar": {
              "outlinewidth": 0,
              "ticks": ""
             }
            },
            "type": "scattergeo"
           }
          ],
          "scattergl": [
           {
            "marker": {
             "colorbar": {
              "outlinewidth": 0,
              "ticks": ""
             }
            },
            "type": "scattergl"
           }
          ],
          "scattermap": [
           {
            "marker": {
             "colorbar": {
              "outlinewidth": 0,
              "ticks": ""
             }
            },
            "type": "scattermap"
           }
          ],
          "scattermapbox": [
           {
            "marker": {
             "colorbar": {
              "outlinewidth": 0,
              "ticks": ""
             }
            },
            "type": "scattermapbox"
           }
          ],
          "scatterpolar": [
           {
            "marker": {
             "colorbar": {
              "outlinewidth": 0,
              "ticks": ""
             }
            },
            "type": "scatterpolar"
           }
          ],
          "scatterpolargl": [
           {
            "marker": {
             "colorbar": {
              "outlinewidth": 0,
              "ticks": ""
             }
            },
            "type": "scatterpolargl"
           }
          ],
          "scatterternary": [
           {
            "marker": {
             "colorbar": {
              "outlinewidth": 0,
              "ticks": ""
             }
            },
            "type": "scatterternary"
           }
          ],
          "surface": [
           {
            "colorbar": {
             "outlinewidth": 0,
             "ticks": ""
            },
            "colorscale": [
             [
              0,
              "#0d0887"
             ],
             [
              0.1111111111111111,
              "#46039f"
             ],
             [
              0.2222222222222222,
              "#7201a8"
             ],
             [
              0.3333333333333333,
              "#9c179e"
             ],
             [
              0.4444444444444444,
              "#bd3786"
             ],
             [
              0.5555555555555556,
              "#d8576b"
             ],
             [
              0.6666666666666666,
              "#ed7953"
             ],
             [
              0.7777777777777778,
              "#fb9f3a"
             ],
             [
              0.8888888888888888,
              "#fdca26"
             ],
             [
              1,
              "#f0f921"
             ]
            ],
            "type": "surface"
           }
          ],
          "table": [
           {
            "cells": {
             "fill": {
              "color": "#EBF0F8"
             },
             "line": {
              "color": "white"
             }
            },
            "header": {
             "fill": {
              "color": "#C8D4E3"
             },
             "line": {
              "color": "white"
             }
            },
            "type": "table"
           }
          ]
         },
         "layout": {
          "annotationdefaults": {
           "arrowcolor": "#2a3f5f",
           "arrowhead": 0,
           "arrowwidth": 1
          },
          "autotypenumbers": "strict",
          "coloraxis": {
           "colorbar": {
            "outlinewidth": 0,
            "ticks": ""
           }
          },
          "colorscale": {
           "diverging": [
            [
             0,
             "#8e0152"
            ],
            [
             0.1,
             "#c51b7d"
            ],
            [
             0.2,
             "#de77ae"
            ],
            [
             0.3,
             "#f1b6da"
            ],
            [
             0.4,
             "#fde0ef"
            ],
            [
             0.5,
             "#f7f7f7"
            ],
            [
             0.6,
             "#e6f5d0"
            ],
            [
             0.7,
             "#b8e186"
            ],
            [
             0.8,
             "#7fbc41"
            ],
            [
             0.9,
             "#4d9221"
            ],
            [
             1,
             "#276419"
            ]
           ],
           "sequential": [
            [
             0,
             "#0d0887"
            ],
            [
             0.1111111111111111,
             "#46039f"
            ],
            [
             0.2222222222222222,
             "#7201a8"
            ],
            [
             0.3333333333333333,
             "#9c179e"
            ],
            [
             0.4444444444444444,
             "#bd3786"
            ],
            [
             0.5555555555555556,
             "#d8576b"
            ],
            [
             0.6666666666666666,
             "#ed7953"
            ],
            [
             0.7777777777777778,
             "#fb9f3a"
            ],
            [
             0.8888888888888888,
             "#fdca26"
            ],
            [
             1,
             "#f0f921"
            ]
           ],
           "sequentialminus": [
            [
             0,
             "#0d0887"
            ],
            [
             0.1111111111111111,
             "#46039f"
            ],
            [
             0.2222222222222222,
             "#7201a8"
            ],
            [
             0.3333333333333333,
             "#9c179e"
            ],
            [
             0.4444444444444444,
             "#bd3786"
            ],
            [
             0.5555555555555556,
             "#d8576b"
            ],
            [
             0.6666666666666666,
             "#ed7953"
            ],
            [
             0.7777777777777778,
             "#fb9f3a"
            ],
            [
             0.8888888888888888,
             "#fdca26"
            ],
            [
             1,
             "#f0f921"
            ]
           ]
          },
          "colorway": [
           "#636efa",
           "#EF553B",
           "#00cc96",
           "#ab63fa",
           "#FFA15A",
           "#19d3f3",
           "#FF6692",
           "#B6E880",
           "#FF97FF",
           "#FECB52"
          ],
          "font": {
           "color": "#2a3f5f"
          },
          "geo": {
           "bgcolor": "white",
           "lakecolor": "white",
           "landcolor": "#E5ECF6",
           "showlakes": true,
           "showland": true,
           "subunitcolor": "white"
          },
          "hoverlabel": {
           "align": "left"
          },
          "hovermode": "closest",
          "mapbox": {
           "style": "light"
          },
          "paper_bgcolor": "white",
          "plot_bgcolor": "#E5ECF6",
          "polar": {
           "angularaxis": {
            "gridcolor": "white",
            "linecolor": "white",
            "ticks": ""
           },
           "bgcolor": "#E5ECF6",
           "radialaxis": {
            "gridcolor": "white",
            "linecolor": "white",
            "ticks": ""
           }
          },
          "scene": {
           "xaxis": {
            "backgroundcolor": "#E5ECF6",
            "gridcolor": "white",
            "gridwidth": 2,
            "linecolor": "white",
            "showbackground": true,
            "ticks": "",
            "zerolinecolor": "white"
           },
           "yaxis": {
            "backgroundcolor": "#E5ECF6",
            "gridcolor": "white",
            "gridwidth": 2,
            "linecolor": "white",
            "showbackground": true,
            "ticks": "",
            "zerolinecolor": "white"
           },
           "zaxis": {
            "backgroundcolor": "#E5ECF6",
            "gridcolor": "white",
            "gridwidth": 2,
            "linecolor": "white",
            "showbackground": true,
            "ticks": "",
            "zerolinecolor": "white"
           }
          },
          "shapedefaults": {
           "line": {
            "color": "#2a3f5f"
           }
          },
          "ternary": {
           "aaxis": {
            "gridcolor": "white",
            "linecolor": "white",
            "ticks": ""
           },
           "baxis": {
            "gridcolor": "white",
            "linecolor": "white",
            "ticks": ""
           },
           "bgcolor": "#E5ECF6",
           "caxis": {
            "gridcolor": "white",
            "linecolor": "white",
            "ticks": ""
           }
          },
          "title": {
           "x": 0.05
          },
          "xaxis": {
           "automargin": true,
           "gridcolor": "white",
           "linecolor": "white",
           "ticks": "",
           "title": {
            "standoff": 15
           },
           "zerolinecolor": "white",
           "zerolinewidth": 2
          },
          "yaxis": {
           "automargin": true,
           "gridcolor": "white",
           "linecolor": "white",
           "ticks": "",
           "title": {
            "standoff": 15
           },
           "zerolinecolor": "white",
           "zerolinewidth": 2
          }
         }
        },
        "title": {
         "text": "Annual Medical Charges"
        },
        "xaxis": {
         "anchor": "y",
         "domain": [
          0,
          1
         ],
         "title": {
          "text": "charges"
         }
        },
        "xaxis2": {
         "anchor": "y2",
         "domain": [
          0,
          1
         ],
         "matches": "x",
         "showgrid": true,
         "showticklabels": false
        },
        "yaxis": {
         "anchor": "x",
         "domain": [
          0,
          0.7326
         ],
         "title": {
          "text": "count"
         }
        },
        "yaxis2": {
         "anchor": "x2",
         "domain": [
          0.7426,
          1
         ],
         "matches": "y2",
         "showgrid": false,
         "showline": false,
         "showticklabels": false,
         "ticks": ""
        }
       }
      }
     },
     "metadata": {},
     "output_type": "display_data"
    }
   ],
   "source": [
    "fig = px.histogram(medical_df, \n",
    "                   x='charges', \n",
    "                   marginal='box', \n",
    "                   color='smoker', \n",
    "                   color_discrete_sequence=['green', 'grey'], \n",
    "                   title='Annual Medical Charges')\n",
    "fig.update_layout(bargap=0.1)\n",
    "fig.show()"
   ]
  },
  {
   "cell_type": "markdown",
   "id": "floral-jungle",
   "metadata": {},
   "source": [
    "We can make the following observations from the above graph:\n",
    "\n",
    "* For most customers, the annual medical charges are under \\\\$10,000. Only a small fraction of customer have higher medical expenses, possibly due to accidents, major illnesses and genetic diseases. The distribution follows a \"power law\"\n",
    "* There is a significant difference in medical expenses between smokers and non-smokers. While the median for non-smokers is \\\\$7300, the median for smokers is close to \\\\$35,000.\n",
    "\n",
    "\n",
    "> **EXERCISE**: Visualize the distribution of medical charges in connection with other factors like \"sex\" and \"region\". What do you observe?"
   ]
  },
  {
   "cell_type": "code",
   "execution_count": 16,
   "id": "chemical-projection",
   "metadata": {},
   "outputs": [
    {
     "data": {
      "application/vnd.plotly.v1+json": {
       "config": {
        "plotlyServerURL": "https://plot.ly"
       },
       "data": [
        {
         "bingroup": "x",
         "hovertemplate": "sex=female<br>charges=%{x}<br>count=%{y}<extra></extra>",
         "legendgroup": "female",
         "marker": {
          "color": "green",
          "pattern": {
           "shape": ""
          }
         },
         "name": "female",
         "orientation": "v",
         "showlegend": true,
         "type": "histogram",
         "x": {
          "bdata": "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",
          "dtype": "f8"
         },
         "xaxis": "x",
         "yaxis": "y"
        },
        {
         "hovertemplate": "sex=female<br>charges=%{x}<extra></extra>",
         "legendgroup": "female",
         "marker": {
          "color": "green"
         },
         "name": "female",
         "notched": true,
         "showlegend": false,
         "type": "box",
         "x": {
          "bdata": "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",
          "dtype": "f8"
         },
         "xaxis": "x2",
         "yaxis": "y2"
        },
        {
         "bingroup": "x",
         "hovertemplate": "sex=male<br>charges=%{x}<br>count=%{y}<extra></extra>",
         "legendgroup": "male",
         "marker": {
          "color": "grey",
          "pattern": {
           "shape": ""
          }
         },
         "name": "male",
         "orientation": "v",
         "showlegend": true,
         "type": "histogram",
         "x": {
          "bdata": "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",
          "dtype": "f8"
         },
         "xaxis": "x",
         "yaxis": "y"
        },
        {
         "hovertemplate": "sex=male<br>charges=%{x}<extra></extra>",
         "legendgroup": "male",
         "marker": {
          "color": "grey"
         },
         "name": "male",
         "notched": true,
         "showlegend": false,
         "type": "box",
         "x": {
          "bdata": "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",
          "dtype": "f8"
         },
         "xaxis": "x2",
         "yaxis": "y2"
        }
       ],
       "layout": {
        "bargap": 0.1,
        "barmode": "relative",
        "legend": {
         "title": {
          "text": "sex"
         },
         "tracegroupgap": 0
        },
        "template": {
         "data": {
          "bar": [
           {
            "error_x": {
             "color": "#2a3f5f"
            },
            "error_y": {
             "color": "#2a3f5f"
            },
            "marker": {
             "line": {
              "color": "#E5ECF6",
              "width": 0.5
             },
             "pattern": {
              "fillmode": "overlay",
              "size": 10,
              "solidity": 0.2
             }
            },
            "type": "bar"
           }
          ],
          "barpolar": [
           {
            "marker": {
             "line": {
              "color": "#E5ECF6",
              "width": 0.5
             },
             "pattern": {
              "fillmode": "overlay",
              "size": 10,
              "solidity": 0.2
             }
            },
            "type": "barpolar"
           }
          ],
          "carpet": [
           {
            "aaxis": {
             "endlinecolor": "#2a3f5f",
             "gridcolor": "white",
             "linecolor": "white",
             "minorgridcolor": "white",
             "startlinecolor": "#2a3f5f"
            },
            "baxis": {
             "endlinecolor": "#2a3f5f",
             "gridcolor": "white",
             "linecolor": "white",
             "minorgridcolor": "white",
             "startlinecolor": "#2a3f5f"
            },
            "type": "carpet"
           }
          ],
          "choropleth": [
           {
            "colorbar": {
             "outlinewidth": 0,
             "ticks": ""
            },
            "type": "choropleth"
           }
          ],
          "contour": [
           {
            "colorbar": {
             "outlinewidth": 0,
             "ticks": ""
            },
            "colorscale": [
             [
              0,
              "#0d0887"
             ],
             [
              0.1111111111111111,
              "#46039f"
             ],
             [
              0.2222222222222222,
              "#7201a8"
             ],
             [
              0.3333333333333333,
              "#9c179e"
             ],
             [
              0.4444444444444444,
              "#bd3786"
             ],
             [
              0.5555555555555556,
              "#d8576b"
             ],
             [
              0.6666666666666666,
              "#ed7953"
             ],
             [
              0.7777777777777778,
              "#fb9f3a"
             ],
             [
              0.8888888888888888,
              "#fdca26"
             ],
             [
              1,
              "#f0f921"
             ]
            ],
            "type": "contour"
           }
          ],
          "contourcarpet": [
           {
            "colorbar": {
             "outlinewidth": 0,
             "ticks": ""
            },
            "type": "contourcarpet"
           }
          ],
          "heatmap": [
           {
            "colorbar": {
             "outlinewidth": 0,
             "ticks": ""
            },
            "colorscale": [
             [
              0,
              "#0d0887"
             ],
             [
              0.1111111111111111,
              "#46039f"
             ],
             [
              0.2222222222222222,
              "#7201a8"
             ],
             [
              0.3333333333333333,
              "#9c179e"
             ],
             [
              0.4444444444444444,
              "#bd3786"
             ],
             [
              0.5555555555555556,
              "#d8576b"
             ],
             [
              0.6666666666666666,
              "#ed7953"
             ],
             [
              0.7777777777777778,
              "#fb9f3a"
             ],
             [
              0.8888888888888888,
              "#fdca26"
             ],
             [
              1,
              "#f0f921"
             ]
            ],
            "type": "heatmap"
           }
          ],
          "histogram": [
           {
            "marker": {
             "pattern": {
              "fillmode": "overlay",
              "size": 10,
              "solidity": 0.2
             }
            },
            "type": "histogram"
           }
          ],
          "histogram2d": [
           {
            "colorbar": {
             "outlinewidth": 0,
             "ticks": ""
            },
            "colorscale": [
             [
              0,
              "#0d0887"
             ],
             [
              0.1111111111111111,
              "#46039f"
             ],
             [
              0.2222222222222222,
              "#7201a8"
             ],
             [
              0.3333333333333333,
              "#9c179e"
             ],
             [
              0.4444444444444444,
              "#bd3786"
             ],
             [
              0.5555555555555556,
              "#d8576b"
             ],
             [
              0.6666666666666666,
              "#ed7953"
             ],
             [
              0.7777777777777778,
              "#fb9f3a"
             ],
             [
              0.8888888888888888,
              "#fdca26"
             ],
             [
              1,
              "#f0f921"
             ]
            ],
            "type": "histogram2d"
           }
          ],
          "histogram2dcontour": [
           {
            "colorbar": {
             "outlinewidth": 0,
             "ticks": ""
            },
            "colorscale": [
             [
              0,
              "#0d0887"
             ],
             [
              0.1111111111111111,
              "#46039f"
             ],
             [
              0.2222222222222222,
              "#7201a8"
             ],
             [
              0.3333333333333333,
              "#9c179e"
             ],
             [
              0.4444444444444444,
              "#bd3786"
             ],
             [
              0.5555555555555556,
              "#d8576b"
             ],
             [
              0.6666666666666666,
              "#ed7953"
             ],
             [
              0.7777777777777778,
              "#fb9f3a"
             ],
             [
              0.8888888888888888,
              "#fdca26"
             ],
             [
              1,
              "#f0f921"
             ]
            ],
            "type": "histogram2dcontour"
           }
          ],
          "mesh3d": [
           {
            "colorbar": {
             "outlinewidth": 0,
             "ticks": ""
            },
            "type": "mesh3d"
           }
          ],
          "parcoords": [
           {
            "line": {
             "colorbar": {
              "outlinewidth": 0,
              "ticks": ""
             }
            },
            "type": "parcoords"
           }
          ],
          "pie": [
           {
            "automargin": true,
            "type": "pie"
           }
          ],
          "scatter": [
           {
            "fillpattern": {
             "fillmode": "overlay",
             "size": 10,
             "solidity": 0.2
            },
            "type": "scatter"
           }
          ],
          "scatter3d": [
           {
            "line": {
             "colorbar": {
              "outlinewidth": 0,
              "ticks": ""
             }
            },
            "marker": {
             "colorbar": {
              "outlinewidth": 0,
              "ticks": ""
             }
            },
            "type": "scatter3d"
           }
          ],
          "scattercarpet": [
           {
            "marker": {
             "colorbar": {
              "outlinewidth": 0,
              "ticks": ""
             }
            },
            "type": "scattercarpet"
           }
          ],
          "scattergeo": [
           {
            "marker": {
             "colorbar": {
              "outlinewidth": 0,
              "ticks": ""
             }
            },
            "type": "scattergeo"
           }
          ],
          "scattergl": [
           {
            "marker": {
             "colorbar": {
              "outlinewidth": 0,
              "ticks": ""
             }
            },
            "type": "scattergl"
           }
          ],
          "scattermap": [
           {
            "marker": {
             "colorbar": {
              "outlinewidth": 0,
              "ticks": ""
             }
            },
            "type": "scattermap"
           }
          ],
          "scattermapbox": [
           {
            "marker": {
             "colorbar": {
              "outlinewidth": 0,
              "ticks": ""
             }
            },
            "type": "scattermapbox"
           }
          ],
          "scatterpolar": [
           {
            "marker": {
             "colorbar": {
              "outlinewidth": 0,
              "ticks": ""
             }
            },
            "type": "scatterpolar"
           }
          ],
          "scatterpolargl": [
           {
            "marker": {
             "colorbar": {
              "outlinewidth": 0,
              "ticks": ""
             }
            },
            "type": "scatterpolargl"
           }
          ],
          "scatterternary": [
           {
            "marker": {
             "colorbar": {
              "outlinewidth": 0,
              "ticks": ""
             }
            },
            "type": "scatterternary"
           }
          ],
          "surface": [
           {
            "colorbar": {
             "outlinewidth": 0,
             "ticks": ""
            },
            "colorscale": [
             [
              0,
              "#0d0887"
             ],
             [
              0.1111111111111111,
              "#46039f"
             ],
             [
              0.2222222222222222,
              "#7201a8"
             ],
             [
              0.3333333333333333,
              "#9c179e"
             ],
             [
              0.4444444444444444,
              "#bd3786"
             ],
             [
              0.5555555555555556,
              "#d8576b"
             ],
             [
              0.6666666666666666,
              "#ed7953"
             ],
             [
              0.7777777777777778,
              "#fb9f3a"
             ],
             [
              0.8888888888888888,
              "#fdca26"
             ],
             [
              1,
              "#f0f921"
             ]
            ],
            "type": "surface"
           }
          ],
          "table": [
           {
            "cells": {
             "fill": {
              "color": "#EBF0F8"
             },
             "line": {
              "color": "white"
             }
            },
            "header": {
             "fill": {
              "color": "#C8D4E3"
             },
             "line": {
              "color": "white"
             }
            },
            "type": "table"
           }
          ]
         },
         "layout": {
          "annotationdefaults": {
           "arrowcolor": "#2a3f5f",
           "arrowhead": 0,
           "arrowwidth": 1
          },
          "autotypenumbers": "strict",
          "coloraxis": {
           "colorbar": {
            "outlinewidth": 0,
            "ticks": ""
           }
          },
          "colorscale": {
           "diverging": [
            [
             0,
             "#8e0152"
            ],
            [
             0.1,
             "#c51b7d"
            ],
            [
             0.2,
             "#de77ae"
            ],
            [
             0.3,
             "#f1b6da"
            ],
            [
             0.4,
             "#fde0ef"
            ],
            [
             0.5,
             "#f7f7f7"
            ],
            [
             0.6,
             "#e6f5d0"
            ],
            [
             0.7,
             "#b8e186"
            ],
            [
             0.8,
             "#7fbc41"
            ],
            [
             0.9,
             "#4d9221"
            ],
            [
             1,
             "#276419"
            ]
           ],
           "sequential": [
            [
             0,
             "#0d0887"
            ],
            [
             0.1111111111111111,
             "#46039f"
            ],
            [
             0.2222222222222222,
             "#7201a8"
            ],
            [
             0.3333333333333333,
             "#9c179e"
            ],
            [
             0.4444444444444444,
             "#bd3786"
            ],
            [
             0.5555555555555556,
             "#d8576b"
            ],
            [
             0.6666666666666666,
             "#ed7953"
            ],
            [
             0.7777777777777778,
             "#fb9f3a"
            ],
            [
             0.8888888888888888,
             "#fdca26"
            ],
            [
             1,
             "#f0f921"
            ]
           ],
           "sequentialminus": [
            [
             0,
             "#0d0887"
            ],
            [
             0.1111111111111111,
             "#46039f"
            ],
            [
             0.2222222222222222,
             "#7201a8"
            ],
            [
             0.3333333333333333,
             "#9c179e"
            ],
            [
             0.4444444444444444,
             "#bd3786"
            ],
            [
             0.5555555555555556,
             "#d8576b"
            ],
            [
             0.6666666666666666,
             "#ed7953"
            ],
            [
             0.7777777777777778,
             "#fb9f3a"
            ],
            [
             0.8888888888888888,
             "#fdca26"
            ],
            [
             1,
             "#f0f921"
            ]
           ]
          },
          "colorway": [
           "#636efa",
           "#EF553B",
           "#00cc96",
           "#ab63fa",
           "#FFA15A",
           "#19d3f3",
           "#FF6692",
           "#B6E880",
           "#FF97FF",
           "#FECB52"
          ],
          "font": {
           "color": "#2a3f5f"
          },
          "geo": {
           "bgcolor": "white",
           "lakecolor": "white",
           "landcolor": "#E5ECF6",
           "showlakes": true,
           "showland": true,
           "subunitcolor": "white"
          },
          "hoverlabel": {
           "align": "left"
          },
          "hovermode": "closest",
          "mapbox": {
           "style": "light"
          },
          "paper_bgcolor": "white",
          "plot_bgcolor": "#E5ECF6",
          "polar": {
           "angularaxis": {
            "gridcolor": "white",
            "linecolor": "white",
            "ticks": ""
           },
           "bgcolor": "#E5ECF6",
           "radialaxis": {
            "gridcolor": "white",
            "linecolor": "white",
            "ticks": ""
           }
          },
          "scene": {
           "xaxis": {
            "backgroundcolor": "#E5ECF6",
            "gridcolor": "white",
            "gridwidth": 2,
            "linecolor": "white",
            "showbackground": true,
            "ticks": "",
            "zerolinecolor": "white"
           },
           "yaxis": {
            "backgroundcolor": "#E5ECF6",
            "gridcolor": "white",
            "gridwidth": 2,
            "linecolor": "white",
            "showbackground": true,
            "ticks": "",
            "zerolinecolor": "white"
           },
           "zaxis": {
            "backgroundcolor": "#E5ECF6",
            "gridcolor": "white",
            "gridwidth": 2,
            "linecolor": "white",
            "showbackground": true,
            "ticks": "",
            "zerolinecolor": "white"
           }
          },
          "shapedefaults": {
           "line": {
            "color": "#2a3f5f"
           }
          },
          "ternary": {
           "aaxis": {
            "gridcolor": "white",
            "linecolor": "white",
            "ticks": ""
           },
           "baxis": {
            "gridcolor": "white",
            "linecolor": "white",
            "ticks": ""
           },
           "bgcolor": "#E5ECF6",
           "caxis": {
            "gridcolor": "white",
            "linecolor": "white",
            "ticks": ""
           }
          },
          "title": {
           "x": 0.05
          },
          "xaxis": {
           "automargin": true,
           "gridcolor": "white",
           "linecolor": "white",
           "ticks": "",
           "title": {
            "standoff": 15
           },
           "zerolinecolor": "white",
           "zerolinewidth": 2
          },
          "yaxis": {
           "automargin": true,
           "gridcolor": "white",
           "linecolor": "white",
           "ticks": "",
           "title": {
            "standoff": 15
           },
           "zerolinecolor": "white",
           "zerolinewidth": 2
          }
         }
        },
        "title": {
         "text": "Annual Medical Charges"
        },
        "xaxis": {
         "anchor": "y",
         "domain": [
          0,
          1
         ],
         "title": {
          "text": "charges"
         }
        },
        "xaxis2": {
         "anchor": "y2",
         "domain": [
          0,
          1
         ],
         "matches": "x",
         "showgrid": true,
         "showticklabels": false
        },
        "yaxis": {
         "anchor": "x",
         "domain": [
          0,
          0.7326
         ],
         "title": {
          "text": "count"
         }
        },
        "yaxis2": {
         "anchor": "x2",
         "domain": [
          0.7426,
          1
         ],
         "matches": "y2",
         "showgrid": false,
         "showline": false,
         "showticklabels": false,
         "ticks": ""
        }
       }
      }
     },
     "metadata": {},
     "output_type": "display_data"
    }
   ],
   "source": [
    "#visualize distribution of charges with respect to sex\n",
    "fig = px.histogram(medical_df, \n",
    "                   x='charges', \n",
    "                   marginal='box', \n",
    "                   color='sex', \n",
    "                   color_discrete_sequence=['green', 'grey'], \n",
    "                   title='Annual Medical Charges')\n",
    "fig.update_layout(bargap=0.1)\n",
    "fig.show()"
   ]
  },
  {
   "cell_type": "code",
   "execution_count": null,
   "id": "b0a10165",
   "metadata": {},
   "outputs": [
    {
     "data": {
      "text/plain": [
       "array(['southwest', 'southeast', 'northwest', 'northeast'], dtype=object)"
      ]
     },
     "execution_count": 30,
     "metadata": {},
     "output_type": "execute_result"
    }
   ],
   "source": [
    "#check what all is in this column\n",
    "medical_df['region'].unique()"
   ]
  },
  {
   "cell_type": "code",
   "execution_count": null,
   "id": "subtle-gasoline",
   "metadata": {},
   "outputs": [
    {
     "data": {
      "application/vnd.plotly.v1+json": {
       "config": {
        "plotlyServerURL": "https://plot.ly"
       },
       "data": [
        {
         "bingroup": "x",
         "hovertemplate": "region=southwest<br>charges=%{x}<br>count=%{y}<extra></extra>",
         "legendgroup": "southwest",
         "marker": {
          "color": "green",
          "pattern": {
           "shape": ""
          }
         },
         "name": "southwest",
         "orientation": "v",
         "showlegend": true,
         "type": "histogram",
         "x": {
          "bdata": "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",
          "dtype": "f8"
         },
         "xaxis": "x",
         "yaxis": "y"
        },
        {
         "hovertemplate": "region=southwest<br>charges=%{x}<extra></extra>",
         "legendgroup": "southwest",
         "marker": {
          "color": "green"
         },
         "name": "southwest",
         "notched": true,
         "showlegend": false,
         "type": "box",
         "x": {
          "bdata": "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",
          "dtype": "f8"
         },
         "xaxis": "x2",
         "yaxis": "y2"
        },
        {
         "bingroup": "x",
         "hovertemplate": "region=southeast<br>charges=%{x}<br>count=%{y}<extra></extra>",
         "legendgroup": "southeast",
         "marker": {
          "color": "blue",
          "pattern": {
           "shape": ""
          }
         },
         "name": "southeast",
         "orientation": "v",
         "showlegend": true,
         "type": "histogram",
         "x": {
          "bdata": "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",
          "dtype": "f8"
         },
         "xaxis": "x",
         "yaxis": "y"
        },
        {
         "hovertemplate": "region=southeast<br>charges=%{x}<extra></extra>",
         "legendgroup": "southeast",
         "marker": {
          "color": "blue"
         },
         "name": "southeast",
         "notched": true,
         "showlegend": false,
         "type": "box",
         "x": {
          "bdata": "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",
          "dtype": "f8"
         },
         "xaxis": "x2",
         "yaxis": "y2"
        },
        {
         "bingroup": "x",
         "hovertemplate": "region=northwest<br>charges=%{x}<br>count=%{y}<extra></extra>",
         "legendgroup": "northwest",
         "marker": {
          "color": "red",
          "pattern": {
           "shape": ""
          }
         },
         "name": "northwest",
         "orientation": "v",
         "showlegend": true,
         "type": "histogram",
         "x": {
          "bdata": "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",
          "dtype": "f8"
         },
         "xaxis": "x",
         "yaxis": "y"
        },
        {
         "hovertemplate": "region=northwest<br>charges=%{x}<extra></extra>",
         "legendgroup": "northwest",
         "marker": {
          "color": "red"
         },
         "name": "northwest",
         "notched": true,
         "showlegend": false,
         "type": "box",
         "x": {
          "bdata": "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",
          "dtype": "f8"
         },
         "xaxis": "x2",
         "yaxis": "y2"
        },
        {
         "bingroup": "x",
         "hovertemplate": "region=northeast<br>charges=%{x}<br>count=%{y}<extra></extra>",
         "legendgroup": "northeast",
         "marker": {
          "color": "yellow",
          "pattern": {
           "shape": ""
          }
         },
         "name": "northeast",
         "orientation": "v",
         "showlegend": true,
         "type": "histogram",
         "x": {
          "bdata": "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",
          "dtype": "f8"
         },
         "xaxis": "x",
         "yaxis": "y"
        },
        {
         "hovertemplate": "region=northeast<br>charges=%{x}<extra></extra>",
         "legendgroup": "northeast",
         "marker": {
          "color": "yellow"
         },
         "name": "northeast",
         "notched": true,
         "showlegend": false,
         "type": "box",
         "x": {
          "bdata": "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",
          "dtype": "f8"
         },
         "xaxis": "x2",
         "yaxis": "y2"
        }
       ],
       "layout": {
        "bargap": 0.1,
        "barmode": "relative",
        "legend": {
         "title": {
          "text": "region"
         },
         "tracegroupgap": 0
        },
        "template": {
         "data": {
          "bar": [
           {
            "error_x": {
             "color": "#2a3f5f"
            },
            "error_y": {
             "color": "#2a3f5f"
            },
            "marker": {
             "line": {
              "color": "#E5ECF6",
              "width": 0.5
             },
             "pattern": {
              "fillmode": "overlay",
              "size": 10,
              "solidity": 0.2
             }
            },
            "type": "bar"
           }
          ],
          "barpolar": [
           {
            "marker": {
             "line": {
              "color": "#E5ECF6",
              "width": 0.5
             },
             "pattern": {
              "fillmode": "overlay",
              "size": 10,
              "solidity": 0.2
             }
            },
            "type": "barpolar"
           }
          ],
          "carpet": [
           {
            "aaxis": {
             "endlinecolor": "#2a3f5f",
             "gridcolor": "white",
             "linecolor": "white",
             "minorgridcolor": "white",
             "startlinecolor": "#2a3f5f"
            },
            "baxis": {
             "endlinecolor": "#2a3f5f",
             "gridcolor": "white",
             "linecolor": "white",
             "minorgridcolor": "white",
             "startlinecolor": "#2a3f5f"
            },
            "type": "carpet"
           }
          ],
          "choropleth": [
           {
            "colorbar": {
             "outlinewidth": 0,
             "ticks": ""
            },
            "type": "choropleth"
           }
          ],
          "contour": [
           {
            "colorbar": {
             "outlinewidth": 0,
             "ticks": ""
            },
            "colorscale": [
             [
              0,
              "#0d0887"
             ],
             [
              0.1111111111111111,
              "#46039f"
             ],
             [
              0.2222222222222222,
              "#7201a8"
             ],
             [
              0.3333333333333333,
              "#9c179e"
             ],
             [
              0.4444444444444444,
              "#bd3786"
             ],
             [
              0.5555555555555556,
              "#d8576b"
             ],
             [
              0.6666666666666666,
              "#ed7953"
             ],
             [
              0.7777777777777778,
              "#fb9f3a"
             ],
             [
              0.8888888888888888,
              "#fdca26"
             ],
             [
              1,
              "#f0f921"
             ]
            ],
            "type": "contour"
           }
          ],
          "contourcarpet": [
           {
            "colorbar": {
             "outlinewidth": 0,
             "ticks": ""
            },
            "type": "contourcarpet"
           }
          ],
          "heatmap": [
           {
            "colorbar": {
             "outlinewidth": 0,
             "ticks": ""
            },
            "colorscale": [
             [
              0,
              "#0d0887"
             ],
             [
              0.1111111111111111,
              "#46039f"
             ],
             [
              0.2222222222222222,
              "#7201a8"
             ],
             [
              0.3333333333333333,
              "#9c179e"
             ],
             [
              0.4444444444444444,
              "#bd3786"
             ],
             [
              0.5555555555555556,
              "#d8576b"
             ],
             [
              0.6666666666666666,
              "#ed7953"
             ],
             [
              0.7777777777777778,
              "#fb9f3a"
             ],
             [
              0.8888888888888888,
              "#fdca26"
             ],
             [
              1,
              "#f0f921"
             ]
            ],
            "type": "heatmap"
           }
          ],
          "histogram": [
           {
            "marker": {
             "pattern": {
              "fillmode": "overlay",
              "size": 10,
              "solidity": 0.2
             }
            },
            "type": "histogram"
           }
          ],
          "histogram2d": [
           {
            "colorbar": {
             "outlinewidth": 0,
             "ticks": ""
            },
            "colorscale": [
             [
              0,
              "#0d0887"
             ],
             [
              0.1111111111111111,
              "#46039f"
             ],
             [
              0.2222222222222222,
              "#7201a8"
             ],
             [
              0.3333333333333333,
              "#9c179e"
             ],
             [
              0.4444444444444444,
              "#bd3786"
             ],
             [
              0.5555555555555556,
              "#d8576b"
             ],
             [
              0.6666666666666666,
              "#ed7953"
             ],
             [
              0.7777777777777778,
              "#fb9f3a"
             ],
             [
              0.8888888888888888,
              "#fdca26"
             ],
             [
              1,
              "#f0f921"
             ]
            ],
            "type": "histogram2d"
           }
          ],
          "histogram2dcontour": [
           {
            "colorbar": {
             "outlinewidth": 0,
             "ticks": ""
            },
            "colorscale": [
             [
              0,
              "#0d0887"
             ],
             [
              0.1111111111111111,
              "#46039f"
             ],
             [
              0.2222222222222222,
              "#7201a8"
             ],
             [
              0.3333333333333333,
              "#9c179e"
             ],
             [
              0.4444444444444444,
              "#bd3786"
             ],
             [
              0.5555555555555556,
              "#d8576b"
             ],
             [
              0.6666666666666666,
              "#ed7953"
             ],
             [
              0.7777777777777778,
              "#fb9f3a"
             ],
             [
              0.8888888888888888,
              "#fdca26"
             ],
             [
              1,
              "#f0f921"
             ]
            ],
            "type": "histogram2dcontour"
           }
          ],
          "mesh3d": [
           {
            "colorbar": {
             "outlinewidth": 0,
             "ticks": ""
            },
            "type": "mesh3d"
           }
          ],
          "parcoords": [
           {
            "line": {
             "colorbar": {
              "outlinewidth": 0,
              "ticks": ""
             }
            },
            "type": "parcoords"
           }
          ],
          "pie": [
           {
            "automargin": true,
            "type": "pie"
           }
          ],
          "scatter": [
           {
            "fillpattern": {
             "fillmode": "overlay",
             "size": 10,
             "solidity": 0.2
            },
            "type": "scatter"
           }
          ],
          "scatter3d": [
           {
            "line": {
             "colorbar": {
              "outlinewidth": 0,
              "ticks": ""
             }
            },
            "marker": {
             "colorbar": {
              "outlinewidth": 0,
              "ticks": ""
             }
            },
            "type": "scatter3d"
           }
          ],
          "scattercarpet": [
           {
            "marker": {
             "colorbar": {
              "outlinewidth": 0,
              "ticks": ""
             }
            },
            "type": "scattercarpet"
           }
          ],
          "scattergeo": [
           {
            "marker": {
             "colorbar": {
              "outlinewidth": 0,
              "ticks": ""
             }
            },
            "type": "scattergeo"
           }
          ],
          "scattergl": [
           {
            "marker": {
             "colorbar": {
              "outlinewidth": 0,
              "ticks": ""
             }
            },
            "type": "scattergl"
           }
          ],
          "scattermap": [
           {
            "marker": {
             "colorbar": {
              "outlinewidth": 0,
              "ticks": ""
             }
            },
            "type": "scattermap"
           }
          ],
          "scattermapbox": [
           {
            "marker": {
             "colorbar": {
              "outlinewidth": 0,
              "ticks": ""
             }
            },
            "type": "scattermapbox"
           }
          ],
          "scatterpolar": [
           {
            "marker": {
             "colorbar": {
              "outlinewidth": 0,
              "ticks": ""
             }
            },
            "type": "scatterpolar"
           }
          ],
          "scatterpolargl": [
           {
            "marker": {
             "colorbar": {
              "outlinewidth": 0,
              "ticks": ""
             }
            },
            "type": "scatterpolargl"
           }
          ],
          "scatterternary": [
           {
            "marker": {
             "colorbar": {
              "outlinewidth": 0,
              "ticks": ""
             }
            },
            "type": "scatterternary"
           }
          ],
          "surface": [
           {
            "colorbar": {
             "outlinewidth": 0,
             "ticks": ""
            },
            "colorscale": [
             [
              0,
              "#0d0887"
             ],
             [
              0.1111111111111111,
              "#46039f"
             ],
             [
              0.2222222222222222,
              "#7201a8"
             ],
             [
              0.3333333333333333,
              "#9c179e"
             ],
             [
              0.4444444444444444,
              "#bd3786"
             ],
             [
              0.5555555555555556,
              "#d8576b"
             ],
             [
              0.6666666666666666,
              "#ed7953"
             ],
             [
              0.7777777777777778,
              "#fb9f3a"
             ],
             [
              0.8888888888888888,
              "#fdca26"
             ],
             [
              1,
              "#f0f921"
             ]
            ],
            "type": "surface"
           }
          ],
          "table": [
           {
            "cells": {
             "fill": {
              "color": "#EBF0F8"
             },
             "line": {
              "color": "white"
             }
            },
            "header": {
             "fill": {
              "color": "#C8D4E3"
             },
             "line": {
              "color": "white"
             }
            },
            "type": "table"
           }
          ]
         },
         "layout": {
          "annotationdefaults": {
           "arrowcolor": "#2a3f5f",
           "arrowhead": 0,
           "arrowwidth": 1
          },
          "autotypenumbers": "strict",
          "coloraxis": {
           "colorbar": {
            "outlinewidth": 0,
            "ticks": ""
           }
          },
          "colorscale": {
           "diverging": [
            [
             0,
             "#8e0152"
            ],
            [
             0.1,
             "#c51b7d"
            ],
            [
             0.2,
             "#de77ae"
            ],
            [
             0.3,
             "#f1b6da"
            ],
            [
             0.4,
             "#fde0ef"
            ],
            [
             0.5,
             "#f7f7f7"
            ],
            [
             0.6,
             "#e6f5d0"
            ],
            [
             0.7,
             "#b8e186"
            ],
            [
             0.8,
             "#7fbc41"
            ],
            [
             0.9,
             "#4d9221"
            ],
            [
             1,
             "#276419"
            ]
           ],
           "sequential": [
            [
             0,
             "#0d0887"
            ],
            [
             0.1111111111111111,
             "#46039f"
            ],
            [
             0.2222222222222222,
             "#7201a8"
            ],
            [
             0.3333333333333333,
             "#9c179e"
            ],
            [
             0.4444444444444444,
             "#bd3786"
            ],
            [
             0.5555555555555556,
             "#d8576b"
            ],
            [
             0.6666666666666666,
             "#ed7953"
            ],
            [
             0.7777777777777778,
             "#fb9f3a"
            ],
            [
             0.8888888888888888,
             "#fdca26"
            ],
            [
             1,
             "#f0f921"
            ]
           ],
           "sequentialminus": [
            [
             0,
             "#0d0887"
            ],
            [
             0.1111111111111111,
             "#46039f"
            ],
            [
             0.2222222222222222,
             "#7201a8"
            ],
            [
             0.3333333333333333,
             "#9c179e"
            ],
            [
             0.4444444444444444,
             "#bd3786"
            ],
            [
             0.5555555555555556,
             "#d8576b"
            ],
            [
             0.6666666666666666,
             "#ed7953"
            ],
            [
             0.7777777777777778,
             "#fb9f3a"
            ],
            [
             0.8888888888888888,
             "#fdca26"
            ],
            [
             1,
             "#f0f921"
            ]
           ]
          },
          "colorway": [
           "#636efa",
           "#EF553B",
           "#00cc96",
           "#ab63fa",
           "#FFA15A",
           "#19d3f3",
           "#FF6692",
           "#B6E880",
           "#FF97FF",
           "#FECB52"
          ],
          "font": {
           "color": "#2a3f5f"
          },
          "geo": {
           "bgcolor": "white",
           "lakecolor": "white",
           "landcolor": "#E5ECF6",
           "showlakes": true,
           "showland": true,
           "subunitcolor": "white"
          },
          "hoverlabel": {
           "align": "left"
          },
          "hovermode": "closest",
          "mapbox": {
           "style": "light"
          },
          "paper_bgcolor": "white",
          "plot_bgcolor": "#E5ECF6",
          "polar": {
           "angularaxis": {
            "gridcolor": "white",
            "linecolor": "white",
            "ticks": ""
           },
           "bgcolor": "#E5ECF6",
           "radialaxis": {
            "gridcolor": "white",
            "linecolor": "white",
            "ticks": ""
           }
          },
          "scene": {
           "xaxis": {
            "backgroundcolor": "#E5ECF6",
            "gridcolor": "white",
            "gridwidth": 2,
            "linecolor": "white",
            "showbackground": true,
            "ticks": "",
            "zerolinecolor": "white"
           },
           "yaxis": {
            "backgroundcolor": "#E5ECF6",
            "gridcolor": "white",
            "gridwidth": 2,
            "linecolor": "white",
            "showbackground": true,
            "ticks": "",
            "zerolinecolor": "white"
           },
           "zaxis": {
            "backgroundcolor": "#E5ECF6",
            "gridcolor": "white",
            "gridwidth": 2,
            "linecolor": "white",
            "showbackground": true,
            "ticks": "",
            "zerolinecolor": "white"
           }
          },
          "shapedefaults": {
           "line": {
            "color": "#2a3f5f"
           }
          },
          "ternary": {
           "aaxis": {
            "gridcolor": "white",
            "linecolor": "white",
            "ticks": ""
           },
           "baxis": {
            "gridcolor": "white",
            "linecolor": "white",
            "ticks": ""
           },
           "bgcolor": "#E5ECF6",
           "caxis": {
            "gridcolor": "white",
            "linecolor": "white",
            "ticks": ""
           }
          },
          "title": {
           "x": 0.05
          },
          "xaxis": {
           "automargin": true,
           "gridcolor": "white",
           "linecolor": "white",
           "ticks": "",
           "title": {
            "standoff": 15
           },
           "zerolinecolor": "white",
           "zerolinewidth": 2
          },
          "yaxis": {
           "automargin": true,
           "gridcolor": "white",
           "linecolor": "white",
           "ticks": "",
           "title": {
            "standoff": 15
           },
           "zerolinecolor": "white",
           "zerolinewidth": 2
          }
         }
        },
        "title": {
         "text": "Annual Medical Charges"
        },
        "xaxis": {
         "anchor": "y",
         "domain": [
          0,
          1
         ],
         "title": {
          "text": "charges"
         }
        },
        "xaxis2": {
         "anchor": "y2",
         "domain": [
          0,
          1
         ],
         "matches": "x",
         "showgrid": true,
         "showticklabels": false
        },
        "yaxis": {
         "anchor": "x",
         "domain": [
          0,
          0.7326
         ],
         "title": {
          "text": "count"
         }
        },
        "yaxis2": {
         "anchor": "x2",
         "domain": [
          0.7426,
          1
         ],
         "matches": "y2",
         "showgrid": false,
         "showline": false,
         "showticklabels": false,
         "ticks": ""
        }
       }
      }
     },
     "metadata": {},
     "output_type": "display_data"
    }
   ],
   "source": [
    "fig = px.histogram(medical_df, \n",
    "                   x='charges', \n",
    "                   marginal='box', \n",
    "                   color='region', \n",
    "                   color_discrete_sequence=['green', 'blue', 'red', 'yellow'], \n",
    "                   title='Annual Medical Charges')\n",
    "fig.update_layout(bargap=0.1)\n",
    "fig.show()\n",
    "\n",
    "#I'm noting that the bars seem to have approximately an even number of each region, but I think I'll visualize this another way"
   ]
  },
  {
   "cell_type": "code",
   "execution_count": null,
   "id": "dressed-notification",
   "metadata": {},
   "outputs": [
    {
     "data": {
      "application/vnd.plotly.v1+json": {
       "config": {
        "plotlyServerURL": "https://plot.ly"
       },
       "data": [
        {
         "bingroup": "x",
         "histfunc": "sum",
         "hovertemplate": "sex=female<br>region=%{x}<br>sum of charges=%{y}<extra></extra>",
         "legendgroup": "female",
         "marker": {
          "color": "green",
          "pattern": {
           "shape": ""
          }
         },
         "name": "female",
         "orientation": "v",
         "showlegend": true,
         "type": "histogram",
         "x": [
          "southwest",
          "southeast",
          "southeast",
          "northwest",
          "northwest",
          "southeast",
          "southeast",
          "northeast",
          "northeast",
          "southwest",
          "northeast",
          "southeast",
          "northeast",
          "northwest",
          "northeast",
          "southwest",
          "northwest",
          "northeast",
          "southeast",
          "southeast",
          "northeast",
          "northwest",
          "southeast",
          "northeast",
          "northwest",
          "northwest",
          "northeast",
          "southeast",
          "northwest",
          "northwest",
          "northwest",
          "southwest",
          "southwest",
          "southeast",
          "southeast",
          "southwest",
          "southeast",
          "northeast",
          "northwest",
          "northeast",
          "northwest",
          "southwest",
          "northwest",
          "southwest",
          "northwest",
          "northwest",
          "southeast",
          "northwest",
          "southwest",
          "southeast",
          "southwest",
          "southwest",
          "northeast",
          "southeast",
          "southwest",
          "southwest",
          "southwest",
          "northwest",
          "southeast",
          "southeast",
          "northwest",
          "northwest",
          "northwest",
          "northeast",
          "southwest",
          "southwest",
          "northwest",
          "northeast",
          "northeast",
          "southwest",
          "northeast",
          "southeast",
          "southeast",
          "southwest",
          "southeast",
          "southeast",
          "northwest",
          "northeast",
          "northeast",
          "northeast",
          "southeast",
          "northwest",
          "southeast",
          "southwest",
          "southwest",
          "northwest",
          "northwest",
          "southwest",
          "northwest",
          "southwest",
          "southwest",
          "northeast",
          "southeast",
          "northwest",
          "southeast",
          "southwest",
          "southwest",
          "northwest",
          "southwest",
          "northwest",
          "southwest",
          "southeast",
          "northwest",
          "northeast",
          "northwest",
          "southeast",
          "northwest",
          "southeast",
          "northeast",
          "southwest",
          "southeast",
          "southwest",
          "southwest",
          "northwest",
          "southeast",
          "southeast",
          "southwest",
          "northeast",
          "southeast",
          "northeast",
          "northwest",
          "southeast",
          "southwest",
          "southeast",
          "southeast",
          "northeast",
          "northeast",
          "southwest",
          "northeast",
          "southeast",
          "southwest",
          "northeast",
          "southeast",
          "southwest",
          "southeast",
          "southeast",
          "northeast",
          "northeast",
          "southwest",
          "southeast",
          "northeast",
          "northeast",
          "southwest",
          "northeast",
          "northwest",
          "northeast",
          "southwest",
          "southeast",
          "northwest",
          "northeast",
          "southeast",
          "southeast",
          "southwest",
          "southwest",
          "southeast",
          "northwest",
          "southwest",
          "southwest",
          "northwest",
          "northeast",
          "southeast",
          "southwest",
          "northeast",
          "northwest",
          "northeast",
          "northeast",
          "southeast",
          "southwest",
          "northeast",
          "southeast",
          "southeast",
          "southeast",
          "northwest",
          "southwest",
          "southwest",
          "southeast",
          "southeast",
          "northeast",
          "southwest",
          "southwest",
          "southeast",
          "northeast",
          "northeast",
          "northwest",
          "northwest",
          "northeast",
          "northeast",
          "northwest",
          "northeast",
          "northwest",
          "northeast",
          "southeast",
          "southeast",
          "northwest",
          "northwest",
          "northwest",
          "northeast",
          "southwest",
          "southeast",
          "southwest",
          "northwest",
          "northeast",
          "southeast",
          "southwest",
          "northeast",
          "northeast",
          "northwest",
          "southeast",
          "southwest",
          "northwest",
          "northeast",
          "northeast",
          "northeast",
          "northwest",
          "northwest",
          "southwest",
          "southeast",
          "northwest",
          "southwest",
          "southeast",
          "southwest",
          "northwest",
          "southwest",
          "southeast",
          "northwest",
          "southeast",
          "southeast",
          "northeast",
          "southeast",
          "southwest",
          "northwest",
          "northeast",
          "southeast",
          "northeast",
          "southwest",
          "northeast",
          "southeast",
          "southwest",
          "northeast",
          "northwest",
          "southeast",
          "southwest",
          "southeast",
          "northeast",
          "southwest",
          "southeast",
          "southwest",
          "southeast",
          "northeast",
          "southwest",
          "southwest",
          "northeast",
          "southeast",
          "northeast",
          "southeast",
          "southeast",
          "northwest",
          "southwest",
          "northeast",
          "southwest",
          "southwest",
          "southeast",
          "southwest",
          "southeast",
          "southeast",
          "southeast",
          "southwest",
          "northeast",
          "southeast",
          "southeast",
          "northwest",
          "northeast",
          "northwest",
          "northwest",
          "northeast",
          "southeast",
          "northwest",
          "northwest",
          "southwest",
          "southwest",
          "southeast",
          "southeast",
          "northeast",
          "northeast",
          "northwest",
          "northeast",
          "northeast",
          "southeast",
          "southeast",
          "northwest",
          "northeast",
          "southeast",
          "southwest",
          "northeast",
          "northeast",
          "southeast",
          "northeast",
          "northwest",
          "southeast",
          "southwest",
          "southeast",
          "northwest",
          "southeast",
          "northeast",
          "northwest",
          "southeast",
          "southwest",
          "northeast",
          "northeast",
          "southeast",
          "southeast",
          "northeast",
          "southeast",
          "southwest",
          "southwest",
          "northwest",
          "northwest",
          "southeast",
          "northwest",
          "northeast",
          "northwest",
          "northeast",
          "northeast",
          "southeast",
          "southeast",
          "southeast",
          "southeast",
          "southeast",
          "southeast",
          "southwest",
          "northeast",
          "northeast",
          "southeast",
          "northeast",
          "southeast",
          "northwest",
          "southeast",
          "northeast",
          "southeast",
          "southeast",
          "southeast",
          "northwest",
          "southwest",
          "southwest",
          "southwest",
          "southwest",
          "northwest",
          "northeast",
          "southeast",
          "southeast",
          "northeast",
          "northwest",
          "northwest",
          "southwest",
          "southeast",
          "northeast",
          "northeast",
          "southeast",
          "northwest",
          "southwest",
          "northwest",
          "northwest",
          "northwest",
          "northeast",
          "northeast",
          "southeast",
          "northeast",
          "northeast",
          "southeast",
          "southwest",
          "northeast",
          "southwest",
          "northwest",
          "southeast",
          "southeast",
          "northwest",
          "southwest",
          "southeast",
          "southeast",
          "northeast",
          "southeast",
          "northeast",
          "northeast",
          "northwest",
          "southwest",
          "southwest",
          "northwest",
          "southwest",
          "northeast",
          "northwest",
          "southwest",
          "southeast",
          "southwest",
          "southeast",
          "southeast",
          "northeast",
          "northwest",
          "northeast",
          "southwest",
          "southeast",
          "southeast",
          "southeast",
          "northwest",
          "northwest",
          "northwest",
          "southwest",
          "northwest",
          "southeast",
          "northwest",
          "northeast",
          "northwest",
          "southeast",
          "southeast",
          "northeast",
          "northwest",
          "northwest",
          "northeast",
          "northeast",
          "northwest",
          "southeast",
          "southeast",
          "southeast",
          "southwest",
          "southwest",
          "northeast",
          "northeast",
          "northeast",
          "northeast",
          "southwest",
          "southeast",
          "southeast",
          "southwest",
          "southwest",
          "northwest",
          "northeast",
          "southwest",
          "southeast",
          "northwest",
          "southwest",
          "southwest",
          "northeast",
          "northeast",
          "northwest",
          "northwest",
          "southeast",
          "southwest",
          "northeast",
          "southeast",
          "northwest",
          "southwest",
          "northeast",
          "southeast",
          "southwest",
          "northwest",
          "southwest",
          "southeast",
          "northwest",
          "southwest",
          "southeast",
          "southwest",
          "southwest",
          "southwest",
          "southwest",
          "southeast",
          "southwest",
          "southwest",
          "southwest",
          "northwest",
          "southeast",
          "northeast",
          "southwest",
          "northwest",
          "northwest",
          "southwest",
          "southeast",
          "southeast",
          "southeast",
          "northeast",
          "northwest",
          "southwest",
          "northeast",
          "southeast",
          "northeast",
          "southwest",
          "northwest",
          "northeast",
          "southwest",
          "northeast",
          "southwest",
          "northwest",
          "northeast",
          "southwest",
          "southeast",
          "northeast",
          "northwest",
          "southwest",
          "southeast",
          "southwest",
          "northwest",
          "southwest",
          "northwest",
          "northwest",
          "southeast",
          "southeast",
          "southwest",
          "northeast",
          "northwest",
          "southeast",
          "northeast",
          "southwest",
          "northwest",
          "northwest",
          "southwest",
          "northwest",
          "northeast",
          "northwest",
          "northwest",
          "northwest",
          "southwest",
          "southeast",
          "southeast",
          "southwest",
          "southwest",
          "southeast",
          "northeast",
          "northeast",
          "southeast",
          "southwest",
          "northwest",
          "southwest",
          "northeast",
          "northwest",
          "southwest",
          "northeast",
          "northeast",
          "northeast",
          "southeast",
          "northeast",
          "southeast",
          "northwest",
          "northwest",
          "northeast",
          "southeast",
          "northwest",
          "northwest",
          "southwest",
          "northwest",
          "northeast",
          "northeast",
          "northwest",
          "southeast",
          "southwest",
          "southeast",
          "northwest",
          "northwest",
          "southwest",
          "northwest",
          "northwest",
          "southwest",
          "southeast",
          "northwest",
          "northeast",
          "northwest",
          "southeast",
          "northwest",
          "northwest",
          "northeast",
          "northwest",
          "northeast",
          "southwest",
          "northwest",
          "northeast",
          "northwest",
          "northeast",
          "southwest",
          "northwest",
          "southwest",
          "southeast",
          "southwest",
          "northwest",
          "southwest",
          "northeast",
          "northeast",
          "northwest",
          "southwest",
          "northeast",
          "southeast",
          "northwest",
          "northeast",
          "southwest",
          "northwest",
          "northeast",
          "northeast",
          "northwest",
          "northwest",
          "northwest",
          "northwest",
          "southwest",
          "southeast",
          "southwest",
          "northeast",
          "southwest",
          "northwest",
          "southwest",
          "northwest",
          "northeast",
          "southeast",
          "southeast",
          "southwest",
          "northwest",
          "southeast",
          "northeast",
          "northwest",
          "southeast",
          "northwest",
          "southeast",
          "southwest",
          "southeast",
          "southwest",
          "southeast",
          "southwest",
          "northwest",
          "northwest",
          "northeast",
          "northeast",
          "southeast",
          "southwest",
          "northeast",
          "southwest",
          "southwest",
          "northwest",
          "northeast",
          "northwest",
          "northwest",
          "southeast",
          "northwest",
          "northeast",
          "northeast",
          "northeast",
          "southwest",
          "northeast",
          "southeast",
          "northwest",
          "southwest",
          "southeast",
          "northeast",
          "southwest",
          "northwest",
          "southwest",
          "northwest",
          "southwest",
          "northwest",
          "southeast",
          "northeast",
          "northeast",
          "southeast",
          "southwest",
          "southwest",
          "northeast",
          "southeast",
          "southwest",
          "northwest"
         ],
         "xaxis": "x",
         "y": {
          "bdata": "YOXQIjt90EBj7lpCPlmtQNxGA3hLGMBA3GgAb4FxvECLGkzDyD7cQJXUCWguKNtAidLe4FupxUB1ApoIqxbFQKyL22hs1slA2/l+arw1sECk374OvGjiQBrAWyCRWMtAofgx5uo5zEBzaJHtUPbHQEvqBDRhLKFA6SYxCMxPskBXW7G/GH7OQLTIdr4fzKdAescpOsJVs0Cq8dJNwqm4QNzXgXO2gqpANKK0N9jJq0ApyxDH8qrIQOf7qfFCRqFAZMxdS6j3q0C3Yn/ZrXu/QDMzMzOvk8pAUwWjkjKz1kCNKO0NhmW3QHqlLEOkJbBAYqHWNN+7zEBg5dAi2zybQKjGSzeJzctAgy9Mphogt0DP91PjcTDQQHNoke3c7sZA9dvXgdPWrkC0WfW5CoalQKg1zTsGq7lAO3DOiEr/vkDi6ZWy1IzFQFTjpZuQc+NAvJaQD15H5UAMAiuHlqDFQIMvTKaqWr9AoImw4UmlxUAibHh65aufQLivA+cQX8VAKVyPwmEX50BpAG+BxG2tQFyPwvWopMdAmG4SgyAquEBhMlUwNtjUQNiBc0aMN95AfT81XtqLs0A/NV66CTeiQPyp8dKtNMdAnDOitHfJokD+Zffk8ajSQEmdgCaqzMBAxEKtaW4eukDZzvdT86KhQEku/yGBwcNAZohjXcxyqkDsUbgeRa7QQKAaL91E0cJA0NVW7Iv330AtIR/0uAfJQCzUmuYtmMpAEFg5tMjNxUAaUdobbDKjQHNoke1c16BA9u6P966u2kBYObTIdu2gQOJYF7dBErRA5BQdyc1Kw0BE+u3r2GfFQIqO5PJXvrhAQBNhwy9/00DdtYR8MKW7QHxETIlYSdNAvp8aLy3Z1ED0/dR4r6bhQKrx0k0iILRAexSuR6HeskAy5q4lzPC3QB1aZDuPPqVA6SYxCAx+tEC7uI0G4E6mQGZmZmYO1+dAy6FFtqM7wUBE+u3rJK3AQOcdp+hIf5lAwoanV3r7vEB3LSEf9BuvQLKd76emzbRAdZMYBPZ3ukBoImx46jqzQFYOLbLdE7NAnu+nxiuGx0CkcD0KtxG2QDEIrBxqosBAH4XrUSDWwkDswDkjwhrNQLyWkA9apaBAZ9XnapNTwUAoDwu1GmrJQCntDb68IeJABTQRNrzxsED0/dR4eRzLQJT2Bl/IirNA2c73UwOkwECDwMqhxcu8QF66SQzSOcRAdy0hH/SBqkAkYkokcX7YQGq8dJN4lLNAqMZLN3GixEC6FFeV1ajXQIv9ZfcsvrxAsb/snqQTvUDi6ZWypFjLQHE9Ctcj/5pA0gDeAhH90kBfB84ZET+ZQAKaCBv0zeJApSxDHBPqtEChvmVOBCvhQA6+MJnK1NxAAd4CCVq0yEApXI/CKRnnQGrecYqqe8lAukkMAvsYtUCuR+F6lB7HQBrAWyBRr9BAIlSp2b/700C4rwPnUH/MQPhT46Xr+cJAppvEIPDMoEBZF7fRkD/DQNiBc0bkztVAk6mCUY0zx0ApXI/C9czCQH/7OnB2bMJAVp+rrRjYy0A2PL1SGWPnQKjGSzcJyKhARPrt64DZoEB9rrZivxDCQA+cM6JYSthALGUZ4sD0x0DByqFFdv2wQCPb+X4as8hAVz7L82q000BlGeJYBzewQBiV1AkoRb5AL90kBoElm0Atsp3v2wLhQHBfB84x/bxAiJ0pdOoX2EDUmuYdx9OrQFyPwvUAZ+dAGCZTBbKw50AkufyHhDrKQCS5/IcwxcZAXyS05SSy0kBYyjLEURTAQGTpQxfOgtJAvHSTGIzQyUCV1AlomnDFQGx4eqVMKLhAfoy5awlmtUARx7q4TRvHQG8Sg8AKcsFALbKd72fEq0C28/3UhJrLQMKGp1cKHplAWmQ735+dw0DjpZvEQArLQCuHFtmOS6RAYcPTKwXZqECWsgxxLBnDQLgeheshO8pAJ8KGpw9Rv0D99nXghDPKQOLplbKkfsdAt9EA3mrXvUBz1xLyfZzRQIEmwob7JtVAHhZqTe0R0EDV52orSk/NQM9m1efq1rZAJzEIrDQox0CdEaW9odGoQPOOU3QUCrJAqFfKMiS0oEA9CtejgGHCQPLSTWIApcBAq8/VVqx+mUB1kxgEZhjCQMrDQq1VssxA7uvAOXNCxkBHcvkPGVmwQM/3U+PVrcBAzTtO0bMi00B/+zpw0jvMQLByaJHNraBARiV1ArqxvEDjpZvEECzSQNJvXweeRdxARiV1AhKbuUB7FRkdvJu8QMPTK2XpvqhAYVRSJzBd0kDOiNLeaCqzQFyPwvUYr8hA2/l+akSYyEDKVMGoRIKyQESLbOfrGuJAu+1Cc/mf20DdJAaBFbG8QG8Sg8ACX8ZAbef7qfEWt0AaUdob/DTHQGKh1jRjIMdAUrgehasCvkBMpgpGvUbEQCJseHopv81A/yH99n0Q00AQWDm0WNTJQDcawFuwschAZ9Xnaju+1kDiWBe3MTKhQDy9UpbxNqFAj8L1KNxBm0AA4xk0smPUQC/dJAbBWJlAEFg5tAhMw0Bd/kP6BfuwQIv9ZfesXchAYMjqVqTe50BqvHSTGFObQNwuNNdF8NdA7zhFR/IooUCDwMqhpUOzQIiFWtOMCcBASOF6FG5PykDF/rJ7Yla3QHlYqDVtyKdAcT0K16NfxkBxPQrXw3i0QK1RD9EkDtlAdQKaCFs0r0AYJlMFJ0XDQHEbDeCdFbVA78nDQlFtxkBEozuI637XQDMzMzODQsNAAG+BBL1ty0DjpZvEYFS3QLpJDAKLPMFArkfheowUwECcxCCwcjS4QCgPC7XG4KdAMQisHJofy0AMB0KyTSPvQM/3U+M1icZA9GxWfT4bqUD2KFyP5mTmQDlFR3LZCa9ApN++DtTZxUAKur2kuXXRQPfkYaHtheNA2c73U+v0wUBQ/Bhz91XFQGkAb4GE4qVA4umVstygoEBtVn2ujuW4QMuhRbZzkMZA3SQGgZVirUDmriXk41ahQBgmUwWjkbJAVfZdEQDh3kAeFmpNB9TJQACRfvty38dAh+EjYmKZ7EDHKTqS+wypQETAIVSPNtFAYTJVMJqrskAB3gIJ/HTlQA8LtabRocpAtTf4wtRYt0BqvHSTOCHHQDeJQWCN/81ABFYOLf47wUDsL7snT9i9QMUgsHLY2rVAqg65Gf9X4EDFjzF3LYSZQK5H4XpEn8VAH4XrUZBqz0CitDf4Pg/RQC2yne/HIcJAsHJokT3Nq0Dl8h/SsRPZQN21hHzYscBABoGVQ4uruUAxmSoYZT+hQD81XroJYbpA4XoUrkdgnUCqglFJO/vkQLRZ9bkOxcZAlWWIY/vQ4EBQjZdu0uzEQClcj8IV78FA54wo7e0wrUAnMQis7vzkQEMc6+JWTapA2PD0SjkqpUDHgOz1wlTYQLwFEhSfcrFAIEHxYyQewEDSb18HekfIQCegibBxJMNAukkMAtupxECcM6K0TyzAQLx0kxjEp8BAF9nO90Pqx0BCYOXQ2hbYQM/3U+OlpKpAXmOXqBDG2UB0RpT2Mh3MQLA4nPkbrNVAxY8xd40ctEBSSZ2AemfaQIPAyqFqiONAIEHxYzxkuUAU0ETYMM+uQI/k8h9SKbhAaW/whR+P5kCvJeSD5mLIQB3J5T9k1sNAPzVeuokypECDwMqhBZ6yQKp9Oh4ln9lAaJHtfP/zq0A7AU2EfQKpQDp6/N6egNxArrZifzlZq0BTliGONZKfQF5LyAfZosJAUkmdgFYJtUA9m1Wfd3HBQD81XroJ/7RAo5I6AQ2u5UC+wRcmO+G3QCegibABXbVAwOyePJy9w0A4Z0RpazvAQC/dJAYBM6NAzqrP1X6vwkDtDb4wETDFQGrecYrO48dAGeJYF9dJw0C+nxovEb3DQLTIdr6N/ONAoWez6m1E0EC2hHzQM1OhQD7o2axafbpAZDvfT+2KsEBHA3gLoHPCQNv5fmqcW8tAwoanV/K3wkBrmnecYLzjQFInoImwW61AvJaQDy5bw0C8dJMYdLbAQDvfT43PFNNA1QloIuQcx0A9Ctej0DG/QFuxv+xahtZAqFfKMoSrrkD6fmq8iMPBQHE9CtdPIcdACKwcWqSKu0AX2c73g/fLQHWTGAQ+FbtAcT0K12PHxUBLAtTUmv7IQE+vlGUgVdFAiUFg5RDy10AQ6bevg/6wQLByaJEtDrlAAJF++/pIykCamZmZOR62QNPe4AvTV6VALNSa5n0pvEB4CyQohm+yQF66SQwSJMdALGUZ4riGu0BN845T7PTLQERpb/AV8eJA4L4OnNszvkA5fxMKL8/bQMuhRbbDsaBAKVyPwnVjwkBO0ZFc/ti4QJwzorS3V51A3SQGgYU1pkCwcmiRU9rWQALZ693s6+pAuECC4odXmUDUK2UZmg3AQCuHFtmKYs9Aayv2l12StEDecYqOvG+yQIxK6gTcxMZAseHplUoCuUDRItv5FqfIQDcawFugluFAIR/0bHrj2kBqvHSTHvrlQD81XrpZSMNAmG4Sg0A8p0DlYaHWxDLiQDXvOEX1j+RA0SLb+dboxkB+HThnuorXQEw3iUFgTZ1AZF3cRsUB5ED6uDZUisrRQAisHFowhOZAO99PjRfvu0Ay5q4l2PbHQOauJeQLUrVA/tR46aYnsUAAkX77uoCqQJJc/kM6BKVAMLsnDxeH2UDLoUW286e4QK+UZYizM6RAmpmZmeOV5kCjkjoBLZi0QET67eu+pNxAB/AWSNBLvEAv3SQG8YPJQIBIv32DVdNAG55eKUuKmUCASL99rYqgQKwcWmRLsshA0gDeAjHUsUB/2T15uNG9QCUGgZUTFtFAnYAmwloXzEDufD81/sq9QDC7Jw+rUqNAmggbnpRD1UDP91Pj9XjJQHZPHhY6fbRADi2ynY9FykD2KFyPQkvKQNnO91Mjw6ZAPzVeuimAx0B0RpT2Zk/KQDVeuklMXrhACKwcWiS0vECLbOf76eTHQOXQItvlgsFAfGEyVcimwkDWxW008FKhQD0K16MQzcZAzqrP1S6vsUC/fR04N1SlQCGwcmiRMqpAZmZmZlZFzEDQs1n1acrAQHrHKTpS58RANxrAW2CAs0C+wRcmo7+jQDEIrBxafZtADJOpglX0wkB+jLlrCRmzQPuWOV0aZ9BAexSuR6HIvUB2Tx4WDK3bQKMBvAXydcxAuB6F69FlqkDlYaHW3Oi7QMHKoUU2w8NADwu1ph8J0EBt5/upeTK/QIPAyqGF+rxAF9nO9/sfy0C7uI0GwJe5QDlFR3LRk7RAg8DKoYUmwECIaHQHidzhQKjGSzeJB7VAuK8D53wqpUAxCKwc2ievQAWjkjqlZ8hAjNZR1bxo2UDmP6TfcmHhQNlfdk/uvMBAke18P7WQn0DPZtXn+t26QAN4CyRSK9VAVg4tsvmw5UCfzarPhSmwQL6fGi89n8dA9pfdk7Bl40AQWDm0tsLTQMUgsHLosqhArkfhejRe1UCrz9VWDJ28QAu1pnlXFKxAPujZrCJXv0CeXinL8DKqQOf7qfHCKsBAJgFqalOC0UAHX5hM9WGjQKJFtvPdTLZAtMh2vn+Fu0AnMQisbFjFQJSHhVpToMdADeAtkCTKyUD2l92T19KxQNv5fmqss8BAqoJRSeFVzUA9Ctej0JPSQC0hH/REC8ZAx0s3iXGO4EBEi2znqxHGQEw3iUEw0bFAB84ZUSbM5UATJ/c7ZIHWQBe30QA+NqlAliGOdRNi0EB6Nqs+dzHEQB+F61EUjsFAR3L5D/l+xEBxPQrXM3zGQLTIdr47nddAOiNKeyvAtEDufD81bj22QPp+arzIruBAeAskKK7I5kC77UJz33XSQPLSTWIG+eNAt2J/2U3Xy0DXNO84hcy2QAwCK4eWA5tAyjLEsSbDwEBZF7fRhIPDQKUsQxzLpsVAVOOlm4THvUAeFmpNk9CoQCswZHVXBOJACKwcWoQSv0DbbReaf3vaQO7rwDkjq6FA+zpwzng3oUBn1edq6+XHQEku/yGp/eNAeVioNXX+tUBO0ZFcloPFQGKh1jQ3PLxAaLPqcwktzECze/KwcDejQN9PjZeuK69AWRe30UAvvkDD0ytlqTGhQEHxY8yN8btA7FG4Hv1rtEAxCKwcerGxQCBj7lpa4LdAZmZmZqbz1UBX7C+7z6rFQLbz/dS41KBAxEKtaepT10BCYOXQ4mC5QJhMFYz6pqZASOF6FMbivUBI4XoUXkWmQESLbOf7kaRA/7J78rBzwkBLyAc9D+bRQDBMpgpmCstAW0I+6NVC1UBWfa62VqPJQDm0yHZmz7RAecxAZbzOykCDUUmdlG3JQK5H4XqY78BAjnVxGxUmsEDg88MIrWXSQFRSJ6BxQ+BArkfherRGs0D99nXg3MvRQKBU+3TTBeJA78nDQjfS00CsHFpkaxvFQJkqGJUk6K5ABoGVQ7NX5EDQs1n1KXG9QBpR2hs0brJAlYJuL2uD2UADeAskqLuyQB75g4HVsdNAQKTfvtpfyEC94xQd4aHAQNqs+lztOMxA5x2n6Czgx0C8BRIU30ypQK36XG1FyLBAnzws1DrHqEAbL90k5sbBQCxlGeLYh5lAEtpyLmnqzkCb5h2nKD+xQNnO91MDSrlAxf6ye15WxkA9m1Wf9xTGQPwYc9fi6sNAGlHaGzzAsUB7FK5HMXK6QGiR7Xy/qbxA+zpwznRBxECPwvUoPOjEQJzEILDyYZ1AHqfoSJ6bp0A3iUFg5WulQHh6pSwLBbFALSEf9BxdsEAydy0h1y3AQCgPC7Xs9ddA5IOezbrly0C62or9VavAQHZxGw1AKa1A5/up8XJgtUCkcD0K5927QM6I0t5w9LBANKK0N6gtpUDn+6nxkhGpQIiFWtM8QaNA0SLb+aZ5z0CJQWDllI3gQJ0Rpb1p27FAUI2XbrLF4UDSb18HeFPSQJHtfD+1DptAZ9XnarMhvEAwTKYKDG/lQGiz6nMFirtAGM+goe/e1UAcfGEylarIQMjvbfr3FcVA4XoUrtdJxkDV52or9juhQN0kBoFVd5lA4XoUrsdfn0AwuycPV3XcQA==",
          "dtype": "f8"
         },
         "yaxis": "y"
        },
        {
         "hovertemplate": "sex=female<br>region=%{x}<extra></extra>",
         "legendgroup": "female",
         "marker": {
          "color": "green"
         },
         "name": "female",
         "notched": true,
         "showlegend": false,
         "type": "box",
         "x": [
          "southwest",
          "southeast",
          "southeast",
          "northwest",
          "northwest",
          "southeast",
          "southeast",
          "northeast",
          "northeast",
          "southwest",
          "northeast",
          "southeast",
          "northeast",
          "northwest",
          "northeast",
          "southwest",
          "northwest",
          "northeast",
          "southeast",
          "southeast",
          "northeast",
          "northwest",
          "southeast",
          "northeast",
          "northwest",
          "northwest",
          "northeast",
          "southeast",
          "northwest",
          "northwest",
          "northwest",
          "southwest",
          "southwest",
          "southeast",
          "southeast",
          "southwest",
          "southeast",
          "northeast",
          "northwest",
          "northeast",
          "northwest",
          "southwest",
          "northwest",
          "southwest",
          "northwest",
          "northwest",
          "southeast",
          "northwest",
          "southwest",
          "southeast",
          "southwest",
          "southwest",
          "northeast",
          "southeast",
          "southwest",
          "southwest",
          "southwest",
          "northwest",
          "southeast",
          "southeast",
          "northwest",
          "northwest",
          "northwest",
          "northeast",
          "southwest",
          "southwest",
          "northwest",
          "northeast",
          "northeast",
          "southwest",
          "northeast",
          "southeast",
          "southeast",
          "southwest",
          "southeast",
          "southeast",
          "northwest",
          "northeast",
          "northeast",
          "northeast",
          "southeast",
          "northwest",
          "southeast",
          "southwest",
          "southwest",
          "northwest",
          "northwest",
          "southwest",
          "northwest",
          "southwest",
          "southwest",
          "northeast",
          "southeast",
          "northwest",
          "southeast",
          "southwest",
          "southwest",
          "northwest",
          "southwest",
          "northwest",
          "southwest",
          "southeast",
          "northwest",
          "northeast",
          "northwest",
          "southeast",
          "northwest",
          "southeast",
          "northeast",
          "southwest",
          "southeast",
          "southwest",
          "southwest",
          "northwest",
          "southeast",
          "southeast",
          "southwest",
          "northeast",
          "southeast",
          "northeast",
          "northwest",
          "southeast",
          "southwest",
          "southeast",
          "southeast",
          "northeast",
          "northeast",
          "southwest",
          "northeast",
          "southeast",
          "southwest",
          "northeast",
          "southeast",
          "southwest",
          "southeast",
          "southeast",
          "northeast",
          "northeast",
          "southwest",
          "southeast",
          "northeast",
          "northeast",
          "southwest",
          "northeast",
          "northwest",
          "northeast",
          "southwest",
          "southeast",
          "northwest",
          "northeast",
          "southeast",
          "southeast",
          "southwest",
          "southwest",
          "southeast",
          "northwest",
          "southwest",
          "southwest",
          "northwest",
          "northeast",
          "southeast",
          "southwest",
          "northeast",
          "northwest",
          "northeast",
          "northeast",
          "southeast",
          "southwest",
          "northeast",
          "southeast",
          "southeast",
          "southeast",
          "northwest",
          "southwest",
          "southwest",
          "southeast",
          "southeast",
          "northeast",
          "southwest",
          "southwest",
          "southeast",
          "northeast",
          "northeast",
          "northwest",
          "northwest",
          "northeast",
          "northeast",
          "northwest",
          "northeast",
          "northwest",
          "northeast",
          "southeast",
          "southeast",
          "northwest",
          "northwest",
          "northwest",
          "northeast",
          "southwest",
          "southeast",
          "southwest",
          "northwest",
          "northeast",
          "southeast",
          "southwest",
          "northeast",
          "northeast",
          "northwest",
          "southeast",
          "southwest",
          "northwest",
          "northeast",
          "northeast",
          "northeast",
          "northwest",
          "northwest",
          "southwest",
          "southeast",
          "northwest",
          "southwest",
          "southeast",
          "southwest",
          "northwest",
          "southwest",
          "southeast",
          "northwest",
          "southeast",
          "southeast",
          "northeast",
          "southeast",
          "southwest",
          "northwest",
          "northeast",
          "southeast",
          "northeast",
          "southwest",
          "northeast",
          "southeast",
          "southwest",
          "northeast",
          "northwest",
          "southeast",
          "southwest",
          "southeast",
          "northeast",
          "southwest",
          "southeast",
          "southwest",
          "southeast",
          "northeast",
          "southwest",
          "southwest",
          "northeast",
          "southeast",
          "northeast",
          "southeast",
          "southeast",
          "northwest",
          "southwest",
          "northeast",
          "southwest",
          "southwest",
          "southeast",
          "southwest",
          "southeast",
          "southeast",
          "southeast",
          "southwest",
          "northeast",
          "southeast",
          "southeast",
          "northwest",
          "northeast",
          "northwest",
          "northwest",
          "northeast",
          "southeast",
          "northwest",
          "northwest",
          "southwest",
          "southwest",
          "southeast",
          "southeast",
          "northeast",
          "northeast",
          "northwest",
          "northeast",
          "northeast",
          "southeast",
          "southeast",
          "northwest",
          "northeast",
          "southeast",
          "southwest",
          "northeast",
          "northeast",
          "southeast",
          "northeast",
          "northwest",
          "southeast",
          "southwest",
          "southeast",
          "northwest",
          "southeast",
          "northeast",
          "northwest",
          "southeast",
          "southwest",
          "northeast",
          "northeast",
          "southeast",
          "southeast",
          "northeast",
          "southeast",
          "southwest",
          "southwest",
          "northwest",
          "northwest",
          "southeast",
          "northwest",
          "northeast",
          "northwest",
          "northeast",
          "northeast",
          "southeast",
          "southeast",
          "southeast",
          "southeast",
          "southeast",
          "southeast",
          "southwest",
          "northeast",
          "northeast",
          "southeast",
          "northeast",
          "southeast",
          "northwest",
          "southeast",
          "northeast",
          "southeast",
          "southeast",
          "southeast",
          "northwest",
          "southwest",
          "southwest",
          "southwest",
          "southwest",
          "northwest",
          "northeast",
          "southeast",
          "southeast",
          "northeast",
          "northwest",
          "northwest",
          "southwest",
          "southeast",
          "northeast",
          "northeast",
          "southeast",
          "northwest",
          "southwest",
          "northwest",
          "northwest",
          "northwest",
          "northeast",
          "northeast",
          "southeast",
          "northeast",
          "northeast",
          "southeast",
          "southwest",
          "northeast",
          "southwest",
          "northwest",
          "southeast",
          "southeast",
          "northwest",
          "southwest",
          "southeast",
          "southeast",
          "northeast",
          "southeast",
          "northeast",
          "northeast",
          "northwest",
          "southwest",
          "southwest",
          "northwest",
          "southwest",
          "northeast",
          "northwest",
          "southwest",
          "southeast",
          "southwest",
          "southeast",
          "southeast",
          "northeast",
          "northwest",
          "northeast",
          "southwest",
          "southeast",
          "southeast",
          "southeast",
          "northwest",
          "northwest",
          "northwest",
          "southwest",
          "northwest",
          "southeast",
          "northwest",
          "northeast",
          "northwest",
          "southeast",
          "southeast",
          "northeast",
          "northwest",
          "northwest",
          "northeast",
          "northeast",
          "northwest",
          "southeast",
          "southeast",
          "southeast",
          "southwest",
          "southwest",
          "northeast",
          "northeast",
          "northeast",
          "northeast",
          "southwest",
          "southeast",
          "southeast",
          "southwest",
          "southwest",
          "northwest",
          "northeast",
          "southwest",
          "southeast",
          "northwest",
          "southwest",
          "southwest",
          "northeast",
          "northeast",
          "northwest",
          "northwest",
          "southeast",
          "southwest",
          "northeast",
          "southeast",
          "northwest",
          "southwest",
          "northeast",
          "southeast",
          "southwest",
          "northwest",
          "southwest",
          "southeast",
          "northwest",
          "southwest",
          "southeast",
          "southwest",
          "southwest",
          "southwest",
          "southwest",
          "southeast",
          "southwest",
          "southwest",
          "southwest",
          "northwest",
          "southeast",
          "northeast",
          "southwest",
          "northwest",
          "northwest",
          "southwest",
          "southeast",
          "southeast",
          "southeast",
          "northeast",
          "northwest",
          "southwest",
          "northeast",
          "southeast",
          "northeast",
          "southwest",
          "northwest",
          "northeast",
          "southwest",
          "northeast",
          "southwest",
          "northwest",
          "northeast",
          "southwest",
          "southeast",
          "northeast",
          "northwest",
          "southwest",
          "southeast",
          "southwest",
          "northwest",
          "southwest",
          "northwest",
          "northwest",
          "southeast",
          "southeast",
          "southwest",
          "northeast",
          "northwest",
          "southeast",
          "northeast",
          "southwest",
          "northwest",
          "northwest",
          "southwest",
          "northwest",
          "northeast",
          "northwest",
          "northwest",
          "northwest",
          "southwest",
          "southeast",
          "southeast",
          "southwest",
          "southwest",
          "southeast",
          "northeast",
          "northeast",
          "southeast",
          "southwest",
          "northwest",
          "southwest",
          "northeast",
          "northwest",
          "southwest",
          "northeast",
          "northeast",
          "northeast",
          "southeast",
          "northeast",
          "southeast",
          "northwest",
          "northwest",
          "northeast",
          "southeast",
          "northwest",
          "northwest",
          "southwest",
          "northwest",
          "northeast",
          "northeast",
          "northwest",
          "southeast",
          "southwest",
          "southeast",
          "northwest",
          "northwest",
          "southwest",
          "northwest",
          "northwest",
          "southwest",
          "southeast",
          "northwest",
          "northeast",
          "northwest",
          "southeast",
          "northwest",
          "northwest",
          "northeast",
          "northwest",
          "northeast",
          "southwest",
          "northwest",
          "northeast",
          "northwest",
          "northeast",
          "southwest",
          "northwest",
          "southwest",
          "southeast",
          "southwest",
          "northwest",
          "southwest",
          "northeast",
          "northeast",
          "northwest",
          "southwest",
          "northeast",
          "southeast",
          "northwest",
          "northeast",
          "southwest",
          "northwest",
          "northeast",
          "northeast",
          "northwest",
          "northwest",
          "northwest",
          "northwest",
          "southwest",
          "southeast",
          "southwest",
          "northeast",
          "southwest",
          "northwest",
          "southwest",
          "northwest",
          "northeast",
          "southeast",
          "southeast",
          "southwest",
          "northwest",
          "southeast",
          "northeast",
          "northwest",
          "southeast",
          "northwest",
          "southeast",
          "southwest",
          "southeast",
          "southwest",
          "southeast",
          "southwest",
          "northwest",
          "northwest",
          "northeast",
          "northeast",
          "southeast",
          "southwest",
          "northeast",
          "southwest",
          "southwest",
          "northwest",
          "northeast",
          "northwest",
          "northwest",
          "southeast",
          "northwest",
          "northeast",
          "northeast",
          "northeast",
          "southwest",
          "northeast",
          "southeast",
          "northwest",
          "southwest",
          "southeast",
          "northeast",
          "southwest",
          "northwest",
          "southwest",
          "northwest",
          "southwest",
          "northwest",
          "southeast",
          "northeast",
          "northeast",
          "southeast",
          "southwest",
          "southwest",
          "northeast",
          "southeast",
          "southwest",
          "northwest"
         ],
         "xaxis": "x2",
         "yaxis": "y2"
        },
        {
         "bingroup": "x",
         "histfunc": "sum",
         "hovertemplate": "sex=male<br>region=%{x}<br>sum of charges=%{y}<extra></extra>",
         "legendgroup": "male",
         "marker": {
          "color": "red",
          "pattern": {
           "shape": ""
          }
         },
         "name": "male",
         "orientation": "v",
         "showlegend": true,
         "type": "histogram",
         "x": [
          "southeast",
          "southeast",
          "northwest",
          "northwest",
          "northeast",
          "northeast",
          "southwest",
          "southeast",
          "southwest",
          "northeast",
          "southwest",
          "southwest",
          "southeast",
          "northwest",
          "northwest",
          "southwest",
          "southwest",
          "northwest",
          "southwest",
          "northwest",
          "southwest",
          "northeast",
          "southwest",
          "southeast",
          "northeast",
          "southwest",
          "southeast",
          "southwest",
          "southeast",
          "northwest",
          "southeast",
          "northeast",
          "southeast",
          "northwest",
          "northwest",
          "southeast",
          "northeast",
          "southeast",
          "southwest",
          "northwest",
          "southeast",
          "northeast",
          "southeast",
          "northwest",
          "northeast",
          "northwest",
          "southeast",
          "northeast",
          "southwest",
          "northeast",
          "northwest",
          "northwest",
          "southeast",
          "southeast",
          "northwest",
          "southwest",
          "northeast",
          "northeast",
          "southeast",
          "southwest",
          "northeast",
          "northeast",
          "southwest",
          "northwest",
          "southwest",
          "northwest",
          "northeast",
          "northeast",
          "southeast",
          "northwest",
          "northwest",
          "northwest",
          "southwest",
          "northwest",
          "southeast",
          "northwest",
          "southeast",
          "northeast",
          "southeast",
          "southwest",
          "northwest",
          "northeast",
          "northeast",
          "southeast",
          "southwest",
          "northeast",
          "northwest",
          "southwest",
          "northwest",
          "northeast",
          "southeast",
          "northeast",
          "southeast",
          "southeast",
          "southeast",
          "northwest",
          "southwest",
          "southeast",
          "northeast",
          "northeast",
          "southwest",
          "northwest",
          "northwest",
          "southeast",
          "southwest",
          "southwest",
          "southeast",
          "southeast",
          "southeast",
          "northeast",
          "southwest",
          "northwest",
          "southeast",
          "northwest",
          "southeast",
          "southwest",
          "northwest",
          "southeast",
          "southwest",
          "northeast",
          "northeast",
          "southeast",
          "southwest",
          "northeast",
          "northwest",
          "northwest",
          "northwest",
          "northeast",
          "northwest",
          "southeast",
          "southeast",
          "southwest",
          "northeast",
          "southeast",
          "southwest",
          "northwest",
          "northeast",
          "northwest",
          "northwest",
          "southeast",
          "northeast",
          "northeast",
          "southeast",
          "southeast",
          "northeast",
          "southeast",
          "southwest",
          "northeast",
          "southwest",
          "southeast",
          "northwest",
          "northeast",
          "northwest",
          "northeast",
          "southwest",
          "southeast",
          "southeast",
          "northeast",
          "northwest",
          "northeast",
          "northeast",
          "northwest",
          "southwest",
          "northeast",
          "southwest",
          "northeast",
          "northwest",
          "southwest",
          "northwest",
          "southwest",
          "southeast",
          "northwest",
          "northeast",
          "northwest",
          "northeast",
          "southeast",
          "northeast",
          "northwest",
          "northeast",
          "southwest",
          "southeast",
          "northwest",
          "southeast",
          "southwest",
          "northwest",
          "northeast",
          "southwest",
          "southeast",
          "southeast",
          "southeast",
          "northeast",
          "southeast",
          "northeast",
          "southwest",
          "northwest",
          "northeast",
          "northeast",
          "northeast",
          "northwest",
          "southeast",
          "southwest",
          "southeast",
          "northwest",
          "southwest",
          "southeast",
          "southeast",
          "northwest",
          "southwest",
          "southeast",
          "southeast",
          "southeast",
          "southeast",
          "northeast",
          "northeast",
          "southwest",
          "southeast",
          "southwest",
          "southwest",
          "northwest",
          "southeast",
          "northeast",
          "southwest",
          "northeast",
          "southeast",
          "northwest",
          "northeast",
          "southwest",
          "southwest",
          "northwest",
          "southwest",
          "northwest",
          "southeast",
          "southwest",
          "southwest",
          "southwest",
          "northeast",
          "northwest",
          "southeast",
          "southwest",
          "northwest",
          "northeast",
          "northwest",
          "southeast",
          "southeast",
          "northwest",
          "southeast",
          "southwest",
          "southwest",
          "northwest",
          "southwest",
          "southwest",
          "northeast",
          "southwest",
          "southwest",
          "northeast",
          "southeast",
          "southeast",
          "northwest",
          "northwest",
          "northwest",
          "northeast",
          "southeast",
          "northeast",
          "southwest",
          "southwest",
          "southwest",
          "southeast",
          "northwest",
          "northeast",
          "southeast",
          "northeast",
          "northeast",
          "southeast",
          "southeast",
          "southeast",
          "southeast",
          "northeast",
          "southeast",
          "northwest",
          "northwest",
          "northeast",
          "southwest",
          "southwest",
          "southwest",
          "northeast",
          "southeast",
          "northwest",
          "southwest",
          "southeast",
          "northwest",
          "northwest",
          "southeast",
          "southwest",
          "northeast",
          "northwest",
          "southeast",
          "southwest",
          "northeast",
          "northwest",
          "southeast",
          "southeast",
          "southwest",
          "northwest",
          "northeast",
          "southwest",
          "southwest",
          "southwest",
          "southwest",
          "northeast",
          "northwest",
          "northeast",
          "southeast",
          "southwest",
          "southwest",
          "southwest",
          "northeast",
          "southwest",
          "northeast",
          "northeast",
          "southeast",
          "southwest",
          "northwest",
          "northeast",
          "southeast",
          "northeast",
          "northwest",
          "northeast",
          "northwest",
          "southeast",
          "southeast",
          "southeast",
          "southwest",
          "northeast",
          "southeast",
          "southeast",
          "northwest",
          "northwest",
          "southwest",
          "southwest",
          "southwest",
          "northwest",
          "northeast",
          "northeast",
          "southeast",
          "southeast",
          "northeast",
          "southwest",
          "northwest",
          "northwest",
          "southeast",
          "northwest",
          "southeast",
          "northwest",
          "southeast",
          "northeast",
          "southwest",
          "northwest",
          "southwest",
          "southwest",
          "southwest",
          "northwest",
          "southeast",
          "southwest",
          "southwest",
          "northeast",
          "southwest",
          "northeast",
          "southeast",
          "northeast",
          "northwest",
          "southwest",
          "northwest",
          "northwest",
          "northwest",
          "northwest",
          "northeast",
          "northeast",
          "northeast",
          "southeast",
          "southwest",
          "southwest",
          "northeast",
          "southwest",
          "southwest",
          "northwest",
          "southeast",
          "northwest",
          "northeast",
          "southeast",
          "northwest",
          "southwest",
          "southeast",
          "southeast",
          "northeast",
          "northwest",
          "northeast",
          "southwest",
          "southeast",
          "northwest",
          "southeast",
          "northeast",
          "southwest",
          "southeast",
          "southeast",
          "northeast",
          "southeast",
          "northeast",
          "southeast",
          "southwest",
          "southwest",
          "northwest",
          "northwest",
          "southeast",
          "northeast",
          "northeast",
          "northwest",
          "southwest",
          "northwest",
          "northwest",
          "southeast",
          "southwest",
          "southwest",
          "northeast",
          "northeast",
          "southeast",
          "northwest",
          "northwest",
          "northwest",
          "southwest",
          "southwest",
          "southwest",
          "southeast",
          "southwest",
          "northeast",
          "southwest",
          "southeast",
          "southwest",
          "northeast",
          "southeast",
          "southwest",
          "southwest",
          "northwest",
          "northwest",
          "southeast",
          "northeast",
          "southwest",
          "northwest",
          "northeast",
          "southeast",
          "northeast",
          "northwest",
          "northeast",
          "southeast",
          "northeast",
          "southeast",
          "northeast",
          "southwest",
          "northwest",
          "northeast",
          "northwest",
          "northeast",
          "southwest",
          "northwest",
          "southwest",
          "northeast",
          "southeast",
          "southeast",
          "southwest",
          "southeast",
          "northeast",
          "southeast",
          "southeast",
          "southeast",
          "northwest",
          "southeast",
          "southwest",
          "northeast",
          "northwest",
          "southwest",
          "northeast",
          "southeast",
          "southwest",
          "northwest",
          "southeast",
          "southeast",
          "northwest",
          "northeast",
          "northwest",
          "northeast",
          "northwest",
          "southwest",
          "northwest",
          "northwest",
          "northeast",
          "southeast",
          "northeast",
          "southeast",
          "southeast",
          "northeast",
          "northeast",
          "southwest",
          "northeast",
          "northwest",
          "northeast",
          "southeast",
          "northwest",
          "southwest",
          "southwest",
          "southwest",
          "northeast",
          "northwest",
          "northeast",
          "northwest",
          "northeast",
          "northeast",
          "southeast",
          "northwest",
          "northwest",
          "southwest",
          "southeast",
          "southeast",
          "northwest",
          "northwest",
          "southwest",
          "northeast",
          "northwest",
          "southeast",
          "northeast",
          "northwest",
          "northeast",
          "northeast",
          "northeast",
          "southeast",
          "southwest",
          "northeast",
          "northeast",
          "southwest",
          "northwest",
          "northwest",
          "southeast",
          "southeast",
          "southeast",
          "northwest",
          "southeast",
          "northeast",
          "northwest",
          "southeast",
          "northeast",
          "northwest",
          "northeast",
          "southeast",
          "southeast",
          "southeast",
          "northwest",
          "northwest",
          "southwest",
          "northeast",
          "northwest",
          "southeast",
          "southwest",
          "southeast",
          "southwest",
          "southeast",
          "southwest",
          "southeast",
          "southeast",
          "southwest",
          "southwest",
          "southeast",
          "southeast",
          "northeast",
          "southeast",
          "northeast",
          "southeast",
          "southeast",
          "southeast",
          "southwest",
          "southwest",
          "southwest",
          "northeast",
          "northwest",
          "southeast",
          "southeast",
          "southeast",
          "southwest",
          "northwest",
          "southwest",
          "southwest",
          "southwest",
          "southeast",
          "southeast",
          "southeast",
          "southeast",
          "southwest",
          "northeast",
          "northwest",
          "northwest",
          "southeast",
          "northeast",
          "northwest",
          "southeast",
          "northwest",
          "northwest",
          "northwest",
          "northwest",
          "northeast",
          "northwest",
          "southwest",
          "southwest",
          "northwest",
          "southeast",
          "northeast",
          "northeast",
          "southeast",
          "southeast",
          "southeast",
          "southeast",
          "northeast",
          "northeast",
          "southeast",
          "southeast",
          "northeast",
          "northwest",
          "southwest",
          "northwest",
          "northeast",
          "southeast",
          "southeast",
          "southeast",
          "southwest",
          "southwest",
          "northeast",
          "northeast",
          "southwest",
          "southwest",
          "northwest",
          "southwest",
          "southeast",
          "northeast",
          "southwest",
          "northwest",
          "southeast",
          "southeast",
          "southeast",
          "southwest",
          "northeast",
          "southeast",
          "southwest",
          "southwest",
          "southeast",
          "southwest",
          "southeast",
          "northwest",
          "northeast",
          "southwest",
          "northeast",
          "northwest",
          "southeast",
          "northwest",
          "southwest",
          "northeast",
          "northwest",
          "southwest",
          "northwest",
          "southwest",
          "northeast",
          "southeast",
          "northeast",
          "northwest",
          "northeast",
          "southeast",
          "northwest",
          "northeast",
          "southeast",
          "southwest",
          "northwest"
         ],
         "xaxis": "x",
         "y": {
          "bdata": "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",
          "dtype": "f8"
         },
         "yaxis": "y"
        },
        {
         "hovertemplate": "sex=male<br>region=%{x}<extra></extra>",
         "legendgroup": "male",
         "marker": {
          "color": "red"
         },
         "name": "male",
         "notched": true,
         "showlegend": false,
         "type": "box",
         "x": [
          "southeast",
          "southeast",
          "northwest",
          "northwest",
          "northeast",
          "northeast",
          "southwest",
          "southeast",
          "southwest",
          "northeast",
          "southwest",
          "southwest",
          "southeast",
          "northwest",
          "northwest",
          "southwest",
          "southwest",
          "northwest",
          "southwest",
          "northwest",
          "southwest",
          "northeast",
          "southwest",
          "southeast",
          "northeast",
          "southwest",
          "southeast",
          "southwest",
          "southeast",
          "northwest",
          "southeast",
          "northeast",
          "southeast",
          "northwest",
          "northwest",
          "southeast",
          "northeast",
          "southeast",
          "southwest",
          "northwest",
          "southeast",
          "northeast",
          "southeast",
          "northwest",
          "northeast",
          "northwest",
          "southeast",
          "northeast",
          "southwest",
          "northeast",
          "northwest",
          "northwest",
          "southeast",
          "southeast",
          "northwest",
          "southwest",
          "northeast",
          "northeast",
          "southeast",
          "southwest",
          "northeast",
          "northeast",
          "southwest",
          "northwest",
          "southwest",
          "northwest",
          "northeast",
          "northeast",
          "southeast",
          "northwest",
          "northwest",
          "northwest",
          "southwest",
          "northwest",
          "southeast",
          "northwest",
          "southeast",
          "northeast",
          "southeast",
          "southwest",
          "northwest",
          "northeast",
          "northeast",
          "southeast",
          "southwest",
          "northeast",
          "northwest",
          "southwest",
          "northwest",
          "northeast",
          "southeast",
          "northeast",
          "southeast",
          "southeast",
          "southeast",
          "northwest",
          "southwest",
          "southeast",
          "northeast",
          "northeast",
          "southwest",
          "northwest",
          "northwest",
          "southeast",
          "southwest",
          "southwest",
          "southeast",
          "southeast",
          "southeast",
          "northeast",
          "southwest",
          "northwest",
          "southeast",
          "northwest",
          "southeast",
          "southwest",
          "northwest",
          "southeast",
          "southwest",
          "northeast",
          "northeast",
          "southeast",
          "southwest",
          "northeast",
          "northwest",
          "northwest",
          "northwest",
          "northeast",
          "northwest",
          "southeast",
          "southeast",
          "southwest",
          "northeast",
          "southeast",
          "southwest",
          "northwest",
          "northeast",
          "northwest",
          "northwest",
          "southeast",
          "northeast",
          "northeast",
          "southeast",
          "southeast",
          "northeast",
          "southeast",
          "southwest",
          "northeast",
          "southwest",
          "southeast",
          "northwest",
          "northeast",
          "northwest",
          "northeast",
          "southwest",
          "southeast",
          "southeast",
          "northeast",
          "northwest",
          "northeast",
          "northeast",
          "northwest",
          "southwest",
          "northeast",
          "southwest",
          "northeast",
          "northwest",
          "southwest",
          "northwest",
          "southwest",
          "southeast",
          "northwest",
          "northeast",
          "northwest",
          "northeast",
          "southeast",
          "northeast",
          "northwest",
          "northeast",
          "southwest",
          "southeast",
          "northwest",
          "southeast",
          "southwest",
          "northwest",
          "northeast",
          "southwest",
          "southeast",
          "southeast",
          "southeast",
          "northeast",
          "southeast",
          "northeast",
          "southwest",
          "northwest",
          "northeast",
          "northeast",
          "northeast",
          "northwest",
          "southeast",
          "southwest",
          "southeast",
          "northwest",
          "southwest",
          "southeast",
          "southeast",
          "northwest",
          "southwest",
          "southeast",
          "southeast",
          "southeast",
          "southeast",
          "northeast",
          "northeast",
          "southwest",
          "southeast",
          "southwest",
          "southwest",
          "northwest",
          "southeast",
          "northeast",
          "southwest",
          "northeast",
          "southeast",
          "northwest",
          "northeast",
          "southwest",
          "southwest",
          "northwest",
          "southwest",
          "northwest",
          "southeast",
          "southwest",
          "southwest",
          "southwest",
          "northeast",
          "northwest",
          "southeast",
          "southwest",
          "northwest",
          "northeast",
          "northwest",
          "southeast",
          "southeast",
          "northwest",
          "southeast",
          "southwest",
          "southwest",
          "northwest",
          "southwest",
          "southwest",
          "northeast",
          "southwest",
          "southwest",
          "northeast",
          "southeast",
          "southeast",
          "northwest",
          "northwest",
          "northwest",
          "northeast",
          "southeast",
          "northeast",
          "southwest",
          "southwest",
          "southwest",
          "southeast",
          "northwest",
          "northeast",
          "southeast",
          "northeast",
          "northeast",
          "southeast",
          "southeast",
          "southeast",
          "southeast",
          "northeast",
          "southeast",
          "northwest",
          "northwest",
          "northeast",
          "southwest",
          "southwest",
          "southwest",
          "northeast",
          "southeast",
          "northwest",
          "southwest",
          "southeast",
          "northwest",
          "northwest",
          "southeast",
          "southwest",
          "northeast",
          "northwest",
          "southeast",
          "southwest",
          "northeast",
          "northwest",
          "southeast",
          "southeast",
          "southwest",
          "northwest",
          "northeast",
          "southwest",
          "southwest",
          "southwest",
          "southwest",
          "northeast",
          "northwest",
          "northeast",
          "southeast",
          "southwest",
          "southwest",
          "southwest",
          "northeast",
          "southwest",
          "northeast",
          "northeast",
          "southeast",
          "southwest",
          "northwest",
          "northeast",
          "southeast",
          "northeast",
          "northwest",
          "northeast",
          "northwest",
          "southeast",
          "southeast",
          "southeast",
          "southwest",
          "northeast",
          "southeast",
          "southeast",
          "northwest",
          "northwest",
          "southwest",
          "southwest",
          "southwest",
          "northwest",
          "northeast",
          "northeast",
          "southeast",
          "southeast",
          "northeast",
          "southwest",
          "northwest",
          "northwest",
          "southeast",
          "northwest",
          "southeast",
          "northwest",
          "southeast",
          "northeast",
          "southwest",
          "northwest",
          "southwest",
          "southwest",
          "southwest",
          "northwest",
          "southeast",
          "southwest",
          "southwest",
          "northeast",
          "southwest",
          "northeast",
          "southeast",
          "northeast",
          "northwest",
          "southwest",
          "northwest",
          "northwest",
          "northwest",
          "northwest",
          "northeast",
          "northeast",
          "northeast",
          "southeast",
          "southwest",
          "southwest",
          "northeast",
          "southwest",
          "southwest",
          "northwest",
          "southeast",
          "northwest",
          "northeast",
          "southeast",
          "northwest",
          "southwest",
          "southeast",
          "southeast",
          "northeast",
          "northwest",
          "northeast",
          "southwest",
          "southeast",
          "northwest",
          "southeast",
          "northeast",
          "southwest",
          "southeast",
          "southeast",
          "northeast",
          "southeast",
          "northeast",
          "southeast",
          "southwest",
          "southwest",
          "northwest",
          "northwest",
          "southeast",
          "northeast",
          "northeast",
          "northwest",
          "southwest",
          "northwest",
          "northwest",
          "southeast",
          "southwest",
          "southwest",
          "northeast",
          "northeast",
          "southeast",
          "northwest",
          "northwest",
          "northwest",
          "southwest",
          "southwest",
          "southwest",
          "southeast",
          "southwest",
          "northeast",
          "southwest",
          "southeast",
          "southwest",
          "northeast",
          "southeast",
          "southwest",
          "southwest",
          "northwest",
          "northwest",
          "southeast",
          "northeast",
          "southwest",
          "northwest",
          "northeast",
          "southeast",
          "northeast",
          "northwest",
          "northeast",
          "southeast",
          "northeast",
          "southeast",
          "northeast",
          "southwest",
          "northwest",
          "northeast",
          "northwest",
          "northeast",
          "southwest",
          "northwest",
          "southwest",
          "northeast",
          "southeast",
          "southeast",
          "southwest",
          "southeast",
          "northeast",
          "southeast",
          "southeast",
          "southeast",
          "northwest",
          "southeast",
          "southwest",
          "northeast",
          "northwest",
          "southwest",
          "northeast",
          "southeast",
          "southwest",
          "northwest",
          "southeast",
          "southeast",
          "northwest",
          "northeast",
          "northwest",
          "northeast",
          "northwest",
          "southwest",
          "northwest",
          "northwest",
          "northeast",
          "southeast",
          "northeast",
          "southeast",
          "southeast",
          "northeast",
          "northeast",
          "southwest",
          "northeast",
          "northwest",
          "northeast",
          "southeast",
          "northwest",
          "southwest",
          "southwest",
          "southwest",
          "northeast",
          "northwest",
          "northeast",
          "northwest",
          "northeast",
          "northeast",
          "southeast",
          "northwest",
          "northwest",
          "southwest",
          "southeast",
          "southeast",
          "northwest",
          "northwest",
          "southwest",
          "northeast",
          "northwest",
          "southeast",
          "northeast",
          "northwest",
          "northeast",
          "northeast",
          "northeast",
          "southeast",
          "southwest",
          "northeast",
          "northeast",
          "southwest",
          "northwest",
          "northwest",
          "southeast",
          "southeast",
          "southeast",
          "northwest",
          "southeast",
          "northeast",
          "northwest",
          "southeast",
          "northeast",
          "northwest",
          "northeast",
          "southeast",
          "southeast",
          "southeast",
          "northwest",
          "northwest",
          "southwest",
          "northeast",
          "northwest",
          "southeast",
          "southwest",
          "southeast",
          "southwest",
          "southeast",
          "southwest",
          "southeast",
          "southeast",
          "southwest",
          "southwest",
          "southeast",
          "southeast",
          "northeast",
          "southeast",
          "northeast",
          "southeast",
          "southeast",
          "southeast",
          "southwest",
          "southwest",
          "southwest",
          "northeast",
          "northwest",
          "southeast",
          "southeast",
          "southeast",
          "southwest",
          "northwest",
          "southwest",
          "southwest",
          "southwest",
          "southeast",
          "southeast",
          "southeast",
          "southeast",
          "southwest",
          "northeast",
          "northwest",
          "northwest",
          "southeast",
          "northeast",
          "northwest",
          "southeast",
          "northwest",
          "northwest",
          "northwest",
          "northwest",
          "northeast",
          "northwest",
          "southwest",
          "southwest",
          "northwest",
          "southeast",
          "northeast",
          "northeast",
          "southeast",
          "southeast",
          "southeast",
          "southeast",
          "northeast",
          "northeast",
          "southeast",
          "southeast",
          "northeast",
          "northwest",
          "southwest",
          "northwest",
          "northeast",
          "southeast",
          "southeast",
          "southeast",
          "southwest",
          "southwest",
          "northeast",
          "northeast",
          "southwest",
          "southwest",
          "northwest",
          "southwest",
          "southeast",
          "northeast",
          "southwest",
          "northwest",
          "southeast",
          "southeast",
          "southeast",
          "southwest",
          "northeast",
          "southeast",
          "southwest",
          "southwest",
          "southeast",
          "southwest",
          "southeast",
          "northwest",
          "northeast",
          "southwest",
          "northeast",
          "northwest",
          "southeast",
          "northwest",
          "southwest",
          "northeast",
          "northwest",
          "southwest",
          "northwest",
          "southwest",
          "northeast",
          "southeast",
          "northeast",
          "northwest",
          "northeast",
          "southeast",
          "northwest",
          "northeast",
          "southeast",
          "southwest",
          "northwest"
         ],
         "xaxis": "x2",
         "yaxis": "y2"
        }
       ],
       "layout": {
        "bargap": 0.1,
        "barmode": "relative",
        "legend": {
         "title": {
          "text": "sex"
         },
         "tracegroupgap": 0
        },
        "template": {
         "data": {
          "bar": [
           {
            "error_x": {
             "color": "#2a3f5f"
            },
            "error_y": {
             "color": "#2a3f5f"
            },
            "marker": {
             "line": {
              "color": "#E5ECF6",
              "width": 0.5
             },
             "pattern": {
              "fillmode": "overlay",
              "size": 10,
              "solidity": 0.2
             }
            },
            "type": "bar"
           }
          ],
          "barpolar": [
           {
            "marker": {
             "line": {
              "color": "#E5ECF6",
              "width": 0.5
             },
             "pattern": {
              "fillmode": "overlay",
              "size": 10,
              "solidity": 0.2
             }
            },
            "type": "barpolar"
           }
          ],
          "carpet": [
           {
            "aaxis": {
             "endlinecolor": "#2a3f5f",
             "gridcolor": "white",
             "linecolor": "white",
             "minorgridcolor": "white",
             "startlinecolor": "#2a3f5f"
            },
            "baxis": {
             "endlinecolor": "#2a3f5f",
             "gridcolor": "white",
             "linecolor": "white",
             "minorgridcolor": "white",
             "startlinecolor": "#2a3f5f"
            },
            "type": "carpet"
           }
          ],
          "choropleth": [
           {
            "colorbar": {
             "outlinewidth": 0,
             "ticks": ""
            },
            "type": "choropleth"
           }
          ],
          "contour": [
           {
            "colorbar": {
             "outlinewidth": 0,
             "ticks": ""
            },
            "colorscale": [
             [
              0,
              "#0d0887"
             ],
             [
              0.1111111111111111,
              "#46039f"
             ],
             [
              0.2222222222222222,
              "#7201a8"
             ],
             [
              0.3333333333333333,
              "#9c179e"
             ],
             [
              0.4444444444444444,
              "#bd3786"
             ],
             [
              0.5555555555555556,
              "#d8576b"
             ],
             [
              0.6666666666666666,
              "#ed7953"
             ],
             [
              0.7777777777777778,
              "#fb9f3a"
             ],
             [
              0.8888888888888888,
              "#fdca26"
             ],
             [
              1,
              "#f0f921"
             ]
            ],
            "type": "contour"
           }
          ],
          "contourcarpet": [
           {
            "colorbar": {
             "outlinewidth": 0,
             "ticks": ""
            },
            "type": "contourcarpet"
           }
          ],
          "heatmap": [
           {
            "colorbar": {
             "outlinewidth": 0,
             "ticks": ""
            },
            "colorscale": [
             [
              0,
              "#0d0887"
             ],
             [
              0.1111111111111111,
              "#46039f"
             ],
             [
              0.2222222222222222,
              "#7201a8"
             ],
             [
              0.3333333333333333,
              "#9c179e"
             ],
             [
              0.4444444444444444,
              "#bd3786"
             ],
             [
              0.5555555555555556,
              "#d8576b"
             ],
             [
              0.6666666666666666,
              "#ed7953"
             ],
             [
              0.7777777777777778,
              "#fb9f3a"
             ],
             [
              0.8888888888888888,
              "#fdca26"
             ],
             [
              1,
              "#f0f921"
             ]
            ],
            "type": "heatmap"
           }
          ],
          "histogram": [
           {
            "marker": {
             "pattern": {
              "fillmode": "overlay",
              "size": 10,
              "solidity": 0.2
             }
            },
            "type": "histogram"
           }
          ],
          "histogram2d": [
           {
            "colorbar": {
             "outlinewidth": 0,
             "ticks": ""
            },
            "colorscale": [
             [
              0,
              "#0d0887"
             ],
             [
              0.1111111111111111,
              "#46039f"
             ],
             [
              0.2222222222222222,
              "#7201a8"
             ],
             [
              0.3333333333333333,
              "#9c179e"
             ],
             [
              0.4444444444444444,
              "#bd3786"
             ],
             [
              0.5555555555555556,
              "#d8576b"
             ],
             [
              0.6666666666666666,
              "#ed7953"
             ],
             [
              0.7777777777777778,
              "#fb9f3a"
             ],
             [
              0.8888888888888888,
              "#fdca26"
             ],
             [
              1,
              "#f0f921"
             ]
            ],
            "type": "histogram2d"
           }
          ],
          "histogram2dcontour": [
           {
            "colorbar": {
             "outlinewidth": 0,
             "ticks": ""
            },
            "colorscale": [
             [
              0,
              "#0d0887"
             ],
             [
              0.1111111111111111,
              "#46039f"
             ],
             [
              0.2222222222222222,
              "#7201a8"
             ],
             [
              0.3333333333333333,
              "#9c179e"
             ],
             [
              0.4444444444444444,
              "#bd3786"
             ],
             [
              0.5555555555555556,
              "#d8576b"
             ],
             [
              0.6666666666666666,
              "#ed7953"
             ],
             [
              0.7777777777777778,
              "#fb9f3a"
             ],
             [
              0.8888888888888888,
              "#fdca26"
             ],
             [
              1,
              "#f0f921"
             ]
            ],
            "type": "histogram2dcontour"
           }
          ],
          "mesh3d": [
           {
            "colorbar": {
             "outlinewidth": 0,
             "ticks": ""
            },
            "type": "mesh3d"
           }
          ],
          "parcoords": [
           {
            "line": {
             "colorbar": {
              "outlinewidth": 0,
              "ticks": ""
             }
            },
            "type": "parcoords"
           }
          ],
          "pie": [
           {
            "automargin": true,
            "type": "pie"
           }
          ],
          "scatter": [
           {
            "fillpattern": {
             "fillmode": "overlay",
             "size": 10,
             "solidity": 0.2
            },
            "type": "scatter"
           }
          ],
          "scatter3d": [
           {
            "line": {
             "colorbar": {
              "outlinewidth": 0,
              "ticks": ""
             }
            },
            "marker": {
             "colorbar": {
              "outlinewidth": 0,
              "ticks": ""
             }
            },
            "type": "scatter3d"
           }
          ],
          "scattercarpet": [
           {
            "marker": {
             "colorbar": {
              "outlinewidth": 0,
              "ticks": ""
             }
            },
            "type": "scattercarpet"
           }
          ],
          "scattergeo": [
           {
            "marker": {
             "colorbar": {
              "outlinewidth": 0,
              "ticks": ""
             }
            },
            "type": "scattergeo"
           }
          ],
          "scattergl": [
           {
            "marker": {
             "colorbar": {
              "outlinewidth": 0,
              "ticks": ""
             }
            },
            "type": "scattergl"
           }
          ],
          "scattermap": [
           {
            "marker": {
             "colorbar": {
              "outlinewidth": 0,
              "ticks": ""
             }
            },
            "type": "scattermap"
           }
          ],
          "scattermapbox": [
           {
            "marker": {
             "colorbar": {
              "outlinewidth": 0,
              "ticks": ""
             }
            },
            "type": "scattermapbox"
           }
          ],
          "scatterpolar": [
           {
            "marker": {
             "colorbar": {
              "outlinewidth": 0,
              "ticks": ""
             }
            },
            "type": "scatterpolar"
           }
          ],
          "scatterpolargl": [
           {
            "marker": {
             "colorbar": {
              "outlinewidth": 0,
              "ticks": ""
             }
            },
            "type": "scatterpolargl"
           }
          ],
          "scatterternary": [
           {
            "marker": {
             "colorbar": {
              "outlinewidth": 0,
              "ticks": ""
             }
            },
            "type": "scatterternary"
           }
          ],
          "surface": [
           {
            "colorbar": {
             "outlinewidth": 0,
             "ticks": ""
            },
            "colorscale": [
             [
              0,
              "#0d0887"
             ],
             [
              0.1111111111111111,
              "#46039f"
             ],
             [
              0.2222222222222222,
              "#7201a8"
             ],
             [
              0.3333333333333333,
              "#9c179e"
             ],
             [
              0.4444444444444444,
              "#bd3786"
             ],
             [
              0.5555555555555556,
              "#d8576b"
             ],
             [
              0.6666666666666666,
              "#ed7953"
             ],
             [
              0.7777777777777778,
              "#fb9f3a"
             ],
             [
              0.8888888888888888,
              "#fdca26"
             ],
             [
              1,
              "#f0f921"
             ]
            ],
            "type": "surface"
           }
          ],
          "table": [
           {
            "cells": {
             "fill": {
              "color": "#EBF0F8"
             },
             "line": {
              "color": "white"
             }
            },
            "header": {
             "fill": {
              "color": "#C8D4E3"
             },
             "line": {
              "color": "white"
             }
            },
            "type": "table"
           }
          ]
         },
         "layout": {
          "annotationdefaults": {
           "arrowcolor": "#2a3f5f",
           "arrowhead": 0,
           "arrowwidth": 1
          },
          "autotypenumbers": "strict",
          "coloraxis": {
           "colorbar": {
            "outlinewidth": 0,
            "ticks": ""
           }
          },
          "colorscale": {
           "diverging": [
            [
             0,
             "#8e0152"
            ],
            [
             0.1,
             "#c51b7d"
            ],
            [
             0.2,
             "#de77ae"
            ],
            [
             0.3,
             "#f1b6da"
            ],
            [
             0.4,
             "#fde0ef"
            ],
            [
             0.5,
             "#f7f7f7"
            ],
            [
             0.6,
             "#e6f5d0"
            ],
            [
             0.7,
             "#b8e186"
            ],
            [
             0.8,
             "#7fbc41"
            ],
            [
             0.9,
             "#4d9221"
            ],
            [
             1,
             "#276419"
            ]
           ],
           "sequential": [
            [
             0,
             "#0d0887"
            ],
            [
             0.1111111111111111,
             "#46039f"
            ],
            [
             0.2222222222222222,
             "#7201a8"
            ],
            [
             0.3333333333333333,
             "#9c179e"
            ],
            [
             0.4444444444444444,
             "#bd3786"
            ],
            [
             0.5555555555555556,
             "#d8576b"
            ],
            [
             0.6666666666666666,
             "#ed7953"
            ],
            [
             0.7777777777777778,
             "#fb9f3a"
            ],
            [
             0.8888888888888888,
             "#fdca26"
            ],
            [
             1,
             "#f0f921"
            ]
           ],
           "sequentialminus": [
            [
             0,
             "#0d0887"
            ],
            [
             0.1111111111111111,
             "#46039f"
            ],
            [
             0.2222222222222222,
             "#7201a8"
            ],
            [
             0.3333333333333333,
             "#9c179e"
            ],
            [
             0.4444444444444444,
             "#bd3786"
            ],
            [
             0.5555555555555556,
             "#d8576b"
            ],
            [
             0.6666666666666666,
             "#ed7953"
            ],
            [
             0.7777777777777778,
             "#fb9f3a"
            ],
            [
             0.8888888888888888,
             "#fdca26"
            ],
            [
             1,
             "#f0f921"
            ]
           ]
          },
          "colorway": [
           "#636efa",
           "#EF553B",
           "#00cc96",
           "#ab63fa",
           "#FFA15A",
           "#19d3f3",
           "#FF6692",
           "#B6E880",
           "#FF97FF",
           "#FECB52"
          ],
          "font": {
           "color": "#2a3f5f"
          },
          "geo": {
           "bgcolor": "white",
           "lakecolor": "white",
           "landcolor": "#E5ECF6",
           "showlakes": true,
           "showland": true,
           "subunitcolor": "white"
          },
          "hoverlabel": {
           "align": "left"
          },
          "hovermode": "closest",
          "mapbox": {
           "style": "light"
          },
          "paper_bgcolor": "white",
          "plot_bgcolor": "#E5ECF6",
          "polar": {
           "angularaxis": {
            "gridcolor": "white",
            "linecolor": "white",
            "ticks": ""
           },
           "bgcolor": "#E5ECF6",
           "radialaxis": {
            "gridcolor": "white",
            "linecolor": "white",
            "ticks": ""
           }
          },
          "scene": {
           "xaxis": {
            "backgroundcolor": "#E5ECF6",
            "gridcolor": "white",
            "gridwidth": 2,
            "linecolor": "white",
            "showbackground": true,
            "ticks": "",
            "zerolinecolor": "white"
           },
           "yaxis": {
            "backgroundcolor": "#E5ECF6",
            "gridcolor": "white",
            "gridwidth": 2,
            "linecolor": "white",
            "showbackground": true,
            "ticks": "",
            "zerolinecolor": "white"
           },
           "zaxis": {
            "backgroundcolor": "#E5ECF6",
            "gridcolor": "white",
            "gridwidth": 2,
            "linecolor": "white",
            "showbackground": true,
            "ticks": "",
            "zerolinecolor": "white"
           }
          },
          "shapedefaults": {
           "line": {
            "color": "#2a3f5f"
           }
          },
          "ternary": {
           "aaxis": {
            "gridcolor": "white",
            "linecolor": "white",
            "ticks": ""
           },
           "baxis": {
            "gridcolor": "white",
            "linecolor": "white",
            "ticks": ""
           },
           "bgcolor": "#E5ECF6",
           "caxis": {
            "gridcolor": "white",
            "linecolor": "white",
            "ticks": ""
           }
          },
          "title": {
           "x": 0.05
          },
          "xaxis": {
           "automargin": true,
           "gridcolor": "white",
           "linecolor": "white",
           "ticks": "",
           "title": {
            "standoff": 15
           },
           "zerolinecolor": "white",
           "zerolinewidth": 2
          },
          "yaxis": {
           "automargin": true,
           "gridcolor": "white",
           "linecolor": "white",
           "ticks": "",
           "title": {
            "standoff": 15
           },
           "zerolinecolor": "white",
           "zerolinewidth": 2
          }
         }
        },
        "title": {
         "text": "Annual Medical Charges"
        },
        "xaxis": {
         "anchor": "y",
         "domain": [
          0,
          1
         ],
         "title": {
          "text": "region"
         }
        },
        "xaxis2": {
         "anchor": "y2",
         "domain": [
          0,
          1
         ],
         "matches": "x",
         "showgrid": true,
         "showticklabels": false
        },
        "yaxis": {
         "anchor": "x",
         "domain": [
          0,
          0.7326
         ],
         "title": {
          "text": "sum of charges"
         }
        },
        "yaxis2": {
         "anchor": "x2",
         "domain": [
          0.7426,
          1
         ],
         "matches": "y2",
         "showgrid": false,
         "showline": false,
         "showticklabels": false,
         "ticks": ""
        }
       }
      }
     },
     "metadata": {},
     "output_type": "display_data"
    }
   ],
   "source": [
    "#I think this is going to be a more interesting way of visualizing if there is a relationship bewteeen region and cost.\n",
    "fig = px.histogram(medical_df, \n",
    "                   x='region', \n",
    "                   y='charges',                \n",
    "                   marginal='box', \n",
    "                   color='sex', \n",
    "                   color_discrete_sequence=['green', 'red'], \n",
    "                   title='Annual Medical Charges')\n",
    "fig.update_layout(bargap=0.1)\n",
    "fig.show()\n",
    "#it looks like by region, Southeast has the highest cost."
   ]
  },
  {
   "cell_type": "code",
   "execution_count": 33,
   "id": "2fde3e14",
   "metadata": {},
   "outputs": [
    {
     "data": {
      "text/plain": [
       "array([0, 1, 3, 2, 5, 4])"
      ]
     },
     "execution_count": 33,
     "metadata": {},
     "output_type": "execute_result"
    }
   ],
   "source": [
    "medical_df['children'].unique()"
   ]
  },
  {
   "cell_type": "code",
   "execution_count": 34,
   "id": "c2df6404",
   "metadata": {},
   "outputs": [
    {
     "data": {
      "application/vnd.plotly.v1+json": {
       "config": {
        "plotlyServerURL": "https://plot.ly"
       },
       "data": [
        {
         "bingroup": "x",
         "hovertemplate": "children=0<br>charges=%{x}<br>count=%{y}<extra></extra>",
         "legendgroup": "0",
         "marker": {
          "color": "green",
          "pattern": {
           "shape": ""
          }
         },
         "name": "0",
         "orientation": "v",
         "showlegend": true,
         "type": "histogram",
         "x": {
          "bdata": "YOXQIjt90EDLZ3keHnjVQBQ/xty1Na5AY+5aQj5ZrUCLGkzDyD7cQB3J5T+kQqVAldQJaC4o20AdWmQ7X4ucQInS3uBbqcVABhIUP3hX40BCz2bVV7aiQHsUrkcxtcRA5/up8a784UCsi9tobNbJQAaBlUMLxJFAofgx5uo5zEBQjZduMmDhQEvqBDRhLKFAJLn8hwzlykCPwvUovGWZQJqZmZmZ/KFAO99PjauF50C0yHa+H8ynQIYgByWSJdRANKK0N9jJq0ApyxDH8qrIQOf7qfFCRqFACmgibNJt4kBiodY037vMQGDl0CLbPJtAgy9Mphogt0DP91PjcTDQQPcGX5hULsZAumsJ+eDxl0C0WfW5CoalQKg1zTsGq7lAO3DOiEr/vkC8lpAPXkflQAwCK4eWoMVAgy9Mpqpav0CgibDhSaXFQCJseHrlq59Aw2SqYCT5w0DdJAaBKePVQPT91HhZ5s5AmG4SgyAquECGONbFLXqsQGEyVTA22NRANBE2PD1mpkBGlPYG8fnmQKrx0k3CJrJAnDOitHfJokBNSkG3/4zdQA8LtaapOsZASZ2AJqrMwEBoke18f6aaQNnO91PzoqFAZohjXcxyqkDsUbgeRa7QQKAaL91E0cJALSEf9LgHyUAs1JrmLZjKQOlILv9BgplAGlHaG2wyo0BzaJHtXNegQFTjpZvEtZNAVg4tsr32n0BYObTIdu2gQPYoXI+ibb5AQBNhwy9/00AJ+aBnsyS7QKmkTkDrudRAjZduEhdPzkAc6+I2yAriQL6fGi8t2dRA9P3UeK+m4UCY3ZOHJaSzQNCzWfWxLspASOF6FK60v0AjSnuDL3uaQLu4jQbgTqZAZmZmZg7X50DG3LWE8OvGQOcdp+hIf5lAwoanV3r7vEAibHh6zYbIQFYOLbLdE7NAVcGopE6zoEC6awn54MWRQINRSZ1AnplApHA9CrcRtkAfhetRINbCQOzAOSPCGs1AvJaQD1qloEAoDwu1GmrJQCntDb68IeJAFK5H4Rrru0DByqFFpu/GQPT91Hh5HMtAXrpJDNI5xEC28/3UeGejQCRiSiRxfthAqMZLN3GixEDhehSuc/vgQOELk6niDtNA4JwRpf0CpUC6FFeV1ajXQHE9Ctcj/5pAXwfOGRE/mUDeAgmKK/LQQA6+MJnK1NxANGjonx7n10AB3gIJWrTIQFioNc27C59ABFYOLSUR5ECJ0t7gJXLlQLpJDAL7GLVAH/RsVsl64ECuR+F6lB7HQEVHcvlsr+FAWDm0yFa2o0Cmm8Qg8MygQClcj8L1zMJAVp+rrRjYy0Coxks3CcioQET67euA2aBAbqMBvEWimkA1XrpJ7NTPQDAqqRNMVMdAJzEIrDx+wEAv3SQGgSWbQLAD54xovL9ALbKd79sC4UAj2/l+Yv3CQIqw4emhQcFACKwcWohhxEBwXwfOMf28QK5H4Xp0VOFAaCJseCaXxkDfT42XLmSmQB+F61FI3MFAQs9m1WfS10AkufyHhDrKQCS5/IcwxcZAWDm0yGb/ykC8lpAPSrfHQGTpQxfOgtJAEhQ/xgwUykC8dJMYjNDJQBTQRNjsTstA1xLyQe+OmUARx7q4TRvHQG8Sg8AKcsFALbKd72fEq0D1SlmGcDrIQLbz/dSEmstAB3x+GMMG2ED4wmSqILWcQMKGp1cKHplA46WbxEAKy0D99nXghDPKQOLplbKkfsdAlWWIYx2+lUBz1xLyfZzRQM/3U+PHneJAvsEXJvan5ECXHHdKX0vUQA4tsp1vt5NAJzEIrDQox0CdEaW9odGoQKhXyjIktKBAQj7o2bRmvUA5C3vanzLQQKvP1VasfplAdZMYBGYYwkDKw0KtVbLMQM/3U+NleKlAR3L5DxlZsEBmiGNdXFWZQLByaJHNraBAPzVeunnawUDSb18HnkXcQDcawFso5eZA3EYDeOPA5kBNFYxKyk6lQHsVGR28m7xAuXAgJL2K1kACK4cWuVG3QFyPwvUYr8hAcvkP6ZedoUCDwMqhpaKmQESLbOfrGuJA8kHPZpX1kUDdJAaBFbG8QIqO5PJ/3chAbxKDwAJfxkBt5/up8Ra3QPp+arx0xp5ArIvbaCCmm0C7uI0GQEnVQGKh1jRjIMdA+n5qvLS0xEBeukkMAqDVQJYhjnW1zsVA7FG4HiWAmUDgvg6cE4KjQDy9UpbxNqFAj8L1KNxBm0AA4xk0smPUQJPjTulwKeFAmpmZmcnMo0CHFtnON/mXQB3J5T8kgZxAL90kBsFYmUBd/kP6BfuwQDm0yHa+l5NAYMjqVqTe50BqvHSTGFObQNwuNNdF8NdA7zhFR/IooUDByqFFBo/IQHo2qz4XvJ5ASOF6FG5PykB9PzVetqzhQAmKH2NetbpAEoPAyhXJ30B5WKg1bcinQHE9CtejX8ZA7Z48LNSEo0ArGJXUqUjCQARWDi0yoZNAPQrXo2AxxkD6fmq8hCOuQK1RD9EkDtlAdQKaCFs0r0AYJlMFJ0XDQHEbDeCdFbVA78nDQlFtxkDcaABvAbCaQABvgQS9bctAFk1nJ63D0kBApN++jgPLQIleRrGCtNpAMQisHJofy0AMB0KyTSPvQKMjufy/+8NAUdobfLGJqUD0bFZ9PhupQPYoXI/mZOZAO99PjUcnykA5RUdy2QmvQHe+nxqPTslACrq9pLl10UAaUdobXL6uQF3cRgO4uZlAUPwYc/dVxUAGgZVDC3yjQOLplbLcoKBA3SQGgZVirUAAkX77ct/HQFR0JJf/A5pAxyk6kvsMqUCDUUmdQJ6ZQCUGgZVDa5NADwu1ptGhykBqvHSTOCHHQHZPHhYqTbZAxY8xdy2EmUDarPpcEevBQK5H4XpEn8VAorQ3+D4P0UAtsp3vxyHCQLByaJE9zatA5fIf0rET2UAxmSoYZT+hQOF6FK5HYJ1AtFn1uQ7FxkCVZYhj+9DgQFCNl27S7MRALNSa5jrn4EBrmneczrDHQOeMKO3tMK1A5dAi2/kyxkAnMQis7vzkQPYoXI9C555AQxzr4lZNqkBNhA1PdyXMQPjCZKpUrdNA+aBns+6ryUDFILBy6MCaQNJvXwd6R8hAnDOitE8swEAX2c73Q+rHQBdIUPyYwZFAUkmdgHpn2kAPC7WmxlHmQBTQRNgwz65AYOXQIrsvsUCP5PIfUim4QHsUrkfJNrxA16NwPQppk0AgQfFjvEPDQG+BBMW/PrVAvJaQDzpwoECfq63Y72GiQDsBTYR9AqlAf2q8dB9wxUBTliGONZKfQF5LyAfZosJA+Q/ptyeQwkCjkjoBDa7lQCegibABXbVAGw3gLdABn0Av3SQGATOjQDVeukl8ucdAat5xis7jx0AZ4lgX10nDQPyp8dKtWclA0SLb+f68k0C2hHzQM1OhQGuad5xgvONAy6FFtp/R0UCsrdhfzR7lQFInoImwW61At9EA3po9wUAFo5I6IW2ZQGIQWDkE7adAO99Pjc8U00ArhxbZbsmdQCV1AppEwctA1QloIuQcx0Bbsb/sWobWQA1xrIt5uuFAjSjtDZ79p0BxPQrXTyHHQBfZzveD98tASwLU1Jr+yEBPr5RlIFXRQDhnRGlnGL1AnDOitOdGw0D5D+m3L+uRQNxoAG+V4shAMEymCkb1nUAAkX77+kjKQJqZmZk5HrZA46WbxKCRk0DT3uAL01elQAisHFr0stRAaJHtfK/h0UBeukkMEiTHQFfsL7shfNFATfOOU+z0y0BEaW/wFfHiQET67euAX5xA4L4OnNszvkDLoUW2w7GgQJ2AJsIGrpFAnDOitLdXnUDdJAaBhTWmQALZ693s6+pAMEymCubxpEC4QILih1eZQE8eFmrNdchA46WbxOAoykBrK/aXXZK0QJm7lpD378ZA+FPjpTsysUCMSuoE3MTGQNEi2/kWp8hAaJHtfD/Zl0CHFtnO9xHIQCEf9Gx649pA097gCwesw0BqvHSTHvrlQJhuEoNAPKdAc2iR7dC0xEDlYaHWxDLiQDXvOEX1j+RATDeJQWBNnUBkXdxGxQHkQNXnaiv+5M5AAiuHFrlqxUDmriXkC1K1QOkmMQg8J8FAzF1LyMfVkUBjf9k9zaTJQBBYObTohMBAeHqlLONOt0CSXP5DOgSlQK+UZYizM6RAi2zn+5uU2kCjkjoBLZi0QNnO91NjSppARPrt676k3EDwhclUdVvEQOAtkKCAecpAL90kBvGDyUAbnl4pS4qZQIBIv32tiqBAFvvL7m34wECgibDhMcTnQLbz/dTIvb9ArBxaZEuyyEAlBoGVExbRQEVHcvmVeOBAMLsnD6tSo0CaCBuelEPVQPZdEfyrH+FAz/dT4/V4yUAOLbKdj0XKQPYoXI9CS8pAkDF3LWngsEDD9Shcb2q4QHRGlPZmT8pACKwcWiS0vECLbOf76eTHQAtGJXXSh8JA5j+k336HkUDWxW008FKhQL8OnDPicZlA6Gor9m9byUD7XG3Fxta4QG3F/rJvh8ZAIbByaJEyqkA3GsBbYICzQL7BFyajv6NAMQisHFp9m0BO0ZFcPiWiQPW52ophhc9AAiuHFil8vkB+jLlrCRmzQCuHFtlWlLFAUrgehdOmsUCjAbwF8nXMQBfZzvf7H8tAOUVHctGTtED+1HjpGtXgQM3MzMzM055A2Nglqgu81ECDwMqhhSbAQKjGSzeJB7VARpT2Bn+ux0BEi2znSy/BQJHtfD+1kJ9A5nlwd9gW1UDwp8ZLNz3DQFYOLbL5sOVAn82qz4UpsEBVMCqp79nKQL3jFB0JS8lAPZtVn6uVoUAQWDm0tsLTQC0hH/TMoppAvsEXJnpY4EDFILBy6LKoQKvP1VYMnbxA+FPjpfNl40A4Z0RpRx3MQJ5eKcvwMqpAqFfKMkCxxEDn+6nxwirAQCYBampTgtFAB1+YTPVho0Ar9pfdU/aeQIj029dpfbZA2V92TzpLy0AaUdobHNadQA3gLZAkyslAgSbChodsoEA/xty1BO7gQLbz/dQsFsVASS7/IZ0sxkBg5dAii6jEQPcGX5iCWeRALSEf9EQLxkDHSzeJcY7gQAu1pnmHKppAEyf3O2SB1kAdyeU/pDHGQOLplbIm8dNAejarPncxxEAfhetRFI7BQF8HzhkxuKJA+n5qvMiu4EC3Yn/ZTdfLQCGwcmhR88NADAIrh5YDm0CzJEBNQTnUQFkXt9GEg8NAkq6ZfFU200AeFmpNk9CoQN0kBoG18KxAKzBkdVcE4kDbbReaf3vaQLTlXIrarelA7uvAOSOroUBg5dAiu1u3QPs6cM54N6FAZ9Xnauvlx0CJ0t7gV2XjQLN78rBwN6NA30+Nl64rr0DD0ytlqTGhQOxRuB79a7RAvjCZKkBzxUBX7C+7z6rFQLbz/dS41KBAmEwVjPqmpkDgvg6cl+XSQEjhehReRaZARIts5/uRpEAwTKYKZgrLQFZ9rrZWo8lArkfhepjvwECOdXEbFSawQFRSJ6BxQ+BAZmZmZtZDtkDx9EpZpg6gQHrHKTrSmZpAT0ATYQctyUAdOGdEqSe1QDeJQWBVfcBAlYJuL2uD2UBb07zjHLHEQLU3+MIgUcdAHvmDgdWx00BQjZduwijGQF1txf4iF6VA2qz6XO04zEDnHafoLODHQJ88LNQ6x6hAZF3cRsO/kUAsZRni2IeZQC7/If0aNtJA9ihcj0Jmk0Db+X5qbLTPQJvmHacoP7FA2c73UwNKuUD8GHPX4urDQBpR2hs8wLFARPrt66BL2kCPwvUoPOjEQCgPC7XBueBAnMQgsPJhnUAep+hInpunQLdif9nVpNBA16NwPapnxUA3iUFg5WulQHh6pSwLBbFAMnctIdctwEDkg57NuuXLQLraiv1Vq8BAdnEbDUAprUBzaJHtlAHhQJAxdy1hrZdA6SYxCJBNx0AX2c73s7OaQI9wWvAbkO5AeHqlLLd44kCIhVrTPEGjQNEi2/mmec9AiUFg5ZSN4ECdEaW9aduxQJHtfD+1DptAcF8HztktkkB88rBQVXHbQB3J5T+sWslAGeJYF6uryUBos+pzBYq7QMjvbfr3FcVA1edqK/Y7oUDdJAaBVXeZQOF6FK7HX59AMLsnD1d13EA=",
          "dtype": "f8"
         },
         "xaxis": "x",
         "yaxis": "y"
        },
        {
         "hovertemplate": "children=0<br>charges=%{x}<extra></extra>",
         "legendgroup": "0",
         "marker": {
          "color": "green"
         },
         "name": "0",
         "notched": true,
         "showlegend": false,
         "type": "box",
         "x": {
          "bdata": "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",
          "dtype": "f8"
         },
         "xaxis": "x2",
         "yaxis": "y2"
        },
        {
         "bingroup": "x",
         "hovertemplate": "children=1<br>charges=%{x}<br>count=%{y}<extra></extra>",
         "legendgroup": "1",
         "marker": {
          "color": "red",
          "pattern": {
           "shape": ""
          }
         },
         "name": "1",
         "orientation": "v",
         "showlegend": true,
         "type": "histogram",
         "x": {
          "bdata": "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",
          "dtype": "f8"
         },
         "xaxis": "x",
         "yaxis": "y"
        },
        {
         "hovertemplate": "children=1<br>charges=%{x}<extra></extra>",
         "legendgroup": "1",
         "marker": {
          "color": "red"
         },
         "name": "1",
         "notched": true,
         "showlegend": false,
         "type": "box",
         "x": {
          "bdata": "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",
          "dtype": "f8"
         },
         "xaxis": "x2",
         "yaxis": "y2"
        },
        {
         "bingroup": "x",
         "hovertemplate": "children=3<br>charges=%{x}<br>count=%{y}<extra></extra>",
         "legendgroup": "3",
         "marker": {
          "color": "blue",
          "pattern": {
           "shape": ""
          }
         },
         "name": "3",
         "orientation": "v",
         "showlegend": true,
         "type": "histogram",
         "x": {
          "bdata": "wcqhRXZhsUDcaABvgXG8QBrAWyCRWMtAV1uxvxh+zkC3Yn/ZrXu/QBNhw9Mbz8BABaOSOsk/0UBzaJHt3O7GQIqO5PI7et1AXI/C9aikx0DYgXNGjDfeQDxO0ZEocMZASS7/IYHBw0D27o/3rq7aQB4Wak1/QtRA4lgXt0EStEAPnDOiEeLjQIqO5PJXvrhAfERMiVhJ00Ay5q4lzPC3QISezarn27JARPrt6yStwEAfhetR2EqvQOQUHckqXeVAsp3vp6bNtEAbL90khoW0QJjdk4eVacdA4umVsqRYy0CiRbbz3Ry8QDm0yHa+pLBAat5xiqp7yUBTliGOdUnYQCJUqdm/+9NAi2zn++OI5kC4rwPnUH/MQCgPC7WltOdALVvrizRi2UAv3SQGQYSuQNqs+lxL6+JASOF6FL5aukAPnDOiWErYQPRsVn2QkeRAbHh6pUwouEDjx5i7DnjBQGWqYFQqysJAuB6F6yE7ykDb+X5qvDOrQIEmwob7JtVAHhZqTe0R0EDzjlN0FAqyQPLSTWIApcBAFK5H4boOxEAg0m9fh/y5QGFUUicwXdJA8IXJVOkvy0BqvHST2Ca3QFK4HoWrAr5ATKYKRr1GxEC6SQwCk8nYQI/C9SiYYc5Ay6FFtoOtwkCL/WX3rF3IQEa28/3cjLpA46WbxGBUt0CcxCCwcjS4QPfkYaHtheNANqs+V2sqrkAfhetRkGrPQD81XroJYbpAZRniWJdcukCJ78SsbgLgQLwFEhSfcrFA3GgAb5HOw0AgQfFjJB7AQISezaqfI7lAduCcEZXlskCvJeSD5mLIQCuHFtlQhuZAdZMYBMYlyEDImLuWOAzEQL7BFyY74bdAke18P0UAxkC0yHa+jfzjQNDVVux/6NJAZDvfT+2KsEDb+X5qnFvLQMBbIEGjq+FAPQrXo9Axv0BNFYxKujS1QL/xtWdSSdtAuY0G8D6gxEAFo5I6YS63QPyp8dLN1NFAsHJokS0OuUBKe4MvlFm0QClcj8J1Y8JATtGRXP7YuEDVeOkmMRusQF5LyAetVeNAfh04Z7qK10A730+NF++7QP7UeOmmJ7FA5dAi25FdwUDjpZvEIOaqQJqZmZnjleZANs07Tkk1skBqTfOO6+6yQLbz/dQIoc1AnYAmwloXzEBkO99PXXfTQH3Qs1lJjsJAescpOlLnxEAMk6mCVfTCQNv5fmr8v9JA6Ugu/wVtwEAPC7WmHwnQQG3n+6l5Mr9Ag8DKoYX6vEC7uI0GwJe5QNUJaCLOVNhABaOSOqVnyEDmP6TfcmHhQL6fGi89n8dA8KfGS1+32EAW+8vuMZS5QH4dOGfEnM1AKVyPwvUOrEDP91PjtfrFQMHKoUWuzsBAn82qz6d75EC0yHa+O53XQDojSnsrwLRA7nw/NW49tkB4CyQorsjmQKUsQxzLpsVACKwcWoQSv0CLbOf7jQzGQEku/yGp/eNAYqHWNDc8vEAAAAAAK0viQODzwwitZdJA/fZ14NzL0UDQs1n1KXG9QMO7XMSsTu1AQKTfvtpfyEC1pnnHgUm7QK36XG1FyLBAGy/dJObGwUDF/rJ7XlbGQOwvuyflW91AZmZmZqbTwECsrdhf8irCQGIQWDnFz+ZA0m9fB3hT0kBd/kP6BTG1QOF6FK7XScZAM8SxLka0xEA=",
          "dtype": "f8"
         },
         "xaxis": "x",
         "yaxis": "y"
        },
        {
         "hovertemplate": "children=3<br>charges=%{x}<extra></extra>",
         "legendgroup": "3",
         "marker": {
          "color": "blue"
         },
         "name": "3",
         "notched": true,
         "showlegend": false,
         "type": "box",
         "x": {
          "bdata": "wcqhRXZhsUDcaABvgXG8QBrAWyCRWMtAV1uxvxh+zkC3Yn/ZrXu/QBNhw9Mbz8BABaOSOsk/0UBzaJHt3O7GQIqO5PI7et1AXI/C9aikx0DYgXNGjDfeQDxO0ZEocMZASS7/IYHBw0D27o/3rq7aQB4Wak1/QtRA4lgXt0EStEAPnDOiEeLjQIqO5PJXvrhAfERMiVhJ00Ay5q4lzPC3QISezarn27JARPrt6yStwEAfhetR2EqvQOQUHckqXeVAsp3vp6bNtEAbL90khoW0QJjdk4eVacdA4umVsqRYy0CiRbbz3Ry8QDm0yHa+pLBAat5xiqp7yUBTliGOdUnYQCJUqdm/+9NAi2zn++OI5kC4rwPnUH/MQCgPC7WltOdALVvrizRi2UAv3SQGQYSuQNqs+lxL6+JASOF6FL5aukAPnDOiWErYQPRsVn2QkeRAbHh6pUwouEDjx5i7DnjBQGWqYFQqysJAuB6F6yE7ykDb+X5qvDOrQIEmwob7JtVAHhZqTe0R0EDzjlN0FAqyQPLSTWIApcBAFK5H4boOxEAg0m9fh/y5QGFUUicwXdJA8IXJVOkvy0BqvHST2Ca3QFK4HoWrAr5ATKYKRr1GxEC6SQwCk8nYQI/C9SiYYc5Ay6FFtoOtwkCL/WX3rF3IQEa28/3cjLpA46WbxGBUt0CcxCCwcjS4QPfkYaHtheNANqs+V2sqrkAfhetRkGrPQD81XroJYbpAZRniWJdcukCJ78SsbgLgQLwFEhSfcrFA3GgAb5HOw0AgQfFjJB7AQISezaqfI7lAduCcEZXlskCvJeSD5mLIQCuHFtlQhuZAdZMYBMYlyEDImLuWOAzEQL7BFyY74bdAke18P0UAxkC0yHa+jfzjQNDVVux/6NJAZDvfT+2KsEDb+X5qnFvLQMBbIEGjq+FAPQrXo9Axv0BNFYxKujS1QL/xtWdSSdtAuY0G8D6gxEAFo5I6YS63QPyp8dLN1NFAsHJokS0OuUBKe4MvlFm0QClcj8J1Y8JATtGRXP7YuEDVeOkmMRusQF5LyAetVeNAfh04Z7qK10A730+NF++7QP7UeOmmJ7FA5dAi25FdwUDjpZvEIOaqQJqZmZnjleZANs07Tkk1skBqTfOO6+6yQLbz/dQIoc1AnYAmwloXzEBkO99PXXfTQH3Qs1lJjsJAescpOlLnxEAMk6mCVfTCQNv5fmr8v9JA6Ugu/wVtwEAPC7WmHwnQQG3n+6l5Mr9Ag8DKoYX6vEC7uI0GwJe5QNUJaCLOVNhABaOSOqVnyEDmP6TfcmHhQL6fGi89n8dA8KfGS1+32EAW+8vuMZS5QH4dOGfEnM1AKVyPwvUOrEDP91PjtfrFQMHKoUWuzsBAn82qz6d75EC0yHa+O53XQDojSnsrwLRA7nw/NW49tkB4CyQorsjmQKUsQxzLpsVACKwcWoQSv0CLbOf7jQzGQEku/yGp/eNAYqHWNDc8vEAAAAAAK0viQODzwwitZdJA/fZ14NzL0UDQs1n1KXG9QMO7XMSsTu1AQKTfvtpfyEC1pnnHgUm7QK36XG1FyLBAGy/dJObGwUDF/rJ7XlbGQOwvuyflW91AZmZmZqbTwECsrdhf8irCQGIQWDnFz+ZA0m9fB3hT0kBd/kP6BTG1QOF6FK7XScZAM8SxLka0xEA=",
          "dtype": "f8"
         },
         "xaxis": "x2",
         "yaxis": "y2"
        },
        {
         "bingroup": "x",
         "hovertemplate": "children=2<br>charges=%{x}<br>count=%{y}<extra></extra>",
         "legendgroup": "2",
         "marker": {
          "color": "yellow",
          "pattern": {
           "shape": ""
          }
         },
         "name": "2",
         "orientation": "v",
         "showlegend": true,
         "type": "histogram",
         "x": {
          "bdata": "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",
          "dtype": "f8"
         },
         "xaxis": "x",
         "yaxis": "y"
        },
        {
         "hovertemplate": "children=2<br>charges=%{x}<extra></extra>",
         "legendgroup": "2",
         "marker": {
          "color": "yellow"
         },
         "name": "2",
         "notched": true,
         "showlegend": false,
         "type": "box",
         "x": {
          "bdata": "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",
          "dtype": "f8"
         },
         "xaxis": "x2",
         "yaxis": "y2"
        },
        {
         "bingroup": "x",
         "hovertemplate": "children=5<br>charges=%{x}<br>count=%{y}<extra></extra>",
         "legendgroup": "5",
         "marker": {
          "color": "gray",
          "pattern": {
           "shape": ""
          }
         },
         "name": "5",
         "orientation": "v",
         "showlegend": true,
         "type": "histogram",
         "x": {
          "bdata": "6SYxCMxPskCR7Xw/dY+6QHsUrkeh3rJAarx0kxjYs0DOqs/Vbh7DQNv5fmpEmMhAy6FFtnOQxkDufD81Pgq6QKCJsOHJ/blAj8L1KHy4w0Dl0CLb5YLBQNCzWfVpysBAqmBUUg8zs0A9Ctej0JPSQK+UZYgzA8JAyjLEsSbDwEA5tMh2Xu+1QGPuWkIqR8xA",
          "dtype": "f8"
         },
         "xaxis": "x",
         "yaxis": "y"
        },
        {
         "hovertemplate": "children=5<br>charges=%{x}<extra></extra>",
         "legendgroup": "5",
         "marker": {
          "color": "gray"
         },
         "name": "5",
         "notched": true,
         "showlegend": false,
         "type": "box",
         "x": {
          "bdata": "6SYxCMxPskCR7Xw/dY+6QHsUrkeh3rJAarx0kxjYs0DOqs/Vbh7DQNv5fmpEmMhAy6FFtnOQxkDufD81Pgq6QKCJsOHJ/blAj8L1KHy4w0Dl0CLb5YLBQNCzWfVpysBAqmBUUg8zs0A9Ctej0JPSQK+UZYgzA8JAyjLEsSbDwEA5tMh2Xu+1QGPuWkIqR8xA",
          "dtype": "f8"
         },
         "xaxis": "x2",
         "yaxis": "y2"
        },
        {
         "bingroup": "x",
         "hovertemplate": "children=4<br>charges=%{x}<br>count=%{y}<extra></extra>",
         "legendgroup": "4",
         "marker": {
          "color": "purple",
          "pattern": {
           "shape": ""
          }
         },
         "name": "4",
         "orientation": "v",
         "showlegend": true,
         "type": "histogram",
         "x": {
          "bdata": "3+ALk6mYsUDi6ZWy1IzFQC7/If2KU8RAw/UoXLfiv0BBguLHDIDGQIidKXTqF9hAldQJaJpwxUB/arx0b/jEQAisHFpEWL1AWDm0yIaF0UBaZDvfx57jQOauJeSTSslAdEaU9jIdzEBfDOVEG7rQQL7BFyb7DbNAB/AWSNBLvECIaHQHidzhQKJFtvPdTLZARIts56sRxkBMN4lBMNGxQE7RkVyWg8VANV66SSyrt0AS2nIuaerOQFXBqKQe+NRAkZvhBi4K00A=",
          "dtype": "f8"
         },
         "xaxis": "x",
         "yaxis": "y"
        },
        {
         "hovertemplate": "children=4<br>charges=%{x}<extra></extra>",
         "legendgroup": "4",
         "marker": {
          "color": "purple"
         },
         "name": "4",
         "notched": true,
         "showlegend": false,
         "type": "box",
         "x": {
          "bdata": "3+ALk6mYsUDi6ZWy1IzFQC7/If2KU8RAw/UoXLfiv0BBguLHDIDGQIidKXTqF9hAldQJaJpwxUB/arx0b/jEQAisHFpEWL1AWDm0yIaF0UBaZDvfx57jQOauJeSTSslAdEaU9jIdzEBfDOVEG7rQQL7BFyb7DbNAB/AWSNBLvECIaHQHidzhQKJFtvPdTLZARIts56sRxkBMN4lBMNGxQE7RkVyWg8VANV66SSyrt0AS2nIuaerOQFXBqKQe+NRAkZvhBi4K00A=",
          "dtype": "f8"
         },
         "xaxis": "x2",
         "yaxis": "y2"
        }
       ],
       "layout": {
        "bargap": 0.1,
        "barmode": "relative",
        "legend": {
         "title": {
          "text": "children"
         },
         "tracegroupgap": 0
        },
        "template": {
         "data": {
          "bar": [
           {
            "error_x": {
             "color": "#2a3f5f"
            },
            "error_y": {
             "color": "#2a3f5f"
            },
            "marker": {
             "line": {
              "color": "#E5ECF6",
              "width": 0.5
             },
             "pattern": {
              "fillmode": "overlay",
              "size": 10,
              "solidity": 0.2
             }
            },
            "type": "bar"
           }
          ],
          "barpolar": [
           {
            "marker": {
             "line": {
              "color": "#E5ECF6",
              "width": 0.5
             },
             "pattern": {
              "fillmode": "overlay",
              "size": 10,
              "solidity": 0.2
             }
            },
            "type": "barpolar"
           }
          ],
          "carpet": [
           {
            "aaxis": {
             "endlinecolor": "#2a3f5f",
             "gridcolor": "white",
             "linecolor": "white",
             "minorgridcolor": "white",
             "startlinecolor": "#2a3f5f"
            },
            "baxis": {
             "endlinecolor": "#2a3f5f",
             "gridcolor": "white",
             "linecolor": "white",
             "minorgridcolor": "white",
             "startlinecolor": "#2a3f5f"
            },
            "type": "carpet"
           }
          ],
          "choropleth": [
           {
            "colorbar": {
             "outlinewidth": 0,
             "ticks": ""
            },
            "type": "choropleth"
           }
          ],
          "contour": [
           {
            "colorbar": {
             "outlinewidth": 0,
             "ticks": ""
            },
            "colorscale": [
             [
              0,
              "#0d0887"
             ],
             [
              0.1111111111111111,
              "#46039f"
             ],
             [
              0.2222222222222222,
              "#7201a8"
             ],
             [
              0.3333333333333333,
              "#9c179e"
             ],
             [
              0.4444444444444444,
              "#bd3786"
             ],
             [
              0.5555555555555556,
              "#d8576b"
             ],
             [
              0.6666666666666666,
              "#ed7953"
             ],
             [
              0.7777777777777778,
              "#fb9f3a"
             ],
             [
              0.8888888888888888,
              "#fdca26"
             ],
             [
              1,
              "#f0f921"
             ]
            ],
            "type": "contour"
           }
          ],
          "contourcarpet": [
           {
            "colorbar": {
             "outlinewidth": 0,
             "ticks": ""
            },
            "type": "contourcarpet"
           }
          ],
          "heatmap": [
           {
            "colorbar": {
             "outlinewidth": 0,
             "ticks": ""
            },
            "colorscale": [
             [
              0,
              "#0d0887"
             ],
             [
              0.1111111111111111,
              "#46039f"
             ],
             [
              0.2222222222222222,
              "#7201a8"
             ],
             [
              0.3333333333333333,
              "#9c179e"
             ],
             [
              0.4444444444444444,
              "#bd3786"
             ],
             [
              0.5555555555555556,
              "#d8576b"
             ],
             [
              0.6666666666666666,
              "#ed7953"
             ],
             [
              0.7777777777777778,
              "#fb9f3a"
             ],
             [
              0.8888888888888888,
              "#fdca26"
             ],
             [
              1,
              "#f0f921"
             ]
            ],
            "type": "heatmap"
           }
          ],
          "histogram": [
           {
            "marker": {
             "pattern": {
              "fillmode": "overlay",
              "size": 10,
              "solidity": 0.2
             }
            },
            "type": "histogram"
           }
          ],
          "histogram2d": [
           {
            "colorbar": {
             "outlinewidth": 0,
             "ticks": ""
            },
            "colorscale": [
             [
              0,
              "#0d0887"
             ],
             [
              0.1111111111111111,
              "#46039f"
             ],
             [
              0.2222222222222222,
              "#7201a8"
             ],
             [
              0.3333333333333333,
              "#9c179e"
             ],
             [
              0.4444444444444444,
              "#bd3786"
             ],
             [
              0.5555555555555556,
              "#d8576b"
             ],
             [
              0.6666666666666666,
              "#ed7953"
             ],
             [
              0.7777777777777778,
              "#fb9f3a"
             ],
             [
              0.8888888888888888,
              "#fdca26"
             ],
             [
              1,
              "#f0f921"
             ]
            ],
            "type": "histogram2d"
           }
          ],
          "histogram2dcontour": [
           {
            "colorbar": {
             "outlinewidth": 0,
             "ticks": ""
            },
            "colorscale": [
             [
              0,
              "#0d0887"
             ],
             [
              0.1111111111111111,
              "#46039f"
             ],
             [
              0.2222222222222222,
              "#7201a8"
             ],
             [
              0.3333333333333333,
              "#9c179e"
             ],
             [
              0.4444444444444444,
              "#bd3786"
             ],
             [
              0.5555555555555556,
              "#d8576b"
             ],
             [
              0.6666666666666666,
              "#ed7953"
             ],
             [
              0.7777777777777778,
              "#fb9f3a"
             ],
             [
              0.8888888888888888,
              "#fdca26"
             ],
             [
              1,
              "#f0f921"
             ]
            ],
            "type": "histogram2dcontour"
           }
          ],
          "mesh3d": [
           {
            "colorbar": {
             "outlinewidth": 0,
             "ticks": ""
            },
            "type": "mesh3d"
           }
          ],
          "parcoords": [
           {
            "line": {
             "colorbar": {
              "outlinewidth": 0,
              "ticks": ""
             }
            },
            "type": "parcoords"
           }
          ],
          "pie": [
           {
            "automargin": true,
            "type": "pie"
           }
          ],
          "scatter": [
           {
            "fillpattern": {
             "fillmode": "overlay",
             "size": 10,
             "solidity": 0.2
            },
            "type": "scatter"
           }
          ],
          "scatter3d": [
           {
            "line": {
             "colorbar": {
              "outlinewidth": 0,
              "ticks": ""
             }
            },
            "marker": {
             "colorbar": {
              "outlinewidth": 0,
              "ticks": ""
             }
            },
            "type": "scatter3d"
           }
          ],
          "scattercarpet": [
           {
            "marker": {
             "colorbar": {
              "outlinewidth": 0,
              "ticks": ""
             }
            },
            "type": "scattercarpet"
           }
          ],
          "scattergeo": [
           {
            "marker": {
             "colorbar": {
              "outlinewidth": 0,
              "ticks": ""
             }
            },
            "type": "scattergeo"
           }
          ],
          "scattergl": [
           {
            "marker": {
             "colorbar": {
              "outlinewidth": 0,
              "ticks": ""
             }
            },
            "type": "scattergl"
           }
          ],
          "scattermap": [
           {
            "marker": {
             "colorbar": {
              "outlinewidth": 0,
              "ticks": ""
             }
            },
            "type": "scattermap"
           }
          ],
          "scattermapbox": [
           {
            "marker": {
             "colorbar": {
              "outlinewidth": 0,
              "ticks": ""
             }
            },
            "type": "scattermapbox"
           }
          ],
          "scatterpolar": [
           {
            "marker": {
             "colorbar": {
              "outlinewidth": 0,
              "ticks": ""
             }
            },
            "type": "scatterpolar"
           }
          ],
          "scatterpolargl": [
           {
            "marker": {
             "colorbar": {
              "outlinewidth": 0,
              "ticks": ""
             }
            },
            "type": "scatterpolargl"
           }
          ],
          "scatterternary": [
           {
            "marker": {
             "colorbar": {
              "outlinewidth": 0,
              "ticks": ""
             }
            },
            "type": "scatterternary"
           }
          ],
          "surface": [
           {
            "colorbar": {
             "outlinewidth": 0,
             "ticks": ""
            },
            "colorscale": [
             [
              0,
              "#0d0887"
             ],
             [
              0.1111111111111111,
              "#46039f"
             ],
             [
              0.2222222222222222,
              "#7201a8"
             ],
             [
              0.3333333333333333,
              "#9c179e"
             ],
             [
              0.4444444444444444,
              "#bd3786"
             ],
             [
              0.5555555555555556,
              "#d8576b"
             ],
             [
              0.6666666666666666,
              "#ed7953"
             ],
             [
              0.7777777777777778,
              "#fb9f3a"
             ],
             [
              0.8888888888888888,
              "#fdca26"
             ],
             [
              1,
              "#f0f921"
             ]
            ],
            "type": "surface"
           }
          ],
          "table": [
           {
            "cells": {
             "fill": {
              "color": "#EBF0F8"
             },
             "line": {
              "color": "white"
             }
            },
            "header": {
             "fill": {
              "color": "#C8D4E3"
             },
             "line": {
              "color": "white"
             }
            },
            "type": "table"
           }
          ]
         },
         "layout": {
          "annotationdefaults": {
           "arrowcolor": "#2a3f5f",
           "arrowhead": 0,
           "arrowwidth": 1
          },
          "autotypenumbers": "strict",
          "coloraxis": {
           "colorbar": {
            "outlinewidth": 0,
            "ticks": ""
           }
          },
          "colorscale": {
           "diverging": [
            [
             0,
             "#8e0152"
            ],
            [
             0.1,
             "#c51b7d"
            ],
            [
             0.2,
             "#de77ae"
            ],
            [
             0.3,
             "#f1b6da"
            ],
            [
             0.4,
             "#fde0ef"
            ],
            [
             0.5,
             "#f7f7f7"
            ],
            [
             0.6,
             "#e6f5d0"
            ],
            [
             0.7,
             "#b8e186"
            ],
            [
             0.8,
             "#7fbc41"
            ],
            [
             0.9,
             "#4d9221"
            ],
            [
             1,
             "#276419"
            ]
           ],
           "sequential": [
            [
             0,
             "#0d0887"
            ],
            [
             0.1111111111111111,
             "#46039f"
            ],
            [
             0.2222222222222222,
             "#7201a8"
            ],
            [
             0.3333333333333333,
             "#9c179e"
            ],
            [
             0.4444444444444444,
             "#bd3786"
            ],
            [
             0.5555555555555556,
             "#d8576b"
            ],
            [
             0.6666666666666666,
             "#ed7953"
            ],
            [
             0.7777777777777778,
             "#fb9f3a"
            ],
            [
             0.8888888888888888,
             "#fdca26"
            ],
            [
             1,
             "#f0f921"
            ]
           ],
           "sequentialminus": [
            [
             0,
             "#0d0887"
            ],
            [
             0.1111111111111111,
             "#46039f"
            ],
            [
             0.2222222222222222,
             "#7201a8"
            ],
            [
             0.3333333333333333,
             "#9c179e"
            ],
            [
             0.4444444444444444,
             "#bd3786"
            ],
            [
             0.5555555555555556,
             "#d8576b"
            ],
            [
             0.6666666666666666,
             "#ed7953"
            ],
            [
             0.7777777777777778,
             "#fb9f3a"
            ],
            [
             0.8888888888888888,
             "#fdca26"
            ],
            [
             1,
             "#f0f921"
            ]
           ]
          },
          "colorway": [
           "#636efa",
           "#EF553B",
           "#00cc96",
           "#ab63fa",
           "#FFA15A",
           "#19d3f3",
           "#FF6692",
           "#B6E880",
           "#FF97FF",
           "#FECB52"
          ],
          "font": {
           "color": "#2a3f5f"
          },
          "geo": {
           "bgcolor": "white",
           "lakecolor": "white",
           "landcolor": "#E5ECF6",
           "showlakes": true,
           "showland": true,
           "subunitcolor": "white"
          },
          "hoverlabel": {
           "align": "left"
          },
          "hovermode": "closest",
          "mapbox": {
           "style": "light"
          },
          "paper_bgcolor": "white",
          "plot_bgcolor": "#E5ECF6",
          "polar": {
           "angularaxis": {
            "gridcolor": "white",
            "linecolor": "white",
            "ticks": ""
           },
           "bgcolor": "#E5ECF6",
           "radialaxis": {
            "gridcolor": "white",
            "linecolor": "white",
            "ticks": ""
           }
          },
          "scene": {
           "xaxis": {
            "backgroundcolor": "#E5ECF6",
            "gridcolor": "white",
            "gridwidth": 2,
            "linecolor": "white",
            "showbackground": true,
            "ticks": "",
            "zerolinecolor": "white"
           },
           "yaxis": {
            "backgroundcolor": "#E5ECF6",
            "gridcolor": "white",
            "gridwidth": 2,
            "linecolor": "white",
            "showbackground": true,
            "ticks": "",
            "zerolinecolor": "white"
           },
           "zaxis": {
            "backgroundcolor": "#E5ECF6",
            "gridcolor": "white",
            "gridwidth": 2,
            "linecolor": "white",
            "showbackground": true,
            "ticks": "",
            "zerolinecolor": "white"
           }
          },
          "shapedefaults": {
           "line": {
            "color": "#2a3f5f"
           }
          },
          "ternary": {
           "aaxis": {
            "gridcolor": "white",
            "linecolor": "white",
            "ticks": ""
           },
           "baxis": {
            "gridcolor": "white",
            "linecolor": "white",
            "ticks": ""
           },
           "bgcolor": "#E5ECF6",
           "caxis": {
            "gridcolor": "white",
            "linecolor": "white",
            "ticks": ""
           }
          },
          "title": {
           "x": 0.05
          },
          "xaxis": {
           "automargin": true,
           "gridcolor": "white",
           "linecolor": "white",
           "ticks": "",
           "title": {
            "standoff": 15
           },
           "zerolinecolor": "white",
           "zerolinewidth": 2
          },
          "yaxis": {
           "automargin": true,
           "gridcolor": "white",
           "linecolor": "white",
           "ticks": "",
           "title": {
            "standoff": 15
           },
           "zerolinecolor": "white",
           "zerolinewidth": 2
          }
         }
        },
        "title": {
         "text": "Annual Medical Charges"
        },
        "xaxis": {
         "anchor": "y",
         "domain": [
          0,
          1
         ],
         "title": {
          "text": "charges"
         }
        },
        "xaxis2": {
         "anchor": "y2",
         "domain": [
          0,
          1
         ],
         "matches": "x",
         "showgrid": true,
         "showticklabels": false
        },
        "yaxis": {
         "anchor": "x",
         "domain": [
          0,
          0.7326
         ],
         "title": {
          "text": "count"
         }
        },
        "yaxis2": {
         "anchor": "x2",
         "domain": [
          0.7426,
          1
         ],
         "matches": "y2",
         "showgrid": false,
         "showline": false,
         "showticklabels": false,
         "ticks": ""
        }
       }
      }
     },
     "metadata": {},
     "output_type": "display_data"
    }
   ],
   "source": [
    "#Might as well have a look at children count too!\n",
    "fig = px.histogram(medical_df, \n",
    "                   x='charges', \n",
    "                   marginal='box', \n",
    "                   color='children', \n",
    "                   color_discrete_sequence=['green', 'red', 'blue', 'yellow', 'gray', 'purple'], \n",
    "                   title='Annual Medical Charges')\n",
    "fig.update_layout(bargap=0.1)\n",
    "fig.show()"
   ]
  },
  {
   "cell_type": "code",
   "execution_count": null,
   "id": "e80e5452",
   "metadata": {},
   "outputs": [
    {
     "data": {
      "application/vnd.plotly.v1+json": {
       "config": {
        "plotlyServerURL": "https://plot.ly"
       },
       "data": [
        {
         "bingroup": "x",
         "hovertemplate": "children=%{x}<br>count=%{y}<extra></extra>",
         "legendgroup": "",
         "marker": {
          "color": "#636efa",
          "pattern": {
           "shape": ""
          }
         },
         "name": "",
         "orientation": "v",
         "showlegend": false,
         "type": "histogram",
         "x": {
          "bdata": "AAEDAAAAAQMCAAAAAAAAAQEAAAAAAQABAgMAAgECAAAFAAEAAwABAAACAQIBAAIAAAEAAgEAAwICAgECAwQBAQAAAgEAAwAFAwECAAEAAAABAAEEAgIAAAAAAAEDAgIBAwAAAAAAAAMBAQECAAABAgAAAwAAAQACAgAAAQMAAAACAgAAAgAAAAAAAwACAQICAwMDAQEBAQADAAEAAAAAAwAAAQIABAUDAQMAAAABAAACAQIDAAADAAIDAgMBAgAAAAEAAAACAAAAAQAAAAEAAgABAQQCAQICAAABAAEAAwAAAwAAAQIBAwABAgIAAgABAgEBAwAAAAABAQICAgMAAwAABAAAAQMAAwMBAwEBAQICAQACAgACAQEDAQEAAQIAAQMAAQIAAwAAAQMBAwMCAgICAgEAAgAAAwAAAAAAAAEBBAAAAAEBAgEAAQAAAAIAAAEBAQAAAAAEAwIBAQAAAAAAAAADAwAAAgEAAQIBAwICAwAAAQIAAAMAAwECAAACAgAAAgADBAABAQIAAwACAAABAAMAAgABAwEAAQIFAAEAAgEAAAABAAIFAQABAwACAAABAwADBQABAAABAQAAAAABBAEAAAIAAgAAAwMAAgAAAQECAQEAAAAAAwEAAAAAAwIAAQMAAwAAAQAAAAAEAAICAgAAAAEAAQMBAgAAAQAAAAEAAQIBAAAAAAABAAIBAQABAAIAAAEDAgEAAwIAAAACAAIAAAAAAAIAAgEAAwACAAABAgABAgUCAAECAQIAAAEBAAEAAgEAAQMBAAEAAQIBAAECAQICAAAAAwAAAAACAgECAAMAAQACAAABBAEAAAADAQAAAQAAAgEAAQIABAUDAAMCAwEDAAACAQACAAIBAgEEAwEBAAACAQIAAQMAAAACAAMDAwIBAAIAAQICAAEBAAEBAAEAAgEAAgAAAAEBAgADAwABAgIAAAABAQIAAAMAAAEDAQEAAQMBAwEDAQACAwICAAAAAAECAAEAAAAAAAQCAwADAAIBAQACAAEBAAIDAgAAAgMCAAMAAwABAQEDAAADAAAAAAACAAIBAAABAAEAAAABAAABAwMCAgIAAAMBAAEAAAIAAgIBAwEAAAIAAQIAAAIAAAACAAAAAQEAAAACAAIDAAAAAQACAwIAAAIAAQADAAEAAQMAAQUBAgMBAAMEAQAAAAEABAACAAACAQAAAAADAAACAwEDAAEAAwECAAAAAAEAAAEAAAICAQABAQEFAAIAAgUCAAABAAAAAQIBAAMAAgECAQEBAQEBAQABAwIBAgECBQMAAAAAAAABAwABAAMBBQEDAQAAAQICAQMDAwADAAIAAAABAgIDAgEAAgQBAAABAgMCAAMBAQEAAQAAAgEAAAAAAwIBAAIAAAAAAQIAAQEAAQABAwAAAAAAAQABAQMEAQIAAQEBAAACAAEBAAADAgEBAQIFAAABAAAAAwAEBAIAAAECAwEAAAAAAgEDAQMDAwABBQIBAwACAwEBAAACAQAFAgAAAAMBAAAAAQMAAgIDAAABAAAAAwEEAwACAAABAgEAAQAAAgIBAQIAAgIAAQEAAAEAAAEBAgMAAQACAQEAAAMAAAECAgIAAQMBAgIBAQECAAIBAAACAQMBAgAAAQECAgAAAwADAAIAAAADAQICAwAABQMEAAEAAAAEAAADAQMAAAEBAQIAAAAAAwEABQEAAAAAAQIAAgABAQAAAQIBAgAAAwABAAICAQADAQACAAAEAAIBAAECAwEAAAQCAwAAAgEAAAECAgIAAwMAAAAA",
          "dtype": "i1"
         },
         "xaxis": "x",
         "yaxis": "y"
        },
        {
         "hovertemplate": "children=%{x}<extra></extra>",
         "legendgroup": "",
         "marker": {
          "color": "#636efa"
         },
         "name": "",
         "notched": true,
         "showlegend": false,
         "type": "box",
         "x": {
          "bdata": "AAEDAAAAAQMCAAAAAAAAAQEAAAAAAQABAgMAAgECAAAFAAEAAwABAAACAQIBAAIAAAEAAgEAAwICAgECAwQBAQAAAgEAAwAFAwECAAEAAAABAAEEAgIAAAAAAAEDAgIBAwAAAAAAAAMBAQECAAABAgAAAwAAAQACAgAAAQMAAAACAgAAAgAAAAAAAwACAQICAwMDAQEBAQADAAEAAAAAAwAAAQIABAUDAQMAAAABAAACAQIDAAADAAIDAgMBAgAAAAEAAAACAAAAAQAAAAEAAgABAQQCAQICAAABAAEAAwAAAwAAAQIBAwABAgIAAgABAgEBAwAAAAABAQICAgMAAwAABAAAAQMAAwMBAwEBAQICAQACAgACAQEDAQEAAQIAAQMAAQIAAwAAAQMBAwMCAgICAgEAAgAAAwAAAAAAAAEBBAAAAAEBAgEAAQAAAAIAAAEBAQAAAAAEAwIBAQAAAAAAAAADAwAAAgEAAQIBAwICAwAAAQIAAAMAAwECAAACAgAAAgADBAABAQIAAwACAAABAAMAAgABAwEAAQIFAAEAAgEAAAABAAIFAQABAwACAAABAwADBQABAAABAQAAAAABBAEAAAIAAgAAAwMAAgAAAQECAQEAAAAAAwEAAAAAAwIAAQMAAwAAAQAAAAAEAAICAgAAAAEAAQMBAgAAAQAAAAEAAQIBAAAAAAABAAIBAQABAAIAAAEDAgEAAwIAAAACAAIAAAAAAAIAAgEAAwACAAABAgABAgUCAAECAQIAAAEBAAEAAgEAAQMBAAEAAQIBAAECAQICAAAAAwAAAAACAgECAAMAAQACAAABBAEAAAADAQAAAQAAAgEAAQIABAUDAAMCAwEDAAACAQACAAIBAgEEAwEBAAACAQIAAQMAAAACAAMDAwIBAAIAAQICAAEBAAEBAAEAAgEAAgAAAAEBAgADAwABAgIAAAABAQIAAAMAAAEDAQEAAQMBAwEDAQACAwICAAAAAAECAAEAAAAAAAQCAwADAAIBAQACAAEBAAIDAgAAAgMCAAMAAwABAQEDAAADAAAAAAACAAIBAAABAAEAAAABAAABAwMCAgIAAAMBAAEAAAIAAgIBAwEAAAIAAQIAAAIAAAACAAAAAQEAAAACAAIDAAAAAQACAwIAAAIAAQADAAEAAQMAAQUBAgMBAAMEAQAAAAEABAACAAACAQAAAAADAAACAwEDAAEAAwECAAAAAAEAAAEAAAICAQABAQEFAAIAAgUCAAABAAAAAQIBAAMAAgECAQEBAQEBAQABAwIBAgECBQMAAAAAAAABAwABAAMBBQEDAQAAAQICAQMDAwADAAIAAAABAgIDAgEAAgQBAAABAgMCAAMBAQEAAQAAAgEAAAAAAwIBAAIAAAAAAQIAAQEAAQABAwAAAAAAAQABAQMEAQIAAQEBAAACAAEBAAADAgEBAQIFAAABAAAAAwAEBAIAAAECAwEAAAAAAgEDAQMDAwABBQIBAwACAwEBAAACAQAFAgAAAAMBAAAAAQMAAgIDAAABAAAAAwEEAwACAAABAgEAAQAAAgIBAQIAAgIAAQEAAAEAAAEBAgMAAQACAQEAAAMAAAECAgIAAQMBAgIBAQECAAIBAAACAQMBAgAAAQECAgAAAwADAAIAAAADAQICAwAABQMEAAEAAAAEAAADAQMAAAEBAQIAAAAAAwEABQEAAAAAAQIAAgABAQAAAQIBAgAAAwABAAICAQADAQACAAAEAAIBAAECAwEAAAQCAwAAAgEAAAECAgIAAwMAAAAA",
          "dtype": "i1"
         },
         "xaxis": "x2",
         "yaxis": "y2"
        }
       ],
       "layout": {
        "bargap": 0.1,
        "barmode": "relative",
        "legend": {
         "tracegroupgap": 0
        },
        "template": {
         "data": {
          "bar": [
           {
            "error_x": {
             "color": "#2a3f5f"
            },
            "error_y": {
             "color": "#2a3f5f"
            },
            "marker": {
             "line": {
              "color": "#E5ECF6",
              "width": 0.5
             },
             "pattern": {
              "fillmode": "overlay",
              "size": 10,
              "solidity": 0.2
             }
            },
            "type": "bar"
           }
          ],
          "barpolar": [
           {
            "marker": {
             "line": {
              "color": "#E5ECF6",
              "width": 0.5
             },
             "pattern": {
              "fillmode": "overlay",
              "size": 10,
              "solidity": 0.2
             }
            },
            "type": "barpolar"
           }
          ],
          "carpet": [
           {
            "aaxis": {
             "endlinecolor": "#2a3f5f",
             "gridcolor": "white",
             "linecolor": "white",
             "minorgridcolor": "white",
             "startlinecolor": "#2a3f5f"
            },
            "baxis": {
             "endlinecolor": "#2a3f5f",
             "gridcolor": "white",
             "linecolor": "white",
             "minorgridcolor": "white",
             "startlinecolor": "#2a3f5f"
            },
            "type": "carpet"
           }
          ],
          "choropleth": [
           {
            "colorbar": {
             "outlinewidth": 0,
             "ticks": ""
            },
            "type": "choropleth"
           }
          ],
          "contour": [
           {
            "colorbar": {
             "outlinewidth": 0,
             "ticks": ""
            },
            "colorscale": [
             [
              0,
              "#0d0887"
             ],
             [
              0.1111111111111111,
              "#46039f"
             ],
             [
              0.2222222222222222,
              "#7201a8"
             ],
             [
              0.3333333333333333,
              "#9c179e"
             ],
             [
              0.4444444444444444,
              "#bd3786"
             ],
             [
              0.5555555555555556,
              "#d8576b"
             ],
             [
              0.6666666666666666,
              "#ed7953"
             ],
             [
              0.7777777777777778,
              "#fb9f3a"
             ],
             [
              0.8888888888888888,
              "#fdca26"
             ],
             [
              1,
              "#f0f921"
             ]
            ],
            "type": "contour"
           }
          ],
          "contourcarpet": [
           {
            "colorbar": {
             "outlinewidth": 0,
             "ticks": ""
            },
            "type": "contourcarpet"
           }
          ],
          "heatmap": [
           {
            "colorbar": {
             "outlinewidth": 0,
             "ticks": ""
            },
            "colorscale": [
             [
              0,
              "#0d0887"
             ],
             [
              0.1111111111111111,
              "#46039f"
             ],
             [
              0.2222222222222222,
              "#7201a8"
             ],
             [
              0.3333333333333333,
              "#9c179e"
             ],
             [
              0.4444444444444444,
              "#bd3786"
             ],
             [
              0.5555555555555556,
              "#d8576b"
             ],
             [
              0.6666666666666666,
              "#ed7953"
             ],
             [
              0.7777777777777778,
              "#fb9f3a"
             ],
             [
              0.8888888888888888,
              "#fdca26"
             ],
             [
              1,
              "#f0f921"
             ]
            ],
            "type": "heatmap"
           }
          ],
          "histogram": [
           {
            "marker": {
             "pattern": {
              "fillmode": "overlay",
              "size": 10,
              "solidity": 0.2
             }
            },
            "type": "histogram"
           }
          ],
          "histogram2d": [
           {
            "colorbar": {
             "outlinewidth": 0,
             "ticks": ""
            },
            "colorscale": [
             [
              0,
              "#0d0887"
             ],
             [
              0.1111111111111111,
              "#46039f"
             ],
             [
              0.2222222222222222,
              "#7201a8"
             ],
             [
              0.3333333333333333,
              "#9c179e"
             ],
             [
              0.4444444444444444,
              "#bd3786"
             ],
             [
              0.5555555555555556,
              "#d8576b"
             ],
             [
              0.6666666666666666,
              "#ed7953"
             ],
             [
              0.7777777777777778,
              "#fb9f3a"
             ],
             [
              0.8888888888888888,
              "#fdca26"
             ],
             [
              1,
              "#f0f921"
             ]
            ],
            "type": "histogram2d"
           }
          ],
          "histogram2dcontour": [
           {
            "colorbar": {
             "outlinewidth": 0,
             "ticks": ""
            },
            "colorscale": [
             [
              0,
              "#0d0887"
             ],
             [
              0.1111111111111111,
              "#46039f"
             ],
             [
              0.2222222222222222,
              "#7201a8"
             ],
             [
              0.3333333333333333,
              "#9c179e"
             ],
             [
              0.4444444444444444,
              "#bd3786"
             ],
             [
              0.5555555555555556,
              "#d8576b"
             ],
             [
              0.6666666666666666,
              "#ed7953"
             ],
             [
              0.7777777777777778,
              "#fb9f3a"
             ],
             [
              0.8888888888888888,
              "#fdca26"
             ],
             [
              1,
              "#f0f921"
             ]
            ],
            "type": "histogram2dcontour"
           }
          ],
          "mesh3d": [
           {
            "colorbar": {
             "outlinewidth": 0,
             "ticks": ""
            },
            "type": "mesh3d"
           }
          ],
          "parcoords": [
           {
            "line": {
             "colorbar": {
              "outlinewidth": 0,
              "ticks": ""
             }
            },
            "type": "parcoords"
           }
          ],
          "pie": [
           {
            "automargin": true,
            "type": "pie"
           }
          ],
          "scatter": [
           {
            "fillpattern": {
             "fillmode": "overlay",
             "size": 10,
             "solidity": 0.2
            },
            "type": "scatter"
           }
          ],
          "scatter3d": [
           {
            "line": {
             "colorbar": {
              "outlinewidth": 0,
              "ticks": ""
             }
            },
            "marker": {
             "colorbar": {
              "outlinewidth": 0,
              "ticks": ""
             }
            },
            "type": "scatter3d"
           }
          ],
          "scattercarpet": [
           {
            "marker": {
             "colorbar": {
              "outlinewidth": 0,
              "ticks": ""
             }
            },
            "type": "scattercarpet"
           }
          ],
          "scattergeo": [
           {
            "marker": {
             "colorbar": {
              "outlinewidth": 0,
              "ticks": ""
             }
            },
            "type": "scattergeo"
           }
          ],
          "scattergl": [
           {
            "marker": {
             "colorbar": {
              "outlinewidth": 0,
              "ticks": ""
             }
            },
            "type": "scattergl"
           }
          ],
          "scattermap": [
           {
            "marker": {
             "colorbar": {
              "outlinewidth": 0,
              "ticks": ""
             }
            },
            "type": "scattermap"
           }
          ],
          "scattermapbox": [
           {
            "marker": {
             "colorbar": {
              "outlinewidth": 0,
              "ticks": ""
             }
            },
            "type": "scattermapbox"
           }
          ],
          "scatterpolar": [
           {
            "marker": {
             "colorbar": {
              "outlinewidth": 0,
              "ticks": ""
             }
            },
            "type": "scatterpolar"
           }
          ],
          "scatterpolargl": [
           {
            "marker": {
             "colorbar": {
              "outlinewidth": 0,
              "ticks": ""
             }
            },
            "type": "scatterpolargl"
           }
          ],
          "scatterternary": [
           {
            "marker": {
             "colorbar": {
              "outlinewidth": 0,
              "ticks": ""
             }
            },
            "type": "scatterternary"
           }
          ],
          "surface": [
           {
            "colorbar": {
             "outlinewidth": 0,
             "ticks": ""
            },
            "colorscale": [
             [
              0,
              "#0d0887"
             ],
             [
              0.1111111111111111,
              "#46039f"
             ],
             [
              0.2222222222222222,
              "#7201a8"
             ],
             [
              0.3333333333333333,
              "#9c179e"
             ],
             [
              0.4444444444444444,
              "#bd3786"
             ],
             [
              0.5555555555555556,
              "#d8576b"
             ],
             [
              0.6666666666666666,
              "#ed7953"
             ],
             [
              0.7777777777777778,
              "#fb9f3a"
             ],
             [
              0.8888888888888888,
              "#fdca26"
             ],
             [
              1,
              "#f0f921"
             ]
            ],
            "type": "surface"
           }
          ],
          "table": [
           {
            "cells": {
             "fill": {
              "color": "#EBF0F8"
             },
             "line": {
              "color": "white"
             }
            },
            "header": {
             "fill": {
              "color": "#C8D4E3"
             },
             "line": {
              "color": "white"
             }
            },
            "type": "table"
           }
          ]
         },
         "layout": {
          "annotationdefaults": {
           "arrowcolor": "#2a3f5f",
           "arrowhead": 0,
           "arrowwidth": 1
          },
          "autotypenumbers": "strict",
          "coloraxis": {
           "colorbar": {
            "outlinewidth": 0,
            "ticks": ""
           }
          },
          "colorscale": {
           "diverging": [
            [
             0,
             "#8e0152"
            ],
            [
             0.1,
             "#c51b7d"
            ],
            [
             0.2,
             "#de77ae"
            ],
            [
             0.3,
             "#f1b6da"
            ],
            [
             0.4,
             "#fde0ef"
            ],
            [
             0.5,
             "#f7f7f7"
            ],
            [
             0.6,
             "#e6f5d0"
            ],
            [
             0.7,
             "#b8e186"
            ],
            [
             0.8,
             "#7fbc41"
            ],
            [
             0.9,
             "#4d9221"
            ],
            [
             1,
             "#276419"
            ]
           ],
           "sequential": [
            [
             0,
             "#0d0887"
            ],
            [
             0.1111111111111111,
             "#46039f"
            ],
            [
             0.2222222222222222,
             "#7201a8"
            ],
            [
             0.3333333333333333,
             "#9c179e"
            ],
            [
             0.4444444444444444,
             "#bd3786"
            ],
            [
             0.5555555555555556,
             "#d8576b"
            ],
            [
             0.6666666666666666,
             "#ed7953"
            ],
            [
             0.7777777777777778,
             "#fb9f3a"
            ],
            [
             0.8888888888888888,
             "#fdca26"
            ],
            [
             1,
             "#f0f921"
            ]
           ],
           "sequentialminus": [
            [
             0,
             "#0d0887"
            ],
            [
             0.1111111111111111,
             "#46039f"
            ],
            [
             0.2222222222222222,
             "#7201a8"
            ],
            [
             0.3333333333333333,
             "#9c179e"
            ],
            [
             0.4444444444444444,
             "#bd3786"
            ],
            [
             0.5555555555555556,
             "#d8576b"
            ],
            [
             0.6666666666666666,
             "#ed7953"
            ],
            [
             0.7777777777777778,
             "#fb9f3a"
            ],
            [
             0.8888888888888888,
             "#fdca26"
            ],
            [
             1,
             "#f0f921"
            ]
           ]
          },
          "colorway": [
           "#636efa",
           "#EF553B",
           "#00cc96",
           "#ab63fa",
           "#FFA15A",
           "#19d3f3",
           "#FF6692",
           "#B6E880",
           "#FF97FF",
           "#FECB52"
          ],
          "font": {
           "color": "#2a3f5f"
          },
          "geo": {
           "bgcolor": "white",
           "lakecolor": "white",
           "landcolor": "#E5ECF6",
           "showlakes": true,
           "showland": true,
           "subunitcolor": "white"
          },
          "hoverlabel": {
           "align": "left"
          },
          "hovermode": "closest",
          "mapbox": {
           "style": "light"
          },
          "paper_bgcolor": "white",
          "plot_bgcolor": "#E5ECF6",
          "polar": {
           "angularaxis": {
            "gridcolor": "white",
            "linecolor": "white",
            "ticks": ""
           },
           "bgcolor": "#E5ECF6",
           "radialaxis": {
            "gridcolor": "white",
            "linecolor": "white",
            "ticks": ""
           }
          },
          "scene": {
           "xaxis": {
            "backgroundcolor": "#E5ECF6",
            "gridcolor": "white",
            "gridwidth": 2,
            "linecolor": "white",
            "showbackground": true,
            "ticks": "",
            "zerolinecolor": "white"
           },
           "yaxis": {
            "backgroundcolor": "#E5ECF6",
            "gridcolor": "white",
            "gridwidth": 2,
            "linecolor": "white",
            "showbackground": true,
            "ticks": "",
            "zerolinecolor": "white"
           },
           "zaxis": {
            "backgroundcolor": "#E5ECF6",
            "gridcolor": "white",
            "gridwidth": 2,
            "linecolor": "white",
            "showbackground": true,
            "ticks": "",
            "zerolinecolor": "white"
           }
          },
          "shapedefaults": {
           "line": {
            "color": "#2a3f5f"
           }
          },
          "ternary": {
           "aaxis": {
            "gridcolor": "white",
            "linecolor": "white",
            "ticks": ""
           },
           "baxis": {
            "gridcolor": "white",
            "linecolor": "white",
            "ticks": ""
           },
           "bgcolor": "#E5ECF6",
           "caxis": {
            "gridcolor": "white",
            "linecolor": "white",
            "ticks": ""
           }
          },
          "title": {
           "x": 0.05
          },
          "xaxis": {
           "automargin": true,
           "gridcolor": "white",
           "linecolor": "white",
           "ticks": "",
           "title": {
            "standoff": 15
           },
           "zerolinecolor": "white",
           "zerolinewidth": 2
          },
          "yaxis": {
           "automargin": true,
           "gridcolor": "white",
           "linecolor": "white",
           "ticks": "",
           "title": {
            "standoff": 15
           },
           "zerolinecolor": "white",
           "zerolinewidth": 2
          }
         }
        },
        "title": {
         "text": "counts of children"
        },
        "xaxis": {
         "anchor": "y",
         "domain": [
          0,
          1
         ],
         "title": {
          "text": "children"
         }
        },
        "xaxis2": {
         "anchor": "y2",
         "domain": [
          0,
          1
         ],
         "matches": "x",
         "showgrid": true,
         "showticklabels": false
        },
        "yaxis": {
         "anchor": "x",
         "domain": [
          0,
          0.8316
         ],
         "title": {
          "text": "count"
         }
        },
        "yaxis2": {
         "anchor": "x2",
         "domain": [
          0.8416,
          1
         ],
         "matches": "y2",
         "showgrid": false,
         "showline": false,
         "showticklabels": false,
         "ticks": ""
        }
       }
      }
     },
     "metadata": {},
     "output_type": "display_data"
    }
   ],
   "source": [
    "#now I'm just curious\n",
    "fig = px.histogram(medical_df, \n",
    "                   x='children', \n",
    "                   marginal='box', \n",
    "                   title='counts of children')\n",
    "fig.update_layout(bargap=0.1)\n",
    "fig.show()\n",
    "\n",
    "#ok so it looks like we should expected to see slightly more of 0 in each of the above cetagories"
   ]
  },
  {
   "cell_type": "code",
   "execution_count": null,
   "id": "e9750271",
   "metadata": {},
   "outputs": [
    {
     "data": {
      "application/vnd.plotly.v1+json": {
       "config": {
        "plotlyServerURL": "https://plot.ly"
       },
       "data": [
        {
         "bingroup": "x",
         "histfunc": "sum",
         "hovertemplate": "children=%{x}<br>sum of charges=%{y}<extra></extra>",
         "legendgroup": "",
         "marker": {
          "color": "#636efa",
          "pattern": {
           "shape": ""
          }
         },
         "name": "",
         "orientation": "v",
         "showlegend": false,
         "type": "histogram",
         "x": {
          "bdata": "AAEDAAAAAQMCAAAAAAAAAQEAAAAAAQABAgMAAgECAAAFAAEAAwABAAACAQIBAAIAAAEAAgEAAwICAgECAwQBAQAAAgEAAwAFAwECAAEAAAABAAEEAgIAAAAAAAEDAgIBAwAAAAAAAAMBAQECAAABAgAAAwAAAQACAgAAAQMAAAACAgAAAgAAAAAAAwACAQICAwMDAQEBAQADAAEAAAAAAwAAAQIABAUDAQMAAAABAAACAQIDAAADAAIDAgMBAgAAAAEAAAACAAAAAQAAAAEAAgABAQQCAQICAAABAAEAAwAAAwAAAQIBAwABAgIAAgABAgEBAwAAAAABAQICAgMAAwAABAAAAQMAAwMBAwEBAQICAQACAgACAQEDAQEAAQIAAQMAAQIAAwAAAQMBAwMCAgICAgEAAgAAAwAAAAAAAAEBBAAAAAEBAgEAAQAAAAIAAAEBAQAAAAAEAwIBAQAAAAAAAAADAwAAAgEAAQIBAwICAwAAAQIAAAMAAwECAAACAgAAAgADBAABAQIAAwACAAABAAMAAgABAwEAAQIFAAEAAgEAAAABAAIFAQABAwACAAABAwADBQABAAABAQAAAAABBAEAAAIAAgAAAwMAAgAAAQECAQEAAAAAAwEAAAAAAwIAAQMAAwAAAQAAAAAEAAICAgAAAAEAAQMBAgAAAQAAAAEAAQIBAAAAAAABAAIBAQABAAIAAAEDAgEAAwIAAAACAAIAAAAAAAIAAgEAAwACAAABAgABAgUCAAECAQIAAAEBAAEAAgEAAQMBAAEAAQIBAAECAQICAAAAAwAAAAACAgECAAMAAQACAAABBAEAAAADAQAAAQAAAgEAAQIABAUDAAMCAwEDAAACAQACAAIBAgEEAwEBAAACAQIAAQMAAAACAAMDAwIBAAIAAQICAAEBAAEBAAEAAgEAAgAAAAEBAgADAwABAgIAAAABAQIAAAMAAAEDAQEAAQMBAwEDAQACAwICAAAAAAECAAEAAAAAAAQCAwADAAIBAQACAAEBAAIDAgAAAgMCAAMAAwABAQEDAAADAAAAAAACAAIBAAABAAEAAAABAAABAwMCAgIAAAMBAAEAAAIAAgIBAwEAAAIAAQIAAAIAAAACAAAAAQEAAAACAAIDAAAAAQACAwIAAAIAAQADAAEAAQMAAQUBAgMBAAMEAQAAAAEABAACAAACAQAAAAADAAACAwEDAAEAAwECAAAAAAEAAAEAAAICAQABAQEFAAIAAgUCAAABAAAAAQIBAAMAAgECAQEBAQEBAQABAwIBAgECBQMAAAAAAAABAwABAAMBBQEDAQAAAQICAQMDAwADAAIAAAABAgIDAgEAAgQBAAABAgMCAAMBAQEAAQAAAgEAAAAAAwIBAAIAAAAAAQIAAQEAAQABAwAAAAAAAQABAQMEAQIAAQEBAAACAAEBAAADAgEBAQIFAAABAAAAAwAEBAIAAAECAwEAAAAAAgEDAQMDAwABBQIBAwACAwEBAAACAQAFAgAAAAMBAAAAAQMAAgIDAAABAAAAAwEEAwACAAABAgEAAQAAAgIBAQIAAgIAAQEAAAEAAAEBAgMAAQACAQEAAAMAAAECAgIAAQMBAgIBAQECAAIBAAACAQMBAgAAAQECAgAAAwADAAIAAAADAQICAwAABQMEAAEAAAAEAAADAQMAAAEBAQIAAAAAAwEABQEAAAAAAQIAAgABAQAAAQIBAgAAAwABAAICAQADAQACAAAEAAIBAAECAwEAAAQCAwAAAgEAAAECAgIAAwMAAAAA",
          "dtype": "i1"
         },
         "xaxis": "x",
         "y": {
          "bdata": "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",
          "dtype": "f8"
         },
         "yaxis": "y"
        },
        {
         "hovertemplate": "children=%{x}<extra></extra>",
         "legendgroup": "",
         "marker": {
          "color": "#636efa"
         },
         "name": "",
         "notched": true,
         "showlegend": false,
         "type": "box",
         "x": {
          "bdata": "AAEDAAAAAQMCAAAAAAAAAQEAAAAAAQABAgMAAgECAAAFAAEAAwABAAACAQIBAAIAAAEAAgEAAwICAgECAwQBAQAAAgEAAwAFAwECAAEAAAABAAEEAgIAAAAAAAEDAgIBAwAAAAAAAAMBAQECAAABAgAAAwAAAQACAgAAAQMAAAACAgAAAgAAAAAAAwACAQICAwMDAQEBAQADAAEAAAAAAwAAAQIABAUDAQMAAAABAAACAQIDAAADAAIDAgMBAgAAAAEAAAACAAAAAQAAAAEAAgABAQQCAQICAAABAAEAAwAAAwAAAQIBAwABAgIAAgABAgEBAwAAAAABAQICAgMAAwAABAAAAQMAAwMBAwEBAQICAQACAgACAQEDAQEAAQIAAQMAAQIAAwAAAQMBAwMCAgICAgEAAgAAAwAAAAAAAAEBBAAAAAEBAgEAAQAAAAIAAAEBAQAAAAAEAwIBAQAAAAAAAAADAwAAAgEAAQIBAwICAwAAAQIAAAMAAwECAAACAgAAAgADBAABAQIAAwACAAABAAMAAgABAwEAAQIFAAEAAgEAAAABAAIFAQABAwACAAABAwADBQABAAABAQAAAAABBAEAAAIAAgAAAwMAAgAAAQECAQEAAAAAAwEAAAAAAwIAAQMAAwAAAQAAAAAEAAICAgAAAAEAAQMBAgAAAQAAAAEAAQIBAAAAAAABAAIBAQABAAIAAAEDAgEAAwIAAAACAAIAAAAAAAIAAgEAAwACAAABAgABAgUCAAECAQIAAAEBAAEAAgEAAQMBAAEAAQIBAAECAQICAAAAAwAAAAACAgECAAMAAQACAAABBAEAAAADAQAAAQAAAgEAAQIABAUDAAMCAwEDAAACAQACAAIBAgEEAwEBAAACAQIAAQMAAAACAAMDAwIBAAIAAQICAAEBAAEBAAEAAgEAAgAAAAEBAgADAwABAgIAAAABAQIAAAMAAAEDAQEAAQMBAwEDAQACAwICAAAAAAECAAEAAAAAAAQCAwADAAIBAQACAAEBAAIDAgAAAgMCAAMAAwABAQEDAAADAAAAAAACAAIBAAABAAEAAAABAAABAwMCAgIAAAMBAAEAAAIAAgIBAwEAAAIAAQIAAAIAAAACAAAAAQEAAAACAAIDAAAAAQACAwIAAAIAAQADAAEAAQMAAQUBAgMBAAMEAQAAAAEABAACAAACAQAAAAADAAACAwEDAAEAAwECAAAAAAEAAAEAAAICAQABAQEFAAIAAgUCAAABAAAAAQIBAAMAAgECAQEBAQEBAQABAwIBAgECBQMAAAAAAAABAwABAAMBBQEDAQAAAQICAQMDAwADAAIAAAABAgIDAgEAAgQBAAABAgMCAAMBAQEAAQAAAgEAAAAAAwIBAAIAAAAAAQIAAQEAAQABAwAAAAAAAQABAQMEAQIAAQEBAAACAAEBAAADAgEBAQIFAAABAAAAAwAEBAIAAAECAwEAAAAAAgEDAQMDAwABBQIBAwACAwEBAAACAQAFAgAAAAMBAAAAAQMAAgIDAAABAAAAAwEEAwACAAABAgEAAQAAAgIBAQIAAgIAAQEAAAEAAAEBAgMAAQACAQEAAAMAAAECAgIAAQMBAgIBAQECAAIBAAACAQMBAgAAAQECAgAAAwADAAIAAAADAQICAwAABQMEAAEAAAAEAAADAQMAAAEBAQIAAAAAAwEABQEAAAAAAQIAAgABAQAAAQIBAgAAAwABAAICAQADAQACAAAEAAIBAAECAwEAAAQCAwAAAgEAAAECAgIAAwMAAAAA",
          "dtype": "i1"
         },
         "xaxis": "x2",
         "yaxis": "y2"
        }
       ],
       "layout": {
        "bargap": 0.1,
        "barmode": "relative",
        "legend": {
         "tracegroupgap": 0
        },
        "template": {
         "data": {
          "bar": [
           {
            "error_x": {
             "color": "#2a3f5f"
            },
            "error_y": {
             "color": "#2a3f5f"
            },
            "marker": {
             "line": {
              "color": "#E5ECF6",
              "width": 0.5
             },
             "pattern": {
              "fillmode": "overlay",
              "size": 10,
              "solidity": 0.2
             }
            },
            "type": "bar"
           }
          ],
          "barpolar": [
           {
            "marker": {
             "line": {
              "color": "#E5ECF6",
              "width": 0.5
             },
             "pattern": {
              "fillmode": "overlay",
              "size": 10,
              "solidity": 0.2
             }
            },
            "type": "barpolar"
           }
          ],
          "carpet": [
           {
            "aaxis": {
             "endlinecolor": "#2a3f5f",
             "gridcolor": "white",
             "linecolor": "white",
             "minorgridcolor": "white",
             "startlinecolor": "#2a3f5f"
            },
            "baxis": {
             "endlinecolor": "#2a3f5f",
             "gridcolor": "white",
             "linecolor": "white",
             "minorgridcolor": "white",
             "startlinecolor": "#2a3f5f"
            },
            "type": "carpet"
           }
          ],
          "choropleth": [
           {
            "colorbar": {
             "outlinewidth": 0,
             "ticks": ""
            },
            "type": "choropleth"
           }
          ],
          "contour": [
           {
            "colorbar": {
             "outlinewidth": 0,
             "ticks": ""
            },
            "colorscale": [
             [
              0,
              "#0d0887"
             ],
             [
              0.1111111111111111,
              "#46039f"
             ],
             [
              0.2222222222222222,
              "#7201a8"
             ],
             [
              0.3333333333333333,
              "#9c179e"
             ],
             [
              0.4444444444444444,
              "#bd3786"
             ],
             [
              0.5555555555555556,
              "#d8576b"
             ],
             [
              0.6666666666666666,
              "#ed7953"
             ],
             [
              0.7777777777777778,
              "#fb9f3a"
             ],
             [
              0.8888888888888888,
              "#fdca26"
             ],
             [
              1,
              "#f0f921"
             ]
            ],
            "type": "contour"
           }
          ],
          "contourcarpet": [
           {
            "colorbar": {
             "outlinewidth": 0,
             "ticks": ""
            },
            "type": "contourcarpet"
           }
          ],
          "heatmap": [
           {
            "colorbar": {
             "outlinewidth": 0,
             "ticks": ""
            },
            "colorscale": [
             [
              0,
              "#0d0887"
             ],
             [
              0.1111111111111111,
              "#46039f"
             ],
             [
              0.2222222222222222,
              "#7201a8"
             ],
             [
              0.3333333333333333,
              "#9c179e"
             ],
             [
              0.4444444444444444,
              "#bd3786"
             ],
             [
              0.5555555555555556,
              "#d8576b"
             ],
             [
              0.6666666666666666,
              "#ed7953"
             ],
             [
              0.7777777777777778,
              "#fb9f3a"
             ],
             [
              0.8888888888888888,
              "#fdca26"
             ],
             [
              1,
              "#f0f921"
             ]
            ],
            "type": "heatmap"
           }
          ],
          "histogram": [
           {
            "marker": {
             "pattern": {
              "fillmode": "overlay",
              "size": 10,
              "solidity": 0.2
             }
            },
            "type": "histogram"
           }
          ],
          "histogram2d": [
           {
            "colorbar": {
             "outlinewidth": 0,
             "ticks": ""
            },
            "colorscale": [
             [
              0,
              "#0d0887"
             ],
             [
              0.1111111111111111,
              "#46039f"
             ],
             [
              0.2222222222222222,
              "#7201a8"
             ],
             [
              0.3333333333333333,
              "#9c179e"
             ],
             [
              0.4444444444444444,
              "#bd3786"
             ],
             [
              0.5555555555555556,
              "#d8576b"
             ],
             [
              0.6666666666666666,
              "#ed7953"
             ],
             [
              0.7777777777777778,
              "#fb9f3a"
             ],
             [
              0.8888888888888888,
              "#fdca26"
             ],
             [
              1,
              "#f0f921"
             ]
            ],
            "type": "histogram2d"
           }
          ],
          "histogram2dcontour": [
           {
            "colorbar": {
             "outlinewidth": 0,
             "ticks": ""
            },
            "colorscale": [
             [
              0,
              "#0d0887"
             ],
             [
              0.1111111111111111,
              "#46039f"
             ],
             [
              0.2222222222222222,
              "#7201a8"
             ],
             [
              0.3333333333333333,
              "#9c179e"
             ],
             [
              0.4444444444444444,
              "#bd3786"
             ],
             [
              0.5555555555555556,
              "#d8576b"
             ],
             [
              0.6666666666666666,
              "#ed7953"
             ],
             [
              0.7777777777777778,
              "#fb9f3a"
             ],
             [
              0.8888888888888888,
              "#fdca26"
             ],
             [
              1,
              "#f0f921"
             ]
            ],
            "type": "histogram2dcontour"
           }
          ],
          "mesh3d": [
           {
            "colorbar": {
             "outlinewidth": 0,
             "ticks": ""
            },
            "type": "mesh3d"
           }
          ],
          "parcoords": [
           {
            "line": {
             "colorbar": {
              "outlinewidth": 0,
              "ticks": ""
             }
            },
            "type": "parcoords"
           }
          ],
          "pie": [
           {
            "automargin": true,
            "type": "pie"
           }
          ],
          "scatter": [
           {
            "fillpattern": {
             "fillmode": "overlay",
             "size": 10,
             "solidity": 0.2
            },
            "type": "scatter"
           }
          ],
          "scatter3d": [
           {
            "line": {
             "colorbar": {
              "outlinewidth": 0,
              "ticks": ""
             }
            },
            "marker": {
             "colorbar": {
              "outlinewidth": 0,
              "ticks": ""
             }
            },
            "type": "scatter3d"
           }
          ],
          "scattercarpet": [
           {
            "marker": {
             "colorbar": {
              "outlinewidth": 0,
              "ticks": ""
             }
            },
            "type": "scattercarpet"
           }
          ],
          "scattergeo": [
           {
            "marker": {
             "colorbar": {
              "outlinewidth": 0,
              "ticks": ""
             }
            },
            "type": "scattergeo"
           }
          ],
          "scattergl": [
           {
            "marker": {
             "colorbar": {
              "outlinewidth": 0,
              "ticks": ""
             }
            },
            "type": "scattergl"
           }
          ],
          "scattermap": [
           {
            "marker": {
             "colorbar": {
              "outlinewidth": 0,
              "ticks": ""
             }
            },
            "type": "scattermap"
           }
          ],
          "scattermapbox": [
           {
            "marker": {
             "colorbar": {
              "outlinewidth": 0,
              "ticks": ""
             }
            },
            "type": "scattermapbox"
           }
          ],
          "scatterpolar": [
           {
            "marker": {
             "colorbar": {
              "outlinewidth": 0,
              "ticks": ""
             }
            },
            "type": "scatterpolar"
           }
          ],
          "scatterpolargl": [
           {
            "marker": {
             "colorbar": {
              "outlinewidth": 0,
              "ticks": ""
             }
            },
            "type": "scatterpolargl"
           }
          ],
          "scatterternary": [
           {
            "marker": {
             "colorbar": {
              "outlinewidth": 0,
              "ticks": ""
             }
            },
            "type": "scatterternary"
           }
          ],
          "surface": [
           {
            "colorbar": {
             "outlinewidth": 0,
             "ticks": ""
            },
            "colorscale": [
             [
              0,
              "#0d0887"
             ],
             [
              0.1111111111111111,
              "#46039f"
             ],
             [
              0.2222222222222222,
              "#7201a8"
             ],
             [
              0.3333333333333333,
              "#9c179e"
             ],
             [
              0.4444444444444444,
              "#bd3786"
             ],
             [
              0.5555555555555556,
              "#d8576b"
             ],
             [
              0.6666666666666666,
              "#ed7953"
             ],
             [
              0.7777777777777778,
              "#fb9f3a"
             ],
             [
              0.8888888888888888,
              "#fdca26"
             ],
             [
              1,
              "#f0f921"
             ]
            ],
            "type": "surface"
           }
          ],
          "table": [
           {
            "cells": {
             "fill": {
              "color": "#EBF0F8"
             },
             "line": {
              "color": "white"
             }
            },
            "header": {
             "fill": {
              "color": "#C8D4E3"
             },
             "line": {
              "color": "white"
             }
            },
            "type": "table"
           }
          ]
         },
         "layout": {
          "annotationdefaults": {
           "arrowcolor": "#2a3f5f",
           "arrowhead": 0,
           "arrowwidth": 1
          },
          "autotypenumbers": "strict",
          "coloraxis": {
           "colorbar": {
            "outlinewidth": 0,
            "ticks": ""
           }
          },
          "colorscale": {
           "diverging": [
            [
             0,
             "#8e0152"
            ],
            [
             0.1,
             "#c51b7d"
            ],
            [
             0.2,
             "#de77ae"
            ],
            [
             0.3,
             "#f1b6da"
            ],
            [
             0.4,
             "#fde0ef"
            ],
            [
             0.5,
             "#f7f7f7"
            ],
            [
             0.6,
             "#e6f5d0"
            ],
            [
             0.7,
             "#b8e186"
            ],
            [
             0.8,
             "#7fbc41"
            ],
            [
             0.9,
             "#4d9221"
            ],
            [
             1,
             "#276419"
            ]
           ],
           "sequential": [
            [
             0,
             "#0d0887"
            ],
            [
             0.1111111111111111,
             "#46039f"
            ],
            [
             0.2222222222222222,
             "#7201a8"
            ],
            [
             0.3333333333333333,
             "#9c179e"
            ],
            [
             0.4444444444444444,
             "#bd3786"
            ],
            [
             0.5555555555555556,
             "#d8576b"
            ],
            [
             0.6666666666666666,
             "#ed7953"
            ],
            [
             0.7777777777777778,
             "#fb9f3a"
            ],
            [
             0.8888888888888888,
             "#fdca26"
            ],
            [
             1,
             "#f0f921"
            ]
           ],
           "sequentialminus": [
            [
             0,
             "#0d0887"
            ],
            [
             0.1111111111111111,
             "#46039f"
            ],
            [
             0.2222222222222222,
             "#7201a8"
            ],
            [
             0.3333333333333333,
             "#9c179e"
            ],
            [
             0.4444444444444444,
             "#bd3786"
            ],
            [
             0.5555555555555556,
             "#d8576b"
            ],
            [
             0.6666666666666666,
             "#ed7953"
            ],
            [
             0.7777777777777778,
             "#fb9f3a"
            ],
            [
             0.8888888888888888,
             "#fdca26"
            ],
            [
             1,
             "#f0f921"
            ]
           ]
          },
          "colorway": [
           "#636efa",
           "#EF553B",
           "#00cc96",
           "#ab63fa",
           "#FFA15A",
           "#19d3f3",
           "#FF6692",
           "#B6E880",
           "#FF97FF",
           "#FECB52"
          ],
          "font": {
           "color": "#2a3f5f"
          },
          "geo": {
           "bgcolor": "white",
           "lakecolor": "white",
           "landcolor": "#E5ECF6",
           "showlakes": true,
           "showland": true,
           "subunitcolor": "white"
          },
          "hoverlabel": {
           "align": "left"
          },
          "hovermode": "closest",
          "mapbox": {
           "style": "light"
          },
          "paper_bgcolor": "white",
          "plot_bgcolor": "#E5ECF6",
          "polar": {
           "angularaxis": {
            "gridcolor": "white",
            "linecolor": "white",
            "ticks": ""
           },
           "bgcolor": "#E5ECF6",
           "radialaxis": {
            "gridcolor": "white",
            "linecolor": "white",
            "ticks": ""
           }
          },
          "scene": {
           "xaxis": {
            "backgroundcolor": "#E5ECF6",
            "gridcolor": "white",
            "gridwidth": 2,
            "linecolor": "white",
            "showbackground": true,
            "ticks": "",
            "zerolinecolor": "white"
           },
           "yaxis": {
            "backgroundcolor": "#E5ECF6",
            "gridcolor": "white",
            "gridwidth": 2,
            "linecolor": "white",
            "showbackground": true,
            "ticks": "",
            "zerolinecolor": "white"
           },
           "zaxis": {
            "backgroundcolor": "#E5ECF6",
            "gridcolor": "white",
            "gridwidth": 2,
            "linecolor": "white",
            "showbackground": true,
            "ticks": "",
            "zerolinecolor": "white"
           }
          },
          "shapedefaults": {
           "line": {
            "color": "#2a3f5f"
           }
          },
          "ternary": {
           "aaxis": {
            "gridcolor": "white",
            "linecolor": "white",
            "ticks": ""
           },
           "baxis": {
            "gridcolor": "white",
            "linecolor": "white",
            "ticks": ""
           },
           "bgcolor": "#E5ECF6",
           "caxis": {
            "gridcolor": "white",
            "linecolor": "white",
            "ticks": ""
           }
          },
          "title": {
           "x": 0.05
          },
          "xaxis": {
           "automargin": true,
           "gridcolor": "white",
           "linecolor": "white",
           "ticks": "",
           "title": {
            "standoff": 15
           },
           "zerolinecolor": "white",
           "zerolinewidth": 2
          },
          "yaxis": {
           "automargin": true,
           "gridcolor": "white",
           "linecolor": "white",
           "ticks": "",
           "title": {
            "standoff": 15
           },
           "zerolinecolor": "white",
           "zerolinewidth": 2
          }
         }
        },
        "title": {
         "text": "counts of children"
        },
        "xaxis": {
         "anchor": "y",
         "domain": [
          0,
          1
         ],
         "title": {
          "text": "children"
         }
        },
        "xaxis2": {
         "anchor": "y2",
         "domain": [
          0,
          1
         ],
         "matches": "x",
         "showgrid": true,
         "showticklabels": false
        },
        "yaxis": {
         "anchor": "x",
         "domain": [
          0,
          0.8316
         ],
         "title": {
          "text": "sum of charges"
         }
        },
        "yaxis2": {
         "anchor": "x2",
         "domain": [
          0.8416,
          1
         ],
         "matches": "y2",
         "showgrid": false,
         "showline": false,
         "showticklabels": false,
         "ticks": ""
        }
       }
      }
     },
     "metadata": {},
     "output_type": "display_data"
    }
   ],
   "source": [
    "fig = px.histogram(medical_df, \n",
    "                   x='children', \n",
    "                   y='charges',\n",
    "                   marginal='box', \n",
    "                   title='counts of children')\n",
    "fig.update_layout(bargap=0.1)\n",
    "fig.show()\n",
    "\n",
    "#This isn't surprising. I guess... I bet theres a better way to visualize it... let's keep reading"
   ]
  },
  {
   "cell_type": "markdown",
   "id": "duplicate-insulin",
   "metadata": {},
   "source": [
    "### Smoker\n",
    "\n",
    "Let's visualize the distribution of the \"smoker\" column (containing values \"yes\" and \"no\") using a histogram."
   ]
  },
  {
   "cell_type": "code",
   "execution_count": 38,
   "id": "anticipated-portsmouth",
   "metadata": {},
   "outputs": [
    {
     "data": {
      "text/plain": [
       "smoker\n",
       "no     1064\n",
       "yes     274\n",
       "Name: count, dtype: int64"
      ]
     },
     "execution_count": 38,
     "metadata": {},
     "output_type": "execute_result"
    }
   ],
   "source": [
    "medical_df.smoker.value_counts()"
   ]
  },
  {
   "cell_type": "code",
   "execution_count": 39,
   "id": "capital-frequency",
   "metadata": {},
   "outputs": [
    {
     "data": {
      "application/vnd.plotly.v1+json": {
       "config": {
        "plotlyServerURL": "https://plot.ly"
       },
       "data": [
        {
         "bingroup": "x",
         "hovertemplate": "sex=female<br>smoker=%{x}<br>count=%{y}<extra></extra>",
         "legendgroup": "female",
         "marker": {
          "color": "#636efa",
          "pattern": {
           "shape": ""
          }
         },
         "name": "female",
         "orientation": "v",
         "showlegend": true,
         "type": "histogram",
         "x": [
          "yes",
          "no",
          "no",
          "no",
          "no",
          "yes",
          "no",
          "no",
          "no",
          "no",
          "yes",
          "no",
          "no",
          "no",
          "no",
          "no",
          "no",
          "no",
          "no",
          "no",
          "no",
          "no",
          "no",
          "no",
          "no",
          "no",
          "no",
          "yes",
          "no",
          "no",
          "yes",
          "no",
          "no",
          "no",
          "yes",
          "no",
          "no",
          "no",
          "no",
          "no",
          "no",
          "yes",
          "yes",
          "no",
          "no",
          "no",
          "no",
          "no",
          "yes",
          "no",
          "no",
          "no",
          "no",
          "yes",
          "no",
          "no",
          "no",
          "no",
          "yes",
          "no",
          "no",
          "no",
          "no",
          "no",
          "yes",
          "no",
          "yes",
          "no",
          "no",
          "no",
          "no",
          "no",
          "no",
          "no",
          "no",
          "no",
          "no",
          "no",
          "yes",
          "no",
          "no",
          "yes",
          "yes",
          "no",
          "no",
          "no",
          "no",
          "no",
          "no",
          "yes",
          "no",
          "no",
          "no",
          "no",
          "no",
          "no",
          "no",
          "no",
          "no",
          "no",
          "no",
          "no",
          "no",
          "no",
          "no",
          "no",
          "no",
          "yes",
          "no",
          "no",
          "no",
          "no",
          "no",
          "no",
          "no",
          "no",
          "no",
          "no",
          "no",
          "no",
          "no",
          "no",
          "no",
          "yes",
          "no",
          "yes",
          "no",
          "no",
          "yes",
          "no",
          "yes",
          "no",
          "no",
          "no",
          "yes",
          "no",
          "no",
          "no",
          "no",
          "no",
          "yes",
          "no",
          "no",
          "no",
          "no",
          "yes",
          "no",
          "no",
          "no",
          "yes",
          "no",
          "no",
          "no",
          "no",
          "no",
          "no",
          "no",
          "yes",
          "no",
          "no",
          "no",
          "yes",
          "yes",
          "no",
          "no",
          "no",
          "no",
          "no",
          "no",
          "no",
          "no",
          "no",
          "no",
          "no",
          "no",
          "no",
          "no",
          "no",
          "yes",
          "no",
          "no",
          "no",
          "no",
          "no",
          "no",
          "no",
          "no",
          "yes",
          "yes",
          "no",
          "yes",
          "no",
          "no",
          "no",
          "no",
          "no",
          "no",
          "no",
          "no",
          "no",
          "no",
          "no",
          "no",
          "no",
          "yes",
          "yes",
          "no",
          "no",
          "yes",
          "yes",
          "no",
          "no",
          "no",
          "no",
          "no",
          "no",
          "no",
          "no",
          "yes",
          "no",
          "no",
          "no",
          "no",
          "no",
          "no",
          "no",
          "no",
          "no",
          "yes",
          "no",
          "no",
          "no",
          "no",
          "no",
          "no",
          "no",
          "no",
          "no",
          "no",
          "no",
          "yes",
          "no",
          "no",
          "no",
          "no",
          "no",
          "no",
          "no",
          "no",
          "no",
          "no",
          "no",
          "no",
          "no",
          "no",
          "no",
          "no",
          "no",
          "no",
          "no",
          "no",
          "no",
          "no",
          "no",
          "no",
          "yes",
          "no",
          "no",
          "yes",
          "no",
          "no",
          "no",
          "yes",
          "no",
          "no",
          "no",
          "no",
          "no",
          "no",
          "no",
          "no",
          "no",
          "no",
          "no",
          "no",
          "yes",
          "no",
          "no",
          "no",
          "yes",
          "no",
          "no",
          "no",
          "yes",
          "no",
          "no",
          "no",
          "no",
          "no",
          "no",
          "no",
          "yes",
          "no",
          "no",
          "yes",
          "no",
          "no",
          "no",
          "no",
          "no",
          "yes",
          "no",
          "yes",
          "no",
          "no",
          "no",
          "yes",
          "no",
          "no",
          "no",
          "no",
          "no",
          "no",
          "no",
          "no",
          "no",
          "no",
          "no",
          "yes",
          "no",
          "no",
          "no",
          "no",
          "no",
          "yes",
          "yes",
          "no",
          "no",
          "no",
          "yes",
          "no",
          "no",
          "no",
          "no",
          "no",
          "no",
          "no",
          "no",
          "no",
          "no",
          "no",
          "no",
          "no",
          "no",
          "yes",
          "no",
          "no",
          "no",
          "no",
          "no",
          "no",
          "no",
          "no",
          "no",
          "no",
          "yes",
          "yes",
          "no",
          "no",
          "no",
          "no",
          "no",
          "no",
          "yes",
          "no",
          "no",
          "no",
          "yes",
          "no",
          "no",
          "yes",
          "no",
          "no",
          "no",
          "no",
          "no",
          "no",
          "no",
          "no",
          "yes",
          "yes",
          "no",
          "no",
          "no",
          "no",
          "no",
          "no",
          "no",
          "no",
          "no",
          "no",
          "yes",
          "no",
          "no",
          "no",
          "no",
          "no",
          "no",
          "no",
          "yes",
          "yes",
          "no",
          "no",
          "no",
          "no",
          "no",
          "no",
          "no",
          "no",
          "yes",
          "yes",
          "yes",
          "no",
          "no",
          "yes",
          "yes",
          "no",
          "yes",
          "no",
          "yes",
          "no",
          "yes",
          "no",
          "no",
          "no",
          "no",
          "no",
          "no",
          "no",
          "no",
          "no",
          "yes",
          "no",
          "yes",
          "no",
          "no",
          "yes",
          "no",
          "no",
          "no",
          "no",
          "no",
          "yes",
          "no",
          "no",
          "no",
          "yes",
          "no",
          "no",
          "no",
          "no",
          "no",
          "no",
          "no",
          "no",
          "no",
          "no",
          "no",
          "no",
          "no",
          "no",
          "no",
          "no",
          "no",
          "no",
          "no",
          "no",
          "no",
          "no",
          "no",
          "no",
          "no",
          "no",
          "no",
          "no",
          "yes",
          "no",
          "no",
          "no",
          "yes",
          "no",
          "no",
          "no",
          "no",
          "no",
          "no",
          "no",
          "no",
          "no",
          "no",
          "no",
          "no",
          "yes",
          "no",
          "no",
          "no",
          "yes",
          "yes",
          "no",
          "no",
          "yes",
          "yes",
          "no",
          "yes",
          "no",
          "no",
          "no",
          "no",
          "no",
          "no",
          "no",
          "no",
          "no",
          "no",
          "no",
          "no",
          "no",
          "no",
          "no",
          "yes",
          "no",
          "yes",
          "no",
          "no",
          "yes",
          "no",
          "no",
          "yes",
          "no",
          "no",
          "no",
          "no",
          "yes",
          "no",
          "no",
          "yes",
          "yes",
          "no",
          "yes",
          "no",
          "no",
          "no",
          "no",
          "no",
          "no",
          "no",
          "no",
          "yes",
          "no",
          "no",
          "no",
          "no",
          "no",
          "yes",
          "no",
          "no",
          "no",
          "no",
          "no",
          "no",
          "no",
          "no",
          "no",
          "no",
          "no",
          "no",
          "yes",
          "no",
          "no",
          "yes",
          "no",
          "no",
          "no",
          "no",
          "no",
          "no",
          "yes",
          "no",
          "yes",
          "no",
          "no",
          "no",
          "no",
          "no",
          "no",
          "no",
          "yes",
          "no",
          "yes",
          "no",
          "yes",
          "no",
          "no",
          "yes",
          "no",
          "no",
          "yes",
          "no",
          "yes",
          "no",
          "no",
          "no",
          "no",
          "no",
          "no",
          "no",
          "no",
          "no",
          "no",
          "no",
          "no",
          "no",
          "no",
          "no",
          "no",
          "no",
          "no",
          "no",
          "no",
          "no",
          "no",
          "no",
          "no",
          "no",
          "no",
          "yes",
          "yes",
          "no",
          "no",
          "no",
          "no",
          "no",
          "no",
          "no",
          "no",
          "yes",
          "yes",
          "no",
          "yes",
          "yes",
          "no",
          "no",
          "yes",
          "no",
          "no",
          "no",
          "no",
          "no",
          "no",
          "no",
          "no",
          "yes"
         ],
         "xaxis": "x",
         "yaxis": "y"
        },
        {
         "bingroup": "x",
         "hovertemplate": "sex=male<br>smoker=%{x}<br>count=%{y}<extra></extra>",
         "legendgroup": "male",
         "marker": {
          "color": "#EF553B",
          "pattern": {
           "shape": ""
          }
         },
         "name": "male",
         "orientation": "v",
         "showlegend": true,
         "type": "histogram",
         "x": [
          "no",
          "no",
          "no",
          "no",
          "no",
          "no",
          "no",
          "yes",
          "no",
          "no",
          "no",
          "yes",
          "no",
          "no",
          "no",
          "yes",
          "yes",
          "no",
          "yes",
          "no",
          "no",
          "yes",
          "yes",
          "no",
          "no",
          "no",
          "yes",
          "yes",
          "yes",
          "yes",
          "yes",
          "no",
          "no",
          "no",
          "no",
          "yes",
          "no",
          "no",
          "no",
          "no",
          "no",
          "no",
          "yes",
          "yes",
          "yes",
          "no",
          "no",
          "yes",
          "yes",
          "no",
          "yes",
          "no",
          "no",
          "yes",
          "no",
          "no",
          "no",
          "no",
          "no",
          "no",
          "no",
          "yes",
          "no",
          "no",
          "no",
          "no",
          "no",
          "no",
          "yes",
          "no",
          "yes",
          "yes",
          "no",
          "no",
          "no",
          "no",
          "yes",
          "yes",
          "yes",
          "no",
          "no",
          "no",
          "no",
          "no",
          "no",
          "no",
          "no",
          "no",
          "no",
          "no",
          "no",
          "yes",
          "no",
          "no",
          "no",
          "no",
          "no",
          "no",
          "yes",
          "no",
          "no",
          "no",
          "no",
          "no",
          "no",
          "yes",
          "yes",
          "no",
          "no",
          "no",
          "no",
          "no",
          "no",
          "yes",
          "no",
          "no",
          "no",
          "no",
          "no",
          "no",
          "yes",
          "yes",
          "no",
          "yes",
          "yes",
          "no",
          "yes",
          "yes",
          "yes",
          "yes",
          "yes",
          "no",
          "no",
          "no",
          "yes",
          "no",
          "no",
          "no",
          "no",
          "no",
          "yes",
          "no",
          "no",
          "no",
          "no",
          "yes",
          "no",
          "no",
          "yes",
          "yes",
          "yes",
          "no",
          "no",
          "no",
          "no",
          "yes",
          "no",
          "no",
          "no",
          "no",
          "no",
          "no",
          "yes",
          "no",
          "no",
          "no",
          "yes",
          "no",
          "yes",
          "no",
          "no",
          "no",
          "yes",
          "no",
          "no",
          "no",
          "no",
          "no",
          "no",
          "no",
          "no",
          "no",
          "no",
          "no",
          "no",
          "no",
          "yes",
          "no",
          "yes",
          "no",
          "yes",
          "no",
          "no",
          "no",
          "no",
          "no",
          "no",
          "no",
          "no",
          "no",
          "no",
          "no",
          "no",
          "no",
          "no",
          "no",
          "no",
          "no",
          "no",
          "no",
          "yes",
          "yes",
          "yes",
          "no",
          "no",
          "no",
          "no",
          "no",
          "no",
          "no",
          "no",
          "no",
          "no",
          "no",
          "yes",
          "no",
          "no",
          "no",
          "no",
          "no",
          "no",
          "no",
          "no",
          "no",
          "yes",
          "no",
          "no",
          "no",
          "yes",
          "yes",
          "yes",
          "no",
          "no",
          "no",
          "no",
          "no",
          "no",
          "no",
          "no",
          "no",
          "yes",
          "no",
          "no",
          "yes",
          "no",
          "yes",
          "yes",
          "no",
          "no",
          "no",
          "no",
          "no",
          "no",
          "no",
          "yes",
          "no",
          "no",
          "no",
          "no",
          "yes",
          "no",
          "no",
          "yes",
          "no",
          "no",
          "no",
          "no",
          "no",
          "no",
          "yes",
          "no",
          "no",
          "no",
          "no",
          "no",
          "no",
          "no",
          "no",
          "no",
          "no",
          "yes",
          "no",
          "no",
          "no",
          "no",
          "no",
          "no",
          "no",
          "no",
          "no",
          "no",
          "no",
          "no",
          "no",
          "yes",
          "yes",
          "no",
          "yes",
          "yes",
          "no",
          "no",
          "no",
          "no",
          "no",
          "no",
          "no",
          "no",
          "no",
          "yes",
          "no",
          "no",
          "yes",
          "no",
          "no",
          "no",
          "no",
          "no",
          "no",
          "no",
          "no",
          "yes",
          "no",
          "yes",
          "no",
          "no",
          "no",
          "yes",
          "no",
          "no",
          "yes",
          "no",
          "no",
          "no",
          "no",
          "yes",
          "no",
          "no",
          "no",
          "no",
          "yes",
          "no",
          "no",
          "no",
          "no",
          "no",
          "no",
          "no",
          "no",
          "no",
          "no",
          "no",
          "yes",
          "no",
          "no",
          "yes",
          "yes",
          "no",
          "yes",
          "yes",
          "no",
          "no",
          "no",
          "no",
          "no",
          "no",
          "no",
          "no",
          "no",
          "yes",
          "no",
          "yes",
          "no",
          "no",
          "no",
          "no",
          "no",
          "no",
          "no",
          "no",
          "no",
          "yes",
          "no",
          "no",
          "no",
          "no",
          "no",
          "no",
          "yes",
          "yes",
          "no",
          "yes",
          "no",
          "no",
          "no",
          "no",
          "no",
          "no",
          "no",
          "no",
          "no",
          "no",
          "no",
          "yes",
          "yes",
          "yes",
          "no",
          "no",
          "no",
          "no",
          "no",
          "no",
          "no",
          "no",
          "no",
          "no",
          "no",
          "no",
          "yes",
          "no",
          "no",
          "no",
          "no",
          "no",
          "no",
          "no",
          "no",
          "no",
          "no",
          "no",
          "no",
          "no",
          "no",
          "no",
          "yes",
          "yes",
          "no",
          "no",
          "no",
          "yes",
          "no",
          "no",
          "no",
          "yes",
          "no",
          "no",
          "no",
          "no",
          "no",
          "yes",
          "no",
          "yes",
          "no",
          "no",
          "no",
          "no",
          "no",
          "no",
          "no",
          "no",
          "no",
          "no",
          "no",
          "no",
          "no",
          "no",
          "no",
          "yes",
          "no",
          "yes",
          "no",
          "yes",
          "yes",
          "yes",
          "no",
          "yes",
          "no",
          "yes",
          "no",
          "no",
          "no",
          "no",
          "yes",
          "no",
          "no",
          "no",
          "yes",
          "no",
          "no",
          "no",
          "no",
          "yes",
          "no",
          "no",
          "no",
          "no",
          "yes",
          "yes",
          "no",
          "no",
          "no",
          "no",
          "no",
          "yes",
          "no",
          "no",
          "yes",
          "no",
          "no",
          "no",
          "yes",
          "no",
          "yes",
          "no",
          "no",
          "yes",
          "no",
          "yes",
          "no",
          "no",
          "no",
          "yes",
          "no",
          "yes",
          "yes",
          "no",
          "no",
          "yes",
          "no",
          "no",
          "no",
          "no",
          "yes",
          "no",
          "no",
          "no",
          "no",
          "yes",
          "no",
          "no",
          "no",
          "yes",
          "no",
          "no",
          "no",
          "no",
          "no",
          "no",
          "no",
          "no",
          "no",
          "yes",
          "no",
          "no",
          "no",
          "no",
          "no",
          "no",
          "no",
          "no",
          "yes",
          "no",
          "no",
          "no",
          "yes",
          "yes",
          "no",
          "no",
          "no",
          "no",
          "no",
          "no",
          "no",
          "no",
          "no",
          "no",
          "no",
          "yes",
          "no",
          "no",
          "yes",
          "no",
          "no",
          "no",
          "no",
          "yes",
          "no",
          "no",
          "yes",
          "no",
          "yes",
          "no",
          "no",
          "no",
          "no",
          "no",
          "no",
          "no",
          "yes",
          "no",
          "no",
          "no",
          "no",
          "no",
          "no",
          "no",
          "no",
          "no",
          "no",
          "no",
          "no",
          "no",
          "no",
          "yes",
          "no",
          "no",
          "no",
          "yes",
          "yes",
          "no",
          "no",
          "no",
          "yes",
          "yes",
          "no",
          "yes",
          "no",
          "no",
          "yes",
          "yes",
          "no",
          "no",
          "no",
          "no",
          "yes",
          "no",
          "yes",
          "no",
          "yes",
          "yes",
          "no",
          "yes",
          "no",
          "no",
          "no",
          "no",
          "no",
          "no",
          "yes",
          "yes",
          "yes",
          "yes",
          "yes",
          "no",
          "no",
          "no",
          "no",
          "no",
          "no",
          "no",
          "yes",
          "no",
          "no",
          "no",
          "no",
          "no",
          "no"
         ],
         "xaxis": "x",
         "yaxis": "y"
        }
       ],
       "layout": {
        "barmode": "relative",
        "legend": {
         "title": {
          "text": "sex"
         },
         "tracegroupgap": 0
        },
        "template": {
         "data": {
          "bar": [
           {
            "error_x": {
             "color": "#2a3f5f"
            },
            "error_y": {
             "color": "#2a3f5f"
            },
            "marker": {
             "line": {
              "color": "#E5ECF6",
              "width": 0.5
             },
             "pattern": {
              "fillmode": "overlay",
              "size": 10,
              "solidity": 0.2
             }
            },
            "type": "bar"
           }
          ],
          "barpolar": [
           {
            "marker": {
             "line": {
              "color": "#E5ECF6",
              "width": 0.5
             },
             "pattern": {
              "fillmode": "overlay",
              "size": 10,
              "solidity": 0.2
             }
            },
            "type": "barpolar"
           }
          ],
          "carpet": [
           {
            "aaxis": {
             "endlinecolor": "#2a3f5f",
             "gridcolor": "white",
             "linecolor": "white",
             "minorgridcolor": "white",
             "startlinecolor": "#2a3f5f"
            },
            "baxis": {
             "endlinecolor": "#2a3f5f",
             "gridcolor": "white",
             "linecolor": "white",
             "minorgridcolor": "white",
             "startlinecolor": "#2a3f5f"
            },
            "type": "carpet"
           }
          ],
          "choropleth": [
           {
            "colorbar": {
             "outlinewidth": 0,
             "ticks": ""
            },
            "type": "choropleth"
           }
          ],
          "contour": [
           {
            "colorbar": {
             "outlinewidth": 0,
             "ticks": ""
            },
            "colorscale": [
             [
              0,
              "#0d0887"
             ],
             [
              0.1111111111111111,
              "#46039f"
             ],
             [
              0.2222222222222222,
              "#7201a8"
             ],
             [
              0.3333333333333333,
              "#9c179e"
             ],
             [
              0.4444444444444444,
              "#bd3786"
             ],
             [
              0.5555555555555556,
              "#d8576b"
             ],
             [
              0.6666666666666666,
              "#ed7953"
             ],
             [
              0.7777777777777778,
              "#fb9f3a"
             ],
             [
              0.8888888888888888,
              "#fdca26"
             ],
             [
              1,
              "#f0f921"
             ]
            ],
            "type": "contour"
           }
          ],
          "contourcarpet": [
           {
            "colorbar": {
             "outlinewidth": 0,
             "ticks": ""
            },
            "type": "contourcarpet"
           }
          ],
          "heatmap": [
           {
            "colorbar": {
             "outlinewidth": 0,
             "ticks": ""
            },
            "colorscale": [
             [
              0,
              "#0d0887"
             ],
             [
              0.1111111111111111,
              "#46039f"
             ],
             [
              0.2222222222222222,
              "#7201a8"
             ],
             [
              0.3333333333333333,
              "#9c179e"
             ],
             [
              0.4444444444444444,
              "#bd3786"
             ],
             [
              0.5555555555555556,
              "#d8576b"
             ],
             [
              0.6666666666666666,
              "#ed7953"
             ],
             [
              0.7777777777777778,
              "#fb9f3a"
             ],
             [
              0.8888888888888888,
              "#fdca26"
             ],
             [
              1,
              "#f0f921"
             ]
            ],
            "type": "heatmap"
           }
          ],
          "histogram": [
           {
            "marker": {
             "pattern": {
              "fillmode": "overlay",
              "size": 10,
              "solidity": 0.2
             }
            },
            "type": "histogram"
           }
          ],
          "histogram2d": [
           {
            "colorbar": {
             "outlinewidth": 0,
             "ticks": ""
            },
            "colorscale": [
             [
              0,
              "#0d0887"
             ],
             [
              0.1111111111111111,
              "#46039f"
             ],
             [
              0.2222222222222222,
              "#7201a8"
             ],
             [
              0.3333333333333333,
              "#9c179e"
             ],
             [
              0.4444444444444444,
              "#bd3786"
             ],
             [
              0.5555555555555556,
              "#d8576b"
             ],
             [
              0.6666666666666666,
              "#ed7953"
             ],
             [
              0.7777777777777778,
              "#fb9f3a"
             ],
             [
              0.8888888888888888,
              "#fdca26"
             ],
             [
              1,
              "#f0f921"
             ]
            ],
            "type": "histogram2d"
           }
          ],
          "histogram2dcontour": [
           {
            "colorbar": {
             "outlinewidth": 0,
             "ticks": ""
            },
            "colorscale": [
             [
              0,
              "#0d0887"
             ],
             [
              0.1111111111111111,
              "#46039f"
             ],
             [
              0.2222222222222222,
              "#7201a8"
             ],
             [
              0.3333333333333333,
              "#9c179e"
             ],
             [
              0.4444444444444444,
              "#bd3786"
             ],
             [
              0.5555555555555556,
              "#d8576b"
             ],
             [
              0.6666666666666666,
              "#ed7953"
             ],
             [
              0.7777777777777778,
              "#fb9f3a"
             ],
             [
              0.8888888888888888,
              "#fdca26"
             ],
             [
              1,
              "#f0f921"
             ]
            ],
            "type": "histogram2dcontour"
           }
          ],
          "mesh3d": [
           {
            "colorbar": {
             "outlinewidth": 0,
             "ticks": ""
            },
            "type": "mesh3d"
           }
          ],
          "parcoords": [
           {
            "line": {
             "colorbar": {
              "outlinewidth": 0,
              "ticks": ""
             }
            },
            "type": "parcoords"
           }
          ],
          "pie": [
           {
            "automargin": true,
            "type": "pie"
           }
          ],
          "scatter": [
           {
            "fillpattern": {
             "fillmode": "overlay",
             "size": 10,
             "solidity": 0.2
            },
            "type": "scatter"
           }
          ],
          "scatter3d": [
           {
            "line": {
             "colorbar": {
              "outlinewidth": 0,
              "ticks": ""
             }
            },
            "marker": {
             "colorbar": {
              "outlinewidth": 0,
              "ticks": ""
             }
            },
            "type": "scatter3d"
           }
          ],
          "scattercarpet": [
           {
            "marker": {
             "colorbar": {
              "outlinewidth": 0,
              "ticks": ""
             }
            },
            "type": "scattercarpet"
           }
          ],
          "scattergeo": [
           {
            "marker": {
             "colorbar": {
              "outlinewidth": 0,
              "ticks": ""
             }
            },
            "type": "scattergeo"
           }
          ],
          "scattergl": [
           {
            "marker": {
             "colorbar": {
              "outlinewidth": 0,
              "ticks": ""
             }
            },
            "type": "scattergl"
           }
          ],
          "scattermap": [
           {
            "marker": {
             "colorbar": {
              "outlinewidth": 0,
              "ticks": ""
             }
            },
            "type": "scattermap"
           }
          ],
          "scattermapbox": [
           {
            "marker": {
             "colorbar": {
              "outlinewidth": 0,
              "ticks": ""
             }
            },
            "type": "scattermapbox"
           }
          ],
          "scatterpolar": [
           {
            "marker": {
             "colorbar": {
              "outlinewidth": 0,
              "ticks": ""
             }
            },
            "type": "scatterpolar"
           }
          ],
          "scatterpolargl": [
           {
            "marker": {
             "colorbar": {
              "outlinewidth": 0,
              "ticks": ""
             }
            },
            "type": "scatterpolargl"
           }
          ],
          "scatterternary": [
           {
            "marker": {
             "colorbar": {
              "outlinewidth": 0,
              "ticks": ""
             }
            },
            "type": "scatterternary"
           }
          ],
          "surface": [
           {
            "colorbar": {
             "outlinewidth": 0,
             "ticks": ""
            },
            "colorscale": [
             [
              0,
              "#0d0887"
             ],
             [
              0.1111111111111111,
              "#46039f"
             ],
             [
              0.2222222222222222,
              "#7201a8"
             ],
             [
              0.3333333333333333,
              "#9c179e"
             ],
             [
              0.4444444444444444,
              "#bd3786"
             ],
             [
              0.5555555555555556,
              "#d8576b"
             ],
             [
              0.6666666666666666,
              "#ed7953"
             ],
             [
              0.7777777777777778,
              "#fb9f3a"
             ],
             [
              0.8888888888888888,
              "#fdca26"
             ],
             [
              1,
              "#f0f921"
             ]
            ],
            "type": "surface"
           }
          ],
          "table": [
           {
            "cells": {
             "fill": {
              "color": "#EBF0F8"
             },
             "line": {
              "color": "white"
             }
            },
            "header": {
             "fill": {
              "color": "#C8D4E3"
             },
             "line": {
              "color": "white"
             }
            },
            "type": "table"
           }
          ]
         },
         "layout": {
          "annotationdefaults": {
           "arrowcolor": "#2a3f5f",
           "arrowhead": 0,
           "arrowwidth": 1
          },
          "autotypenumbers": "strict",
          "coloraxis": {
           "colorbar": {
            "outlinewidth": 0,
            "ticks": ""
           }
          },
          "colorscale": {
           "diverging": [
            [
             0,
             "#8e0152"
            ],
            [
             0.1,
             "#c51b7d"
            ],
            [
             0.2,
             "#de77ae"
            ],
            [
             0.3,
             "#f1b6da"
            ],
            [
             0.4,
             "#fde0ef"
            ],
            [
             0.5,
             "#f7f7f7"
            ],
            [
             0.6,
             "#e6f5d0"
            ],
            [
             0.7,
             "#b8e186"
            ],
            [
             0.8,
             "#7fbc41"
            ],
            [
             0.9,
             "#4d9221"
            ],
            [
             1,
             "#276419"
            ]
           ],
           "sequential": [
            [
             0,
             "#0d0887"
            ],
            [
             0.1111111111111111,
             "#46039f"
            ],
            [
             0.2222222222222222,
             "#7201a8"
            ],
            [
             0.3333333333333333,
             "#9c179e"
            ],
            [
             0.4444444444444444,
             "#bd3786"
            ],
            [
             0.5555555555555556,
             "#d8576b"
            ],
            [
             0.6666666666666666,
             "#ed7953"
            ],
            [
             0.7777777777777778,
             "#fb9f3a"
            ],
            [
             0.8888888888888888,
             "#fdca26"
            ],
            [
             1,
             "#f0f921"
            ]
           ],
           "sequentialminus": [
            [
             0,
             "#0d0887"
            ],
            [
             0.1111111111111111,
             "#46039f"
            ],
            [
             0.2222222222222222,
             "#7201a8"
            ],
            [
             0.3333333333333333,
             "#9c179e"
            ],
            [
             0.4444444444444444,
             "#bd3786"
            ],
            [
             0.5555555555555556,
             "#d8576b"
            ],
            [
             0.6666666666666666,
             "#ed7953"
            ],
            [
             0.7777777777777778,
             "#fb9f3a"
            ],
            [
             0.8888888888888888,
             "#fdca26"
            ],
            [
             1,
             "#f0f921"
            ]
           ]
          },
          "colorway": [
           "#636efa",
           "#EF553B",
           "#00cc96",
           "#ab63fa",
           "#FFA15A",
           "#19d3f3",
           "#FF6692",
           "#B6E880",
           "#FF97FF",
           "#FECB52"
          ],
          "font": {
           "color": "#2a3f5f"
          },
          "geo": {
           "bgcolor": "white",
           "lakecolor": "white",
           "landcolor": "#E5ECF6",
           "showlakes": true,
           "showland": true,
           "subunitcolor": "white"
          },
          "hoverlabel": {
           "align": "left"
          },
          "hovermode": "closest",
          "mapbox": {
           "style": "light"
          },
          "paper_bgcolor": "white",
          "plot_bgcolor": "#E5ECF6",
          "polar": {
           "angularaxis": {
            "gridcolor": "white",
            "linecolor": "white",
            "ticks": ""
           },
           "bgcolor": "#E5ECF6",
           "radialaxis": {
            "gridcolor": "white",
            "linecolor": "white",
            "ticks": ""
           }
          },
          "scene": {
           "xaxis": {
            "backgroundcolor": "#E5ECF6",
            "gridcolor": "white",
            "gridwidth": 2,
            "linecolor": "white",
            "showbackground": true,
            "ticks": "",
            "zerolinecolor": "white"
           },
           "yaxis": {
            "backgroundcolor": "#E5ECF6",
            "gridcolor": "white",
            "gridwidth": 2,
            "linecolor": "white",
            "showbackground": true,
            "ticks": "",
            "zerolinecolor": "white"
           },
           "zaxis": {
            "backgroundcolor": "#E5ECF6",
            "gridcolor": "white",
            "gridwidth": 2,
            "linecolor": "white",
            "showbackground": true,
            "ticks": "",
            "zerolinecolor": "white"
           }
          },
          "shapedefaults": {
           "line": {
            "color": "#2a3f5f"
           }
          },
          "ternary": {
           "aaxis": {
            "gridcolor": "white",
            "linecolor": "white",
            "ticks": ""
           },
           "baxis": {
            "gridcolor": "white",
            "linecolor": "white",
            "ticks": ""
           },
           "bgcolor": "#E5ECF6",
           "caxis": {
            "gridcolor": "white",
            "linecolor": "white",
            "ticks": ""
           }
          },
          "title": {
           "x": 0.05
          },
          "xaxis": {
           "automargin": true,
           "gridcolor": "white",
           "linecolor": "white",
           "ticks": "",
           "title": {
            "standoff": 15
           },
           "zerolinecolor": "white",
           "zerolinewidth": 2
          },
          "yaxis": {
           "automargin": true,
           "gridcolor": "white",
           "linecolor": "white",
           "ticks": "",
           "title": {
            "standoff": 15
           },
           "zerolinecolor": "white",
           "zerolinewidth": 2
          }
         }
        },
        "title": {
         "text": "Smoker"
        },
        "xaxis": {
         "anchor": "y",
         "domain": [
          0,
          1
         ],
         "title": {
          "text": "smoker"
         }
        },
        "yaxis": {
         "anchor": "x",
         "domain": [
          0,
          1
         ],
         "title": {
          "text": "count"
         }
        }
       }
      }
     },
     "metadata": {},
     "output_type": "display_data"
    }
   ],
   "source": [
    "px.histogram(medical_df, x='smoker', color='sex', title='Smoker')"
   ]
  },
  {
   "cell_type": "markdown",
   "id": "large-separation",
   "metadata": {},
   "source": [
    "It appears that 20% of customers have reported that they smoke. Can you verify whether this matches the national average, assuming the data was collected in 2010? We can also see that smoking appears a more common habit among males. Can you verify this?\n",
    "\n"
   ]
  },
  {
   "cell_type": "markdown",
   "id": "light-swedish",
   "metadata": {},
   "source": [
    "> **EXERCISE**: Visualize the distributions of the \"sex\", \"region\" and \"children\" columns and report your observations. \n",
    "> I'm finding that in 2010 about %19.3 of the population were smokers"
   ]
  },
  {
   "cell_type": "code",
   "execution_count": null,
   "id": "strange-black",
   "metadata": {},
   "outputs": [
    {
     "data": {
      "application/vnd.plotly.v1+json": {
       "config": {
        "plotlyServerURL": "https://plot.ly"
       },
       "data": [
        {
         "bingroup": "x",
         "hovertemplate": "children=%{x}<br>count=%{y}<extra></extra>",
         "legendgroup": "",
         "marker": {
          "color": "#636efa",
          "pattern": {
           "shape": ""
          }
         },
         "name": "",
         "orientation": "v",
         "showlegend": false,
         "type": "histogram",
         "x": {
          "bdata": "AAEDAAAAAQMCAAAAAAAAAQEAAAAAAQABAgMAAgECAAAFAAEAAwABAAACAQIBAAIAAAEAAgEAAwICAgECAwQBAQAAAgEAAwAFAwECAAEAAAABAAEEAgIAAAAAAAEDAgIBAwAAAAAAAAMBAQECAAABAgAAAwAAAQACAgAAAQMAAAACAgAAAgAAAAAAAwACAQICAwMDAQEBAQADAAEAAAAAAwAAAQIABAUDAQMAAAABAAACAQIDAAADAAIDAgMBAgAAAAEAAAACAAAAAQAAAAEAAgABAQQCAQICAAABAAEAAwAAAwAAAQIBAwABAgIAAgABAgEBAwAAAAABAQICAgMAAwAABAAAAQMAAwMBAwEBAQICAQACAgACAQEDAQEAAQIAAQMAAQIAAwAAAQMBAwMCAgICAgEAAgAAAwAAAAAAAAEBBAAAAAEBAgEAAQAAAAIAAAEBAQAAAAAEAwIBAQAAAAAAAAADAwAAAgEAAQIBAwICAwAAAQIAAAMAAwECAAACAgAAAgADBAABAQIAAwACAAABAAMAAgABAwEAAQIFAAEAAgEAAAABAAIFAQABAwACAAABAwADBQABAAABAQAAAAABBAEAAAIAAgAAAwMAAgAAAQECAQEAAAAAAwEAAAAAAwIAAQMAAwAAAQAAAAAEAAICAgAAAAEAAQMBAgAAAQAAAAEAAQIBAAAAAAABAAIBAQABAAIAAAEDAgEAAwIAAAACAAIAAAAAAAIAAgEAAwACAAABAgABAgUCAAECAQIAAAEBAAEAAgEAAQMBAAEAAQIBAAECAQICAAAAAwAAAAACAgECAAMAAQACAAABBAEAAAADAQAAAQAAAgEAAQIABAUDAAMCAwEDAAACAQACAAIBAgEEAwEBAAACAQIAAQMAAAACAAMDAwIBAAIAAQICAAEBAAEBAAEAAgEAAgAAAAEBAgADAwABAgIAAAABAQIAAAMAAAEDAQEAAQMBAwEDAQACAwICAAAAAAECAAEAAAAAAAQCAwADAAIBAQACAAEBAAIDAgAAAgMCAAMAAwABAQEDAAADAAAAAAACAAIBAAABAAEAAAABAAABAwMCAgIAAAMBAAEAAAIAAgIBAwEAAAIAAQIAAAIAAAACAAAAAQEAAAACAAIDAAAAAQACAwIAAAIAAQADAAEAAQMAAQUBAgMBAAMEAQAAAAEABAACAAACAQAAAAADAAACAwEDAAEAAwECAAAAAAEAAAEAAAICAQABAQEFAAIAAgUCAAABAAAAAQIBAAMAAgECAQEBAQEBAQABAwIBAgECBQMAAAAAAAABAwABAAMBBQEDAQAAAQICAQMDAwADAAIAAAABAgIDAgEAAgQBAAABAgMCAAMBAQEAAQAAAgEAAAAAAwIBAAIAAAAAAQIAAQEAAQABAwAAAAAAAQABAQMEAQIAAQEBAAACAAEBAAADAgEBAQIFAAABAAAAAwAEBAIAAAECAwEAAAAAAgEDAQMDAwABBQIBAwACAwEBAAACAQAFAgAAAAMBAAAAAQMAAgIDAAABAAAAAwEEAwACAAABAgEAAQAAAgIBAQIAAgIAAQEAAAEAAAEBAgMAAQACAQEAAAMAAAECAgIAAQMBAgIBAQECAAIBAAACAQMBAgAAAQECAgAAAwADAAIAAAADAQICAwAABQMEAAEAAAAEAAADAQMAAAEBAQIAAAAAAwEABQEAAAAAAQIAAgABAQAAAQIBAgAAAwABAAICAQADAQACAAAEAAIBAAECAwEAAAQCAwAAAgEAAAECAgIAAwMAAAAA",
          "dtype": "i1"
         },
         "xaxis": "x",
         "yaxis": "y"
        },
        {
         "hovertemplate": "children=%{x}<extra></extra>",
         "legendgroup": "",
         "marker": {
          "color": "#636efa"
         },
         "name": "",
         "notched": true,
         "showlegend": false,
         "type": "box",
         "x": {
          "bdata": "AAEDAAAAAQMCAAAAAAAAAQEAAAAAAQABAgMAAgECAAAFAAEAAwABAAACAQIBAAIAAAEAAgEAAwICAgECAwQBAQAAAgEAAwAFAwECAAEAAAABAAEEAgIAAAAAAAEDAgIBAwAAAAAAAAMBAQECAAABAgAAAwAAAQACAgAAAQMAAAACAgAAAgAAAAAAAwACAQICAwMDAQEBAQADAAEAAAAAAwAAAQIABAUDAQMAAAABAAACAQIDAAADAAIDAgMBAgAAAAEAAAACAAAAAQAAAAEAAgABAQQCAQICAAABAAEAAwAAAwAAAQIBAwABAgIAAgABAgEBAwAAAAABAQICAgMAAwAABAAAAQMAAwMBAwEBAQICAQACAgACAQEDAQEAAQIAAQMAAQIAAwAAAQMBAwMCAgICAgEAAgAAAwAAAAAAAAEBBAAAAAEBAgEAAQAAAAIAAAEBAQAAAAAEAwIBAQAAAAAAAAADAwAAAgEAAQIBAwICAwAAAQIAAAMAAwECAAACAgAAAgADBAABAQIAAwACAAABAAMAAgABAwEAAQIFAAEAAgEAAAABAAIFAQABAwACAAABAwADBQABAAABAQAAAAABBAEAAAIAAgAAAwMAAgAAAQECAQEAAAAAAwEAAAAAAwIAAQMAAwAAAQAAAAAEAAICAgAAAAEAAQMBAgAAAQAAAAEAAQIBAAAAAAABAAIBAQABAAIAAAEDAgEAAwIAAAACAAIAAAAAAAIAAgEAAwACAAABAgABAgUCAAECAQIAAAEBAAEAAgEAAQMBAAEAAQIBAAECAQICAAAAAwAAAAACAgECAAMAAQACAAABBAEAAAADAQAAAQAAAgEAAQIABAUDAAMCAwEDAAACAQACAAIBAgEEAwEBAAACAQIAAQMAAAACAAMDAwIBAAIAAQICAAEBAAEBAAEAAgEAAgAAAAEBAgADAwABAgIAAAABAQIAAAMAAAEDAQEAAQMBAwEDAQACAwICAAAAAAECAAEAAAAAAAQCAwADAAIBAQACAAEBAAIDAgAAAgMCAAMAAwABAQEDAAADAAAAAAACAAIBAAABAAEAAAABAAABAwMCAgIAAAMBAAEAAAIAAgIBAwEAAAIAAQIAAAIAAAACAAAAAQEAAAACAAIDAAAAAQACAwIAAAIAAQADAAEAAQMAAQUBAgMBAAMEAQAAAAEABAACAAACAQAAAAADAAACAwEDAAEAAwECAAAAAAEAAAEAAAICAQABAQEFAAIAAgUCAAABAAAAAQIBAAMAAgECAQEBAQEBAQABAwIBAgECBQMAAAAAAAABAwABAAMBBQEDAQAAAQICAQMDAwADAAIAAAABAgIDAgEAAgQBAAABAgMCAAMBAQEAAQAAAgEAAAAAAwIBAAIAAAAAAQIAAQEAAQABAwAAAAAAAQABAQMEAQIAAQEBAAACAAEBAAADAgEBAQIFAAABAAAAAwAEBAIAAAECAwEAAAAAAgEDAQMDAwABBQIBAwACAwEBAAACAQAFAgAAAAMBAAAAAQMAAgIDAAABAAAAAwEEAwACAAABAgEAAQAAAgIBAQIAAgIAAQEAAAEAAAEBAgMAAQACAQEAAAMAAAECAgIAAQMBAgIBAQECAAIBAAACAQMBAgAAAQECAgAAAwADAAIAAAADAQICAwAABQMEAAEAAAAEAAADAQMAAAEBAQIAAAAAAwEABQEAAAAAAQIAAgABAQAAAQIBAgAAAwABAAICAQADAQACAAAEAAIBAAECAwEAAAQCAwAAAgEAAAECAgIAAwMAAAAA",
          "dtype": "i1"
         },
         "xaxis": "x2",
         "yaxis": "y2"
        }
       ],
       "layout": {
        "bargap": 0.1,
        "barmode": "relative",
        "legend": {
         "tracegroupgap": 0
        },
        "template": {
         "data": {
          "bar": [
           {
            "error_x": {
             "color": "#2a3f5f"
            },
            "error_y": {
             "color": "#2a3f5f"
            },
            "marker": {
             "line": {
              "color": "#E5ECF6",
              "width": 0.5
             },
             "pattern": {
              "fillmode": "overlay",
              "size": 10,
              "solidity": 0.2
             }
            },
            "type": "bar"
           }
          ],
          "barpolar": [
           {
            "marker": {
             "line": {
              "color": "#E5ECF6",
              "width": 0.5
             },
             "pattern": {
              "fillmode": "overlay",
              "size": 10,
              "solidity": 0.2
             }
            },
            "type": "barpolar"
           }
          ],
          "carpet": [
           {
            "aaxis": {
             "endlinecolor": "#2a3f5f",
             "gridcolor": "white",
             "linecolor": "white",
             "minorgridcolor": "white",
             "startlinecolor": "#2a3f5f"
            },
            "baxis": {
             "endlinecolor": "#2a3f5f",
             "gridcolor": "white",
             "linecolor": "white",
             "minorgridcolor": "white",
             "startlinecolor": "#2a3f5f"
            },
            "type": "carpet"
           }
          ],
          "choropleth": [
           {
            "colorbar": {
             "outlinewidth": 0,
             "ticks": ""
            },
            "type": "choropleth"
           }
          ],
          "contour": [
           {
            "colorbar": {
             "outlinewidth": 0,
             "ticks": ""
            },
            "colorscale": [
             [
              0,
              "#0d0887"
             ],
             [
              0.1111111111111111,
              "#46039f"
             ],
             [
              0.2222222222222222,
              "#7201a8"
             ],
             [
              0.3333333333333333,
              "#9c179e"
             ],
             [
              0.4444444444444444,
              "#bd3786"
             ],
             [
              0.5555555555555556,
              "#d8576b"
             ],
             [
              0.6666666666666666,
              "#ed7953"
             ],
             [
              0.7777777777777778,
              "#fb9f3a"
             ],
             [
              0.8888888888888888,
              "#fdca26"
             ],
             [
              1,
              "#f0f921"
             ]
            ],
            "type": "contour"
           }
          ],
          "contourcarpet": [
           {
            "colorbar": {
             "outlinewidth": 0,
             "ticks": ""
            },
            "type": "contourcarpet"
           }
          ],
          "heatmap": [
           {
            "colorbar": {
             "outlinewidth": 0,
             "ticks": ""
            },
            "colorscale": [
             [
              0,
              "#0d0887"
             ],
             [
              0.1111111111111111,
              "#46039f"
             ],
             [
              0.2222222222222222,
              "#7201a8"
             ],
             [
              0.3333333333333333,
              "#9c179e"
             ],
             [
              0.4444444444444444,
              "#bd3786"
             ],
             [
              0.5555555555555556,
              "#d8576b"
             ],
             [
              0.6666666666666666,
              "#ed7953"
             ],
             [
              0.7777777777777778,
              "#fb9f3a"
             ],
             [
              0.8888888888888888,
              "#fdca26"
             ],
             [
              1,
              "#f0f921"
             ]
            ],
            "type": "heatmap"
           }
          ],
          "histogram": [
           {
            "marker": {
             "pattern": {
              "fillmode": "overlay",
              "size": 10,
              "solidity": 0.2
             }
            },
            "type": "histogram"
           }
          ],
          "histogram2d": [
           {
            "colorbar": {
             "outlinewidth": 0,
             "ticks": ""
            },
            "colorscale": [
             [
              0,
              "#0d0887"
             ],
             [
              0.1111111111111111,
              "#46039f"
             ],
             [
              0.2222222222222222,
              "#7201a8"
             ],
             [
              0.3333333333333333,
              "#9c179e"
             ],
             [
              0.4444444444444444,
              "#bd3786"
             ],
             [
              0.5555555555555556,
              "#d8576b"
             ],
             [
              0.6666666666666666,
              "#ed7953"
             ],
             [
              0.7777777777777778,
              "#fb9f3a"
             ],
             [
              0.8888888888888888,
              "#fdca26"
             ],
             [
              1,
              "#f0f921"
             ]
            ],
            "type": "histogram2d"
           }
          ],
          "histogram2dcontour": [
           {
            "colorbar": {
             "outlinewidth": 0,
             "ticks": ""
            },
            "colorscale": [
             [
              0,
              "#0d0887"
             ],
             [
              0.1111111111111111,
              "#46039f"
             ],
             [
              0.2222222222222222,
              "#7201a8"
             ],
             [
              0.3333333333333333,
              "#9c179e"
             ],
             [
              0.4444444444444444,
              "#bd3786"
             ],
             [
              0.5555555555555556,
              "#d8576b"
             ],
             [
              0.6666666666666666,
              "#ed7953"
             ],
             [
              0.7777777777777778,
              "#fb9f3a"
             ],
             [
              0.8888888888888888,
              "#fdca26"
             ],
             [
              1,
              "#f0f921"
             ]
            ],
            "type": "histogram2dcontour"
           }
          ],
          "mesh3d": [
           {
            "colorbar": {
             "outlinewidth": 0,
             "ticks": ""
            },
            "type": "mesh3d"
           }
          ],
          "parcoords": [
           {
            "line": {
             "colorbar": {
              "outlinewidth": 0,
              "ticks": ""
             }
            },
            "type": "parcoords"
           }
          ],
          "pie": [
           {
            "automargin": true,
            "type": "pie"
           }
          ],
          "scatter": [
           {
            "fillpattern": {
             "fillmode": "overlay",
             "size": 10,
             "solidity": 0.2
            },
            "type": "scatter"
           }
          ],
          "scatter3d": [
           {
            "line": {
             "colorbar": {
              "outlinewidth": 0,
              "ticks": ""
             }
            },
            "marker": {
             "colorbar": {
              "outlinewidth": 0,
              "ticks": ""
             }
            },
            "type": "scatter3d"
           }
          ],
          "scattercarpet": [
           {
            "marker": {
             "colorbar": {
              "outlinewidth": 0,
              "ticks": ""
             }
            },
            "type": "scattercarpet"
           }
          ],
          "scattergeo": [
           {
            "marker": {
             "colorbar": {
              "outlinewidth": 0,
              "ticks": ""
             }
            },
            "type": "scattergeo"
           }
          ],
          "scattergl": [
           {
            "marker": {
             "colorbar": {
              "outlinewidth": 0,
              "ticks": ""
             }
            },
            "type": "scattergl"
           }
          ],
          "scattermap": [
           {
            "marker": {
             "colorbar": {
              "outlinewidth": 0,
              "ticks": ""
             }
            },
            "type": "scattermap"
           }
          ],
          "scattermapbox": [
           {
            "marker": {
             "colorbar": {
              "outlinewidth": 0,
              "ticks": ""
             }
            },
            "type": "scattermapbox"
           }
          ],
          "scatterpolar": [
           {
            "marker": {
             "colorbar": {
              "outlinewidth": 0,
              "ticks": ""
             }
            },
            "type": "scatterpolar"
           }
          ],
          "scatterpolargl": [
           {
            "marker": {
             "colorbar": {
              "outlinewidth": 0,
              "ticks": ""
             }
            },
            "type": "scatterpolargl"
           }
          ],
          "scatterternary": [
           {
            "marker": {
             "colorbar": {
              "outlinewidth": 0,
              "ticks": ""
             }
            },
            "type": "scatterternary"
           }
          ],
          "surface": [
           {
            "colorbar": {
             "outlinewidth": 0,
             "ticks": ""
            },
            "colorscale": [
             [
              0,
              "#0d0887"
             ],
             [
              0.1111111111111111,
              "#46039f"
             ],
             [
              0.2222222222222222,
              "#7201a8"
             ],
             [
              0.3333333333333333,
              "#9c179e"
             ],
             [
              0.4444444444444444,
              "#bd3786"
             ],
             [
              0.5555555555555556,
              "#d8576b"
             ],
             [
              0.6666666666666666,
              "#ed7953"
             ],
             [
              0.7777777777777778,
              "#fb9f3a"
             ],
             [
              0.8888888888888888,
              "#fdca26"
             ],
             [
              1,
              "#f0f921"
             ]
            ],
            "type": "surface"
           }
          ],
          "table": [
           {
            "cells": {
             "fill": {
              "color": "#EBF0F8"
             },
             "line": {
              "color": "white"
             }
            },
            "header": {
             "fill": {
              "color": "#C8D4E3"
             },
             "line": {
              "color": "white"
             }
            },
            "type": "table"
           }
          ]
         },
         "layout": {
          "annotationdefaults": {
           "arrowcolor": "#2a3f5f",
           "arrowhead": 0,
           "arrowwidth": 1
          },
          "autotypenumbers": "strict",
          "coloraxis": {
           "colorbar": {
            "outlinewidth": 0,
            "ticks": ""
           }
          },
          "colorscale": {
           "diverging": [
            [
             0,
             "#8e0152"
            ],
            [
             0.1,
             "#c51b7d"
            ],
            [
             0.2,
             "#de77ae"
            ],
            [
             0.3,
             "#f1b6da"
            ],
            [
             0.4,
             "#fde0ef"
            ],
            [
             0.5,
             "#f7f7f7"
            ],
            [
             0.6,
             "#e6f5d0"
            ],
            [
             0.7,
             "#b8e186"
            ],
            [
             0.8,
             "#7fbc41"
            ],
            [
             0.9,
             "#4d9221"
            ],
            [
             1,
             "#276419"
            ]
           ],
           "sequential": [
            [
             0,
             "#0d0887"
            ],
            [
             0.1111111111111111,
             "#46039f"
            ],
            [
             0.2222222222222222,
             "#7201a8"
            ],
            [
             0.3333333333333333,
             "#9c179e"
            ],
            [
             0.4444444444444444,
             "#bd3786"
            ],
            [
             0.5555555555555556,
             "#d8576b"
            ],
            [
             0.6666666666666666,
             "#ed7953"
            ],
            [
             0.7777777777777778,
             "#fb9f3a"
            ],
            [
             0.8888888888888888,
             "#fdca26"
            ],
            [
             1,
             "#f0f921"
            ]
           ],
           "sequentialminus": [
            [
             0,
             "#0d0887"
            ],
            [
             0.1111111111111111,
             "#46039f"
            ],
            [
             0.2222222222222222,
             "#7201a8"
            ],
            [
             0.3333333333333333,
             "#9c179e"
            ],
            [
             0.4444444444444444,
             "#bd3786"
            ],
            [
             0.5555555555555556,
             "#d8576b"
            ],
            [
             0.6666666666666666,
             "#ed7953"
            ],
            [
             0.7777777777777778,
             "#fb9f3a"
            ],
            [
             0.8888888888888888,
             "#fdca26"
            ],
            [
             1,
             "#f0f921"
            ]
           ]
          },
          "colorway": [
           "#636efa",
           "#EF553B",
           "#00cc96",
           "#ab63fa",
           "#FFA15A",
           "#19d3f3",
           "#FF6692",
           "#B6E880",
           "#FF97FF",
           "#FECB52"
          ],
          "font": {
           "color": "#2a3f5f"
          },
          "geo": {
           "bgcolor": "white",
           "lakecolor": "white",
           "landcolor": "#E5ECF6",
           "showlakes": true,
           "showland": true,
           "subunitcolor": "white"
          },
          "hoverlabel": {
           "align": "left"
          },
          "hovermode": "closest",
          "mapbox": {
           "style": "light"
          },
          "paper_bgcolor": "white",
          "plot_bgcolor": "#E5ECF6",
          "polar": {
           "angularaxis": {
            "gridcolor": "white",
            "linecolor": "white",
            "ticks": ""
           },
           "bgcolor": "#E5ECF6",
           "radialaxis": {
            "gridcolor": "white",
            "linecolor": "white",
            "ticks": ""
           }
          },
          "scene": {
           "xaxis": {
            "backgroundcolor": "#E5ECF6",
            "gridcolor": "white",
            "gridwidth": 2,
            "linecolor": "white",
            "showbackground": true,
            "ticks": "",
            "zerolinecolor": "white"
           },
           "yaxis": {
            "backgroundcolor": "#E5ECF6",
            "gridcolor": "white",
            "gridwidth": 2,
            "linecolor": "white",
            "showbackground": true,
            "ticks": "",
            "zerolinecolor": "white"
           },
           "zaxis": {
            "backgroundcolor": "#E5ECF6",
            "gridcolor": "white",
            "gridwidth": 2,
            "linecolor": "white",
            "showbackground": true,
            "ticks": "",
            "zerolinecolor": "white"
           }
          },
          "shapedefaults": {
           "line": {
            "color": "#2a3f5f"
           }
          },
          "ternary": {
           "aaxis": {
            "gridcolor": "white",
            "linecolor": "white",
            "ticks": ""
           },
           "baxis": {
            "gridcolor": "white",
            "linecolor": "white",
            "ticks": ""
           },
           "bgcolor": "#E5ECF6",
           "caxis": {
            "gridcolor": "white",
            "linecolor": "white",
            "ticks": ""
           }
          },
          "title": {
           "x": 0.05
          },
          "xaxis": {
           "automargin": true,
           "gridcolor": "white",
           "linecolor": "white",
           "ticks": "",
           "title": {
            "standoff": 15
           },
           "zerolinecolor": "white",
           "zerolinewidth": 2
          },
          "yaxis": {
           "automargin": true,
           "gridcolor": "white",
           "linecolor": "white",
           "ticks": "",
           "title": {
            "standoff": 15
           },
           "zerolinecolor": "white",
           "zerolinewidth": 2
          }
         }
        },
        "title": {
         "text": "counts of children"
        },
        "xaxis": {
         "anchor": "y",
         "domain": [
          0,
          1
         ],
         "title": {
          "text": "children"
         }
        },
        "xaxis2": {
         "anchor": "y2",
         "domain": [
          0,
          1
         ],
         "matches": "x",
         "showgrid": true,
         "showticklabels": false
        },
        "yaxis": {
         "anchor": "x",
         "domain": [
          0,
          0.8316
         ],
         "title": {
          "text": "count"
         }
        },
        "yaxis2": {
         "anchor": "x2",
         "domain": [
          0.8416,
          1
         ],
         "matches": "y2",
         "showgrid": false,
         "showline": false,
         "showticklabels": false,
         "ticks": ""
        }
       }
      }
     },
     "metadata": {},
     "output_type": "display_data"
    }
   ],
   "source": [
    "#rerunning this graph since it's more relevant here\n",
    "fig = px.histogram(medical_df, \n",
    "                   x='children', \n",
    "                   marginal='box', \n",
    "                   title='counts of children')\n",
    "fig.update_layout(bargap=0.1)\n",
    "fig.show()\n",
    "\n",
    "#I'm noting that the vast majority of customers have no kids, and certainly less than 2. This makes sense since the majority of customer were under the age of 30\n",
    "# and there were the large spikes in customers aged 18 and 19"
   ]
  },
  {
   "cell_type": "code",
   "execution_count": null,
   "id": "opposed-cornwall",
   "metadata": {},
   "outputs": [
    {
     "data": {
      "application/vnd.plotly.v1+json": {
       "config": {
        "plotlyServerURL": "https://plot.ly"
       },
       "data": [
        {
         "bingroup": "x",
         "hovertemplate": "region=%{x}<br>count=%{y}<extra></extra>",
         "legendgroup": "",
         "marker": {
          "color": "#636efa",
          "pattern": {
           "shape": ""
          }
         },
         "name": "",
         "orientation": "v",
         "showlegend": false,
         "type": "histogram",
         "x": [
          "southwest",
          "southeast",
          "southeast",
          "northwest",
          "northwest",
          "southeast",
          "southeast",
          "northwest",
          "northeast",
          "northwest",
          "northeast",
          "southeast",
          "southwest",
          "southeast",
          "southeast",
          "southwest",
          "northeast",
          "northeast",
          "southwest",
          "southwest",
          "northeast",
          "southwest",
          "southeast",
          "northeast",
          "northwest",
          "southeast",
          "northeast",
          "northwest",
          "northwest",
          "southwest",
          "southwest",
          "northeast",
          "southwest",
          "northwest",
          "southwest",
          "northwest",
          "northwest",
          "southwest",
          "northeast",
          "southwest",
          "northeast",
          "southeast",
          "southeast",
          "southeast",
          "northeast",
          "southwest",
          "northeast",
          "northwest",
          "southeast",
          "southeast",
          "northeast",
          "northwest",
          "southwest",
          "southeast",
          "northwest",
          "northwest",
          "northeast",
          "southeast",
          "southeast",
          "northwest",
          "northeast",
          "southeast",
          "northwest",
          "northwest",
          "northwest",
          "southwest",
          "southwest",
          "northwest",
          "southeast",
          "southeast",
          "southeast",
          "northeast",
          "southwest",
          "southeast",
          "southwest",
          "northwest",
          "southeast",
          "southeast",
          "northeast",
          "northwest",
          "northeast",
          "northeast",
          "southeast",
          "northwest",
          "southwest",
          "northwest",
          "northwest",
          "southwest",
          "northwest",
          "northwest",
          "southeast",
          "northwest",
          "northeast",
          "northwest",
          "southwest",
          "southeast",
          "southwest",
          "southeast",
          "northeast",
          "southwest",
          "southwest",
          "northeast",
          "northeast",
          "southeast",
          "southwest",
          "northwest",
          "southwest",
          "northwest",
          "southeast",
          "southeast",
          "northwest",
          "southwest",
          "southwest",
          "northwest",
          "northeast",
          "northeast",
          "southeast",
          "southeast",
          "southeast",
          "northwest",
          "southwest",
          "northeast",
          "northwest",
          "northeast",
          "northwest",
          "northeast",
          "southwest",
          "southwest",
          "northwest",
          "southwest",
          "northeast",
          "northeast",
          "southwest",
          "northwest",
          "northeast",
          "southeast",
          "southwest",
          "northwest",
          "southeast",
          "southwest",
          "northeast",
          "northeast",
          "southeast",
          "northwest",
          "northwest",
          "southeast",
          "northwest",
          "southeast",
          "northwest",
          "southwest",
          "northwest",
          "southeast",
          "northeast",
          "northeast",
          "northeast",
          "northwest",
          "southeast",
          "northeast",
          "southeast",
          "southeast",
          "northwest",
          "southeast",
          "southwest",
          "southwest",
          "northwest",
          "northeast",
          "southwest",
          "northwest",
          "northwest",
          "northeast",
          "southeast",
          "southwest",
          "northeast",
          "southwest",
          "northwest",
          "southwest",
          "northwest",
          "southwest",
          "southwest",
          "northeast",
          "northwest",
          "southeast",
          "northeast",
          "northwest",
          "southeast",
          "northeast",
          "southeast",
          "southwest",
          "southwest",
          "northwest",
          "southeast",
          "southwest",
          "southeast",
          "northwest",
          "southeast",
          "northwest",
          "southwest",
          "southeast",
          "northwest",
          "northeast",
          "northwest",
          "southeast",
          "northwest",
          "southeast",
          "southwest",
          "northeast",
          "southeast",
          "northeast",
          "southwest",
          "northeast",
          "southwest",
          "northwest",
          "northwest",
          "southeast",
          "southwest",
          "southwest",
          "northwest",
          "southeast",
          "southeast",
          "southeast",
          "southwest",
          "northeast",
          "southwest",
          "southwest",
          "southeast",
          "southeast",
          "southeast",
          "southeast",
          "northeast",
          "northeast",
          "northwest",
          "southeast",
          "southwest",
          "southwest",
          "northwest",
          "southeast",
          "southeast",
          "southeast",
          "northwest",
          "southeast",
          "northeast",
          "northeast",
          "southwest",
          "southwest",
          "northeast",
          "northwest",
          "southeast",
          "southeast",
          "southwest",
          "northeast",
          "northeast",
          "southwest",
          "southeast",
          "southwest",
          "northeast",
          "northeast",
          "northwest",
          "southeast",
          "northwest",
          "northwest",
          "southwest",
          "southeast",
          "northeast",
          "northwest",
          "southeast",
          "southeast",
          "southeast",
          "northeast",
          "southwest",
          "northeast",
          "southeast",
          "southwest",
          "northwest",
          "northeast",
          "northwest",
          "northeast",
          "northwest",
          "southwest",
          "southeast",
          "southeast",
          "northeast",
          "northeast",
          "northeast",
          "northeast",
          "southwest",
          "southeast",
          "northeast",
          "northwest",
          "northeast",
          "southeast",
          "southwest",
          "northeast",
          "southeast",
          "southeast",
          "southwest",
          "northeast",
          "southwest",
          "southeast",
          "northwest",
          "northwest",
          "northeast",
          "northeast",
          "southeast",
          "southeast",
          "southwest",
          "northwest",
          "southwest",
          "southeast",
          "northeast",
          "northwest",
          "southwest",
          "southwest",
          "southeast",
          "southeast",
          "southwest",
          "northeast",
          "northwest",
          "northeast",
          "northwest",
          "northeast",
          "northwest",
          "northeast",
          "southwest",
          "northeast",
          "southwest",
          "northeast",
          "southeast",
          "northwest",
          "southwest",
          "southwest",
          "northeast",
          "northwest",
          "northwest",
          "northeast",
          "northeast",
          "southwest",
          "southeast",
          "northwest",
          "northeast",
          "southeast",
          "southwest",
          "northwest",
          "northeast",
          "northeast",
          "southeast",
          "southeast",
          "southeast",
          "northeast",
          "southeast",
          "northwest",
          "northwest",
          "southwest",
          "southwest",
          "northeast",
          "southeast",
          "southwest",
          "southeast",
          "northwest",
          "southeast",
          "southeast",
          "northeast",
          "southwest",
          "southwest",
          "southwest",
          "southeast",
          "northeast",
          "northeast",
          "northwest",
          "northwest",
          "northeast",
          "northwest",
          "northeast",
          "northeast",
          "southwest",
          "southeast",
          "northwest",
          "northeast",
          "southeast",
          "northwest",
          "southeast",
          "northeast",
          "northeast",
          "southeast",
          "southeast",
          "northeast",
          "southwest",
          "southeast",
          "northwest",
          "northwest",
          "northwest",
          "northeast",
          "northwest",
          "northeast",
          "northeast",
          "northeast",
          "northwest",
          "southwest",
          "southeast",
          "southwest",
          "southeast",
          "southwest",
          "southeast",
          "northwest",
          "northwest",
          "southwest",
          "northeast",
          "southeast",
          "southwest",
          "southeast",
          "southeast",
          "northwest",
          "northeast",
          "northeast",
          "southwest",
          "northwest",
          "southeast",
          "southeast",
          "southwest",
          "southeast",
          "northwest",
          "southeast",
          "southeast",
          "northeast",
          "northeast",
          "southwest",
          "southeast",
          "northeast",
          "northeast",
          "northeast",
          "northwest",
          "southwest",
          "northwest",
          "southwest",
          "southwest",
          "northwest",
          "southeast",
          "northeast",
          "southwest",
          "southeast",
          "northeast",
          "northwest",
          "southwest",
          "southeast",
          "southeast",
          "northwest",
          "southwest",
          "northeast",
          "northwest",
          "southwest",
          "southwest",
          "southwest",
          "northwest",
          "southwest",
          "northwest",
          "southeast",
          "southwest",
          "southeast",
          "northwest",
          "southwest",
          "southeast",
          "southeast",
          "southwest",
          "northeast",
          "northeast",
          "northwest",
          "southeast",
          "southwest",
          "northwest",
          "northeast",
          "southeast",
          "southeast",
          "northeast",
          "southwest",
          "northeast",
          "southwest",
          "northwest",
          "northeast",
          "northwest",
          "southeast",
          "southeast",
          "northwest",
          "southeast",
          "southeast",
          "southwest",
          "southwest",
          "northeast",
          "northwest",
          "southwest",
          "southeast",
          "northwest",
          "southwest",
          "southeast",
          "northeast",
          "southwest",
          "southwest",
          "northeast",
          "southwest",
          "southwest",
          "southeast",
          "southwest",
          "southwest",
          "northeast",
          "southeast",
          "southeast",
          "southeast",
          "northwest",
          "northwest",
          "northwest",
          "northeast",
          "southwest",
          "northeast",
          "southeast",
          "northeast",
          "southwest",
          "southwest",
          "southwest",
          "southeast",
          "northwest",
          "southwest",
          "northeast",
          "northeast",
          "southeast",
          "northeast",
          "southeast",
          "southeast",
          "southeast",
          "northwest",
          "southwest",
          "northeast",
          "northeast",
          "southeast",
          "northeast",
          "southeast",
          "southeast",
          "southeast",
          "northeast",
          "southwest",
          "southwest",
          "southeast",
          "southeast",
          "southwest",
          "southeast",
          "southeast",
          "southeast",
          "northwest",
          "northwest",
          "northeast",
          "southwest",
          "northeast",
          "southeast",
          "southwest",
          "southeast",
          "southwest",
          "northwest",
          "northeast",
          "southwest",
          "northeast",
          "southeast",
          "northwest",
          "northwest",
          "northwest",
          "northeast",
          "southwest",
          "southeast",
          "southeast",
          "northwest",
          "northwest",
          "northwest",
          "southwest",
          "northwest",
          "southwest",
          "southeast",
          "southeast",
          "northeast",
          "northeast",
          "northwest",
          "southeast",
          "northeast",
          "southwest",
          "northeast",
          "northeast",
          "northwest",
          "southeast",
          "southeast",
          "southwest",
          "southeast",
          "northeast",
          "northwest",
          "northeast",
          "southeast",
          "southwest",
          "northwest",
          "southeast",
          "northeast",
          "southeast",
          "northeast",
          "southeast",
          "northeast",
          "southwest",
          "northwest",
          "southeast",
          "northwest",
          "southwest",
          "southeast",
          "northwest",
          "southeast",
          "northeast",
          "northwest",
          "northeast",
          "southwest",
          "southeast",
          "southwest",
          "northeast",
          "northeast",
          "southeast",
          "southeast",
          "northeast",
          "southwest",
          "southeast",
          "southwest",
          "southwest",
          "southwest",
          "southwest",
          "northeast",
          "northwest",
          "northwest",
          "northeast",
          "southeast",
          "southwest",
          "northwest",
          "southwest",
          "southwest",
          "southeast",
          "northeast",
          "southwest",
          "northeast",
          "northwest",
          "northeast",
          "northeast",
          "southeast",
          "southwest",
          "northwest",
          "northeast",
          "northwest",
          "southeast",
          "northeast",
          "northwest",
          "northeast",
          "northeast",
          "northeast",
          "southeast",
          "southeast",
          "southeast",
          "southeast",
          "southeast",
          "southeast",
          "southwest",
          "northwest",
          "northeast",
          "northeast",
          "southeast",
          "southeast",
          "northeast",
          "southeast",
          "southeast",
          "southeast",
          "southwest",
          "northwest",
          "northeast",
          "southeast",
          "southeast",
          "northeast",
          "southeast",
          "southeast",
          "southeast",
          "northwest",
          "southeast",
          "northwest",
          "southwest",
          "northwest",
          "southwest",
          "southwest",
          "southwest",
          "northwest",
          "southwest",
          "northeast",
          "northeast",
          "southeast",
          "southwest",
          "southeast",
          "northeast",
          "southwest",
          "northwest",
          "northwest",
          "southwest",
          "northwest",
          "northeast",
          "southeast",
          "northwest",
          "southeast",
          "southeast",
          "northeast",
          "southeast",
          "northwest",
          "northwest",
          "southwest",
          "southeast",
          "northwest",
          "northeast",
          "northeast",
          "southeast",
          "southeast",
          "northwest",
          "northeast",
          "southwest",
          "southwest",
          "northwest",
          "northwest",
          "northwest",
          "northwest",
          "northeast",
          "southwest",
          "southwest",
          "southwest",
          "northeast",
          "southeast",
          "northwest",
          "northeast",
          "northeast",
          "southeast",
          "southeast",
          "southwest",
          "southwest",
          "northeast",
          "southwest",
          "northwest",
          "southeast",
          "southwest",
          "northeast",
          "southwest",
          "northeast",
          "southeast",
          "northeast",
          "southeast",
          "northwest",
          "northwest",
          "southwest",
          "northwest",
          "southwest",
          "northwest",
          "southeast",
          "northwest",
          "northwest",
          "southeast",
          "northeast",
          "northeast",
          "northeast",
          "southeast",
          "northeast",
          "southeast",
          "northeast",
          "southwest",
          "southwest",
          "northeast",
          "northeast",
          "northwest",
          "southwest",
          "southwest",
          "southwest",
          "northwest",
          "southwest",
          "southwest",
          "northeast",
          "northwest",
          "northwest",
          "southeast",
          "northwest",
          "northeast",
          "southeast",
          "northwest",
          "southwest",
          "southeast",
          "southeast",
          "southwest",
          "southeast",
          "southwest",
          "northeast",
          "northwest",
          "northeast",
          "southeast",
          "southeast",
          "southwest",
          "northeast",
          "southeast",
          "northwest",
          "northwest",
          "southeast",
          "northeast",
          "southwest",
          "northeast",
          "southeast",
          "southeast",
          "southwest",
          "southeast",
          "southeast",
          "northwest",
          "northwest",
          "northwest",
          "southeast",
          "northeast",
          "southwest",
          "northwest",
          "southeast",
          "northeast",
          "southeast",
          "southeast",
          "northwest",
          "southwest",
          "northeast",
          "northwest",
          "southwest",
          "northwest",
          "southeast",
          "southeast",
          "northwest",
          "northeast",
          "southeast",
          "northeast",
          "northeast",
          "northwest",
          "southwest",
          "northwest",
          "northwest",
          "northwest",
          "northwest",
          "southeast",
          "southwest",
          "northeast",
          "northeast",
          "northwest",
          "southwest",
          "northeast",
          "southeast",
          "southeast",
          "northeast",
          "southeast",
          "southwest",
          "southeast",
          "southwest",
          "northwest",
          "northeast",
          "northwest",
          "northeast",
          "northeast",
          "northeast",
          "southwest",
          "southeast",
          "northwest",
          "southeast",
          "southwest",
          "southwest",
          "southwest",
          "northwest",
          "northeast",
          "southwest",
          "southwest",
          "southeast",
          "southwest",
          "northeast",
          "southwest",
          "southwest",
          "southeast",
          "southeast",
          "southwest",
          "northeast",
          "northwest",
          "southwest",
          "southeast",
          "southwest",
          "southwest",
          "southwest",
          "northwest",
          "northeast",
          "northeast",
          "northwest",
          "southeast",
          "northeast",
          "northwest",
          "southwest",
          "northwest",
          "northwest",
          "southeast",
          "northeast",
          "southeast",
          "northeast",
          "southwest",
          "northeast",
          "northwest",
          "southeast",
          "northwest",
          "northeast",
          "southeast",
          "northeast",
          "southeast",
          "southwest",
          "northeast",
          "northeast",
          "southeast",
          "southwest",
          "southwest",
          "northwest",
          "northeast",
          "northwest",
          "southwest",
          "northwest",
          "southeast",
          "northwest",
          "northeast",
          "southwest",
          "southeast",
          "southwest",
          "southwest",
          "southwest",
          "northwest",
          "southwest",
          "northeast",
          "southwest",
          "southwest",
          "southeast",
          "southeast",
          "southeast",
          "southwest",
          "southwest",
          "southwest",
          "southeast",
          "southwest",
          "northeast",
          "northwest",
          "southeast",
          "southeast",
          "southeast",
          "southeast",
          "northeast",
          "northwest",
          "southeast",
          "southwest",
          "southwest",
          "northeast",
          "northwest",
          "southwest",
          "northeast",
          "southeast",
          "northwest",
          "southwest",
          "northwest",
          "southeast",
          "southeast",
          "northwest",
          "northeast",
          "northwest",
          "northwest",
          "southwest",
          "southeast",
          "northeast",
          "northwest",
          "southwest",
          "northwest",
          "northwest",
          "northeast",
          "southeast",
          "southeast",
          "northeast",
          "northwest",
          "southwest",
          "southeast",
          "northeast",
          "southeast",
          "southeast",
          "northeast",
          "southeast",
          "northeast",
          "northeast",
          "southwest",
          "northeast",
          "northeast",
          "southwest",
          "northwest",
          "northwest",
          "northeast",
          "northeast",
          "southwest",
          "northeast",
          "southwest",
          "southeast",
          "northwest",
          "northeast",
          "southwest",
          "southeast",
          "northeast",
          "northwest",
          "northwest",
          "southwest",
          "southwest",
          "southwest",
          "northeast",
          "northwest",
          "northeast",
          "northwest",
          "northeast",
          "northeast",
          "southwest",
          "southeast",
          "southeast",
          "northwest",
          "southwest",
          "northwest",
          "northwest",
          "southwest",
          "northwest",
          "northwest",
          "southwest",
          "southeast",
          "southeast",
          "southeast",
          "southeast",
          "southwest",
          "northwest",
          "northwest",
          "southwest",
          "northeast",
          "northwest",
          "southeast",
          "northeast",
          "northeast",
          "northwest",
          "southwest",
          "southeast",
          "northwest",
          "northeast",
          "northwest",
          "northwest",
          "northeast",
          "northeast",
          "southwest",
          "northeast",
          "northwest",
          "northeast",
          "southeast",
          "northwest",
          "southwest",
          "northwest",
          "northeast",
          "northeast",
          "southwest",
          "northwest",
          "northwest",
          "southwest",
          "southeast",
          "southeast",
          "northwest",
          "southeast",
          "southeast",
          "southeast",
          "northwest",
          "southwest",
          "southwest",
          "southeast",
          "northeast",
          "northwest",
          "southeast",
          "southeast",
          "northeast",
          "northwest",
          "northeast",
          "northeast",
          "southeast",
          "southwest",
          "northeast",
          "southeast",
          "southeast",
          "southeast",
          "northwest",
          "northwest",
          "southwest",
          "northwest",
          "southwest",
          "northeast",
          "northwest",
          "southeast",
          "southwest",
          "southeast",
          "northeast",
          "southwest",
          "northwest",
          "southwest",
          "northeast",
          "northeast",
          "southeast",
          "northeast",
          "southeast",
          "northeast",
          "southwest",
          "southeast",
          "southeast",
          "southwest",
          "southeast",
          "northwest",
          "northwest",
          "southwest",
          "southeast",
          "northeast",
          "southeast",
          "southeast",
          "northwest",
          "northeast",
          "southeast",
          "northeast",
          "southeast",
          "southeast",
          "northwest",
          "southwest",
          "southeast",
          "northwest",
          "northeast",
          "northeast",
          "northwest",
          "southwest",
          "southeast",
          "southwest",
          "southwest",
          "southeast",
          "southwest",
          "northeast",
          "northwest",
          "northwest",
          "northwest",
          "southwest",
          "northwest",
          "southeast",
          "northwest",
          "southeast",
          "southwest",
          "southeast",
          "southeast",
          "southwest",
          "northwest",
          "southwest",
          "northwest",
          "southwest",
          "southwest",
          "northeast",
          "northwest",
          "southeast",
          "northwest",
          "northwest",
          "northeast",
          "southeast",
          "northwest",
          "northeast",
          "southwest",
          "northwest",
          "southeast",
          "southeast",
          "northeast",
          "northwest",
          "northeast",
          "southeast",
          "southwest",
          "southwest",
          "northwest",
          "northeast",
          "southwest",
          "southeast",
          "northwest",
          "northwest",
          "southwest",
          "northwest",
          "southwest",
          "northeast",
          "southeast",
          "northeast",
          "northwest",
          "southwest",
          "northeast",
          "southeast",
          "northeast",
          "northwest",
          "northwest",
          "northeast",
          "southwest",
          "northwest",
          "northeast",
          "northeast",
          "northwest",
          "northwest",
          "northwest",
          "northwest",
          "southeast",
          "northwest",
          "southwest",
          "northwest",
          "northwest",
          "northwest",
          "northeast",
          "southeast",
          "northwest",
          "southwest",
          "southwest",
          "northeast",
          "southwest",
          "northwest",
          "southeast",
          "northeast",
          "southwest",
          "northwest",
          "northeast",
          "southeast",
          "southeast",
          "southwest",
          "northwest",
          "northeast",
          "southeast",
          "southeast",
          "southeast",
          "northeast",
          "southeast",
          "northeast",
          "southeast",
          "southeast",
          "northeast",
          "northwest",
          "southwest",
          "northwest",
          "southwest",
          "southeast",
          "northwest",
          "northeast",
          "northwest",
          "northeast",
          "southeast",
          "southeast",
          "southeast",
          "northwest",
          "southeast",
          "southeast",
          "southwest",
          "southwest",
          "southwest",
          "southeast",
          "northeast",
          "northeast",
          "southwest",
          "southwest",
          "southwest",
          "southeast",
          "southwest",
          "northwest",
          "northwest",
          "northwest",
          "northeast",
          "northeast",
          "southwest",
          "southeast",
          "southwest",
          "northeast",
          "southeast",
          "southwest",
          "northeast",
          "southwest",
          "southwest",
          "northwest",
          "northwest",
          "southeast",
          "southeast",
          "southeast",
          "southwest",
          "northeast",
          "northwest",
          "northeast",
          "northwest",
          "southeast",
          "northwest",
          "northeast",
          "southeast",
          "southwest",
          "northeast",
          "northeast",
          "southwest",
          "southwest",
          "southeast",
          "northeast",
          "southwest",
          "southeast",
          "northwest",
          "northeast",
          "southwest",
          "northeast",
          "southeast",
          "northwest",
          "northwest",
          "southeast",
          "northwest",
          "southwest",
          "southwest",
          "northeast",
          "southeast",
          "northeast",
          "northwest",
          "southwest",
          "southwest",
          "northwest",
          "northwest",
          "southwest",
          "southwest",
          "northwest",
          "northeast",
          "southwest",
          "southeast",
          "northeast",
          "northwest",
          "northwest",
          "northeast",
          "southeast",
          "southeast",
          "northwest",
          "northeast",
          "northeast",
          "southeast",
          "northeast",
          "southwest",
          "southeast",
          "southwest",
          "southwest",
          "northwest",
          "northeast",
          "southeast",
          "southwest",
          "northwest"
         ],
         "xaxis": "x",
         "yaxis": "y"
        },
        {
         "hovertemplate": "region=%{x}<extra></extra>",
         "legendgroup": "",
         "marker": {
          "color": "#636efa"
         },
         "name": "",
         "notched": true,
         "showlegend": false,
         "type": "box",
         "x": [
          "southwest",
          "southeast",
          "southeast",
          "northwest",
          "northwest",
          "southeast",
          "southeast",
          "northwest",
          "northeast",
          "northwest",
          "northeast",
          "southeast",
          "southwest",
          "southeast",
          "southeast",
          "southwest",
          "northeast",
          "northeast",
          "southwest",
          "southwest",
          "northeast",
          "southwest",
          "southeast",
          "northeast",
          "northwest",
          "southeast",
          "northeast",
          "northwest",
          "northwest",
          "southwest",
          "southwest",
          "northeast",
          "southwest",
          "northwest",
          "southwest",
          "northwest",
          "northwest",
          "southwest",
          "northeast",
          "southwest",
          "northeast",
          "southeast",
          "southeast",
          "southeast",
          "northeast",
          "southwest",
          "northeast",
          "northwest",
          "southeast",
          "southeast",
          "northeast",
          "northwest",
          "southwest",
          "southeast",
          "northwest",
          "northwest",
          "northeast",
          "southeast",
          "southeast",
          "northwest",
          "northeast",
          "southeast",
          "northwest",
          "northwest",
          "northwest",
          "southwest",
          "southwest",
          "northwest",
          "southeast",
          "southeast",
          "southeast",
          "northeast",
          "southwest",
          "southeast",
          "southwest",
          "northwest",
          "southeast",
          "southeast",
          "northeast",
          "northwest",
          "northeast",
          "northeast",
          "southeast",
          "northwest",
          "southwest",
          "northwest",
          "northwest",
          "southwest",
          "northwest",
          "northwest",
          "southeast",
          "northwest",
          "northeast",
          "northwest",
          "southwest",
          "southeast",
          "southwest",
          "southeast",
          "northeast",
          "southwest",
          "southwest",
          "northeast",
          "northeast",
          "southeast",
          "southwest",
          "northwest",
          "southwest",
          "northwest",
          "southeast",
          "southeast",
          "northwest",
          "southwest",
          "southwest",
          "northwest",
          "northeast",
          "northeast",
          "southeast",
          "southeast",
          "southeast",
          "northwest",
          "southwest",
          "northeast",
          "northwest",
          "northeast",
          "northwest",
          "northeast",
          "southwest",
          "southwest",
          "northwest",
          "southwest",
          "northeast",
          "northeast",
          "southwest",
          "northwest",
          "northeast",
          "southeast",
          "southwest",
          "northwest",
          "southeast",
          "southwest",
          "northeast",
          "northeast",
          "southeast",
          "northwest",
          "northwest",
          "southeast",
          "northwest",
          "southeast",
          "northwest",
          "southwest",
          "northwest",
          "southeast",
          "northeast",
          "northeast",
          "northeast",
          "northwest",
          "southeast",
          "northeast",
          "southeast",
          "southeast",
          "northwest",
          "southeast",
          "southwest",
          "southwest",
          "northwest",
          "northeast",
          "southwest",
          "northwest",
          "northwest",
          "northeast",
          "southeast",
          "southwest",
          "northeast",
          "southwest",
          "northwest",
          "southwest",
          "northwest",
          "southwest",
          "southwest",
          "northeast",
          "northwest",
          "southeast",
          "northeast",
          "northwest",
          "southeast",
          "northeast",
          "southeast",
          "southwest",
          "southwest",
          "northwest",
          "southeast",
          "southwest",
          "southeast",
          "northwest",
          "southeast",
          "northwest",
          "southwest",
          "southeast",
          "northwest",
          "northeast",
          "northwest",
          "southeast",
          "northwest",
          "southeast",
          "southwest",
          "northeast",
          "southeast",
          "northeast",
          "southwest",
          "northeast",
          "southwest",
          "northwest",
          "northwest",
          "southeast",
          "southwest",
          "southwest",
          "northwest",
          "southeast",
          "southeast",
          "southeast",
          "southwest",
          "northeast",
          "southwest",
          "southwest",
          "southeast",
          "southeast",
          "southeast",
          "southeast",
          "northeast",
          "northeast",
          "northwest",
          "southeast",
          "southwest",
          "southwest",
          "northwest",
          "southeast",
          "southeast",
          "southeast",
          "northwest",
          "southeast",
          "northeast",
          "northeast",
          "southwest",
          "southwest",
          "northeast",
          "northwest",
          "southeast",
          "southeast",
          "southwest",
          "northeast",
          "northeast",
          "southwest",
          "southeast",
          "southwest",
          "northeast",
          "northeast",
          "northwest",
          "southeast",
          "northwest",
          "northwest",
          "southwest",
          "southeast",
          "northeast",
          "northwest",
          "southeast",
          "southeast",
          "southeast",
          "northeast",
          "southwest",
          "northeast",
          "southeast",
          "southwest",
          "northwest",
          "northeast",
          "northwest",
          "northeast",
          "northwest",
          "southwest",
          "southeast",
          "southeast",
          "northeast",
          "northeast",
          "northeast",
          "northeast",
          "southwest",
          "southeast",
          "northeast",
          "northwest",
          "northeast",
          "southeast",
          "southwest",
          "northeast",
          "southeast",
          "southeast",
          "southwest",
          "northeast",
          "southwest",
          "southeast",
          "northwest",
          "northwest",
          "northeast",
          "northeast",
          "southeast",
          "southeast",
          "southwest",
          "northwest",
          "southwest",
          "southeast",
          "northeast",
          "northwest",
          "southwest",
          "southwest",
          "southeast",
          "southeast",
          "southwest",
          "northeast",
          "northwest",
          "northeast",
          "northwest",
          "northeast",
          "northwest",
          "northeast",
          "southwest",
          "northeast",
          "southwest",
          "northeast",
          "southeast",
          "northwest",
          "southwest",
          "southwest",
          "northeast",
          "northwest",
          "northwest",
          "northeast",
          "northeast",
          "southwest",
          "southeast",
          "northwest",
          "northeast",
          "southeast",
          "southwest",
          "northwest",
          "northeast",
          "northeast",
          "southeast",
          "southeast",
          "southeast",
          "northeast",
          "southeast",
          "northwest",
          "northwest",
          "southwest",
          "southwest",
          "northeast",
          "southeast",
          "southwest",
          "southeast",
          "northwest",
          "southeast",
          "southeast",
          "northeast",
          "southwest",
          "southwest",
          "southwest",
          "southeast",
          "northeast",
          "northeast",
          "northwest",
          "northwest",
          "northeast",
          "northwest",
          "northeast",
          "northeast",
          "southwest",
          "southeast",
          "northwest",
          "northeast",
          "southeast",
          "northwest",
          "southeast",
          "northeast",
          "northeast",
          "southeast",
          "southeast",
          "northeast",
          "southwest",
          "southeast",
          "northwest",
          "northwest",
          "northwest",
          "northeast",
          "northwest",
          "northeast",
          "northeast",
          "northeast",
          "northwest",
          "southwest",
          "southeast",
          "southwest",
          "southeast",
          "southwest",
          "southeast",
          "northwest",
          "northwest",
          "southwest",
          "northeast",
          "southeast",
          "southwest",
          "southeast",
          "southeast",
          "northwest",
          "northeast",
          "northeast",
          "southwest",
          "northwest",
          "southeast",
          "southeast",
          "southwest",
          "southeast",
          "northwest",
          "southeast",
          "southeast",
          "northeast",
          "northeast",
          "southwest",
          "southeast",
          "northeast",
          "northeast",
          "northeast",
          "northwest",
          "southwest",
          "northwest",
          "southwest",
          "southwest",
          "northwest",
          "southeast",
          "northeast",
          "southwest",
          "southeast",
          "northeast",
          "northwest",
          "southwest",
          "southeast",
          "southeast",
          "northwest",
          "southwest",
          "northeast",
          "northwest",
          "southwest",
          "southwest",
          "southwest",
          "northwest",
          "southwest",
          "northwest",
          "southeast",
          "southwest",
          "southeast",
          "northwest",
          "southwest",
          "southeast",
          "southeast",
          "southwest",
          "northeast",
          "northeast",
          "northwest",
          "southeast",
          "southwest",
          "northwest",
          "northeast",
          "southeast",
          "southeast",
          "northeast",
          "southwest",
          "northeast",
          "southwest",
          "northwest",
          "northeast",
          "northwest",
          "southeast",
          "southeast",
          "northwest",
          "southeast",
          "southeast",
          "southwest",
          "southwest",
          "northeast",
          "northwest",
          "southwest",
          "southeast",
          "northwest",
          "southwest",
          "southeast",
          "northeast",
          "southwest",
          "southwest",
          "northeast",
          "southwest",
          "southwest",
          "southeast",
          "southwest",
          "southwest",
          "northeast",
          "southeast",
          "southeast",
          "southeast",
          "northwest",
          "northwest",
          "northwest",
          "northeast",
          "southwest",
          "northeast",
          "southeast",
          "northeast",
          "southwest",
          "southwest",
          "southwest",
          "southeast",
          "northwest",
          "southwest",
          "northeast",
          "northeast",
          "southeast",
          "northeast",
          "southeast",
          "southeast",
          "southeast",
          "northwest",
          "southwest",
          "northeast",
          "northeast",
          "southeast",
          "northeast",
          "southeast",
          "southeast",
          "southeast",
          "northeast",
          "southwest",
          "southwest",
          "southeast",
          "southeast",
          "southwest",
          "southeast",
          "southeast",
          "southeast",
          "northwest",
          "northwest",
          "northeast",
          "southwest",
          "northeast",
          "southeast",
          "southwest",
          "southeast",
          "southwest",
          "northwest",
          "northeast",
          "southwest",
          "northeast",
          "southeast",
          "northwest",
          "northwest",
          "northwest",
          "northeast",
          "southwest",
          "southeast",
          "southeast",
          "northwest",
          "northwest",
          "northwest",
          "southwest",
          "northwest",
          "southwest",
          "southeast",
          "southeast",
          "northeast",
          "northeast",
          "northwest",
          "southeast",
          "northeast",
          "southwest",
          "northeast",
          "northeast",
          "northwest",
          "southeast",
          "southeast",
          "southwest",
          "southeast",
          "northeast",
          "northwest",
          "northeast",
          "southeast",
          "southwest",
          "northwest",
          "southeast",
          "northeast",
          "southeast",
          "northeast",
          "southeast",
          "northeast",
          "southwest",
          "northwest",
          "southeast",
          "northwest",
          "southwest",
          "southeast",
          "northwest",
          "southeast",
          "northeast",
          "northwest",
          "northeast",
          "southwest",
          "southeast",
          "southwest",
          "northeast",
          "northeast",
          "southeast",
          "southeast",
          "northeast",
          "southwest",
          "southeast",
          "southwest",
          "southwest",
          "southwest",
          "southwest",
          "northeast",
          "northwest",
          "northwest",
          "northeast",
          "southeast",
          "southwest",
          "northwest",
          "southwest",
          "southwest",
          "southeast",
          "northeast",
          "southwest",
          "northeast",
          "northwest",
          "northeast",
          "northeast",
          "southeast",
          "southwest",
          "northwest",
          "northeast",
          "northwest",
          "southeast",
          "northeast",
          "northwest",
          "northeast",
          "northeast",
          "northeast",
          "southeast",
          "southeast",
          "southeast",
          "southeast",
          "southeast",
          "southeast",
          "southwest",
          "northwest",
          "northeast",
          "northeast",
          "southeast",
          "southeast",
          "northeast",
          "southeast",
          "southeast",
          "southeast",
          "southwest",
          "northwest",
          "northeast",
          "southeast",
          "southeast",
          "northeast",
          "southeast",
          "southeast",
          "southeast",
          "northwest",
          "southeast",
          "northwest",
          "southwest",
          "northwest",
          "southwest",
          "southwest",
          "southwest",
          "northwest",
          "southwest",
          "northeast",
          "northeast",
          "southeast",
          "southwest",
          "southeast",
          "northeast",
          "southwest",
          "northwest",
          "northwest",
          "southwest",
          "northwest",
          "northeast",
          "southeast",
          "northwest",
          "southeast",
          "southeast",
          "northeast",
          "southeast",
          "northwest",
          "northwest",
          "southwest",
          "southeast",
          "northwest",
          "northeast",
          "northeast",
          "southeast",
          "southeast",
          "northwest",
          "northeast",
          "southwest",
          "southwest",
          "northwest",
          "northwest",
          "northwest",
          "northwest",
          "northeast",
          "southwest",
          "southwest",
          "southwest",
          "northeast",
          "southeast",
          "northwest",
          "northeast",
          "northeast",
          "southeast",
          "southeast",
          "southwest",
          "southwest",
          "northeast",
          "southwest",
          "northwest",
          "southeast",
          "southwest",
          "northeast",
          "southwest",
          "northeast",
          "southeast",
          "northeast",
          "southeast",
          "northwest",
          "northwest",
          "southwest",
          "northwest",
          "southwest",
          "northwest",
          "southeast",
          "northwest",
          "northwest",
          "southeast",
          "northeast",
          "northeast",
          "northeast",
          "southeast",
          "northeast",
          "southeast",
          "northeast",
          "southwest",
          "southwest",
          "northeast",
          "northeast",
          "northwest",
          "southwest",
          "southwest",
          "southwest",
          "northwest",
          "southwest",
          "southwest",
          "northeast",
          "northwest",
          "northwest",
          "southeast",
          "northwest",
          "northeast",
          "southeast",
          "northwest",
          "southwest",
          "southeast",
          "southeast",
          "southwest",
          "southeast",
          "southwest",
          "northeast",
          "northwest",
          "northeast",
          "southeast",
          "southeast",
          "southwest",
          "northeast",
          "southeast",
          "northwest",
          "northwest",
          "southeast",
          "northeast",
          "southwest",
          "northeast",
          "southeast",
          "southeast",
          "southwest",
          "southeast",
          "southeast",
          "northwest",
          "northwest",
          "northwest",
          "southeast",
          "northeast",
          "southwest",
          "northwest",
          "southeast",
          "northeast",
          "southeast",
          "southeast",
          "northwest",
          "southwest",
          "northeast",
          "northwest",
          "southwest",
          "northwest",
          "southeast",
          "southeast",
          "northwest",
          "northeast",
          "southeast",
          "northeast",
          "northeast",
          "northwest",
          "southwest",
          "northwest",
          "northwest",
          "northwest",
          "northwest",
          "southeast",
          "southwest",
          "northeast",
          "northeast",
          "northwest",
          "southwest",
          "northeast",
          "southeast",
          "southeast",
          "northeast",
          "southeast",
          "southwest",
          "southeast",
          "southwest",
          "northwest",
          "northeast",
          "northwest",
          "northeast",
          "northeast",
          "northeast",
          "southwest",
          "southeast",
          "northwest",
          "southeast",
          "southwest",
          "southwest",
          "southwest",
          "northwest",
          "northeast",
          "southwest",
          "southwest",
          "southeast",
          "southwest",
          "northeast",
          "southwest",
          "southwest",
          "southeast",
          "southeast",
          "southwest",
          "northeast",
          "northwest",
          "southwest",
          "southeast",
          "southwest",
          "southwest",
          "southwest",
          "northwest",
          "northeast",
          "northeast",
          "northwest",
          "southeast",
          "northeast",
          "northwest",
          "southwest",
          "northwest",
          "northwest",
          "southeast",
          "northeast",
          "southeast",
          "northeast",
          "southwest",
          "northeast",
          "northwest",
          "southeast",
          "northwest",
          "northeast",
          "southeast",
          "northeast",
          "southeast",
          "southwest",
          "northeast",
          "northeast",
          "southeast",
          "southwest",
          "southwest",
          "northwest",
          "northeast",
          "northwest",
          "southwest",
          "northwest",
          "southeast",
          "northwest",
          "northeast",
          "southwest",
          "southeast",
          "southwest",
          "southwest",
          "southwest",
          "northwest",
          "southwest",
          "northeast",
          "southwest",
          "southwest",
          "southeast",
          "southeast",
          "southeast",
          "southwest",
          "southwest",
          "southwest",
          "southeast",
          "southwest",
          "northeast",
          "northwest",
          "southeast",
          "southeast",
          "southeast",
          "southeast",
          "northeast",
          "northwest",
          "southeast",
          "southwest",
          "southwest",
          "northeast",
          "northwest",
          "southwest",
          "northeast",
          "southeast",
          "northwest",
          "southwest",
          "northwest",
          "southeast",
          "southeast",
          "northwest",
          "northeast",
          "northwest",
          "northwest",
          "southwest",
          "southeast",
          "northeast",
          "northwest",
          "southwest",
          "northwest",
          "northwest",
          "northeast",
          "southeast",
          "southeast",
          "northeast",
          "northwest",
          "southwest",
          "southeast",
          "northeast",
          "southeast",
          "southeast",
          "northeast",
          "southeast",
          "northeast",
          "northeast",
          "southwest",
          "northeast",
          "northeast",
          "southwest",
          "northwest",
          "northwest",
          "northeast",
          "northeast",
          "southwest",
          "northeast",
          "southwest",
          "southeast",
          "northwest",
          "northeast",
          "southwest",
          "southeast",
          "northeast",
          "northwest",
          "northwest",
          "southwest",
          "southwest",
          "southwest",
          "northeast",
          "northwest",
          "northeast",
          "northwest",
          "northeast",
          "northeast",
          "southwest",
          "southeast",
          "southeast",
          "northwest",
          "southwest",
          "northwest",
          "northwest",
          "southwest",
          "northwest",
          "northwest",
          "southwest",
          "southeast",
          "southeast",
          "southeast",
          "southeast",
          "southwest",
          "northwest",
          "northwest",
          "southwest",
          "northeast",
          "northwest",
          "southeast",
          "northeast",
          "northeast",
          "northwest",
          "southwest",
          "southeast",
          "northwest",
          "northeast",
          "northwest",
          "northwest",
          "northeast",
          "northeast",
          "southwest",
          "northeast",
          "northwest",
          "northeast",
          "southeast",
          "northwest",
          "southwest",
          "northwest",
          "northeast",
          "northeast",
          "southwest",
          "northwest",
          "northwest",
          "southwest",
          "southeast",
          "southeast",
          "northwest",
          "southeast",
          "southeast",
          "southeast",
          "northwest",
          "southwest",
          "southwest",
          "southeast",
          "northeast",
          "northwest",
          "southeast",
          "southeast",
          "northeast",
          "northwest",
          "northeast",
          "northeast",
          "southeast",
          "southwest",
          "northeast",
          "southeast",
          "southeast",
          "southeast",
          "northwest",
          "northwest",
          "southwest",
          "northwest",
          "southwest",
          "northeast",
          "northwest",
          "southeast",
          "southwest",
          "southeast",
          "northeast",
          "southwest",
          "northwest",
          "southwest",
          "northeast",
          "northeast",
          "southeast",
          "northeast",
          "southeast",
          "northeast",
          "southwest",
          "southeast",
          "southeast",
          "southwest",
          "southeast",
          "northwest",
          "northwest",
          "southwest",
          "southeast",
          "northeast",
          "southeast",
          "southeast",
          "northwest",
          "northeast",
          "southeast",
          "northeast",
          "southeast",
          "southeast",
          "northwest",
          "southwest",
          "southeast",
          "northwest",
          "northeast",
          "northeast",
          "northwest",
          "southwest",
          "southeast",
          "southwest",
          "southwest",
          "southeast",
          "southwest",
          "northeast",
          "northwest",
          "northwest",
          "northwest",
          "southwest",
          "northwest",
          "southeast",
          "northwest",
          "southeast",
          "southwest",
          "southeast",
          "southeast",
          "southwest",
          "northwest",
          "southwest",
          "northwest",
          "southwest",
          "southwest",
          "northeast",
          "northwest",
          "southeast",
          "northwest",
          "northwest",
          "northeast",
          "southeast",
          "northwest",
          "northeast",
          "southwest",
          "northwest",
          "southeast",
          "southeast",
          "northeast",
          "northwest",
          "northeast",
          "southeast",
          "southwest",
          "southwest",
          "northwest",
          "northeast",
          "southwest",
          "southeast",
          "northwest",
          "northwest",
          "southwest",
          "northwest",
          "southwest",
          "northeast",
          "southeast",
          "northeast",
          "northwest",
          "southwest",
          "northeast",
          "southeast",
          "northeast",
          "northwest",
          "northwest",
          "northeast",
          "southwest",
          "northwest",
          "northeast",
          "northeast",
          "northwest",
          "northwest",
          "northwest",
          "northwest",
          "southeast",
          "northwest",
          "southwest",
          "northwest",
          "northwest",
          "northwest",
          "northeast",
          "southeast",
          "northwest",
          "southwest",
          "southwest",
          "northeast",
          "southwest",
          "northwest",
          "southeast",
          "northeast",
          "southwest",
          "northwest",
          "northeast",
          "southeast",
          "southeast",
          "southwest",
          "northwest",
          "northeast",
          "southeast",
          "southeast",
          "southeast",
          "northeast",
          "southeast",
          "northeast",
          "southeast",
          "southeast",
          "northeast",
          "northwest",
          "southwest",
          "northwest",
          "southwest",
          "southeast",
          "northwest",
          "northeast",
          "northwest",
          "northeast",
          "southeast",
          "southeast",
          "southeast",
          "northwest",
          "southeast",
          "southeast",
          "southwest",
          "southwest",
          "southwest",
          "southeast",
          "northeast",
          "northeast",
          "southwest",
          "southwest",
          "southwest",
          "southeast",
          "southwest",
          "northwest",
          "northwest",
          "northwest",
          "northeast",
          "northeast",
          "southwest",
          "southeast",
          "southwest",
          "northeast",
          "southeast",
          "southwest",
          "northeast",
          "southwest",
          "southwest",
          "northwest",
          "northwest",
          "southeast",
          "southeast",
          "southeast",
          "southwest",
          "northeast",
          "northwest",
          "northeast",
          "northwest",
          "southeast",
          "northwest",
          "northeast",
          "southeast",
          "southwest",
          "northeast",
          "northeast",
          "southwest",
          "southwest",
          "southeast",
          "northeast",
          "southwest",
          "southeast",
          "northwest",
          "northeast",
          "southwest",
          "northeast",
          "southeast",
          "northwest",
          "northwest",
          "southeast",
          "northwest",
          "southwest",
          "southwest",
          "northeast",
          "southeast",
          "northeast",
          "northwest",
          "southwest",
          "southwest",
          "northwest",
          "northwest",
          "southwest",
          "southwest",
          "northwest",
          "northeast",
          "southwest",
          "southeast",
          "northeast",
          "northwest",
          "northwest",
          "northeast",
          "southeast",
          "southeast",
          "northwest",
          "northeast",
          "northeast",
          "southeast",
          "northeast",
          "southwest",
          "southeast",
          "southwest",
          "southwest",
          "northwest",
          "northeast",
          "southeast",
          "southwest",
          "northwest"
         ],
         "xaxis": "x2",
         "yaxis": "y2"
        }
       ],
       "layout": {
        "bargap": 0.1,
        "barmode": "relative",
        "legend": {
         "tracegroupgap": 0
        },
        "template": {
         "data": {
          "bar": [
           {
            "error_x": {
             "color": "#2a3f5f"
            },
            "error_y": {
             "color": "#2a3f5f"
            },
            "marker": {
             "line": {
              "color": "#E5ECF6",
              "width": 0.5
             },
             "pattern": {
              "fillmode": "overlay",
              "size": 10,
              "solidity": 0.2
             }
            },
            "type": "bar"
           }
          ],
          "barpolar": [
           {
            "marker": {
             "line": {
              "color": "#E5ECF6",
              "width": 0.5
             },
             "pattern": {
              "fillmode": "overlay",
              "size": 10,
              "solidity": 0.2
             }
            },
            "type": "barpolar"
           }
          ],
          "carpet": [
           {
            "aaxis": {
             "endlinecolor": "#2a3f5f",
             "gridcolor": "white",
             "linecolor": "white",
             "minorgridcolor": "white",
             "startlinecolor": "#2a3f5f"
            },
            "baxis": {
             "endlinecolor": "#2a3f5f",
             "gridcolor": "white",
             "linecolor": "white",
             "minorgridcolor": "white",
             "startlinecolor": "#2a3f5f"
            },
            "type": "carpet"
           }
          ],
          "choropleth": [
           {
            "colorbar": {
             "outlinewidth": 0,
             "ticks": ""
            },
            "type": "choropleth"
           }
          ],
          "contour": [
           {
            "colorbar": {
             "outlinewidth": 0,
             "ticks": ""
            },
            "colorscale": [
             [
              0,
              "#0d0887"
             ],
             [
              0.1111111111111111,
              "#46039f"
             ],
             [
              0.2222222222222222,
              "#7201a8"
             ],
             [
              0.3333333333333333,
              "#9c179e"
             ],
             [
              0.4444444444444444,
              "#bd3786"
             ],
             [
              0.5555555555555556,
              "#d8576b"
             ],
             [
              0.6666666666666666,
              "#ed7953"
             ],
             [
              0.7777777777777778,
              "#fb9f3a"
             ],
             [
              0.8888888888888888,
              "#fdca26"
             ],
             [
              1,
              "#f0f921"
             ]
            ],
            "type": "contour"
           }
          ],
          "contourcarpet": [
           {
            "colorbar": {
             "outlinewidth": 0,
             "ticks": ""
            },
            "type": "contourcarpet"
           }
          ],
          "heatmap": [
           {
            "colorbar": {
             "outlinewidth": 0,
             "ticks": ""
            },
            "colorscale": [
             [
              0,
              "#0d0887"
             ],
             [
              0.1111111111111111,
              "#46039f"
             ],
             [
              0.2222222222222222,
              "#7201a8"
             ],
             [
              0.3333333333333333,
              "#9c179e"
             ],
             [
              0.4444444444444444,
              "#bd3786"
             ],
             [
              0.5555555555555556,
              "#d8576b"
             ],
             [
              0.6666666666666666,
              "#ed7953"
             ],
             [
              0.7777777777777778,
              "#fb9f3a"
             ],
             [
              0.8888888888888888,
              "#fdca26"
             ],
             [
              1,
              "#f0f921"
             ]
            ],
            "type": "heatmap"
           }
          ],
          "histogram": [
           {
            "marker": {
             "pattern": {
              "fillmode": "overlay",
              "size": 10,
              "solidity": 0.2
             }
            },
            "type": "histogram"
           }
          ],
          "histogram2d": [
           {
            "colorbar": {
             "outlinewidth": 0,
             "ticks": ""
            },
            "colorscale": [
             [
              0,
              "#0d0887"
             ],
             [
              0.1111111111111111,
              "#46039f"
             ],
             [
              0.2222222222222222,
              "#7201a8"
             ],
             [
              0.3333333333333333,
              "#9c179e"
             ],
             [
              0.4444444444444444,
              "#bd3786"
             ],
             [
              0.5555555555555556,
              "#d8576b"
             ],
             [
              0.6666666666666666,
              "#ed7953"
             ],
             [
              0.7777777777777778,
              "#fb9f3a"
             ],
             [
              0.8888888888888888,
              "#fdca26"
             ],
             [
              1,
              "#f0f921"
             ]
            ],
            "type": "histogram2d"
           }
          ],
          "histogram2dcontour": [
           {
            "colorbar": {
             "outlinewidth": 0,
             "ticks": ""
            },
            "colorscale": [
             [
              0,
              "#0d0887"
             ],
             [
              0.1111111111111111,
              "#46039f"
             ],
             [
              0.2222222222222222,
              "#7201a8"
             ],
             [
              0.3333333333333333,
              "#9c179e"
             ],
             [
              0.4444444444444444,
              "#bd3786"
             ],
             [
              0.5555555555555556,
              "#d8576b"
             ],
             [
              0.6666666666666666,
              "#ed7953"
             ],
             [
              0.7777777777777778,
              "#fb9f3a"
             ],
             [
              0.8888888888888888,
              "#fdca26"
             ],
             [
              1,
              "#f0f921"
             ]
            ],
            "type": "histogram2dcontour"
           }
          ],
          "mesh3d": [
           {
            "colorbar": {
             "outlinewidth": 0,
             "ticks": ""
            },
            "type": "mesh3d"
           }
          ],
          "parcoords": [
           {
            "line": {
             "colorbar": {
              "outlinewidth": 0,
              "ticks": ""
             }
            },
            "type": "parcoords"
           }
          ],
          "pie": [
           {
            "automargin": true,
            "type": "pie"
           }
          ],
          "scatter": [
           {
            "fillpattern": {
             "fillmode": "overlay",
             "size": 10,
             "solidity": 0.2
            },
            "type": "scatter"
           }
          ],
          "scatter3d": [
           {
            "line": {
             "colorbar": {
              "outlinewidth": 0,
              "ticks": ""
             }
            },
            "marker": {
             "colorbar": {
              "outlinewidth": 0,
              "ticks": ""
             }
            },
            "type": "scatter3d"
           }
          ],
          "scattercarpet": [
           {
            "marker": {
             "colorbar": {
              "outlinewidth": 0,
              "ticks": ""
             }
            },
            "type": "scattercarpet"
           }
          ],
          "scattergeo": [
           {
            "marker": {
             "colorbar": {
              "outlinewidth": 0,
              "ticks": ""
             }
            },
            "type": "scattergeo"
           }
          ],
          "scattergl": [
           {
            "marker": {
             "colorbar": {
              "outlinewidth": 0,
              "ticks": ""
             }
            },
            "type": "scattergl"
           }
          ],
          "scattermap": [
           {
            "marker": {
             "colorbar": {
              "outlinewidth": 0,
              "ticks": ""
             }
            },
            "type": "scattermap"
           }
          ],
          "scattermapbox": [
           {
            "marker": {
             "colorbar": {
              "outlinewidth": 0,
              "ticks": ""
             }
            },
            "type": "scattermapbox"
           }
          ],
          "scatterpolar": [
           {
            "marker": {
             "colorbar": {
              "outlinewidth": 0,
              "ticks": ""
             }
            },
            "type": "scatterpolar"
           }
          ],
          "scatterpolargl": [
           {
            "marker": {
             "colorbar": {
              "outlinewidth": 0,
              "ticks": ""
             }
            },
            "type": "scatterpolargl"
           }
          ],
          "scatterternary": [
           {
            "marker": {
             "colorbar": {
              "outlinewidth": 0,
              "ticks": ""
             }
            },
            "type": "scatterternary"
           }
          ],
          "surface": [
           {
            "colorbar": {
             "outlinewidth": 0,
             "ticks": ""
            },
            "colorscale": [
             [
              0,
              "#0d0887"
             ],
             [
              0.1111111111111111,
              "#46039f"
             ],
             [
              0.2222222222222222,
              "#7201a8"
             ],
             [
              0.3333333333333333,
              "#9c179e"
             ],
             [
              0.4444444444444444,
              "#bd3786"
             ],
             [
              0.5555555555555556,
              "#d8576b"
             ],
             [
              0.6666666666666666,
              "#ed7953"
             ],
             [
              0.7777777777777778,
              "#fb9f3a"
             ],
             [
              0.8888888888888888,
              "#fdca26"
             ],
             [
              1,
              "#f0f921"
             ]
            ],
            "type": "surface"
           }
          ],
          "table": [
           {
            "cells": {
             "fill": {
              "color": "#EBF0F8"
             },
             "line": {
              "color": "white"
             }
            },
            "header": {
             "fill": {
              "color": "#C8D4E3"
             },
             "line": {
              "color": "white"
             }
            },
            "type": "table"
           }
          ]
         },
         "layout": {
          "annotationdefaults": {
           "arrowcolor": "#2a3f5f",
           "arrowhead": 0,
           "arrowwidth": 1
          },
          "autotypenumbers": "strict",
          "coloraxis": {
           "colorbar": {
            "outlinewidth": 0,
            "ticks": ""
           }
          },
          "colorscale": {
           "diverging": [
            [
             0,
             "#8e0152"
            ],
            [
             0.1,
             "#c51b7d"
            ],
            [
             0.2,
             "#de77ae"
            ],
            [
             0.3,
             "#f1b6da"
            ],
            [
             0.4,
             "#fde0ef"
            ],
            [
             0.5,
             "#f7f7f7"
            ],
            [
             0.6,
             "#e6f5d0"
            ],
            [
             0.7,
             "#b8e186"
            ],
            [
             0.8,
             "#7fbc41"
            ],
            [
             0.9,
             "#4d9221"
            ],
            [
             1,
             "#276419"
            ]
           ],
           "sequential": [
            [
             0,
             "#0d0887"
            ],
            [
             0.1111111111111111,
             "#46039f"
            ],
            [
             0.2222222222222222,
             "#7201a8"
            ],
            [
             0.3333333333333333,
             "#9c179e"
            ],
            [
             0.4444444444444444,
             "#bd3786"
            ],
            [
             0.5555555555555556,
             "#d8576b"
            ],
            [
             0.6666666666666666,
             "#ed7953"
            ],
            [
             0.7777777777777778,
             "#fb9f3a"
            ],
            [
             0.8888888888888888,
             "#fdca26"
            ],
            [
             1,
             "#f0f921"
            ]
           ],
           "sequentialminus": [
            [
             0,
             "#0d0887"
            ],
            [
             0.1111111111111111,
             "#46039f"
            ],
            [
             0.2222222222222222,
             "#7201a8"
            ],
            [
             0.3333333333333333,
             "#9c179e"
            ],
            [
             0.4444444444444444,
             "#bd3786"
            ],
            [
             0.5555555555555556,
             "#d8576b"
            ],
            [
             0.6666666666666666,
             "#ed7953"
            ],
            [
             0.7777777777777778,
             "#fb9f3a"
            ],
            [
             0.8888888888888888,
             "#fdca26"
            ],
            [
             1,
             "#f0f921"
            ]
           ]
          },
          "colorway": [
           "#636efa",
           "#EF553B",
           "#00cc96",
           "#ab63fa",
           "#FFA15A",
           "#19d3f3",
           "#FF6692",
           "#B6E880",
           "#FF97FF",
           "#FECB52"
          ],
          "font": {
           "color": "#2a3f5f"
          },
          "geo": {
           "bgcolor": "white",
           "lakecolor": "white",
           "landcolor": "#E5ECF6",
           "showlakes": true,
           "showland": true,
           "subunitcolor": "white"
          },
          "hoverlabel": {
           "align": "left"
          },
          "hovermode": "closest",
          "mapbox": {
           "style": "light"
          },
          "paper_bgcolor": "white",
          "plot_bgcolor": "#E5ECF6",
          "polar": {
           "angularaxis": {
            "gridcolor": "white",
            "linecolor": "white",
            "ticks": ""
           },
           "bgcolor": "#E5ECF6",
           "radialaxis": {
            "gridcolor": "white",
            "linecolor": "white",
            "ticks": ""
           }
          },
          "scene": {
           "xaxis": {
            "backgroundcolor": "#E5ECF6",
            "gridcolor": "white",
            "gridwidth": 2,
            "linecolor": "white",
            "showbackground": true,
            "ticks": "",
            "zerolinecolor": "white"
           },
           "yaxis": {
            "backgroundcolor": "#E5ECF6",
            "gridcolor": "white",
            "gridwidth": 2,
            "linecolor": "white",
            "showbackground": true,
            "ticks": "",
            "zerolinecolor": "white"
           },
           "zaxis": {
            "backgroundcolor": "#E5ECF6",
            "gridcolor": "white",
            "gridwidth": 2,
            "linecolor": "white",
            "showbackground": true,
            "ticks": "",
            "zerolinecolor": "white"
           }
          },
          "shapedefaults": {
           "line": {
            "color": "#2a3f5f"
           }
          },
          "ternary": {
           "aaxis": {
            "gridcolor": "white",
            "linecolor": "white",
            "ticks": ""
           },
           "baxis": {
            "gridcolor": "white",
            "linecolor": "white",
            "ticks": ""
           },
           "bgcolor": "#E5ECF6",
           "caxis": {
            "gridcolor": "white",
            "linecolor": "white",
            "ticks": ""
           }
          },
          "title": {
           "x": 0.05
          },
          "xaxis": {
           "automargin": true,
           "gridcolor": "white",
           "linecolor": "white",
           "ticks": "",
           "title": {
            "standoff": 15
           },
           "zerolinecolor": "white",
           "zerolinewidth": 2
          },
          "yaxis": {
           "automargin": true,
           "gridcolor": "white",
           "linecolor": "white",
           "ticks": "",
           "title": {
            "standoff": 15
           },
           "zerolinecolor": "white",
           "zerolinewidth": 2
          }
         }
        },
        "title": {
         "text": "counts by region"
        },
        "xaxis": {
         "anchor": "y",
         "domain": [
          0,
          1
         ],
         "title": {
          "text": "region"
         }
        },
        "xaxis2": {
         "anchor": "y2",
         "domain": [
          0,
          1
         ],
         "matches": "x",
         "showgrid": true,
         "showticklabels": false
        },
        "yaxis": {
         "anchor": "x",
         "domain": [
          0,
          0.8316
         ],
         "title": {
          "text": "count"
         }
        },
        "yaxis2": {
         "anchor": "x2",
         "domain": [
          0.8416,
          1
         ],
         "matches": "y2",
         "showgrid": false,
         "showline": false,
         "showticklabels": false,
         "ticks": ""
        }
       }
      }
     },
     "metadata": {},
     "output_type": "display_data"
    }
   ],
   "source": [
    "#I haven't checked region counts yet\n",
    "fig = px.histogram(medical_df, \n",
    "                   x='region', \n",
    "                   marginal='box', \n",
    "                   title='counts by region')\n",
    "fig.update_layout(bargap=0.1)\n",
    "fig.show()\n",
    "\n",
    "#slightly more in the southeastern region. It could be that the company is located near there and so they tend to reach them better, but this is pretty evenly dsitributed.\n",
    "#I believe that the fact that this is evenly distributed supports the data acquired earlier that southeastern costs tend to be higher."
   ]
  },
  {
   "cell_type": "code",
   "execution_count": null,
   "id": "scheduled-japan",
   "metadata": {},
   "outputs": [
    {
     "data": {
      "application/vnd.plotly.v1+json": {
       "config": {
        "plotlyServerURL": "https://plot.ly"
       },
       "data": [
        {
         "bingroup": "x",
         "hovertemplate": "sex=%{x}<br>count=%{y}<extra></extra>",
         "legendgroup": "",
         "marker": {
          "color": "#636efa",
          "pattern": {
           "shape": ""
          }
         },
         "name": "",
         "orientation": "v",
         "showlegend": false,
         "type": "histogram",
         "x": [
          "female",
          "male",
          "male",
          "male",
          "male",
          "female",
          "female",
          "female",
          "male",
          "female",
          "male",
          "female",
          "male",
          "female",
          "male",
          "male",
          "female",
          "male",
          "male",
          "male",
          "female",
          "female",
          "male",
          "female",
          "male",
          "female",
          "female",
          "female",
          "male",
          "male",
          "male",
          "female",
          "female",
          "male",
          "male",
          "male",
          "female",
          "male",
          "male",
          "male",
          "female",
          "female",
          "male",
          "female",
          "male",
          "male",
          "female",
          "female",
          "female",
          "male",
          "female",
          "female",
          "male",
          "male",
          "female",
          "male",
          "female",
          "male",
          "female",
          "female",
          "male",
          "male",
          "male",
          "female",
          "female",
          "female",
          "female",
          "male",
          "female",
          "male",
          "female",
          "male",
          "female",
          "male",
          "male",
          "male",
          "female",
          "male",
          "female",
          "female",
          "male",
          "female",
          "male",
          "female",
          "female",
          "male",
          "female",
          "female",
          "female",
          "female",
          "female",
          "female",
          "male",
          "male",
          "female",
          "female",
          "female",
          "male",
          "male",
          "male",
          "female",
          "male",
          "female",
          "female",
          "female",
          "male",
          "female",
          "male",
          "male",
          "male",
          "male",
          "female",
          "male",
          "female",
          "male",
          "male",
          "male",
          "female",
          "female",
          "female",
          "male",
          "male",
          "female",
          "male",
          "female",
          "female",
          "female",
          "female",
          "female",
          "male",
          "female",
          "female",
          "female",
          "male",
          "female",
          "female",
          "male",
          "male",
          "female",
          "female",
          "male",
          "male",
          "male",
          "male",
          "male",
          "female",
          "male",
          "female",
          "female",
          "male",
          "male",
          "male",
          "female",
          "female",
          "female",
          "male",
          "male",
          "male",
          "male",
          "female",
          "female",
          "female",
          "male",
          "female",
          "male",
          "male",
          "female",
          "female",
          "female",
          "male",
          "male",
          "male",
          "male",
          "female",
          "female",
          "female",
          "male",
          "male",
          "female",
          "female",
          "male",
          "female",
          "male",
          "female",
          "male",
          "male",
          "female",
          "female",
          "female",
          "female",
          "male",
          "female",
          "male",
          "female",
          "male",
          "male",
          "female",
          "female",
          "female",
          "female",
          "female",
          "female",
          "female",
          "female",
          "male",
          "female",
          "male",
          "male",
          "female",
          "male",
          "male",
          "male",
          "male",
          "female",
          "female",
          "female",
          "female",
          "male",
          "female",
          "female",
          "female",
          "female",
          "male",
          "male",
          "male",
          "male",
          "male",
          "female",
          "female",
          "male",
          "female",
          "female",
          "female",
          "male",
          "male",
          "female",
          "female",
          "male",
          "male",
          "male",
          "female",
          "female",
          "female",
          "male",
          "female",
          "male",
          "female",
          "male",
          "male",
          "male",
          "male",
          "female",
          "male",
          "male",
          "male",
          "female",
          "male",
          "female",
          "male",
          "male",
          "female",
          "female",
          "male",
          "male",
          "female",
          "male",
          "male",
          "female",
          "male",
          "male",
          "male",
          "male",
          "male",
          "male",
          "male",
          "female",
          "male",
          "female",
          "male",
          "female",
          "female",
          "male",
          "male",
          "female",
          "female",
          "male",
          "female",
          "female",
          "female",
          "male",
          "female",
          "male",
          "male",
          "female",
          "male",
          "male",
          "male",
          "male",
          "male",
          "female",
          "male",
          "female",
          "female",
          "female",
          "female",
          "male",
          "female",
          "female",
          "male",
          "female",
          "male",
          "female",
          "male",
          "male",
          "female",
          "male",
          "male",
          "male",
          "female",
          "male",
          "male",
          "female",
          "male",
          "male",
          "male",
          "male",
          "female",
          "male",
          "female",
          "male",
          "female",
          "male",
          "female",
          "female",
          "female",
          "male",
          "male",
          "male",
          "male",
          "female",
          "female",
          "male",
          "female",
          "male",
          "female",
          "female",
          "male",
          "male",
          "female",
          "male",
          "female",
          "female",
          "female",
          "male",
          "female",
          "male",
          "male",
          "male",
          "male",
          "female",
          "female",
          "male",
          "female",
          "female",
          "female",
          "female",
          "female",
          "female",
          "male",
          "male",
          "female",
          "female",
          "female",
          "male",
          "male",
          "female",
          "female",
          "male",
          "female",
          "male",
          "female",
          "male",
          "male",
          "female",
          "male",
          "male",
          "female",
          "male",
          "female",
          "female",
          "male",
          "female",
          "male",
          "male",
          "female",
          "male",
          "female",
          "male",
          "male",
          "female",
          "female",
          "male",
          "female",
          "male",
          "male",
          "female",
          "female",
          "female",
          "male",
          "male",
          "male",
          "female",
          "female",
          "male",
          "female",
          "female",
          "male",
          "female",
          "male",
          "female",
          "male",
          "male",
          "male",
          "male",
          "male",
          "male",
          "female",
          "female",
          "female",
          "female",
          "male",
          "female",
          "male",
          "female",
          "male",
          "male",
          "male",
          "male",
          "female",
          "male",
          "female",
          "female",
          "male",
          "female",
          "male",
          "female",
          "male",
          "female",
          "female",
          "male",
          "male",
          "male",
          "male",
          "male",
          "male",
          "male",
          "female",
          "female",
          "male",
          "female",
          "female",
          "male",
          "female",
          "male",
          "male",
          "female",
          "female",
          "female",
          "female",
          "female",
          "male",
          "female",
          "female",
          "female",
          "male",
          "male",
          "male",
          "male",
          "male",
          "male",
          "male",
          "male",
          "female",
          "female",
          "male",
          "female",
          "female",
          "male",
          "female",
          "male",
          "female",
          "female",
          "female",
          "male",
          "male",
          "male",
          "female",
          "male",
          "female",
          "female",
          "male",
          "male",
          "male",
          "male",
          "female",
          "male",
          "male",
          "male",
          "female",
          "female",
          "male",
          "male",
          "male",
          "male",
          "male",
          "male",
          "male",
          "male",
          "female",
          "male",
          "female",
          "female",
          "female",
          "female",
          "male",
          "female",
          "female",
          "female",
          "male",
          "male",
          "male",
          "female",
          "male",
          "male",
          "male",
          "male",
          "female",
          "female",
          "female",
          "male",
          "female",
          "female",
          "female",
          "female",
          "male",
          "male",
          "male",
          "female",
          "female",
          "female",
          "male",
          "female",
          "male",
          "female",
          "female",
          "male",
          "male",
          "male",
          "female",
          "male",
          "female",
          "female",
          "male",
          "male",
          "female",
          "female",
          "female",
          "male",
          "female",
          "male",
          "female",
          "female",
          "female",
          "female",
          "female",
          "female",
          "male",
          "female",
          "male",
          "female",
          "male",
          "male",
          "male",
          "female",
          "male",
          "female",
          "male",
          "female",
          "female",
          "female",
          "female",
          "male",
          "male",
          "female",
          "male",
          "female",
          "female",
          "female",
          "male",
          "female",
          "female",
          "male",
          "female",
          "female",
          "female",
          "female",
          "female",
          "female",
          "male",
          "male",
          "female",
          "female",
          "female",
          "female",
          "female",
          "female",
          "female",
          "male",
          "female",
          "female",
          "male",
          "male",
          "female",
          "male",
          "male",
          "female",
          "male",
          "male",
          "male",
          "female",
          "male",
          "male",
          "female",
          "male",
          "male",
          "male",
          "female",
          "female",
          "male",
          "male",
          "male",
          "male",
          "male",
          "female",
          "male",
          "male",
          "male",
          "female",
          "male",
          "female",
          "female",
          "female",
          "female",
          "female",
          "female",
          "female",
          "female",
          "male",
          "female",
          "female",
          "male",
          "female",
          "female",
          "male",
          "female",
          "male",
          "male",
          "female",
          "male",
          "female",
          "male",
          "female",
          "male",
          "female",
          "female",
          "male",
          "female",
          "male",
          "male",
          "female",
          "female",
          "male",
          "male",
          "male",
          "female",
          "male",
          "male",
          "male",
          "female",
          "male",
          "male",
          "male",
          "male",
          "male",
          "female",
          "female",
          "female",
          "male",
          "male",
          "female",
          "female",
          "female",
          "male",
          "female",
          "female",
          "female",
          "female",
          "male",
          "female",
          "female",
          "male",
          "female",
          "female",
          "male",
          "female",
          "male",
          "female",
          "male",
          "female",
          "female",
          "female",
          "male",
          "male",
          "male",
          "female",
          "female",
          "male",
          "female",
          "female",
          "female",
          "male",
          "male",
          "female",
          "female",
          "female",
          "female",
          "female",
          "male",
          "male",
          "male",
          "male",
          "male",
          "male",
          "female",
          "male",
          "female",
          "male",
          "male",
          "female",
          "male",
          "female",
          "male",
          "male",
          "female",
          "male",
          "male",
          "female",
          "female",
          "male",
          "male",
          "female",
          "male",
          "male",
          "male",
          "female",
          "female",
          "male",
          "female",
          "female",
          "female",
          "male",
          "female",
          "female",
          "female",
          "male",
          "male",
          "male",
          "male",
          "male",
          "male",
          "male",
          "male",
          "male",
          "female",
          "female",
          "female",
          "male",
          "male",
          "male",
          "female",
          "female",
          "male",
          "female",
          "male",
          "female",
          "male",
          "male",
          "female",
          "female",
          "male",
          "female",
          "female",
          "male",
          "female",
          "male",
          "female",
          "female",
          "female",
          "male",
          "male",
          "female",
          "female",
          "male",
          "male",
          "male",
          "female",
          "female",
          "male",
          "female",
          "female",
          "male",
          "male",
          "female",
          "female",
          "male",
          "female",
          "male",
          "male",
          "male",
          "male",
          "male",
          "female",
          "female",
          "male",
          "male",
          "male",
          "male",
          "female",
          "female",
          "female",
          "male",
          "male",
          "female",
          "female",
          "male",
          "female",
          "female",
          "male",
          "female",
          "male",
          "female",
          "male",
          "female",
          "female",
          "female",
          "female",
          "female",
          "male",
          "female",
          "male",
          "female",
          "female",
          "female",
          "female",
          "male",
          "male",
          "male",
          "male",
          "male",
          "female",
          "male",
          "female",
          "male",
          "male",
          "male",
          "female",
          "female",
          "male",
          "male",
          "female",
          "male",
          "male",
          "female",
          "female",
          "male",
          "male",
          "male",
          "female",
          "male",
          "male",
          "female",
          "female",
          "male",
          "male",
          "male",
          "female",
          "female",
          "male",
          "female",
          "female",
          "male",
          "male",
          "male",
          "male",
          "female",
          "female",
          "male",
          "female",
          "male",
          "female",
          "male",
          "male",
          "female",
          "female",
          "male",
          "female",
          "female",
          "male",
          "female",
          "female",
          "female",
          "female",
          "male",
          "male",
          "male",
          "male",
          "female",
          "female",
          "female",
          "male",
          "male",
          "female",
          "male",
          "female",
          "male",
          "female",
          "male",
          "female",
          "male",
          "male",
          "male",
          "female",
          "female",
          "male",
          "male",
          "female",
          "male",
          "male",
          "male",
          "male",
          "male",
          "male",
          "female",
          "male",
          "male",
          "male",
          "male",
          "male",
          "male",
          "male",
          "female",
          "female",
          "female",
          "male",
          "male",
          "male",
          "male",
          "male",
          "male",
          "female",
          "female",
          "female",
          "female",
          "female",
          "male",
          "male",
          "male",
          "male",
          "female",
          "female",
          "male",
          "male",
          "male",
          "female",
          "male",
          "female",
          "male",
          "female",
          "male",
          "female",
          "female",
          "female",
          "female",
          "male",
          "female",
          "female",
          "female",
          "female",
          "female",
          "female",
          "male",
          "male",
          "male",
          "male",
          "male",
          "male",
          "male",
          "male",
          "male",
          "male",
          "female",
          "male",
          "female",
          "male",
          "female",
          "male",
          "female",
          "female",
          "female",
          "female",
          "male",
          "female",
          "male",
          "male",
          "female",
          "female",
          "male",
          "male",
          "male",
          "female",
          "female",
          "female",
          "female",
          "male",
          "male",
          "female",
          "male",
          "female",
          "male",
          "male",
          "female",
          "male",
          "male",
          "female",
          "male",
          "female",
          "female",
          "male",
          "female",
          "male",
          "female",
          "male",
          "male",
          "male",
          "female",
          "male",
          "female",
          "female",
          "female",
          "male",
          "male",
          "male",
          "male",
          "male",
          "female",
          "female",
          "male",
          "male",
          "male",
          "female",
          "male",
          "male",
          "male",
          "female",
          "female",
          "female",
          "female",
          "male",
          "male",
          "male",
          "male",
          "male",
          "male",
          "male",
          "female",
          "female",
          "male",
          "male",
          "male",
          "male",
          "male",
          "female",
          "male",
          "female",
          "female",
          "female",
          "female",
          "male",
          "female",
          "female",
          "female",
          "male",
          "male",
          "male",
          "male",
          "female",
          "female",
          "female",
          "male",
          "male",
          "female",
          "male",
          "female",
          "female",
          "male",
          "male",
          "male",
          "male",
          "male",
          "female",
          "female",
          "male",
          "female",
          "female",
          "female",
          "female",
          "male",
          "female",
          "male",
          "female",
          "female",
          "male",
          "male",
          "female",
          "male",
          "female",
          "female",
          "female",
          "male",
          "female",
          "male",
          "female",
          "female",
          "male",
          "male",
          "male",
          "male",
          "female",
          "male",
          "male",
          "female",
          "female",
          "female",
          "female",
          "female",
          "female",
          "male",
          "female",
          "female",
          "female",
          "female",
          "male",
          "male",
          "female",
          "female",
          "female",
          "male",
          "female",
          "male",
          "female",
          "male",
          "female",
          "female",
          "male",
          "male",
          "female",
          "female",
          "female",
          "female",
          "male",
          "female",
          "female",
          "female",
          "female",
          "female",
          "male",
          "male",
          "female",
          "female",
          "female",
          "female",
          "female",
          "female",
          "female",
          "female",
          "female",
          "female",
          "male",
          "male",
          "female",
          "male",
          "male",
          "male",
          "male",
          "female",
          "male",
          "female",
          "male",
          "female",
          "male",
          "male",
          "male",
          "male",
          "female",
          "female",
          "male",
          "male",
          "male",
          "female",
          "female",
          "female",
          "male",
          "male",
          "female",
          "male",
          "female",
          "male",
          "male",
          "male",
          "male",
          "male",
          "female",
          "female",
          "male",
          "female",
          "male",
          "female",
          "female",
          "male",
          "female",
          "male",
          "male",
          "female",
          "female",
          "male",
          "male",
          "female",
          "male",
          "female",
          "male",
          "male",
          "male",
          "male",
          "female",
          "female",
          "female",
          "female",
          "female",
          "male",
          "female",
          "female",
          "male",
          "female",
          "female",
          "female",
          "male",
          "female",
          "male",
          "female",
          "male",
          "male",
          "female",
          "male",
          "male",
          "male",
          "male",
          "female",
          "female",
          "male",
          "female",
          "female",
          "female",
          "female",
          "male",
          "male",
          "female",
          "female",
          "female",
          "male",
          "male",
          "female",
          "male",
          "male",
          "male",
          "male",
          "male",
          "male",
          "female",
          "male",
          "female",
          "male",
          "male",
          "female",
          "male",
          "male",
          "female",
          "female",
          "male",
          "female",
          "male",
          "male",
          "female",
          "male",
          "female",
          "female",
          "male",
          "female",
          "male",
          "male",
          "female",
          "male",
          "male",
          "male",
          "female",
          "male",
          "male",
          "female",
          "male",
          "female",
          "male",
          "female",
          "female",
          "female",
          "male",
          "female",
          "female",
          "female",
          "female"
         ],
         "xaxis": "x",
         "yaxis": "y"
        },
        {
         "hovertemplate": "sex=%{x}<extra></extra>",
         "legendgroup": "",
         "marker": {
          "color": "#636efa"
         },
         "name": "",
         "notched": true,
         "showlegend": false,
         "type": "box",
         "x": [
          "female",
          "male",
          "male",
          "male",
          "male",
          "female",
          "female",
          "female",
          "male",
          "female",
          "male",
          "female",
          "male",
          "female",
          "male",
          "male",
          "female",
          "male",
          "male",
          "male",
          "female",
          "female",
          "male",
          "female",
          "male",
          "female",
          "female",
          "female",
          "male",
          "male",
          "male",
          "female",
          "female",
          "male",
          "male",
          "male",
          "female",
          "male",
          "male",
          "male",
          "female",
          "female",
          "male",
          "female",
          "male",
          "male",
          "female",
          "female",
          "female",
          "male",
          "female",
          "female",
          "male",
          "male",
          "female",
          "male",
          "female",
          "male",
          "female",
          "female",
          "male",
          "male",
          "male",
          "female",
          "female",
          "female",
          "female",
          "male",
          "female",
          "male",
          "female",
          "male",
          "female",
          "male",
          "male",
          "male",
          "female",
          "male",
          "female",
          "female",
          "male",
          "female",
          "male",
          "female",
          "female",
          "male",
          "female",
          "female",
          "female",
          "female",
          "female",
          "female",
          "male",
          "male",
          "female",
          "female",
          "female",
          "male",
          "male",
          "male",
          "female",
          "male",
          "female",
          "female",
          "female",
          "male",
          "female",
          "male",
          "male",
          "male",
          "male",
          "female",
          "male",
          "female",
          "male",
          "male",
          "male",
          "female",
          "female",
          "female",
          "male",
          "male",
          "female",
          "male",
          "female",
          "female",
          "female",
          "female",
          "female",
          "male",
          "female",
          "female",
          "female",
          "male",
          "female",
          "female",
          "male",
          "male",
          "female",
          "female",
          "male",
          "male",
          "male",
          "male",
          "male",
          "female",
          "male",
          "female",
          "female",
          "male",
          "male",
          "male",
          "female",
          "female",
          "female",
          "male",
          "male",
          "male",
          "male",
          "female",
          "female",
          "female",
          "male",
          "female",
          "male",
          "male",
          "female",
          "female",
          "female",
          "male",
          "male",
          "male",
          "male",
          "female",
          "female",
          "female",
          "male",
          "male",
          "female",
          "female",
          "male",
          "female",
          "male",
          "female",
          "male",
          "male",
          "female",
          "female",
          "female",
          "female",
          "male",
          "female",
          "male",
          "female",
          "male",
          "male",
          "female",
          "female",
          "female",
          "female",
          "female",
          "female",
          "female",
          "female",
          "male",
          "female",
          "male",
          "male",
          "female",
          "male",
          "male",
          "male",
          "male",
          "female",
          "female",
          "female",
          "female",
          "male",
          "female",
          "female",
          "female",
          "female",
          "male",
          "male",
          "male",
          "male",
          "male",
          "female",
          "female",
          "male",
          "female",
          "female",
          "female",
          "male",
          "male",
          "female",
          "female",
          "male",
          "male",
          "male",
          "female",
          "female",
          "female",
          "male",
          "female",
          "male",
          "female",
          "male",
          "male",
          "male",
          "male",
          "female",
          "male",
          "male",
          "male",
          "female",
          "male",
          "female",
          "male",
          "male",
          "female",
          "female",
          "male",
          "male",
          "female",
          "male",
          "male",
          "female",
          "male",
          "male",
          "male",
          "male",
          "male",
          "male",
          "male",
          "female",
          "male",
          "female",
          "male",
          "female",
          "female",
          "male",
          "male",
          "female",
          "female",
          "male",
          "female",
          "female",
          "female",
          "male",
          "female",
          "male",
          "male",
          "female",
          "male",
          "male",
          "male",
          "male",
          "male",
          "female",
          "male",
          "female",
          "female",
          "female",
          "female",
          "male",
          "female",
          "female",
          "male",
          "female",
          "male",
          "female",
          "male",
          "male",
          "female",
          "male",
          "male",
          "male",
          "female",
          "male",
          "male",
          "female",
          "male",
          "male",
          "male",
          "male",
          "female",
          "male",
          "female",
          "male",
          "female",
          "male",
          "female",
          "female",
          "female",
          "male",
          "male",
          "male",
          "male",
          "female",
          "female",
          "male",
          "female",
          "male",
          "female",
          "female",
          "male",
          "male",
          "female",
          "male",
          "female",
          "female",
          "female",
          "male",
          "female",
          "male",
          "male",
          "male",
          "male",
          "female",
          "female",
          "male",
          "female",
          "female",
          "female",
          "female",
          "female",
          "female",
          "male",
          "male",
          "female",
          "female",
          "female",
          "male",
          "male",
          "female",
          "female",
          "male",
          "female",
          "male",
          "female",
          "male",
          "male",
          "female",
          "male",
          "male",
          "female",
          "male",
          "female",
          "female",
          "male",
          "female",
          "male",
          "male",
          "female",
          "male",
          "female",
          "male",
          "male",
          "female",
          "female",
          "male",
          "female",
          "male",
          "male",
          "female",
          "female",
          "female",
          "male",
          "male",
          "male",
          "female",
          "female",
          "male",
          "female",
          "female",
          "male",
          "female",
          "male",
          "female",
          "male",
          "male",
          "male",
          "male",
          "male",
          "male",
          "female",
          "female",
          "female",
          "female",
          "male",
          "female",
          "male",
          "female",
          "male",
          "male",
          "male",
          "male",
          "female",
          "male",
          "female",
          "female",
          "male",
          "female",
          "male",
          "female",
          "male",
          "female",
          "female",
          "male",
          "male",
          "male",
          "male",
          "male",
          "male",
          "male",
          "female",
          "female",
          "male",
          "female",
          "female",
          "male",
          "female",
          "male",
          "male",
          "female",
          "female",
          "female",
          "female",
          "female",
          "male",
          "female",
          "female",
          "female",
          "male",
          "male",
          "male",
          "male",
          "male",
          "male",
          "male",
          "male",
          "female",
          "female",
          "male",
          "female",
          "female",
          "male",
          "female",
          "male",
          "female",
          "female",
          "female",
          "male",
          "male",
          "male",
          "female",
          "male",
          "female",
          "female",
          "male",
          "male",
          "male",
          "male",
          "female",
          "male",
          "male",
          "male",
          "female",
          "female",
          "male",
          "male",
          "male",
          "male",
          "male",
          "male",
          "male",
          "male",
          "female",
          "male",
          "female",
          "female",
          "female",
          "female",
          "male",
          "female",
          "female",
          "female",
          "male",
          "male",
          "male",
          "female",
          "male",
          "male",
          "male",
          "male",
          "female",
          "female",
          "female",
          "male",
          "female",
          "female",
          "female",
          "female",
          "male",
          "male",
          "male",
          "female",
          "female",
          "female",
          "male",
          "female",
          "male",
          "female",
          "female",
          "male",
          "male",
          "male",
          "female",
          "male",
          "female",
          "female",
          "male",
          "male",
          "female",
          "female",
          "female",
          "male",
          "female",
          "male",
          "female",
          "female",
          "female",
          "female",
          "female",
          "female",
          "male",
          "female",
          "male",
          "female",
          "male",
          "male",
          "male",
          "female",
          "male",
          "female",
          "male",
          "female",
          "female",
          "female",
          "female",
          "male",
          "male",
          "female",
          "male",
          "female",
          "female",
          "female",
          "male",
          "female",
          "female",
          "male",
          "female",
          "female",
          "female",
          "female",
          "female",
          "female",
          "male",
          "male",
          "female",
          "female",
          "female",
          "female",
          "female",
          "female",
          "female",
          "male",
          "female",
          "female",
          "male",
          "male",
          "female",
          "male",
          "male",
          "female",
          "male",
          "male",
          "male",
          "female",
          "male",
          "male",
          "female",
          "male",
          "male",
          "male",
          "female",
          "female",
          "male",
          "male",
          "male",
          "male",
          "male",
          "female",
          "male",
          "male",
          "male",
          "female",
          "male",
          "female",
          "female",
          "female",
          "female",
          "female",
          "female",
          "female",
          "female",
          "male",
          "female",
          "female",
          "male",
          "female",
          "female",
          "male",
          "female",
          "male",
          "male",
          "female",
          "male",
          "female",
          "male",
          "female",
          "male",
          "female",
          "female",
          "male",
          "female",
          "male",
          "male",
          "female",
          "female",
          "male",
          "male",
          "male",
          "female",
          "male",
          "male",
          "male",
          "female",
          "male",
          "male",
          "male",
          "male",
          "male",
          "female",
          "female",
          "female",
          "male",
          "male",
          "female",
          "female",
          "female",
          "male",
          "female",
          "female",
          "female",
          "female",
          "male",
          "female",
          "female",
          "male",
          "female",
          "female",
          "male",
          "female",
          "male",
          "female",
          "male",
          "female",
          "female",
          "female",
          "male",
          "male",
          "male",
          "female",
          "female",
          "male",
          "female",
          "female",
          "female",
          "male",
          "male",
          "female",
          "female",
          "female",
          "female",
          "female",
          "male",
          "male",
          "male",
          "male",
          "male",
          "male",
          "female",
          "male",
          "female",
          "male",
          "male",
          "female",
          "male",
          "female",
          "male",
          "male",
          "female",
          "male",
          "male",
          "female",
          "female",
          "male",
          "male",
          "female",
          "male",
          "male",
          "male",
          "female",
          "female",
          "male",
          "female",
          "female",
          "female",
          "male",
          "female",
          "female",
          "female",
          "male",
          "male",
          "male",
          "male",
          "male",
          "male",
          "male",
          "male",
          "male",
          "female",
          "female",
          "female",
          "male",
          "male",
          "male",
          "female",
          "female",
          "male",
          "female",
          "male",
          "female",
          "male",
          "male",
          "female",
          "female",
          "male",
          "female",
          "female",
          "male",
          "female",
          "male",
          "female",
          "female",
          "female",
          "male",
          "male",
          "female",
          "female",
          "male",
          "male",
          "male",
          "female",
          "female",
          "male",
          "female",
          "female",
          "male",
          "male",
          "female",
          "female",
          "male",
          "female",
          "male",
          "male",
          "male",
          "male",
          "male",
          "female",
          "female",
          "male",
          "male",
          "male",
          "male",
          "female",
          "female",
          "female",
          "male",
          "male",
          "female",
          "female",
          "male",
          "female",
          "female",
          "male",
          "female",
          "male",
          "female",
          "male",
          "female",
          "female",
          "female",
          "female",
          "female",
          "male",
          "female",
          "male",
          "female",
          "female",
          "female",
          "female",
          "male",
          "male",
          "male",
          "male",
          "male",
          "female",
          "male",
          "female",
          "male",
          "male",
          "male",
          "female",
          "female",
          "male",
          "male",
          "female",
          "male",
          "male",
          "female",
          "female",
          "male",
          "male",
          "male",
          "female",
          "male",
          "male",
          "female",
          "female",
          "male",
          "male",
          "male",
          "female",
          "female",
          "male",
          "female",
          "female",
          "male",
          "male",
          "male",
          "male",
          "female",
          "female",
          "male",
          "female",
          "male",
          "female",
          "male",
          "male",
          "female",
          "female",
          "male",
          "female",
          "female",
          "male",
          "female",
          "female",
          "female",
          "female",
          "male",
          "male",
          "male",
          "male",
          "female",
          "female",
          "female",
          "male",
          "male",
          "female",
          "male",
          "female",
          "male",
          "female",
          "male",
          "female",
          "male",
          "male",
          "male",
          "female",
          "female",
          "male",
          "male",
          "female",
          "male",
          "male",
          "male",
          "male",
          "male",
          "male",
          "female",
          "male",
          "male",
          "male",
          "male",
          "male",
          "male",
          "male",
          "female",
          "female",
          "female",
          "male",
          "male",
          "male",
          "male",
          "male",
          "male",
          "female",
          "female",
          "female",
          "female",
          "female",
          "male",
          "male",
          "male",
          "male",
          "female",
          "female",
          "male",
          "male",
          "male",
          "female",
          "male",
          "female",
          "male",
          "female",
          "male",
          "female",
          "female",
          "female",
          "female",
          "male",
          "female",
          "female",
          "female",
          "female",
          "female",
          "female",
          "male",
          "male",
          "male",
          "male",
          "male",
          "male",
          "male",
          "male",
          "male",
          "male",
          "female",
          "male",
          "female",
          "male",
          "female",
          "male",
          "female",
          "female",
          "female",
          "female",
          "male",
          "female",
          "male",
          "male",
          "female",
          "female",
          "male",
          "male",
          "male",
          "female",
          "female",
          "female",
          "female",
          "male",
          "male",
          "female",
          "male",
          "female",
          "male",
          "male",
          "female",
          "male",
          "male",
          "female",
          "male",
          "female",
          "female",
          "male",
          "female",
          "male",
          "female",
          "male",
          "male",
          "male",
          "female",
          "male",
          "female",
          "female",
          "female",
          "male",
          "male",
          "male",
          "male",
          "male",
          "female",
          "female",
          "male",
          "male",
          "male",
          "female",
          "male",
          "male",
          "male",
          "female",
          "female",
          "female",
          "female",
          "male",
          "male",
          "male",
          "male",
          "male",
          "male",
          "male",
          "female",
          "female",
          "male",
          "male",
          "male",
          "male",
          "male",
          "female",
          "male",
          "female",
          "female",
          "female",
          "female",
          "male",
          "female",
          "female",
          "female",
          "male",
          "male",
          "male",
          "male",
          "female",
          "female",
          "female",
          "male",
          "male",
          "female",
          "male",
          "female",
          "female",
          "male",
          "male",
          "male",
          "male",
          "male",
          "female",
          "female",
          "male",
          "female",
          "female",
          "female",
          "female",
          "male",
          "female",
          "male",
          "female",
          "female",
          "male",
          "male",
          "female",
          "male",
          "female",
          "female",
          "female",
          "male",
          "female",
          "male",
          "female",
          "female",
          "male",
          "male",
          "male",
          "male",
          "female",
          "male",
          "male",
          "female",
          "female",
          "female",
          "female",
          "female",
          "female",
          "male",
          "female",
          "female",
          "female",
          "female",
          "male",
          "male",
          "female",
          "female",
          "female",
          "male",
          "female",
          "male",
          "female",
          "male",
          "female",
          "female",
          "male",
          "male",
          "female",
          "female",
          "female",
          "female",
          "male",
          "female",
          "female",
          "female",
          "female",
          "female",
          "male",
          "male",
          "female",
          "female",
          "female",
          "female",
          "female",
          "female",
          "female",
          "female",
          "female",
          "female",
          "male",
          "male",
          "female",
          "male",
          "male",
          "male",
          "male",
          "female",
          "male",
          "female",
          "male",
          "female",
          "male",
          "male",
          "male",
          "male",
          "female",
          "female",
          "male",
          "male",
          "male",
          "female",
          "female",
          "female",
          "male",
          "male",
          "female",
          "male",
          "female",
          "male",
          "male",
          "male",
          "male",
          "male",
          "female",
          "female",
          "male",
          "female",
          "male",
          "female",
          "female",
          "male",
          "female",
          "male",
          "male",
          "female",
          "female",
          "male",
          "male",
          "female",
          "male",
          "female",
          "male",
          "male",
          "male",
          "male",
          "female",
          "female",
          "female",
          "female",
          "female",
          "male",
          "female",
          "female",
          "male",
          "female",
          "female",
          "female",
          "male",
          "female",
          "male",
          "female",
          "male",
          "male",
          "female",
          "male",
          "male",
          "male",
          "male",
          "female",
          "female",
          "male",
          "female",
          "female",
          "female",
          "female",
          "male",
          "male",
          "female",
          "female",
          "female",
          "male",
          "male",
          "female",
          "male",
          "male",
          "male",
          "male",
          "male",
          "male",
          "female",
          "male",
          "female",
          "male",
          "male",
          "female",
          "male",
          "male",
          "female",
          "female",
          "male",
          "female",
          "male",
          "male",
          "female",
          "male",
          "female",
          "female",
          "male",
          "female",
          "male",
          "male",
          "female",
          "male",
          "male",
          "male",
          "female",
          "male",
          "male",
          "female",
          "male",
          "female",
          "male",
          "female",
          "female",
          "female",
          "male",
          "female",
          "female",
          "female",
          "female"
         ],
         "xaxis": "x2",
         "yaxis": "y2"
        }
       ],
       "layout": {
        "bargap": 0.1,
        "barmode": "relative",
        "legend": {
         "tracegroupgap": 0
        },
        "template": {
         "data": {
          "bar": [
           {
            "error_x": {
             "color": "#2a3f5f"
            },
            "error_y": {
             "color": "#2a3f5f"
            },
            "marker": {
             "line": {
              "color": "#E5ECF6",
              "width": 0.5
             },
             "pattern": {
              "fillmode": "overlay",
              "size": 10,
              "solidity": 0.2
             }
            },
            "type": "bar"
           }
          ],
          "barpolar": [
           {
            "marker": {
             "line": {
              "color": "#E5ECF6",
              "width": 0.5
             },
             "pattern": {
              "fillmode": "overlay",
              "size": 10,
              "solidity": 0.2
             }
            },
            "type": "barpolar"
           }
          ],
          "carpet": [
           {
            "aaxis": {
             "endlinecolor": "#2a3f5f",
             "gridcolor": "white",
             "linecolor": "white",
             "minorgridcolor": "white",
             "startlinecolor": "#2a3f5f"
            },
            "baxis": {
             "endlinecolor": "#2a3f5f",
             "gridcolor": "white",
             "linecolor": "white",
             "minorgridcolor": "white",
             "startlinecolor": "#2a3f5f"
            },
            "type": "carpet"
           }
          ],
          "choropleth": [
           {
            "colorbar": {
             "outlinewidth": 0,
             "ticks": ""
            },
            "type": "choropleth"
           }
          ],
          "contour": [
           {
            "colorbar": {
             "outlinewidth": 0,
             "ticks": ""
            },
            "colorscale": [
             [
              0,
              "#0d0887"
             ],
             [
              0.1111111111111111,
              "#46039f"
             ],
             [
              0.2222222222222222,
              "#7201a8"
             ],
             [
              0.3333333333333333,
              "#9c179e"
             ],
             [
              0.4444444444444444,
              "#bd3786"
             ],
             [
              0.5555555555555556,
              "#d8576b"
             ],
             [
              0.6666666666666666,
              "#ed7953"
             ],
             [
              0.7777777777777778,
              "#fb9f3a"
             ],
             [
              0.8888888888888888,
              "#fdca26"
             ],
             [
              1,
              "#f0f921"
             ]
            ],
            "type": "contour"
           }
          ],
          "contourcarpet": [
           {
            "colorbar": {
             "outlinewidth": 0,
             "ticks": ""
            },
            "type": "contourcarpet"
           }
          ],
          "heatmap": [
           {
            "colorbar": {
             "outlinewidth": 0,
             "ticks": ""
            },
            "colorscale": [
             [
              0,
              "#0d0887"
             ],
             [
              0.1111111111111111,
              "#46039f"
             ],
             [
              0.2222222222222222,
              "#7201a8"
             ],
             [
              0.3333333333333333,
              "#9c179e"
             ],
             [
              0.4444444444444444,
              "#bd3786"
             ],
             [
              0.5555555555555556,
              "#d8576b"
             ],
             [
              0.6666666666666666,
              "#ed7953"
             ],
             [
              0.7777777777777778,
              "#fb9f3a"
             ],
             [
              0.8888888888888888,
              "#fdca26"
             ],
             [
              1,
              "#f0f921"
             ]
            ],
            "type": "heatmap"
           }
          ],
          "histogram": [
           {
            "marker": {
             "pattern": {
              "fillmode": "overlay",
              "size": 10,
              "solidity": 0.2
             }
            },
            "type": "histogram"
           }
          ],
          "histogram2d": [
           {
            "colorbar": {
             "outlinewidth": 0,
             "ticks": ""
            },
            "colorscale": [
             [
              0,
              "#0d0887"
             ],
             [
              0.1111111111111111,
              "#46039f"
             ],
             [
              0.2222222222222222,
              "#7201a8"
             ],
             [
              0.3333333333333333,
              "#9c179e"
             ],
             [
              0.4444444444444444,
              "#bd3786"
             ],
             [
              0.5555555555555556,
              "#d8576b"
             ],
             [
              0.6666666666666666,
              "#ed7953"
             ],
             [
              0.7777777777777778,
              "#fb9f3a"
             ],
             [
              0.8888888888888888,
              "#fdca26"
             ],
             [
              1,
              "#f0f921"
             ]
            ],
            "type": "histogram2d"
           }
          ],
          "histogram2dcontour": [
           {
            "colorbar": {
             "outlinewidth": 0,
             "ticks": ""
            },
            "colorscale": [
             [
              0,
              "#0d0887"
             ],
             [
              0.1111111111111111,
              "#46039f"
             ],
             [
              0.2222222222222222,
              "#7201a8"
             ],
             [
              0.3333333333333333,
              "#9c179e"
             ],
             [
              0.4444444444444444,
              "#bd3786"
             ],
             [
              0.5555555555555556,
              "#d8576b"
             ],
             [
              0.6666666666666666,
              "#ed7953"
             ],
             [
              0.7777777777777778,
              "#fb9f3a"
             ],
             [
              0.8888888888888888,
              "#fdca26"
             ],
             [
              1,
              "#f0f921"
             ]
            ],
            "type": "histogram2dcontour"
           }
          ],
          "mesh3d": [
           {
            "colorbar": {
             "outlinewidth": 0,
             "ticks": ""
            },
            "type": "mesh3d"
           }
          ],
          "parcoords": [
           {
            "line": {
             "colorbar": {
              "outlinewidth": 0,
              "ticks": ""
             }
            },
            "type": "parcoords"
           }
          ],
          "pie": [
           {
            "automargin": true,
            "type": "pie"
           }
          ],
          "scatter": [
           {
            "fillpattern": {
             "fillmode": "overlay",
             "size": 10,
             "solidity": 0.2
            },
            "type": "scatter"
           }
          ],
          "scatter3d": [
           {
            "line": {
             "colorbar": {
              "outlinewidth": 0,
              "ticks": ""
             }
            },
            "marker": {
             "colorbar": {
              "outlinewidth": 0,
              "ticks": ""
             }
            },
            "type": "scatter3d"
           }
          ],
          "scattercarpet": [
           {
            "marker": {
             "colorbar": {
              "outlinewidth": 0,
              "ticks": ""
             }
            },
            "type": "scattercarpet"
           }
          ],
          "scattergeo": [
           {
            "marker": {
             "colorbar": {
              "outlinewidth": 0,
              "ticks": ""
             }
            },
            "type": "scattergeo"
           }
          ],
          "scattergl": [
           {
            "marker": {
             "colorbar": {
              "outlinewidth": 0,
              "ticks": ""
             }
            },
            "type": "scattergl"
           }
          ],
          "scattermap": [
           {
            "marker": {
             "colorbar": {
              "outlinewidth": 0,
              "ticks": ""
             }
            },
            "type": "scattermap"
           }
          ],
          "scattermapbox": [
           {
            "marker": {
             "colorbar": {
              "outlinewidth": 0,
              "ticks": ""
             }
            },
            "type": "scattermapbox"
           }
          ],
          "scatterpolar": [
           {
            "marker": {
             "colorbar": {
              "outlinewidth": 0,
              "ticks": ""
             }
            },
            "type": "scatterpolar"
           }
          ],
          "scatterpolargl": [
           {
            "marker": {
             "colorbar": {
              "outlinewidth": 0,
              "ticks": ""
             }
            },
            "type": "scatterpolargl"
           }
          ],
          "scatterternary": [
           {
            "marker": {
             "colorbar": {
              "outlinewidth": 0,
              "ticks": ""
             }
            },
            "type": "scatterternary"
           }
          ],
          "surface": [
           {
            "colorbar": {
             "outlinewidth": 0,
             "ticks": ""
            },
            "colorscale": [
             [
              0,
              "#0d0887"
             ],
             [
              0.1111111111111111,
              "#46039f"
             ],
             [
              0.2222222222222222,
              "#7201a8"
             ],
             [
              0.3333333333333333,
              "#9c179e"
             ],
             [
              0.4444444444444444,
              "#bd3786"
             ],
             [
              0.5555555555555556,
              "#d8576b"
             ],
             [
              0.6666666666666666,
              "#ed7953"
             ],
             [
              0.7777777777777778,
              "#fb9f3a"
             ],
             [
              0.8888888888888888,
              "#fdca26"
             ],
             [
              1,
              "#f0f921"
             ]
            ],
            "type": "surface"
           }
          ],
          "table": [
           {
            "cells": {
             "fill": {
              "color": "#EBF0F8"
             },
             "line": {
              "color": "white"
             }
            },
            "header": {
             "fill": {
              "color": "#C8D4E3"
             },
             "line": {
              "color": "white"
             }
            },
            "type": "table"
           }
          ]
         },
         "layout": {
          "annotationdefaults": {
           "arrowcolor": "#2a3f5f",
           "arrowhead": 0,
           "arrowwidth": 1
          },
          "autotypenumbers": "strict",
          "coloraxis": {
           "colorbar": {
            "outlinewidth": 0,
            "ticks": ""
           }
          },
          "colorscale": {
           "diverging": [
            [
             0,
             "#8e0152"
            ],
            [
             0.1,
             "#c51b7d"
            ],
            [
             0.2,
             "#de77ae"
            ],
            [
             0.3,
             "#f1b6da"
            ],
            [
             0.4,
             "#fde0ef"
            ],
            [
             0.5,
             "#f7f7f7"
            ],
            [
             0.6,
             "#e6f5d0"
            ],
            [
             0.7,
             "#b8e186"
            ],
            [
             0.8,
             "#7fbc41"
            ],
            [
             0.9,
             "#4d9221"
            ],
            [
             1,
             "#276419"
            ]
           ],
           "sequential": [
            [
             0,
             "#0d0887"
            ],
            [
             0.1111111111111111,
             "#46039f"
            ],
            [
             0.2222222222222222,
             "#7201a8"
            ],
            [
             0.3333333333333333,
             "#9c179e"
            ],
            [
             0.4444444444444444,
             "#bd3786"
            ],
            [
             0.5555555555555556,
             "#d8576b"
            ],
            [
             0.6666666666666666,
             "#ed7953"
            ],
            [
             0.7777777777777778,
             "#fb9f3a"
            ],
            [
             0.8888888888888888,
             "#fdca26"
            ],
            [
             1,
             "#f0f921"
            ]
           ],
           "sequentialminus": [
            [
             0,
             "#0d0887"
            ],
            [
             0.1111111111111111,
             "#46039f"
            ],
            [
             0.2222222222222222,
             "#7201a8"
            ],
            [
             0.3333333333333333,
             "#9c179e"
            ],
            [
             0.4444444444444444,
             "#bd3786"
            ],
            [
             0.5555555555555556,
             "#d8576b"
            ],
            [
             0.6666666666666666,
             "#ed7953"
            ],
            [
             0.7777777777777778,
             "#fb9f3a"
            ],
            [
             0.8888888888888888,
             "#fdca26"
            ],
            [
             1,
             "#f0f921"
            ]
           ]
          },
          "colorway": [
           "#636efa",
           "#EF553B",
           "#00cc96",
           "#ab63fa",
           "#FFA15A",
           "#19d3f3",
           "#FF6692",
           "#B6E880",
           "#FF97FF",
           "#FECB52"
          ],
          "font": {
           "color": "#2a3f5f"
          },
          "geo": {
           "bgcolor": "white",
           "lakecolor": "white",
           "landcolor": "#E5ECF6",
           "showlakes": true,
           "showland": true,
           "subunitcolor": "white"
          },
          "hoverlabel": {
           "align": "left"
          },
          "hovermode": "closest",
          "mapbox": {
           "style": "light"
          },
          "paper_bgcolor": "white",
          "plot_bgcolor": "#E5ECF6",
          "polar": {
           "angularaxis": {
            "gridcolor": "white",
            "linecolor": "white",
            "ticks": ""
           },
           "bgcolor": "#E5ECF6",
           "radialaxis": {
            "gridcolor": "white",
            "linecolor": "white",
            "ticks": ""
           }
          },
          "scene": {
           "xaxis": {
            "backgroundcolor": "#E5ECF6",
            "gridcolor": "white",
            "gridwidth": 2,
            "linecolor": "white",
            "showbackground": true,
            "ticks": "",
            "zerolinecolor": "white"
           },
           "yaxis": {
            "backgroundcolor": "#E5ECF6",
            "gridcolor": "white",
            "gridwidth": 2,
            "linecolor": "white",
            "showbackground": true,
            "ticks": "",
            "zerolinecolor": "white"
           },
           "zaxis": {
            "backgroundcolor": "#E5ECF6",
            "gridcolor": "white",
            "gridwidth": 2,
            "linecolor": "white",
            "showbackground": true,
            "ticks": "",
            "zerolinecolor": "white"
           }
          },
          "shapedefaults": {
           "line": {
            "color": "#2a3f5f"
           }
          },
          "ternary": {
           "aaxis": {
            "gridcolor": "white",
            "linecolor": "white",
            "ticks": ""
           },
           "baxis": {
            "gridcolor": "white",
            "linecolor": "white",
            "ticks": ""
           },
           "bgcolor": "#E5ECF6",
           "caxis": {
            "gridcolor": "white",
            "linecolor": "white",
            "ticks": ""
           }
          },
          "title": {
           "x": 0.05
          },
          "xaxis": {
           "automargin": true,
           "gridcolor": "white",
           "linecolor": "white",
           "ticks": "",
           "title": {
            "standoff": 15
           },
           "zerolinecolor": "white",
           "zerolinewidth": 2
          },
          "yaxis": {
           "automargin": true,
           "gridcolor": "white",
           "linecolor": "white",
           "ticks": "",
           "title": {
            "standoff": 15
           },
           "zerolinecolor": "white",
           "zerolinewidth": 2
          }
         }
        },
        "title": {
         "text": "counts of sex"
        },
        "xaxis": {
         "anchor": "y",
         "domain": [
          0,
          1
         ],
         "title": {
          "text": "sex"
         }
        },
        "xaxis2": {
         "anchor": "y2",
         "domain": [
          0,
          1
         ],
         "matches": "x",
         "showgrid": true,
         "showticklabels": false
        },
        "yaxis": {
         "anchor": "x",
         "domain": [
          0,
          0.8316
         ],
         "title": {
          "text": "count"
         }
        },
        "yaxis2": {
         "anchor": "x2",
         "domain": [
          0.8416,
          1
         ],
         "matches": "y2",
         "showgrid": false,
         "showline": false,
         "showticklabels": false,
         "ticks": ""
        }
       }
      }
     },
     "metadata": {},
     "output_type": "display_data"
    }
   ],
   "source": [
    "fig = px.histogram(medical_df, \n",
    "                   x='sex', \n",
    "                   marginal='box', \n",
    "                   title='counts of sex')\n",
    "fig.update_layout(bargap=0.1)\n",
    "fig.show()\n",
    "\n",
    "#Basically dead even. no surprise here. I don't believe there's any reason so suspect a correlation."
   ]
  },
  {
   "cell_type": "markdown",
   "id": "objective-slope",
   "metadata": {},
   "source": [
    "Having looked at individual columns, we can now visualize the relationship between \"charges\" (the value we wish to predict) and other columns.\n",
    "\n",
    "### Age and Charges\n",
    "\n",
    "Let's visualize the relationship between \"age\" and \"charges\" using a scatter plot. Each point in the scatter plot represents one customer. We'll also use values in the \"smoker\" column to color the points."
   ]
  },
  {
   "cell_type": "code",
   "execution_count": 47,
   "id": "occupied-proportion",
   "metadata": {},
   "outputs": [
    {
     "data": {
      "application/vnd.plotly.v1+json": {
       "config": {
        "plotlyServerURL": "https://plot.ly"
       },
       "data": [
        {
         "customdata": [
          [
           "female"
          ],
          [
           "female"
          ],
          [
           "male"
          ],
          [
           "male"
          ],
          [
           "female"
          ],
          [
           "male"
          ],
          [
           "male"
          ],
          [
           "male"
          ],
          [
           "male"
          ],
          [
           "male"
          ],
          [
           "male"
          ],
          [
           "male"
          ],
          [
           "male"
          ],
          [
           "male"
          ],
          [
           "male"
          ],
          [
           "female"
          ],
          [
           "female"
          ],
          [
           "male"
          ],
          [
           "female"
          ],
          [
           "male"
          ],
          [
           "female"
          ],
          [
           "male"
          ],
          [
           "female"
          ],
          [
           "male"
          ],
          [
           "female"
          ],
          [
           "male"
          ],
          [
           "male"
          ],
          [
           "female"
          ],
          [
           "male"
          ],
          [
           "male"
          ],
          [
           "female"
          ],
          [
           "male"
          ],
          [
           "female"
          ],
          [
           "female"
          ],
          [
           "male"
          ],
          [
           "male"
          ],
          [
           "male"
          ],
          [
           "female"
          ],
          [
           "male"
          ],
          [
           "male"
          ],
          [
           "male"
          ],
          [
           "female"
          ],
          [
           "female"
          ],
          [
           "female"
          ],
          [
           "male"
          ],
          [
           "female"
          ],
          [
           "male"
          ],
          [
           "male"
          ],
          [
           "male"
          ],
          [
           "female"
          ],
          [
           "male"
          ],
          [
           "female"
          ],
          [
           "female"
          ],
          [
           "male"
          ],
          [
           "female"
          ],
          [
           "male"
          ],
          [
           "male"
          ],
          [
           "male"
          ],
          [
           "male"
          ],
          [
           "female"
          ],
          [
           "male"
          ],
          [
           "male"
          ],
          [
           "male"
          ],
          [
           "male"
          ],
          [
           "male"
          ],
          [
           "female"
          ],
          [
           "male"
          ],
          [
           "female"
          ],
          [
           "male"
          ],
          [
           "male"
          ],
          [
           "male"
          ],
          [
           "male"
          ],
          [
           "female"
          ],
          [
           "male"
          ],
          [
           "female"
          ],
          [
           "male"
          ],
          [
           "male"
          ],
          [
           "female"
          ],
          [
           "female"
          ],
          [
           "male"
          ],
          [
           "male"
          ],
          [
           "female"
          ],
          [
           "male"
          ],
          [
           "female"
          ],
          [
           "female"
          ],
          [
           "male"
          ],
          [
           "female"
          ],
          [
           "male"
          ],
          [
           "female"
          ],
          [
           "female"
          ],
          [
           "female"
          ],
          [
           "female"
          ],
          [
           "male"
          ],
          [
           "male"
          ],
          [
           "male"
          ],
          [
           "female"
          ],
          [
           "male"
          ],
          [
           "male"
          ],
          [
           "female"
          ],
          [
           "male"
          ],
          [
           "male"
          ],
          [
           "male"
          ],
          [
           "female"
          ],
          [
           "male"
          ],
          [
           "male"
          ],
          [
           "male"
          ],
          [
           "male"
          ],
          [
           "male"
          ],
          [
           "male"
          ],
          [
           "male"
          ],
          [
           "female"
          ],
          [
           "male"
          ],
          [
           "female"
          ],
          [
           "female"
          ],
          [
           "male"
          ],
          [
           "female"
          ],
          [
           "female"
          ],
          [
           "female"
          ],
          [
           "female"
          ],
          [
           "female"
          ],
          [
           "male"
          ],
          [
           "female"
          ],
          [
           "male"
          ],
          [
           "female"
          ],
          [
           "male"
          ],
          [
           "male"
          ],
          [
           "female"
          ],
          [
           "male"
          ],
          [
           "male"
          ],
          [
           "female"
          ],
          [
           "female"
          ],
          [
           "male"
          ],
          [
           "female"
          ],
          [
           "male"
          ],
          [
           "female"
          ],
          [
           "male"
          ],
          [
           "male"
          ],
          [
           "male"
          ],
          [
           "male"
          ],
          [
           "female"
          ],
          [
           "female"
          ],
          [
           "female"
          ],
          [
           "male"
          ],
          [
           "female"
          ],
          [
           "male"
          ],
          [
           "male"
          ],
          [
           "male"
          ],
          [
           "male"
          ],
          [
           "female"
          ],
          [
           "female"
          ],
          [
           "male"
          ],
          [
           "male"
          ],
          [
           "female"
          ],
          [
           "male"
          ],
          [
           "female"
          ],
          [
           "male"
          ],
          [
           "male"
          ],
          [
           "male"
          ],
          [
           "female"
          ],
          [
           "female"
          ],
          [
           "female"
          ],
          [
           "male"
          ],
          [
           "male"
          ],
          [
           "male"
          ],
          [
           "female"
          ],
          [
           "female"
          ],
          [
           "female"
          ],
          [
           "female"
          ],
          [
           "female"
          ],
          [
           "female"
          ],
          [
           "female"
          ],
          [
           "male"
          ],
          [
           "female"
          ],
          [
           "female"
          ],
          [
           "male"
          ],
          [
           "male"
          ],
          [
           "female"
          ],
          [
           "male"
          ],
          [
           "female"
          ],
          [
           "male"
          ],
          [
           "female"
          ],
          [
           "male"
          ],
          [
           "female"
          ],
          [
           "male"
          ],
          [
           "male"
          ],
          [
           "male"
          ],
          [
           "male"
          ],
          [
           "male"
          ],
          [
           "male"
          ],
          [
           "male"
          ],
          [
           "male"
          ],
          [
           "male"
          ],
          [
           "male"
          ],
          [
           "male"
          ],
          [
           "female"
          ],
          [
           "female"
          ],
          [
           "male"
          ],
          [
           "male"
          ],
          [
           "male"
          ],
          [
           "male"
          ],
          [
           "female"
          ],
          [
           "male"
          ],
          [
           "male"
          ],
          [
           "female"
          ],
          [
           "female"
          ],
          [
           "male"
          ],
          [
           "male"
          ],
          [
           "female"
          ],
          [
           "female"
          ],
          [
           "male"
          ],
          [
           "female"
          ],
          [
           "male"
          ],
          [
           "male"
          ],
          [
           "male"
          ],
          [
           "male"
          ],
          [
           "male"
          ],
          [
           "male"
          ],
          [
           "female"
          ],
          [
           "male"
          ],
          [
           "female"
          ],
          [
           "female"
          ],
          [
           "female"
          ],
          [
           "male"
          ],
          [
           "female"
          ],
          [
           "male"
          ],
          [
           "male"
          ],
          [
           "female"
          ],
          [
           "female"
          ],
          [
           "female"
          ],
          [
           "female"
          ],
          [
           "male"
          ],
          [
           "female"
          ],
          [
           "male"
          ],
          [
           "male"
          ],
          [
           "female"
          ],
          [
           "female"
          ],
          [
           "male"
          ],
          [
           "female"
          ],
          [
           "male"
          ],
          [
           "female"
          ],
          [
           "female"
          ],
          [
           "female"
          ],
          [
           "male"
          ],
          [
           "female"
          ],
          [
           "female"
          ],
          [
           "female"
          ],
          [
           "male"
          ],
          [
           "female"
          ],
          [
           "male"
          ],
          [
           "male"
          ],
          [
           "male"
          ],
          [
           "male"
          ],
          [
           "male"
          ],
          [
           "male"
          ],
          [
           "male"
          ],
          [
           "male"
          ],
          [
           "male"
          ],
          [
           "female"
          ],
          [
           "female"
          ],
          [
           "male"
          ],
          [
           "male"
          ],
          [
           "male"
          ],
          [
           "male"
          ],
          [
           "male"
          ],
          [
           "male"
          ],
          [
           "male"
          ],
          [
           "female"
          ],
          [
           "male"
          ],
          [
           "female"
          ],
          [
           "female"
          ],
          [
           "female"
          ],
          [
           "male"
          ],
          [
           "female"
          ],
          [
           "female"
          ]
         ],
         "hovertemplate": "smoker=yes<br>age=%{x}<br>charges=%{y}<br>sex=%{customdata[0]}<extra></extra>",
         "legendgroup": "yes",
         "marker": {
          "color": "#636efa",
          "opacity": 0.8,
          "size": 5,
          "symbol": "circle"
         },
         "mode": "markers",
         "name": "yes",
         "showlegend": true,
         "type": "scattergl",
         "x": {
          "bdata": "Ez4bHiIfFhwjPCQwJDoSNRQcGxYlLTk7QDgmPRQ/HSwTICIeLiowEh4qEj8kGyMTKigTFz8SPzYyOBMUNBMuKDIoNjsZEy8fNSsbIi1APTQyExoXJxgbNywaJD9APSghOCoeNj0YLBUdMxMnKjk2MSsjMB8iFRM7Hi8xEyUSLCcqNEArKD4sPCcbKTMeHSMlFx0bNSUvEiETHjI1GyESLyE4JCkXOTwlLjEwGSUzIDlALys8IBIrLSUZMywiNiszHR8YGx4YLysWLxMuNxIWLSMUKxYxLzslHCcvFjMhJjAZIRc1FxM8KxMSKzQfFxQrExIkJS4UNBQ0QCAYFEAYGicvEj0UEy0+KyodIBkTHj4qPQ==",
          "dtype": "i1"
         },
         "xaxis": "x",
         "y": {
          "bdata": "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",
          "dtype": "f8"
         },
         "yaxis": "y"
        },
        {
         "customdata": [
          [
           "male"
          ],
          [
           "male"
          ],
          [
           "male"
          ],
          [
           "male"
          ],
          [
           "female"
          ],
          [
           "female"
          ],
          [
           "female"
          ],
          [
           "male"
          ],
          [
           "female"
          ],
          [
           "male"
          ],
          [
           "male"
          ],
          [
           "female"
          ],
          [
           "male"
          ],
          [
           "female"
          ],
          [
           "male"
          ],
          [
           "male"
          ],
          [
           "female"
          ],
          [
           "female"
          ],
          [
           "male"
          ],
          [
           "male"
          ],
          [
           "female"
          ],
          [
           "female"
          ],
          [
           "female"
          ],
          [
           "male"
          ],
          [
           "female"
          ],
          [
           "female"
          ],
          [
           "male"
          ],
          [
           "male"
          ],
          [
           "female"
          ],
          [
           "male"
          ],
          [
           "female"
          ],
          [
           "female"
          ],
          [
           "male"
          ],
          [
           "female"
          ],
          [
           "male"
          ],
          [
           "male"
          ],
          [
           "female"
          ],
          [
           "female"
          ],
          [
           "female"
          ],
          [
           "female"
          ],
          [
           "female"
          ],
          [
           "female"
          ],
          [
           "female"
          ],
          [
           "female"
          ],
          [
           "male"
          ],
          [
           "male"
          ],
          [
           "male"
          ],
          [
           "female"
          ],
          [
           "female"
          ],
          [
           "female"
          ],
          [
           "male"
          ],
          [
           "female"
          ],
          [
           "male"
          ],
          [
           "female"
          ],
          [
           "male"
          ],
          [
           "male"
          ],
          [
           "male"
          ],
          [
           "female"
          ],
          [
           "male"
          ],
          [
           "female"
          ],
          [
           "female"
          ],
          [
           "male"
          ],
          [
           "female"
          ],
          [
           "female"
          ],
          [
           "female"
          ],
          [
           "female"
          ],
          [
           "female"
          ],
          [
           "female"
          ],
          [
           "female"
          ],
          [
           "male"
          ],
          [
           "female"
          ],
          [
           "female"
          ],
          [
           "male"
          ],
          [
           "female"
          ],
          [
           "male"
          ],
          [
           "female"
          ],
          [
           "female"
          ],
          [
           "female"
          ],
          [
           "male"
          ],
          [
           "male"
          ],
          [
           "male"
          ],
          [
           "female"
          ],
          [
           "male"
          ],
          [
           "female"
          ],
          [
           "male"
          ],
          [
           "male"
          ],
          [
           "male"
          ],
          [
           "female"
          ],
          [
           "female"
          ],
          [
           "male"
          ],
          [
           "male"
          ],
          [
           "female"
          ],
          [
           "female"
          ],
          [
           "female"
          ],
          [
           "female"
          ],
          [
           "male"
          ],
          [
           "female"
          ],
          [
           "female"
          ],
          [
           "female"
          ],
          [
           "male"
          ],
          [
           "female"
          ],
          [
           "female"
          ],
          [
           "male"
          ],
          [
           "male"
          ],
          [
           "female"
          ],
          [
           "female"
          ],
          [
           "male"
          ],
          [
           "male"
          ],
          [
           "male"
          ],
          [
           "female"
          ],
          [
           "female"
          ],
          [
           "female"
          ],
          [
           "male"
          ],
          [
           "male"
          ],
          [
           "male"
          ],
          [
           "female"
          ],
          [
           "female"
          ],
          [
           "male"
          ],
          [
           "female"
          ],
          [
           "male"
          ],
          [
           "female"
          ],
          [
           "male"
          ],
          [
           "male"
          ],
          [
           "female"
          ],
          [
           "female"
          ],
          [
           "female"
          ],
          [
           "male"
          ],
          [
           "male"
          ],
          [
           "male"
          ],
          [
           "male"
          ],
          [
           "female"
          ],
          [
           "female"
          ],
          [
           "male"
          ],
          [
           "male"
          ],
          [
           "female"
          ],
          [
           "female"
          ],
          [
           "male"
          ],
          [
           "female"
          ],
          [
           "male"
          ],
          [
           "female"
          ],
          [
           "male"
          ],
          [
           "female"
          ],
          [
           "female"
          ],
          [
           "female"
          ],
          [
           "female"
          ],
          [
           "male"
          ],
          [
           "female"
          ],
          [
           "male"
          ],
          [
           "female"
          ],
          [
           "male"
          ],
          [
           "male"
          ],
          [
           "female"
          ],
          [
           "female"
          ],
          [
           "female"
          ],
          [
           "female"
          ],
          [
           "female"
          ],
          [
           "female"
          ],
          [
           "female"
          ],
          [
           "male"
          ],
          [
           "female"
          ],
          [
           "male"
          ],
          [
           "female"
          ],
          [
           "male"
          ],
          [
           "male"
          ],
          [
           "male"
          ],
          [
           "male"
          ],
          [
           "female"
          ],
          [
           "female"
          ],
          [
           "female"
          ],
          [
           "female"
          ],
          [
           "male"
          ],
          [
           "female"
          ],
          [
           "female"
          ],
          [
           "female"
          ],
          [
           "female"
          ],
          [
           "male"
          ],
          [
           "male"
          ],
          [
           "male"
          ],
          [
           "female"
          ],
          [
           "female"
          ],
          [
           "male"
          ],
          [
           "female"
          ],
          [
           "female"
          ],
          [
           "female"
          ],
          [
           "male"
          ],
          [
           "male"
          ],
          [
           "female"
          ],
          [
           "male"
          ],
          [
           "male"
          ],
          [
           "female"
          ],
          [
           "female"
          ],
          [
           "male"
          ],
          [
           "male"
          ],
          [
           "female"
          ],
          [
           "male"
          ],
          [
           "male"
          ],
          [
           "male"
          ],
          [
           "male"
          ],
          [
           "female"
          ],
          [
           "female"
          ],
          [
           "male"
          ],
          [
           "female"
          ],
          [
           "female"
          ],
          [
           "female"
          ],
          [
           "male"
          ],
          [
           "male"
          ],
          [
           "male"
          ],
          [
           "male"
          ],
          [
           "male"
          ],
          [
           "male"
          ],
          [
           "female"
          ],
          [
           "male"
          ],
          [
           "female"
          ],
          [
           "male"
          ],
          [
           "female"
          ],
          [
           "male"
          ],
          [
           "female"
          ],
          [
           "female"
          ],
          [
           "male"
          ],
          [
           "female"
          ],
          [
           "female"
          ],
          [
           "male"
          ],
          [
           "female"
          ],
          [
           "male"
          ],
          [
           "female"
          ],
          [
           "male"
          ],
          [
           "male"
          ],
          [
           "female"
          ],
          [
           "male"
          ],
          [
           "female"
          ],
          [
           "female"
          ],
          [
           "female"
          ],
          [
           "male"
          ],
          [
           "female"
          ],
          [
           "female"
          ],
          [
           "male"
          ],
          [
           "female"
          ],
          [
           "male"
          ],
          [
           "female"
          ],
          [
           "male"
          ],
          [
           "male"
          ],
          [
           "male"
          ],
          [
           "male"
          ],
          [
           "female"
          ],
          [
           "male"
          ],
          [
           "male"
          ],
          [
           "female"
          ],
          [
           "male"
          ],
          [
           "male"
          ],
          [
           "male"
          ],
          [
           "female"
          ],
          [
           "male"
          ],
          [
           "female"
          ],
          [
           "female"
          ],
          [
           "female"
          ],
          [
           "male"
          ],
          [
           "male"
          ],
          [
           "male"
          ],
          [
           "female"
          ],
          [
           "female"
          ],
          [
           "male"
          ],
          [
           "female"
          ],
          [
           "male"
          ],
          [
           "female"
          ],
          [
           "female"
          ],
          [
           "male"
          ],
          [
           "male"
          ],
          [
           "female"
          ],
          [
           "male"
          ],
          [
           "female"
          ],
          [
           "female"
          ],
          [
           "female"
          ],
          [
           "male"
          ],
          [
           "female"
          ],
          [
           "male"
          ],
          [
           "male"
          ],
          [
           "male"
          ],
          [
           "male"
          ],
          [
           "female"
          ],
          [
           "female"
          ],
          [
           "male"
          ],
          [
           "female"
          ],
          [
           "female"
          ],
          [
           "female"
          ],
          [
           "female"
          ],
          [
           "female"
          ],
          [
           "male"
          ],
          [
           "male"
          ],
          [
           "female"
          ],
          [
           "female"
          ],
          [
           "female"
          ],
          [
           "male"
          ],
          [
           "female"
          ],
          [
           "male"
          ],
          [
           "male"
          ],
          [
           "female"
          ],
          [
           "male"
          ],
          [
           "male"
          ],
          [
           "female"
          ],
          [
           "male"
          ],
          [
           "female"
          ],
          [
           "female"
          ],
          [
           "male"
          ],
          [
           "female"
          ],
          [
           "male"
          ],
          [
           "male"
          ],
          [
           "female"
          ],
          [
           "male"
          ],
          [
           "female"
          ],
          [
           "male"
          ],
          [
           "male"
          ],
          [
           "female"
          ],
          [
           "female"
          ],
          [
           "male"
          ],
          [
           "female"
          ],
          [
           "male"
          ],
          [
           "male"
          ],
          [
           "female"
          ],
          [
           "female"
          ],
          [
           "female"
          ],
          [
           "male"
          ],
          [
           "male"
          ],
          [
           "male"
          ],
          [
           "male"
          ],
          [
           "female"
          ],
          [
           "female"
          ],
          [
           "male"
          ],
          [
           "male"
          ],
          [
           "male"
          ],
          [
           "male"
          ],
          [
           "male"
          ],
          [
           "female"
          ],
          [
           "female"
          ],
          [
           "female"
          ],
          [
           "female"
          ],
          [
           "male"
          ],
          [
           "female"
          ],
          [
           "male"
          ],
          [
           "female"
          ],
          [
           "male"
          ],
          [
           "male"
          ],
          [
           "male"
          ],
          [
           "male"
          ],
          [
           "female"
          ],
          [
           "male"
          ],
          [
           "female"
          ],
          [
           "male"
          ],
          [
           "female"
          ],
          [
           "female"
          ],
          [
           "male"
          ],
          [
           "female"
          ],
          [
           "female"
          ],
          [
           "male"
          ],
          [
           "male"
          ],
          [
           "male"
          ],
          [
           "male"
          ],
          [
           "male"
          ],
          [
           "male"
          ],
          [
           "male"
          ],
          [
           "female"
          ],
          [
           "female"
          ],
          [
           "male"
          ],
          [
           "female"
          ],
          [
           "female"
          ],
          [
           "female"
          ],
          [
           "male"
          ],
          [
           "male"
          ],
          [
           "female"
          ],
          [
           "female"
          ],
          [
           "female"
          ],
          [
           "female"
          ],
          [
           "male"
          ],
          [
           "female"
          ],
          [
           "female"
          ],
          [
           "female"
          ],
          [
           "male"
          ],
          [
           "male"
          ],
          [
           "male"
          ],
          [
           "male"
          ],
          [
           "male"
          ],
          [
           "female"
          ],
          [
           "female"
          ],
          [
           "male"
          ],
          [
           "female"
          ],
          [
           "female"
          ],
          [
           "male"
          ],
          [
           "male"
          ],
          [
           "female"
          ],
          [
           "female"
          ],
          [
           "female"
          ],
          [
           "male"
          ],
          [
           "male"
          ],
          [
           "female"
          ],
          [
           "male"
          ],
          [
           "female"
          ],
          [
           "female"
          ],
          [
           "male"
          ],
          [
           "female"
          ],
          [
           "male"
          ],
          [
           "male"
          ],
          [
           "male"
          ],
          [
           "female"
          ],
          [
           "female"
          ],
          [
           "male"
          ],
          [
           "male"
          ],
          [
           "male"
          ],
          [
           "male"
          ],
          [
           "male"
          ],
          [
           "male"
          ],
          [
           "male"
          ],
          [
           "female"
          ],
          [
           "male"
          ],
          [
           "female"
          ],
          [
           "female"
          ],
          [
           "female"
          ],
          [
           "female"
          ],
          [
           "female"
          ],
          [
           "female"
          ],
          [
           "female"
          ],
          [
           "male"
          ],
          [
           "male"
          ],
          [
           "female"
          ],
          [
           "male"
          ],
          [
           "male"
          ],
          [
           "male"
          ],
          [
           "male"
          ],
          [
           "female"
          ],
          [
           "female"
          ],
          [
           "female"
          ],
          [
           "male"
          ],
          [
           "female"
          ],
          [
           "female"
          ],
          [
           "female"
          ],
          [
           "male"
          ],
          [
           "male"
          ],
          [
           "female"
          ],
          [
           "female"
          ],
          [
           "male"
          ],
          [
           "female"
          ],
          [
           "male"
          ],
          [
           "female"
          ],
          [
           "female"
          ],
          [
           "male"
          ],
          [
           "male"
          ],
          [
           "male"
          ],
          [
           "male"
          ],
          [
           "female"
          ],
          [
           "female"
          ],
          [
           "male"
          ],
          [
           "male"
          ],
          [
           "female"
          ],
          [
           "female"
          ],
          [
           "female"
          ],
          [
           "male"
          ],
          [
           "female"
          ],
          [
           "female"
          ],
          [
           "female"
          ],
          [
           "female"
          ],
          [
           "female"
          ],
          [
           "female"
          ],
          [
           "female"
          ],
          [
           "male"
          ],
          [
           "male"
          ],
          [
           "female"
          ],
          [
           "male"
          ],
          [
           "male"
          ],
          [
           "male"
          ],
          [
           "female"
          ],
          [
           "male"
          ],
          [
           "female"
          ],
          [
           "male"
          ],
          [
           "female"
          ],
          [
           "female"
          ],
          [
           "female"
          ],
          [
           "male"
          ],
          [
           "male"
          ],
          [
           "male"
          ],
          [
           "female"
          ],
          [
           "female"
          ],
          [
           "female"
          ],
          [
           "male"
          ],
          [
           "female"
          ],
          [
           "female"
          ],
          [
           "male"
          ],
          [
           "female"
          ],
          [
           "female"
          ],
          [
           "female"
          ],
          [
           "female"
          ],
          [
           "male"
          ],
          [
           "female"
          ],
          [
           "female"
          ],
          [
           "female"
          ],
          [
           "female"
          ],
          [
           "female"
          ],
          [
           "female"
          ],
          [
           "female"
          ],
          [
           "male"
          ],
          [
           "female"
          ],
          [
           "male"
          ],
          [
           "female"
          ],
          [
           "male"
          ],
          [
           "male"
          ],
          [
           "male"
          ],
          [
           "male"
          ],
          [
           "male"
          ],
          [
           "female"
          ],
          [
           "male"
          ],
          [
           "male"
          ],
          [
           "male"
          ],
          [
           "female"
          ],
          [
           "female"
          ],
          [
           "male"
          ],
          [
           "male"
          ],
          [
           "male"
          ],
          [
           "female"
          ],
          [
           "male"
          ],
          [
           "male"
          ],
          [
           "male"
          ],
          [
           "female"
          ],
          [
           "male"
          ],
          [
           "female"
          ],
          [
           "female"
          ],
          [
           "female"
          ],
          [
           "female"
          ],
          [
           "female"
          ],
          [
           "female"
          ],
          [
           "female"
          ],
          [
           "male"
          ],
          [
           "female"
          ],
          [
           "female"
          ],
          [
           "male"
          ],
          [
           "female"
          ],
          [
           "female"
          ],
          [
           "male"
          ],
          [
           "male"
          ],
          [
           "female"
          ],
          [
           "male"
          ],
          [
           "female"
          ],
          [
           "male"
          ],
          [
           "female"
          ],
          [
           "male"
          ],
          [
           "female"
          ],
          [
           "male"
          ],
          [
           "female"
          ],
          [
           "female"
          ],
          [
           "male"
          ],
          [
           "male"
          ],
          [
           "female"
          ],
          [
           "male"
          ],
          [
           "male"
          ],
          [
           "male"
          ],
          [
           "female"
          ],
          [
           "male"
          ],
          [
           "male"
          ],
          [
           "male"
          ],
          [
           "male"
          ],
          [
           "female"
          ],
          [
           "female"
          ],
          [
           "female"
          ],
          [
           "male"
          ],
          [
           "female"
          ],
          [
           "female"
          ],
          [
           "female"
          ],
          [
           "male"
          ],
          [
           "female"
          ],
          [
           "female"
          ],
          [
           "female"
          ],
          [
           "male"
          ],
          [
           "female"
          ],
          [
           "female"
          ],
          [
           "male"
          ],
          [
           "female"
          ],
          [
           "female"
          ],
          [
           "male"
          ],
          [
           "female"
          ],
          [
           "male"
          ],
          [
           "female"
          ],
          [
           "male"
          ],
          [
           "female"
          ],
          [
           "female"
          ],
          [
           "female"
          ],
          [
           "male"
          ],
          [
           "male"
          ],
          [
           "male"
          ],
          [
           "female"
          ],
          [
           "male"
          ],
          [
           "female"
          ],
          [
           "female"
          ],
          [
           "male"
          ],
          [
           "female"
          ],
          [
           "female"
          ],
          [
           "female"
          ],
          [
           "female"
          ],
          [
           "male"
          ],
          [
           "male"
          ],
          [
           "female"
          ],
          [
           "male"
          ],
          [
           "female"
          ],
          [
           "male"
          ],
          [
           "male"
          ],
          [
           "female"
          ],
          [
           "male"
          ],
          [
           "male"
          ],
          [
           "male"
          ],
          [
           "female"
          ],
          [
           "male"
          ],
          [
           "male"
          ],
          [
           "female"
          ],
          [
           "male"
          ],
          [
           "female"
          ],
          [
           "male"
          ],
          [
           "male"
          ],
          [
           "female"
          ],
          [
           "female"
          ],
          [
           "male"
          ],
          [
           "female"
          ],
          [
           "female"
          ],
          [
           "female"
          ],
          [
           "male"
          ],
          [
           "female"
          ],
          [
           "female"
          ],
          [
           "male"
          ],
          [
           "male"
          ],
          [
           "male"
          ],
          [
           "male"
          ],
          [
           "male"
          ],
          [
           "male"
          ],
          [
           "male"
          ],
          [
           "male"
          ],
          [
           "female"
          ],
          [
           "female"
          ],
          [
           "male"
          ],
          [
           "male"
          ],
          [
           "male"
          ],
          [
           "female"
          ],
          [
           "female"
          ],
          [
           "male"
          ],
          [
           "female"
          ],
          [
           "female"
          ],
          [
           "male"
          ],
          [
           "female"
          ],
          [
           "female"
          ],
          [
           "female"
          ],
          [
           "female"
          ],
          [
           "male"
          ],
          [
           "male"
          ],
          [
           "female"
          ],
          [
           "female"
          ],
          [
           "female"
          ],
          [
           "male"
          ],
          [
           "male"
          ],
          [
           "female"
          ],
          [
           "female"
          ],
          [
           "male"
          ],
          [
           "male"
          ],
          [
           "male"
          ],
          [
           "female"
          ],
          [
           "female"
          ],
          [
           "male"
          ],
          [
           "male"
          ],
          [
           "male"
          ],
          [
           "female"
          ],
          [
           "female"
          ],
          [
           "male"
          ],
          [
           "female"
          ],
          [
           "male"
          ],
          [
           "male"
          ],
          [
           "female"
          ],
          [
           "female"
          ],
          [
           "male"
          ],
          [
           "male"
          ],
          [
           "male"
          ],
          [
           "male"
          ],
          [
           "female"
          ],
          [
           "female"
          ],
          [
           "female"
          ],
          [
           "male"
          ],
          [
           "male"
          ],
          [
           "male"
          ],
          [
           "female"
          ],
          [
           "male"
          ],
          [
           "female"
          ],
          [
           "male"
          ],
          [
           "male"
          ],
          [
           "female"
          ],
          [
           "female"
          ],
          [
           "female"
          ],
          [
           "male"
          ],
          [
           "female"
          ],
          [
           "female"
          ],
          [
           "female"
          ],
          [
           "male"
          ],
          [
           "male"
          ],
          [
           "male"
          ],
          [
           "male"
          ],
          [
           "male"
          ],
          [
           "female"
          ],
          [
           "male"
          ],
          [
           "female"
          ],
          [
           "male"
          ],
          [
           "male"
          ],
          [
           "male"
          ],
          [
           "female"
          ],
          [
           "female"
          ],
          [
           "male"
          ],
          [
           "male"
          ],
          [
           "female"
          ],
          [
           "male"
          ],
          [
           "male"
          ],
          [
           "female"
          ],
          [
           "male"
          ],
          [
           "female"
          ],
          [
           "male"
          ],
          [
           "male"
          ],
          [
           "female"
          ],
          [
           "male"
          ],
          [
           "male"
          ],
          [
           "female"
          ],
          [
           "male"
          ],
          [
           "female"
          ],
          [
           "female"
          ],
          [
           "male"
          ],
          [
           "male"
          ],
          [
           "male"
          ],
          [
           "female"
          ],
          [
           "female"
          ],
          [
           "male"
          ],
          [
           "female"
          ],
          [
           "male"
          ],
          [
           "male"
          ],
          [
           "female"
          ],
          [
           "female"
          ],
          [
           "male"
          ],
          [
           "female"
          ],
          [
           "female"
          ],
          [
           "female"
          ],
          [
           "female"
          ],
          [
           "female"
          ],
          [
           "male"
          ],
          [
           "male"
          ],
          [
           "male"
          ],
          [
           "male"
          ],
          [
           "female"
          ],
          [
           "female"
          ],
          [
           "female"
          ],
          [
           "male"
          ],
          [
           "male"
          ],
          [
           "female"
          ],
          [
           "male"
          ],
          [
           "female"
          ],
          [
           "male"
          ],
          [
           "female"
          ],
          [
           "male"
          ],
          [
           "female"
          ],
          [
           "male"
          ],
          [
           "male"
          ],
          [
           "male"
          ],
          [
           "female"
          ],
          [
           "female"
          ],
          [
           "male"
          ],
          [
           "male"
          ],
          [
           "female"
          ],
          [
           "male"
          ],
          [
           "male"
          ],
          [
           "male"
          ],
          [
           "female"
          ],
          [
           "male"
          ],
          [
           "male"
          ],
          [
           "male"
          ],
          [
           "female"
          ],
          [
           "female"
          ],
          [
           "female"
          ],
          [
           "male"
          ],
          [
           "male"
          ],
          [
           "male"
          ],
          [
           "male"
          ],
          [
           "male"
          ],
          [
           "female"
          ],
          [
           "female"
          ],
          [
           "female"
          ],
          [
           "female"
          ],
          [
           "female"
          ],
          [
           "male"
          ],
          [
           "male"
          ],
          [
           "male"
          ],
          [
           "female"
          ],
          [
           "female"
          ],
          [
           "male"
          ],
          [
           "male"
          ],
          [
           "female"
          ],
          [
           "male"
          ],
          [
           "female"
          ],
          [
           "male"
          ],
          [
           "female"
          ],
          [
           "male"
          ],
          [
           "female"
          ],
          [
           "female"
          ],
          [
           "female"
          ],
          [
           "male"
          ],
          [
           "female"
          ],
          [
           "female"
          ],
          [
           "female"
          ],
          [
           "female"
          ],
          [
           "female"
          ],
          [
           "male"
          ],
          [
           "male"
          ],
          [
           "male"
          ],
          [
           "male"
          ],
          [
           "male"
          ],
          [
           "male"
          ],
          [
           "male"
          ],
          [
           "female"
          ],
          [
           "female"
          ],
          [
           "male"
          ],
          [
           "female"
          ],
          [
           "male"
          ],
          [
           "female"
          ],
          [
           "female"
          ],
          [
           "female"
          ],
          [
           "female"
          ],
          [
           "male"
          ],
          [
           "male"
          ],
          [
           "female"
          ],
          [
           "female"
          ],
          [
           "male"
          ],
          [
           "male"
          ],
          [
           "female"
          ],
          [
           "female"
          ],
          [
           "male"
          ],
          [
           "female"
          ],
          [
           "male"
          ],
          [
           "male"
          ],
          [
           "male"
          ],
          [
           "female"
          ],
          [
           "male"
          ],
          [
           "female"
          ],
          [
           "female"
          ],
          [
           "female"
          ],
          [
           "male"
          ],
          [
           "male"
          ],
          [
           "female"
          ],
          [
           "male"
          ],
          [
           "female"
          ],
          [
           "female"
          ],
          [
           "female"
          ],
          [
           "male"
          ],
          [
           "male"
          ],
          [
           "male"
          ],
          [
           "male"
          ],
          [
           "female"
          ],
          [
           "female"
          ],
          [
           "male"
          ],
          [
           "male"
          ],
          [
           "male"
          ],
          [
           "female"
          ],
          [
           "male"
          ],
          [
           "male"
          ],
          [
           "female"
          ],
          [
           "female"
          ],
          [
           "female"
          ],
          [
           "female"
          ],
          [
           "male"
          ],
          [
           "male"
          ],
          [
           "male"
          ],
          [
           "male"
          ],
          [
           "male"
          ],
          [
           "male"
          ],
          [
           "female"
          ],
          [
           "male"
          ],
          [
           "male"
          ],
          [
           "male"
          ],
          [
           "male"
          ],
          [
           "female"
          ],
          [
           "male"
          ],
          [
           "female"
          ],
          [
           "female"
          ],
          [
           "male"
          ],
          [
           "female"
          ],
          [
           "female"
          ],
          [
           "male"
          ],
          [
           "male"
          ],
          [
           "male"
          ],
          [
           "male"
          ],
          [
           "female"
          ],
          [
           "female"
          ],
          [
           "female"
          ],
          [
           "male"
          ],
          [
           "male"
          ],
          [
           "female"
          ],
          [
           "female"
          ],
          [
           "male"
          ],
          [
           "male"
          ],
          [
           "male"
          ],
          [
           "female"
          ],
          [
           "male"
          ],
          [
           "female"
          ],
          [
           "female"
          ],
          [
           "male"
          ],
          [
           "female"
          ],
          [
           "male"
          ],
          [
           "female"
          ],
          [
           "female"
          ],
          [
           "male"
          ],
          [
           "male"
          ],
          [
           "female"
          ],
          [
           "male"
          ],
          [
           "female"
          ],
          [
           "female"
          ],
          [
           "female"
          ],
          [
           "male"
          ],
          [
           "male"
          ],
          [
           "female"
          ],
          [
           "female"
          ],
          [
           "male"
          ],
          [
           "male"
          ],
          [
           "male"
          ],
          [
           "female"
          ],
          [
           "male"
          ],
          [
           "male"
          ],
          [
           "female"
          ],
          [
           "female"
          ],
          [
           "female"
          ],
          [
           "female"
          ],
          [
           "female"
          ],
          [
           "female"
          ],
          [
           "female"
          ],
          [
           "female"
          ],
          [
           "female"
          ],
          [
           "male"
          ],
          [
           "male"
          ],
          [
           "female"
          ],
          [
           "female"
          ],
          [
           "female"
          ],
          [
           "male"
          ],
          [
           "female"
          ],
          [
           "male"
          ],
          [
           "female"
          ],
          [
           "female"
          ],
          [
           "male"
          ],
          [
           "male"
          ],
          [
           "female"
          ],
          [
           "female"
          ],
          [
           "female"
          ],
          [
           "female"
          ],
          [
           "female"
          ],
          [
           "female"
          ],
          [
           "female"
          ],
          [
           "male"
          ],
          [
           "female"
          ],
          [
           "female"
          ],
          [
           "female"
          ],
          [
           "female"
          ],
          [
           "female"
          ],
          [
           "female"
          ],
          [
           "female"
          ],
          [
           "female"
          ],
          [
           "male"
          ],
          [
           "male"
          ],
          [
           "female"
          ],
          [
           "male"
          ],
          [
           "male"
          ],
          [
           "male"
          ],
          [
           "male"
          ],
          [
           "male"
          ],
          [
           "female"
          ],
          [
           "male"
          ],
          [
           "male"
          ],
          [
           "male"
          ],
          [
           "male"
          ],
          [
           "female"
          ],
          [
           "female"
          ],
          [
           "male"
          ],
          [
           "male"
          ],
          [
           "male"
          ],
          [
           "female"
          ],
          [
           "female"
          ],
          [
           "male"
          ],
          [
           "male"
          ],
          [
           "male"
          ],
          [
           "female"
          ],
          [
           "male"
          ],
          [
           "male"
          ],
          [
           "male"
          ],
          [
           "male"
          ],
          [
           "female"
          ],
          [
           "male"
          ],
          [
           "female"
          ],
          [
           "male"
          ],
          [
           "female"
          ],
          [
           "female"
          ],
          [
           "male"
          ],
          [
           "female"
          ],
          [
           "female"
          ],
          [
           "female"
          ],
          [
           "male"
          ],
          [
           "male"
          ],
          [
           "female"
          ],
          [
           "male"
          ],
          [
           "female"
          ],
          [
           "male"
          ],
          [
           "female"
          ],
          [
           "female"
          ],
          [
           "female"
          ],
          [
           "female"
          ],
          [
           "female"
          ],
          [
           "male"
          ],
          [
           "female"
          ],
          [
           "female"
          ],
          [
           "male"
          ],
          [
           "female"
          ],
          [
           "female"
          ],
          [
           "female"
          ],
          [
           "female"
          ],
          [
           "female"
          ],
          [
           "male"
          ],
          [
           "male"
          ],
          [
           "female"
          ],
          [
           "male"
          ],
          [
           "male"
          ],
          [
           "male"
          ],
          [
           "female"
          ],
          [
           "female"
          ],
          [
           "female"
          ],
          [
           "female"
          ],
          [
           "male"
          ],
          [
           "female"
          ],
          [
           "female"
          ],
          [
           "female"
          ],
          [
           "male"
          ],
          [
           "female"
          ],
          [
           "male"
          ],
          [
           "male"
          ],
          [
           "male"
          ],
          [
           "male"
          ],
          [
           "male"
          ],
          [
           "female"
          ],
          [
           "male"
          ],
          [
           "female"
          ],
          [
           "female"
          ],
          [
           "female"
          ],
          [
           "male"
          ],
          [
           "male"
          ],
          [
           "female"
          ],
          [
           "male"
          ],
          [
           "male"
          ],
          [
           "female"
          ],
          [
           "male"
          ],
          [
           "male"
          ],
          [
           "female"
          ],
          [
           "male"
          ],
          [
           "male"
          ],
          [
           "male"
          ],
          [
           "male"
          ],
          [
           "female"
          ],
          [
           "male"
          ],
          [
           "female"
          ],
          [
           "male"
          ],
          [
           "female"
          ],
          [
           "female"
          ],
          [
           "female"
          ],
          [
           "male"
          ],
          [
           "female"
          ],
          [
           "female"
          ],
          [
           "female"
          ]
         ],
         "hovertemplate": "smoker=no<br>age=%{x}<br>charges=%{y}<br>sex=%{customdata[0]}<extra></extra>",
         "legendgroup": "no",
         "marker": {
          "color": "#EF553B",
          "opacity": 0.8,
          "size": 5,
          "symbol": "circle"
         },
         "mode": "markers",
         "name": "no",
         "showlegend": true,
         "type": "scattergl",
         "x": {
          "bdata": "EhwhIB8uJSU8GRc4EzQXODweEiU7PzcXEhM/Ez4aGB8pJSY3Ehw8EhUoOiIrGUAcEz0oKB81Oiw5HRUWKR8tMDguNxU1Ixw2NykeEiITGh02NyUVNDw6MSUsEhQvGjQmOz01ExQWExY2FiIaHR0zNRMjMCAoLDI2ICUvFCATGz8xEiMYJjYuKToSFiwsGh4pHT0kGTgSEyctM0ATMDwuHDs/KBQoGCItKTUbGhgiNSA3HDopLyo7EzsnEh8sITcoNjwYEx0bNyYzOjU7LTESKTIZLxMWOzMeNzQuLj80HB0WGRIwJDgcOR0cHjopMhMxNDI2LCAiGjkdKBs0PTgrQDw+Lhg+PD8xIiEuJBM5Mh4hEi4uLxcSMCMVFTE4KiwSPTkqFEA+NyMsEzoyGhgwEzAxLi4rFUASMy9AMR80IS8mIBMZEys0QBkwLSYSFRsTHSo8HzwWIzQaHxI7LTw4KCMnHhgUIDs3OTgoMT44Ezw4HBIbEhMvGRUXPzESMzAfNhM1Ez0SPRQfLSw+KyYlFhUYOTgbMxM6FC0jHzIgMyYSEzMuEj47JUAmIS4uNSIUPzYcNhk/ID40GRwuIhMuNhsyEhMmKTEfEh4+OToWNBk7EycgEyEVPSY6LxQpLioiKzQSMzhAMxscLyYSIhQ4Nx4xOx0kITo1GB0oM0ATIzghPRcrMCcoEjoxNTAtOxobMDklOSASMSgeHSQpLTc4MRUTNSE1KigvFS8UGBsaNTgXFTI1Ii8hMR8kEjIrFBg8MTwzOjM1PhMyKRIpNRgwOzEaLR8yMiITLxwVQDoYHyceFhcbLTkvKkAmPTUsKTMoLSM1EjMfIzwVHT4nExYnHh46KkAVFy0oExIZLiE2HCQUGBctGhIsPEAnPyQcOiQqJDgjOxU7NTMXGzc9NRQZOSY3JDMoEjk9GTIaKissFzEhKSUWFxUZJBY5JDY+PRMSEzEaMTwaGyw/FjssIRg9Iz4+JiIrMhM5PikaJy4tIDssJxI1EjISEz44Kio5Hh8YMBMdPy40IywVJzIiFhMaMBotJDYiGxQsKy0iGiYyJicnPyEkGDAvHRwZMzA9MCY7Exo2FTMSLxUXNiUePTYWExIcNysZLEAxGzcwLRggGDkkHSowJz82PxU2PCAvFT8SICYgPjc5NDg3FzISFjQZNR06JTYxMhotNhwXNykeLhs/NyMiEycbOTQcMiwaITIpNCcyNBQ3KhI6IzAkFxQgKyIeEikjOR0gJTgmHRYoFyoYGTAtPhcfKTowHxMpKB8lLhYzIzs7JCcSNBsSKB0mHigyKSEmKjg6NjotGj86JRkWHBIcLSESEygiKjM2NzQgHCkrMTcULRoZKyM5FiAZMBIvHCQsJhUuOhQSHCETGRgpKiEiEhMSIycfPh89KjMXNDkXNDISEhU=",
          "dtype": "i1"
         },
         "xaxis": "x",
         "y": {
          "bdata": "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",
          "dtype": "f8"
         },
         "yaxis": "y"
        }
       ],
       "layout": {
        "legend": {
         "title": {
          "text": "smoker"
         },
         "tracegroupgap": 0
        },
        "template": {
         "data": {
          "bar": [
           {
            "error_x": {
             "color": "#2a3f5f"
            },
            "error_y": {
             "color": "#2a3f5f"
            },
            "marker": {
             "line": {
              "color": "#E5ECF6",
              "width": 0.5
             },
             "pattern": {
              "fillmode": "overlay",
              "size": 10,
              "solidity": 0.2
             }
            },
            "type": "bar"
           }
          ],
          "barpolar": [
           {
            "marker": {
             "line": {
              "color": "#E5ECF6",
              "width": 0.5
             },
             "pattern": {
              "fillmode": "overlay",
              "size": 10,
              "solidity": 0.2
             }
            },
            "type": "barpolar"
           }
          ],
          "carpet": [
           {
            "aaxis": {
             "endlinecolor": "#2a3f5f",
             "gridcolor": "white",
             "linecolor": "white",
             "minorgridcolor": "white",
             "startlinecolor": "#2a3f5f"
            },
            "baxis": {
             "endlinecolor": "#2a3f5f",
             "gridcolor": "white",
             "linecolor": "white",
             "minorgridcolor": "white",
             "startlinecolor": "#2a3f5f"
            },
            "type": "carpet"
           }
          ],
          "choropleth": [
           {
            "colorbar": {
             "outlinewidth": 0,
             "ticks": ""
            },
            "type": "choropleth"
           }
          ],
          "contour": [
           {
            "colorbar": {
             "outlinewidth": 0,
             "ticks": ""
            },
            "colorscale": [
             [
              0,
              "#0d0887"
             ],
             [
              0.1111111111111111,
              "#46039f"
             ],
             [
              0.2222222222222222,
              "#7201a8"
             ],
             [
              0.3333333333333333,
              "#9c179e"
             ],
             [
              0.4444444444444444,
              "#bd3786"
             ],
             [
              0.5555555555555556,
              "#d8576b"
             ],
             [
              0.6666666666666666,
              "#ed7953"
             ],
             [
              0.7777777777777778,
              "#fb9f3a"
             ],
             [
              0.8888888888888888,
              "#fdca26"
             ],
             [
              1,
              "#f0f921"
             ]
            ],
            "type": "contour"
           }
          ],
          "contourcarpet": [
           {
            "colorbar": {
             "outlinewidth": 0,
             "ticks": ""
            },
            "type": "contourcarpet"
           }
          ],
          "heatmap": [
           {
            "colorbar": {
             "outlinewidth": 0,
             "ticks": ""
            },
            "colorscale": [
             [
              0,
              "#0d0887"
             ],
             [
              0.1111111111111111,
              "#46039f"
             ],
             [
              0.2222222222222222,
              "#7201a8"
             ],
             [
              0.3333333333333333,
              "#9c179e"
             ],
             [
              0.4444444444444444,
              "#bd3786"
             ],
             [
              0.5555555555555556,
              "#d8576b"
             ],
             [
              0.6666666666666666,
              "#ed7953"
             ],
             [
              0.7777777777777778,
              "#fb9f3a"
             ],
             [
              0.8888888888888888,
              "#fdca26"
             ],
             [
              1,
              "#f0f921"
             ]
            ],
            "type": "heatmap"
           }
          ],
          "histogram": [
           {
            "marker": {
             "pattern": {
              "fillmode": "overlay",
              "size": 10,
              "solidity": 0.2
             }
            },
            "type": "histogram"
           }
          ],
          "histogram2d": [
           {
            "colorbar": {
             "outlinewidth": 0,
             "ticks": ""
            },
            "colorscale": [
             [
              0,
              "#0d0887"
             ],
             [
              0.1111111111111111,
              "#46039f"
             ],
             [
              0.2222222222222222,
              "#7201a8"
             ],
             [
              0.3333333333333333,
              "#9c179e"
             ],
             [
              0.4444444444444444,
              "#bd3786"
             ],
             [
              0.5555555555555556,
              "#d8576b"
             ],
             [
              0.6666666666666666,
              "#ed7953"
             ],
             [
              0.7777777777777778,
              "#fb9f3a"
             ],
             [
              0.8888888888888888,
              "#fdca26"
             ],
             [
              1,
              "#f0f921"
             ]
            ],
            "type": "histogram2d"
           }
          ],
          "histogram2dcontour": [
           {
            "colorbar": {
             "outlinewidth": 0,
             "ticks": ""
            },
            "colorscale": [
             [
              0,
              "#0d0887"
             ],
             [
              0.1111111111111111,
              "#46039f"
             ],
             [
              0.2222222222222222,
              "#7201a8"
             ],
             [
              0.3333333333333333,
              "#9c179e"
             ],
             [
              0.4444444444444444,
              "#bd3786"
             ],
             [
              0.5555555555555556,
              "#d8576b"
             ],
             [
              0.6666666666666666,
              "#ed7953"
             ],
             [
              0.7777777777777778,
              "#fb9f3a"
             ],
             [
              0.8888888888888888,
              "#fdca26"
             ],
             [
              1,
              "#f0f921"
             ]
            ],
            "type": "histogram2dcontour"
           }
          ],
          "mesh3d": [
           {
            "colorbar": {
             "outlinewidth": 0,
             "ticks": ""
            },
            "type": "mesh3d"
           }
          ],
          "parcoords": [
           {
            "line": {
             "colorbar": {
              "outlinewidth": 0,
              "ticks": ""
             }
            },
            "type": "parcoords"
           }
          ],
          "pie": [
           {
            "automargin": true,
            "type": "pie"
           }
          ],
          "scatter": [
           {
            "fillpattern": {
             "fillmode": "overlay",
             "size": 10,
             "solidity": 0.2
            },
            "type": "scatter"
           }
          ],
          "scatter3d": [
           {
            "line": {
             "colorbar": {
              "outlinewidth": 0,
              "ticks": ""
             }
            },
            "marker": {
             "colorbar": {
              "outlinewidth": 0,
              "ticks": ""
             }
            },
            "type": "scatter3d"
           }
          ],
          "scattercarpet": [
           {
            "marker": {
             "colorbar": {
              "outlinewidth": 0,
              "ticks": ""
             }
            },
            "type": "scattercarpet"
           }
          ],
          "scattergeo": [
           {
            "marker": {
             "colorbar": {
              "outlinewidth": 0,
              "ticks": ""
             }
            },
            "type": "scattergeo"
           }
          ],
          "scattergl": [
           {
            "marker": {
             "colorbar": {
              "outlinewidth": 0,
              "ticks": ""
             }
            },
            "type": "scattergl"
           }
          ],
          "scattermap": [
           {
            "marker": {
             "colorbar": {
              "outlinewidth": 0,
              "ticks": ""
             }
            },
            "type": "scattermap"
           }
          ],
          "scattermapbox": [
           {
            "marker": {
             "colorbar": {
              "outlinewidth": 0,
              "ticks": ""
             }
            },
            "type": "scattermapbox"
           }
          ],
          "scatterpolar": [
           {
            "marker": {
             "colorbar": {
              "outlinewidth": 0,
              "ticks": ""
             }
            },
            "type": "scatterpolar"
           }
          ],
          "scatterpolargl": [
           {
            "marker": {
             "colorbar": {
              "outlinewidth": 0,
              "ticks": ""
             }
            },
            "type": "scatterpolargl"
           }
          ],
          "scatterternary": [
           {
            "marker": {
             "colorbar": {
              "outlinewidth": 0,
              "ticks": ""
             }
            },
            "type": "scatterternary"
           }
          ],
          "surface": [
           {
            "colorbar": {
             "outlinewidth": 0,
             "ticks": ""
            },
            "colorscale": [
             [
              0,
              "#0d0887"
             ],
             [
              0.1111111111111111,
              "#46039f"
             ],
             [
              0.2222222222222222,
              "#7201a8"
             ],
             [
              0.3333333333333333,
              "#9c179e"
             ],
             [
              0.4444444444444444,
              "#bd3786"
             ],
             [
              0.5555555555555556,
              "#d8576b"
             ],
             [
              0.6666666666666666,
              "#ed7953"
             ],
             [
              0.7777777777777778,
              "#fb9f3a"
             ],
             [
              0.8888888888888888,
              "#fdca26"
             ],
             [
              1,
              "#f0f921"
             ]
            ],
            "type": "surface"
           }
          ],
          "table": [
           {
            "cells": {
             "fill": {
              "color": "#EBF0F8"
             },
             "line": {
              "color": "white"
             }
            },
            "header": {
             "fill": {
              "color": "#C8D4E3"
             },
             "line": {
              "color": "white"
             }
            },
            "type": "table"
           }
          ]
         },
         "layout": {
          "annotationdefaults": {
           "arrowcolor": "#2a3f5f",
           "arrowhead": 0,
           "arrowwidth": 1
          },
          "autotypenumbers": "strict",
          "coloraxis": {
           "colorbar": {
            "outlinewidth": 0,
            "ticks": ""
           }
          },
          "colorscale": {
           "diverging": [
            [
             0,
             "#8e0152"
            ],
            [
             0.1,
             "#c51b7d"
            ],
            [
             0.2,
             "#de77ae"
            ],
            [
             0.3,
             "#f1b6da"
            ],
            [
             0.4,
             "#fde0ef"
            ],
            [
             0.5,
             "#f7f7f7"
            ],
            [
             0.6,
             "#e6f5d0"
            ],
            [
             0.7,
             "#b8e186"
            ],
            [
             0.8,
             "#7fbc41"
            ],
            [
             0.9,
             "#4d9221"
            ],
            [
             1,
             "#276419"
            ]
           ],
           "sequential": [
            [
             0,
             "#0d0887"
            ],
            [
             0.1111111111111111,
             "#46039f"
            ],
            [
             0.2222222222222222,
             "#7201a8"
            ],
            [
             0.3333333333333333,
             "#9c179e"
            ],
            [
             0.4444444444444444,
             "#bd3786"
            ],
            [
             0.5555555555555556,
             "#d8576b"
            ],
            [
             0.6666666666666666,
             "#ed7953"
            ],
            [
             0.7777777777777778,
             "#fb9f3a"
            ],
            [
             0.8888888888888888,
             "#fdca26"
            ],
            [
             1,
             "#f0f921"
            ]
           ],
           "sequentialminus": [
            [
             0,
             "#0d0887"
            ],
            [
             0.1111111111111111,
             "#46039f"
            ],
            [
             0.2222222222222222,
             "#7201a8"
            ],
            [
             0.3333333333333333,
             "#9c179e"
            ],
            [
             0.4444444444444444,
             "#bd3786"
            ],
            [
             0.5555555555555556,
             "#d8576b"
            ],
            [
             0.6666666666666666,
             "#ed7953"
            ],
            [
             0.7777777777777778,
             "#fb9f3a"
            ],
            [
             0.8888888888888888,
             "#fdca26"
            ],
            [
             1,
             "#f0f921"
            ]
           ]
          },
          "colorway": [
           "#636efa",
           "#EF553B",
           "#00cc96",
           "#ab63fa",
           "#FFA15A",
           "#19d3f3",
           "#FF6692",
           "#B6E880",
           "#FF97FF",
           "#FECB52"
          ],
          "font": {
           "color": "#2a3f5f"
          },
          "geo": {
           "bgcolor": "white",
           "lakecolor": "white",
           "landcolor": "#E5ECF6",
           "showlakes": true,
           "showland": true,
           "subunitcolor": "white"
          },
          "hoverlabel": {
           "align": "left"
          },
          "hovermode": "closest",
          "mapbox": {
           "style": "light"
          },
          "paper_bgcolor": "white",
          "plot_bgcolor": "#E5ECF6",
          "polar": {
           "angularaxis": {
            "gridcolor": "white",
            "linecolor": "white",
            "ticks": ""
           },
           "bgcolor": "#E5ECF6",
           "radialaxis": {
            "gridcolor": "white",
            "linecolor": "white",
            "ticks": ""
           }
          },
          "scene": {
           "xaxis": {
            "backgroundcolor": "#E5ECF6",
            "gridcolor": "white",
            "gridwidth": 2,
            "linecolor": "white",
            "showbackground": true,
            "ticks": "",
            "zerolinecolor": "white"
           },
           "yaxis": {
            "backgroundcolor": "#E5ECF6",
            "gridcolor": "white",
            "gridwidth": 2,
            "linecolor": "white",
            "showbackground": true,
            "ticks": "",
            "zerolinecolor": "white"
           },
           "zaxis": {
            "backgroundcolor": "#E5ECF6",
            "gridcolor": "white",
            "gridwidth": 2,
            "linecolor": "white",
            "showbackground": true,
            "ticks": "",
            "zerolinecolor": "white"
           }
          },
          "shapedefaults": {
           "line": {
            "color": "#2a3f5f"
           }
          },
          "ternary": {
           "aaxis": {
            "gridcolor": "white",
            "linecolor": "white",
            "ticks": ""
           },
           "baxis": {
            "gridcolor": "white",
            "linecolor": "white",
            "ticks": ""
           },
           "bgcolor": "#E5ECF6",
           "caxis": {
            "gridcolor": "white",
            "linecolor": "white",
            "ticks": ""
           }
          },
          "title": {
           "x": 0.05
          },
          "xaxis": {
           "automargin": true,
           "gridcolor": "white",
           "linecolor": "white",
           "ticks": "",
           "title": {
            "standoff": 15
           },
           "zerolinecolor": "white",
           "zerolinewidth": 2
          },
          "yaxis": {
           "automargin": true,
           "gridcolor": "white",
           "linecolor": "white",
           "ticks": "",
           "title": {
            "standoff": 15
           },
           "zerolinecolor": "white",
           "zerolinewidth": 2
          }
         }
        },
        "title": {
         "text": "Age vs. Charges"
        },
        "xaxis": {
         "anchor": "y",
         "domain": [
          0,
          1
         ],
         "title": {
          "text": "age"
         }
        },
        "yaxis": {
         "anchor": "x",
         "domain": [
          0,
          1
         ],
         "title": {
          "text": "charges"
         }
        }
       }
      }
     },
     "metadata": {},
     "output_type": "display_data"
    }
   ],
   "source": [
    "fig = px.scatter(medical_df, \n",
    "                 x='age', \n",
    "                 y='charges', \n",
    "                 color='smoker', \n",
    "                 opacity=0.8, \n",
    "                 hover_data=['sex'], \n",
    "                 title='Age vs. Charges')\n",
    "fig.update_traces(marker_size=5)\n",
    "fig.show()"
   ]
  },
  {
   "cell_type": "markdown",
   "id": "incredible-worth",
   "metadata": {},
   "source": [
    "We can make the following observations from the above chart:\n",
    "\n",
    "* The general trend seems to be that medical charges increase with age, as we might expect. However, there is significant variation at every age, and it's clear that age alone cannot be used to accurately determine medical charges.\n",
    "\n",
    "\n",
    "* We can see three \"clusters\" of points, each of which seems to form a line with an increasing slope:\n",
    "\n",
    "     1. The first and the largest cluster consists primary of presumably \"healthy non-smokers\" who have relatively low medical charges compared to others\n",
    "     \n",
    "     2. The second cluster contains a mix of smokers and non-smokers. It's possible that these are actually two distinct but overlapping clusters: \"non-smokers with medical issues\" and \"smokers without major medical issues\".\n",
    "     \n",
    "     3. The final cluster consists exclusively of smokers, presumably smokers with major medical issues that are possibly related to or worsened by smoking.\n",
    "     \n",
    "\n",
    "> **EXERCISE**: What other inferences can you draw from the above chart?\n",
    ">\n",
    "> Sex appears to even distributed throughout this graph.\n",
    "> "
   ]
  },
  {
   "cell_type": "markdown",
   "id": "personal-associate",
   "metadata": {},
   "source": [
    "### BMI and Charges\n",
    "\n",
    "Let's visualize the relationship between BMI (body mass index) and charges using another scatter plot. Once again, we'll use the values from the \"smoker\" column to color the points."
   ]
  },
  {
   "cell_type": "code",
   "execution_count": 41,
   "id": "specific-encoding",
   "metadata": {},
   "outputs": [
    {
     "data": {
      "application/vnd.plotly.v1+json": {
       "config": {
        "plotlyServerURL": "https://plot.ly"
       },
       "data": [
        {
         "customdata": [
          [
           "female"
          ],
          [
           "female"
          ],
          [
           "male"
          ],
          [
           "male"
          ],
          [
           "female"
          ],
          [
           "male"
          ],
          [
           "male"
          ],
          [
           "male"
          ],
          [
           "male"
          ],
          [
           "male"
          ],
          [
           "male"
          ],
          [
           "male"
          ],
          [
           "male"
          ],
          [
           "male"
          ],
          [
           "male"
          ],
          [
           "female"
          ],
          [
           "female"
          ],
          [
           "male"
          ],
          [
           "female"
          ],
          [
           "male"
          ],
          [
           "female"
          ],
          [
           "male"
          ],
          [
           "female"
          ],
          [
           "male"
          ],
          [
           "female"
          ],
          [
           "male"
          ],
          [
           "male"
          ],
          [
           "female"
          ],
          [
           "male"
          ],
          [
           "male"
          ],
          [
           "female"
          ],
          [
           "male"
          ],
          [
           "female"
          ],
          [
           "female"
          ],
          [
           "male"
          ],
          [
           "male"
          ],
          [
           "male"
          ],
          [
           "female"
          ],
          [
           "male"
          ],
          [
           "male"
          ],
          [
           "male"
          ],
          [
           "female"
          ],
          [
           "female"
          ],
          [
           "female"
          ],
          [
           "male"
          ],
          [
           "female"
          ],
          [
           "male"
          ],
          [
           "male"
          ],
          [
           "male"
          ],
          [
           "female"
          ],
          [
           "male"
          ],
          [
           "female"
          ],
          [
           "female"
          ],
          [
           "male"
          ],
          [
           "female"
          ],
          [
           "male"
          ],
          [
           "male"
          ],
          [
           "male"
          ],
          [
           "male"
          ],
          [
           "female"
          ],
          [
           "male"
          ],
          [
           "male"
          ],
          [
           "male"
          ],
          [
           "male"
          ],
          [
           "male"
          ],
          [
           "female"
          ],
          [
           "male"
          ],
          [
           "female"
          ],
          [
           "male"
          ],
          [
           "male"
          ],
          [
           "male"
          ],
          [
           "male"
          ],
          [
           "female"
          ],
          [
           "male"
          ],
          [
           "female"
          ],
          [
           "male"
          ],
          [
           "male"
          ],
          [
           "female"
          ],
          [
           "female"
          ],
          [
           "male"
          ],
          [
           "male"
          ],
          [
           "female"
          ],
          [
           "male"
          ],
          [
           "female"
          ],
          [
           "female"
          ],
          [
           "male"
          ],
          [
           "female"
          ],
          [
           "male"
          ],
          [
           "female"
          ],
          [
           "female"
          ],
          [
           "female"
          ],
          [
           "female"
          ],
          [
           "male"
          ],
          [
           "male"
          ],
          [
           "male"
          ],
          [
           "female"
          ],
          [
           "male"
          ],
          [
           "male"
          ],
          [
           "female"
          ],
          [
           "male"
          ],
          [
           "male"
          ],
          [
           "male"
          ],
          [
           "female"
          ],
          [
           "male"
          ],
          [
           "male"
          ],
          [
           "male"
          ],
          [
           "male"
          ],
          [
           "male"
          ],
          [
           "male"
          ],
          [
           "male"
          ],
          [
           "female"
          ],
          [
           "male"
          ],
          [
           "female"
          ],
          [
           "female"
          ],
          [
           "male"
          ],
          [
           "female"
          ],
          [
           "female"
          ],
          [
           "female"
          ],
          [
           "female"
          ],
          [
           "female"
          ],
          [
           "male"
          ],
          [
           "female"
          ],
          [
           "male"
          ],
          [
           "female"
          ],
          [
           "male"
          ],
          [
           "male"
          ],
          [
           "female"
          ],
          [
           "male"
          ],
          [
           "male"
          ],
          [
           "female"
          ],
          [
           "female"
          ],
          [
           "male"
          ],
          [
           "female"
          ],
          [
           "male"
          ],
          [
           "female"
          ],
          [
           "male"
          ],
          [
           "male"
          ],
          [
           "male"
          ],
          [
           "male"
          ],
          [
           "female"
          ],
          [
           "female"
          ],
          [
           "female"
          ],
          [
           "male"
          ],
          [
           "female"
          ],
          [
           "male"
          ],
          [
           "male"
          ],
          [
           "male"
          ],
          [
           "male"
          ],
          [
           "female"
          ],
          [
           "female"
          ],
          [
           "male"
          ],
          [
           "male"
          ],
          [
           "female"
          ],
          [
           "male"
          ],
          [
           "female"
          ],
          [
           "male"
          ],
          [
           "male"
          ],
          [
           "male"
          ],
          [
           "female"
          ],
          [
           "female"
          ],
          [
           "female"
          ],
          [
           "male"
          ],
          [
           "male"
          ],
          [
           "male"
          ],
          [
           "female"
          ],
          [
           "female"
          ],
          [
           "female"
          ],
          [
           "female"
          ],
          [
           "female"
          ],
          [
           "female"
          ],
          [
           "female"
          ],
          [
           "male"
          ],
          [
           "female"
          ],
          [
           "female"
          ],
          [
           "male"
          ],
          [
           "male"
          ],
          [
           "female"
          ],
          [
           "male"
          ],
          [
           "female"
          ],
          [
           "male"
          ],
          [
           "female"
          ],
          [
           "male"
          ],
          [
           "female"
          ],
          [
           "male"
          ],
          [
           "male"
          ],
          [
           "male"
          ],
          [
           "male"
          ],
          [
           "male"
          ],
          [
           "male"
          ],
          [
           "male"
          ],
          [
           "male"
          ],
          [
           "male"
          ],
          [
           "male"
          ],
          [
           "male"
          ],
          [
           "female"
          ],
          [
           "female"
          ],
          [
           "male"
          ],
          [
           "male"
          ],
          [
           "male"
          ],
          [
           "male"
          ],
          [
           "female"
          ],
          [
           "male"
          ],
          [
           "male"
          ],
          [
           "female"
          ],
          [
           "female"
          ],
          [
           "male"
          ],
          [
           "male"
          ],
          [
           "female"
          ],
          [
           "female"
          ],
          [
           "male"
          ],
          [
           "female"
          ],
          [
           "male"
          ],
          [
           "male"
          ],
          [
           "male"
          ],
          [
           "male"
          ],
          [
           "male"
          ],
          [
           "male"
          ],
          [
           "female"
          ],
          [
           "male"
          ],
          [
           "female"
          ],
          [
           "female"
          ],
          [
           "female"
          ],
          [
           "male"
          ],
          [
           "female"
          ],
          [
           "male"
          ],
          [
           "male"
          ],
          [
           "female"
          ],
          [
           "female"
          ],
          [
           "female"
          ],
          [
           "female"
          ],
          [
           "male"
          ],
          [
           "female"
          ],
          [
           "male"
          ],
          [
           "male"
          ],
          [
           "female"
          ],
          [
           "female"
          ],
          [
           "male"
          ],
          [
           "female"
          ],
          [
           "male"
          ],
          [
           "female"
          ],
          [
           "female"
          ],
          [
           "female"
          ],
          [
           "male"
          ],
          [
           "female"
          ],
          [
           "female"
          ],
          [
           "female"
          ],
          [
           "male"
          ],
          [
           "female"
          ],
          [
           "male"
          ],
          [
           "male"
          ],
          [
           "male"
          ],
          [
           "male"
          ],
          [
           "male"
          ],
          [
           "male"
          ],
          [
           "male"
          ],
          [
           "male"
          ],
          [
           "male"
          ],
          [
           "female"
          ],
          [
           "female"
          ],
          [
           "male"
          ],
          [
           "male"
          ],
          [
           "male"
          ],
          [
           "male"
          ],
          [
           "male"
          ],
          [
           "male"
          ],
          [
           "male"
          ],
          [
           "female"
          ],
          [
           "male"
          ],
          [
           "female"
          ],
          [
           "female"
          ],
          [
           "female"
          ],
          [
           "male"
          ],
          [
           "female"
          ],
          [
           "female"
          ]
         ],
         "hovertemplate": "smoker=yes<br>bmi=%{x}<br>charges=%{y}<br>sex=%{customdata[0]}<extra></extra>",
         "legendgroup": "yes",
         "marker": {
          "color": "#636efa",
          "opacity": 0.8,
          "size": 5,
          "symbol": "circle"
         },
         "mode": "markers",
         "name": "yes",
         "showlegend": true,
         "type": "scattergl",
         "x": {
          "bdata": "ZmZmZmbmO0AK16NwPUo6QHE9CtejEEVAZmZmZmamQUDsUbgehes/QGZmZmZmJkJAzczMzMzMQUAzMzMzMzNCQPYoXI/CVUJAMzMzMzPzQ0CamZmZmZlBQAAAAAAAADxA16NwPQo3QUAK16NwPXpCQK5H4XoUrj9A4XoUrkfhNkDsUbgehWs2QHsUrkfh+jdAAAAAAADAOECPwvUoXM9CQGZmZmZmZkFAhetRuB7lNkApXI/C9Sg/QBSuR+F61D1AzczMzMxMP0AzMzMzM/MzQM3MzMzMTDNA7FG4HoXrPUBmZmZmZgY8QOxRuB6Fi0FAcT0K16PwO0CamZmZmVk/QM3MzMzMTDxApHA9CtfDMUDNzMzMzEw5QHE9CtejsDxAH4XrUbh+PkAfhetRuF43QOxRuB6FazhAzczMzMwsOUCkcD0K18NBQJqZmZmZmTpAzczMzMxsQkCamZmZmdlCQMP1KFyP8kRACtejcD0KQkA9CtejcL07QGZmZmZmZkFApHA9CtejOEC4HoXrUTg2QFK4HoXrET1A9ihcj8JVQkA9CtejcL07QArXo3A9SjFAmpmZmZkZQEB7FK5H4RpBQDMzMzMz0z9AcT0K16PQQEDsUbgehes/QNejcD0K1zpAUrgehetROEAK16NwPXpCQM3MzMzMLEVAzczMzMzMM0CamZmZmRlBQB+F61G4HjxAuB6F61FIREBSuB6F62FCQIXrUbgexUZAMzMzMzOzO0ApXI/C9Wg5QFK4HoXrMUFAXI/C9SicNkBcj8L1KPxBQGZmZmZmZj9AzczMzMzMPkA9CtejcD1CQGZmZmZm5kBA4XoUrkcxQkBcj8L1KFw7QGZmZmZmJkBAMzMzMzOzNUAzMzMzM3NAQI/C9ShcTzxApHA9CtfjOEAzMzMzMxNEQBSuR+F69DFAj8L1KFyvPkBcj8L1KDw0QFK4HoXrMTFAmpmZmZmZNkB7FK5H4fo6QHE9Ctej8EBArkfhehTuQUAzMzMzM2NAQAAAAAAAwEBAUrgeheuxOkAAAAAAAAA+QOF6FK5HYTxAmpmZmZkZOUCPwvUoXE88QAAAAAAAgDxASOF6FK4HQ0AzMzMzM7M5QDMzMzMzM0FA9ihcj8I1N0AAAAAAAEA+QM3MzMzMTDxAUrgehesROkBxPQrXoxBFQBSuR+F6tEdA16NwPQrXOUCamZmZmRlHQD0K16NwDUFAuB6F61FIREBcj8L1KAxDQPYoXI/CNT5AmpmZmZnZNUCPwvUoXE88QEjhehSupzdAZmZmZmbmQkBxPQrXo1BCQJqZmZmZmTlArkfhehSOQEDNzMzMzAxBQBSuR+F6xEBAmpmZmZl5Q0ApXI/C9Wg6QI/C9ShcTzxAzczMzMxMOUA9CtejcP02QEjhehSuB0NAMzMzMzNjQEBSuB6F6wFAQFK4HoXr8UVAmpmZmZlZP0BmZmZmZqZBQOF6FK5HIT9AAAAAAADgQUBI4XoUrgdDQGZmZmZmhkNA4XoUrkfBNUDsUbgehWs4QFK4HoXrMUNAexSuR+G6P0AAAAAAAMBBQGZmZmZmJj1APQrXo3ANQUBmZmZmZmY6QBSuR+F61DtA9ihcj8IVQ0CamZmZmRk7QOF6FK5H4TxAZmZmZmZmOECamZmZmZk7QGZmZmZm5jRAAAAAAACAPEDsUbgehcs4QB+F61G4HkVAAAAAAAAgOkCkcD0K18NBQArXo3A9yj9AZmZmZmYGPEBI4XoUrsc+QKRwPQrXY0BAj8L1KFzPPUCamZmZmTlAQEjhehSuxz5ApHA9CtfDQUC4HoXrUdg3QK5H4XoUjkBA4XoUrkchOEDNzMzMzMxHQGZmZmZmhkJArkfhehTuPECamZmZmfk8QMP1KFyP4jpAuB6F61F4Q0DsUbgehQs0QPYoXI/CdURAmpmZmZmZOEB7FK5H4bo/QMP1KFyP4jpAhetRuB7lNkCamZmZmRlBQDMzMzMzsz1AMzMzMzNzRUAzMzMzMzM+QPYoXI/C1TtAzczMzMzMPkB7FK5H4XpBQOxRuB6FyzhAhetRuB7lNkBmZmZmZuY5QIXrUbgehTRA7FG4HoULNEA9CtejcP02QJqZmZmZWUBA16NwPQo3PEDhehSuRyE0QIXrUbgeBT9ACtejcD0KQkBI4XoUrgc6QEjhehSupzdAmpmZmZmZQUBxPQrXo5A1QClcj8L1iEJAH4XrUbh+PkBmZmZmZgY8QI/C9Shcrz5AMzMzMzOzOEAK16NwPUpKQGZmZmZm5j5AzczMzMzMPUBSuB6F65FEQClcj8L1iEJArkfhehSuP0DNzMzMzEwyQLgehetRGEJAZmZmZmZmPkB7FK5H4XpBQLgehetRGDNAUrgehesxQ0CamZmZmdk5QArXo3A9qkBAAAAAAADgQUBmZmZmZmY/QK5H4XoUbkJAAAAAAABgRUAfhetRuD5AQGZmZmZmZkBASOF6FK5HQEBxPQrXo3BGQFyPwvUoXDtAMzMzMzOzOkDhehSuRyE4QI/C9Shczz1APQrXo3B9PEAAAAAAANBBQIXrUbgeRTlAhetRuB4FPkBI4XoUrkc7QDMzMzMzs0BArkfhehSOOUDNzMzMzExBQOxRuB6FazhArkfhehQ+QUDNzMzMzMw1QGZmZmZm5kRAexSuR+F6QkBxPQrXo9BAQBSuR+F61D1AzczMzMxMO0DD9Shcj8I3QHE9CtejED9Aj8L1KFwPO0DNzMzMzOw9QIXrUbgepTtAKVyPwvWoNUBmZmZmZiZCQDMzMzMzs0NAMzMzMzNzQUBcj8L1KFw+QAAAAAAA4D5AzczMzMzMO0B7FK5H4Zo4QJqZmZmZ2TVAH4XrUbgePEAzMzMzMzM+QJqZmZmZWUFASOF6FK6nN0BSuB6F67E6QI/C9ShcL0RAUrgehesRPUA=",
          "dtype": "f8"
         },
         "xaxis": "x",
         "y": {
          "bdata": "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",
          "dtype": "f8"
         },
         "yaxis": "y"
        },
        {
         "customdata": [
          [
           "male"
          ],
          [
           "male"
          ],
          [
           "male"
          ],
          [
           "male"
          ],
          [
           "female"
          ],
          [
           "female"
          ],
          [
           "female"
          ],
          [
           "male"
          ],
          [
           "female"
          ],
          [
           "male"
          ],
          [
           "male"
          ],
          [
           "female"
          ],
          [
           "male"
          ],
          [
           "female"
          ],
          [
           "male"
          ],
          [
           "male"
          ],
          [
           "female"
          ],
          [
           "female"
          ],
          [
           "male"
          ],
          [
           "male"
          ],
          [
           "female"
          ],
          [
           "female"
          ],
          [
           "female"
          ],
          [
           "male"
          ],
          [
           "female"
          ],
          [
           "female"
          ],
          [
           "male"
          ],
          [
           "male"
          ],
          [
           "female"
          ],
          [
           "male"
          ],
          [
           "female"
          ],
          [
           "female"
          ],
          [
           "male"
          ],
          [
           "female"
          ],
          [
           "male"
          ],
          [
           "male"
          ],
          [
           "female"
          ],
          [
           "female"
          ],
          [
           "female"
          ],
          [
           "female"
          ],
          [
           "female"
          ],
          [
           "female"
          ],
          [
           "female"
          ],
          [
           "female"
          ],
          [
           "male"
          ],
          [
           "male"
          ],
          [
           "male"
          ],
          [
           "female"
          ],
          [
           "female"
          ],
          [
           "female"
          ],
          [
           "male"
          ],
          [
           "female"
          ],
          [
           "male"
          ],
          [
           "female"
          ],
          [
           "male"
          ],
          [
           "male"
          ],
          [
           "male"
          ],
          [
           "female"
          ],
          [
           "male"
          ],
          [
           "female"
          ],
          [
           "female"
          ],
          [
           "male"
          ],
          [
           "female"
          ],
          [
           "female"
          ],
          [
           "female"
          ],
          [
           "female"
          ],
          [
           "female"
          ],
          [
           "female"
          ],
          [
           "female"
          ],
          [
           "male"
          ],
          [
           "female"
          ],
          [
           "female"
          ],
          [
           "male"
          ],
          [
           "female"
          ],
          [
           "male"
          ],
          [
           "female"
          ],
          [
           "female"
          ],
          [
           "female"
          ],
          [
           "male"
          ],
          [
           "male"
          ],
          [
           "male"
          ],
          [
           "female"
          ],
          [
           "male"
          ],
          [
           "female"
          ],
          [
           "male"
          ],
          [
           "male"
          ],
          [
           "male"
          ],
          [
           "female"
          ],
          [
           "female"
          ],
          [
           "male"
          ],
          [
           "male"
          ],
          [
           "female"
          ],
          [
           "female"
          ],
          [
           "female"
          ],
          [
           "female"
          ],
          [
           "male"
          ],
          [
           "female"
          ],
          [
           "female"
          ],
          [
           "female"
          ],
          [
           "male"
          ],
          [
           "female"
          ],
          [
           "female"
          ],
          [
           "male"
          ],
          [
           "male"
          ],
          [
           "female"
          ],
          [
           "female"
          ],
          [
           "male"
          ],
          [
           "male"
          ],
          [
           "male"
          ],
          [
           "female"
          ],
          [
           "female"
          ],
          [
           "female"
          ],
          [
           "male"
          ],
          [
           "male"
          ],
          [
           "male"
          ],
          [
           "female"
          ],
          [
           "female"
          ],
          [
           "male"
          ],
          [
           "female"
          ],
          [
           "male"
          ],
          [
           "female"
          ],
          [
           "male"
          ],
          [
           "male"
          ],
          [
           "female"
          ],
          [
           "female"
          ],
          [
           "female"
          ],
          [
           "male"
          ],
          [
           "male"
          ],
          [
           "male"
          ],
          [
           "male"
          ],
          [
           "female"
          ],
          [
           "female"
          ],
          [
           "male"
          ],
          [
           "male"
          ],
          [
           "female"
          ],
          [
           "female"
          ],
          [
           "male"
          ],
          [
           "female"
          ],
          [
           "male"
          ],
          [
           "female"
          ],
          [
           "male"
          ],
          [
           "female"
          ],
          [
           "female"
          ],
          [
           "female"
          ],
          [
           "female"
          ],
          [
           "male"
          ],
          [
           "female"
          ],
          [
           "male"
          ],
          [
           "female"
          ],
          [
           "male"
          ],
          [
           "male"
          ],
          [
           "female"
          ],
          [
           "female"
          ],
          [
           "female"
          ],
          [
           "female"
          ],
          [
           "female"
          ],
          [
           "female"
          ],
          [
           "female"
          ],
          [
           "male"
          ],
          [
           "female"
          ],
          [
           "male"
          ],
          [
           "female"
          ],
          [
           "male"
          ],
          [
           "male"
          ],
          [
           "male"
          ],
          [
           "male"
          ],
          [
           "female"
          ],
          [
           "female"
          ],
          [
           "female"
          ],
          [
           "female"
          ],
          [
           "male"
          ],
          [
           "female"
          ],
          [
           "female"
          ],
          [
           "female"
          ],
          [
           "female"
          ],
          [
           "male"
          ],
          [
           "male"
          ],
          [
           "male"
          ],
          [
           "female"
          ],
          [
           "female"
          ],
          [
           "male"
          ],
          [
           "female"
          ],
          [
           "female"
          ],
          [
           "female"
          ],
          [
           "male"
          ],
          [
           "male"
          ],
          [
           "female"
          ],
          [
           "male"
          ],
          [
           "male"
          ],
          [
           "female"
          ],
          [
           "female"
          ],
          [
           "male"
          ],
          [
           "male"
          ],
          [
           "female"
          ],
          [
           "male"
          ],
          [
           "male"
          ],
          [
           "male"
          ],
          [
           "male"
          ],
          [
           "female"
          ],
          [
           "female"
          ],
          [
           "male"
          ],
          [
           "female"
          ],
          [
           "female"
          ],
          [
           "female"
          ],
          [
           "male"
          ],
          [
           "male"
          ],
          [
           "male"
          ],
          [
           "male"
          ],
          [
           "male"
          ],
          [
           "male"
          ],
          [
           "female"
          ],
          [
           "male"
          ],
          [
           "female"
          ],
          [
           "male"
          ],
          [
           "female"
          ],
          [
           "male"
          ],
          [
           "female"
          ],
          [
           "female"
          ],
          [
           "male"
          ],
          [
           "female"
          ],
          [
           "female"
          ],
          [
           "male"
          ],
          [
           "female"
          ],
          [
           "male"
          ],
          [
           "female"
          ],
          [
           "male"
          ],
          [
           "male"
          ],
          [
           "female"
          ],
          [
           "male"
          ],
          [
           "female"
          ],
          [
           "female"
          ],
          [
           "female"
          ],
          [
           "male"
          ],
          [
           "female"
          ],
          [
           "female"
          ],
          [
           "male"
          ],
          [
           "female"
          ],
          [
           "male"
          ],
          [
           "female"
          ],
          [
           "male"
          ],
          [
           "male"
          ],
          [
           "male"
          ],
          [
           "male"
          ],
          [
           "female"
          ],
          [
           "male"
          ],
          [
           "male"
          ],
          [
           "female"
          ],
          [
           "male"
          ],
          [
           "male"
          ],
          [
           "male"
          ],
          [
           "female"
          ],
          [
           "male"
          ],
          [
           "female"
          ],
          [
           "female"
          ],
          [
           "female"
          ],
          [
           "male"
          ],
          [
           "male"
          ],
          [
           "male"
          ],
          [
           "female"
          ],
          [
           "female"
          ],
          [
           "male"
          ],
          [
           "female"
          ],
          [
           "male"
          ],
          [
           "female"
          ],
          [
           "female"
          ],
          [
           "male"
          ],
          [
           "male"
          ],
          [
           "female"
          ],
          [
           "male"
          ],
          [
           "female"
          ],
          [
           "female"
          ],
          [
           "female"
          ],
          [
           "male"
          ],
          [
           "female"
          ],
          [
           "male"
          ],
          [
           "male"
          ],
          [
           "male"
          ],
          [
           "male"
          ],
          [
           "female"
          ],
          [
           "female"
          ],
          [
           "male"
          ],
          [
           "female"
          ],
          [
           "female"
          ],
          [
           "female"
          ],
          [
           "female"
          ],
          [
           "female"
          ],
          [
           "male"
          ],
          [
           "male"
          ],
          [
           "female"
          ],
          [
           "female"
          ],
          [
           "female"
          ],
          [
           "male"
          ],
          [
           "female"
          ],
          [
           "male"
          ],
          [
           "male"
          ],
          [
           "female"
          ],
          [
           "male"
          ],
          [
           "male"
          ],
          [
           "female"
          ],
          [
           "male"
          ],
          [
           "female"
          ],
          [
           "female"
          ],
          [
           "male"
          ],
          [
           "female"
          ],
          [
           "male"
          ],
          [
           "male"
          ],
          [
           "female"
          ],
          [
           "male"
          ],
          [
           "female"
          ],
          [
           "male"
          ],
          [
           "male"
          ],
          [
           "female"
          ],
          [
           "female"
          ],
          [
           "male"
          ],
          [
           "female"
          ],
          [
           "male"
          ],
          [
           "male"
          ],
          [
           "female"
          ],
          [
           "female"
          ],
          [
           "female"
          ],
          [
           "male"
          ],
          [
           "male"
          ],
          [
           "male"
          ],
          [
           "male"
          ],
          [
           "female"
          ],
          [
           "female"
          ],
          [
           "male"
          ],
          [
           "male"
          ],
          [
           "male"
          ],
          [
           "male"
          ],
          [
           "male"
          ],
          [
           "female"
          ],
          [
           "female"
          ],
          [
           "female"
          ],
          [
           "female"
          ],
          [
           "male"
          ],
          [
           "female"
          ],
          [
           "male"
          ],
          [
           "female"
          ],
          [
           "male"
          ],
          [
           "male"
          ],
          [
           "male"
          ],
          [
           "male"
          ],
          [
           "female"
          ],
          [
           "male"
          ],
          [
           "female"
          ],
          [
           "male"
          ],
          [
           "female"
          ],
          [
           "female"
          ],
          [
           "male"
          ],
          [
           "female"
          ],
          [
           "female"
          ],
          [
           "male"
          ],
          [
           "male"
          ],
          [
           "male"
          ],
          [
           "male"
          ],
          [
           "male"
          ],
          [
           "male"
          ],
          [
           "male"
          ],
          [
           "female"
          ],
          [
           "female"
          ],
          [
           "male"
          ],
          [
           "female"
          ],
          [
           "female"
          ],
          [
           "female"
          ],
          [
           "male"
          ],
          [
           "male"
          ],
          [
           "female"
          ],
          [
           "female"
          ],
          [
           "female"
          ],
          [
           "female"
          ],
          [
           "male"
          ],
          [
           "female"
          ],
          [
           "female"
          ],
          [
           "female"
          ],
          [
           "male"
          ],
          [
           "male"
          ],
          [
           "male"
          ],
          [
           "male"
          ],
          [
           "male"
          ],
          [
           "female"
          ],
          [
           "female"
          ],
          [
           "male"
          ],
          [
           "female"
          ],
          [
           "female"
          ],
          [
           "male"
          ],
          [
           "male"
          ],
          [
           "female"
          ],
          [
           "female"
          ],
          [
           "female"
          ],
          [
           "male"
          ],
          [
           "male"
          ],
          [
           "female"
          ],
          [
           "male"
          ],
          [
           "female"
          ],
          [
           "female"
          ],
          [
           "male"
          ],
          [
           "female"
          ],
          [
           "male"
          ],
          [
           "male"
          ],
          [
           "male"
          ],
          [
           "female"
          ],
          [
           "female"
          ],
          [
           "male"
          ],
          [
           "male"
          ],
          [
           "male"
          ],
          [
           "male"
          ],
          [
           "male"
          ],
          [
           "male"
          ],
          [
           "male"
          ],
          [
           "female"
          ],
          [
           "male"
          ],
          [
           "female"
          ],
          [
           "female"
          ],
          [
           "female"
          ],
          [
           "female"
          ],
          [
           "female"
          ],
          [
           "female"
          ],
          [
           "female"
          ],
          [
           "male"
          ],
          [
           "male"
          ],
          [
           "female"
          ],
          [
           "male"
          ],
          [
           "male"
          ],
          [
           "male"
          ],
          [
           "male"
          ],
          [
           "female"
          ],
          [
           "female"
          ],
          [
           "female"
          ],
          [
           "male"
          ],
          [
           "female"
          ],
          [
           "female"
          ],
          [
           "female"
          ],
          [
           "male"
          ],
          [
           "male"
          ],
          [
           "female"
          ],
          [
           "female"
          ],
          [
           "male"
          ],
          [
           "female"
          ],
          [
           "male"
          ],
          [
           "female"
          ],
          [
           "female"
          ],
          [
           "male"
          ],
          [
           "male"
          ],
          [
           "male"
          ],
          [
           "male"
          ],
          [
           "female"
          ],
          [
           "female"
          ],
          [
           "male"
          ],
          [
           "male"
          ],
          [
           "female"
          ],
          [
           "female"
          ],
          [
           "female"
          ],
          [
           "male"
          ],
          [
           "female"
          ],
          [
           "female"
          ],
          [
           "female"
          ],
          [
           "female"
          ],
          [
           "female"
          ],
          [
           "female"
          ],
          [
           "female"
          ],
          [
           "male"
          ],
          [
           "male"
          ],
          [
           "female"
          ],
          [
           "male"
          ],
          [
           "male"
          ],
          [
           "male"
          ],
          [
           "female"
          ],
          [
           "male"
          ],
          [
           "female"
          ],
          [
           "male"
          ],
          [
           "female"
          ],
          [
           "female"
          ],
          [
           "female"
          ],
          [
           "male"
          ],
          [
           "male"
          ],
          [
           "male"
          ],
          [
           "female"
          ],
          [
           "female"
          ],
          [
           "female"
          ],
          [
           "male"
          ],
          [
           "female"
          ],
          [
           "female"
          ],
          [
           "male"
          ],
          [
           "female"
          ],
          [
           "female"
          ],
          [
           "female"
          ],
          [
           "female"
          ],
          [
           "male"
          ],
          [
           "female"
          ],
          [
           "female"
          ],
          [
           "female"
          ],
          [
           "female"
          ],
          [
           "female"
          ],
          [
           "female"
          ],
          [
           "female"
          ],
          [
           "male"
          ],
          [
           "female"
          ],
          [
           "male"
          ],
          [
           "female"
          ],
          [
           "male"
          ],
          [
           "male"
          ],
          [
           "male"
          ],
          [
           "male"
          ],
          [
           "male"
          ],
          [
           "female"
          ],
          [
           "male"
          ],
          [
           "male"
          ],
          [
           "male"
          ],
          [
           "female"
          ],
          [
           "female"
          ],
          [
           "male"
          ],
          [
           "male"
          ],
          [
           "male"
          ],
          [
           "female"
          ],
          [
           "male"
          ],
          [
           "male"
          ],
          [
           "male"
          ],
          [
           "female"
          ],
          [
           "male"
          ],
          [
           "female"
          ],
          [
           "female"
          ],
          [
           "female"
          ],
          [
           "female"
          ],
          [
           "female"
          ],
          [
           "female"
          ],
          [
           "female"
          ],
          [
           "male"
          ],
          [
           "female"
          ],
          [
           "female"
          ],
          [
           "male"
          ],
          [
           "female"
          ],
          [
           "female"
          ],
          [
           "male"
          ],
          [
           "male"
          ],
          [
           "female"
          ],
          [
           "male"
          ],
          [
           "female"
          ],
          [
           "male"
          ],
          [
           "female"
          ],
          [
           "male"
          ],
          [
           "female"
          ],
          [
           "male"
          ],
          [
           "female"
          ],
          [
           "female"
          ],
          [
           "male"
          ],
          [
           "male"
          ],
          [
           "female"
          ],
          [
           "male"
          ],
          [
           "male"
          ],
          [
           "male"
          ],
          [
           "female"
          ],
          [
           "male"
          ],
          [
           "male"
          ],
          [
           "male"
          ],
          [
           "male"
          ],
          [
           "female"
          ],
          [
           "female"
          ],
          [
           "female"
          ],
          [
           "male"
          ],
          [
           "female"
          ],
          [
           "female"
          ],
          [
           "female"
          ],
          [
           "male"
          ],
          [
           "female"
          ],
          [
           "female"
          ],
          [
           "female"
          ],
          [
           "male"
          ],
          [
           "female"
          ],
          [
           "female"
          ],
          [
           "male"
          ],
          [
           "female"
          ],
          [
           "female"
          ],
          [
           "male"
          ],
          [
           "female"
          ],
          [
           "male"
          ],
          [
           "female"
          ],
          [
           "male"
          ],
          [
           "female"
          ],
          [
           "female"
          ],
          [
           "female"
          ],
          [
           "male"
          ],
          [
           "male"
          ],
          [
           "male"
          ],
          [
           "female"
          ],
          [
           "male"
          ],
          [
           "female"
          ],
          [
           "female"
          ],
          [
           "male"
          ],
          [
           "female"
          ],
          [
           "female"
          ],
          [
           "female"
          ],
          [
           "female"
          ],
          [
           "male"
          ],
          [
           "male"
          ],
          [
           "female"
          ],
          [
           "male"
          ],
          [
           "female"
          ],
          [
           "male"
          ],
          [
           "male"
          ],
          [
           "female"
          ],
          [
           "male"
          ],
          [
           "male"
          ],
          [
           "male"
          ],
          [
           "female"
          ],
          [
           "male"
          ],
          [
           "male"
          ],
          [
           "female"
          ],
          [
           "male"
          ],
          [
           "female"
          ],
          [
           "male"
          ],
          [
           "male"
          ],
          [
           "female"
          ],
          [
           "female"
          ],
          [
           "male"
          ],
          [
           "female"
          ],
          [
           "female"
          ],
          [
           "female"
          ],
          [
           "male"
          ],
          [
           "female"
          ],
          [
           "female"
          ],
          [
           "male"
          ],
          [
           "male"
          ],
          [
           "male"
          ],
          [
           "male"
          ],
          [
           "male"
          ],
          [
           "male"
          ],
          [
           "male"
          ],
          [
           "male"
          ],
          [
           "female"
          ],
          [
           "female"
          ],
          [
           "male"
          ],
          [
           "male"
          ],
          [
           "male"
          ],
          [
           "female"
          ],
          [
           "female"
          ],
          [
           "male"
          ],
          [
           "female"
          ],
          [
           "female"
          ],
          [
           "male"
          ],
          [
           "female"
          ],
          [
           "female"
          ],
          [
           "female"
          ],
          [
           "female"
          ],
          [
           "male"
          ],
          [
           "male"
          ],
          [
           "female"
          ],
          [
           "female"
          ],
          [
           "female"
          ],
          [
           "male"
          ],
          [
           "male"
          ],
          [
           "female"
          ],
          [
           "female"
          ],
          [
           "male"
          ],
          [
           "male"
          ],
          [
           "male"
          ],
          [
           "female"
          ],
          [
           "female"
          ],
          [
           "male"
          ],
          [
           "male"
          ],
          [
           "male"
          ],
          [
           "female"
          ],
          [
           "female"
          ],
          [
           "male"
          ],
          [
           "female"
          ],
          [
           "male"
          ],
          [
           "male"
          ],
          [
           "female"
          ],
          [
           "female"
          ],
          [
           "male"
          ],
          [
           "male"
          ],
          [
           "male"
          ],
          [
           "male"
          ],
          [
           "female"
          ],
          [
           "female"
          ],
          [
           "female"
          ],
          [
           "male"
          ],
          [
           "male"
          ],
          [
           "male"
          ],
          [
           "female"
          ],
          [
           "male"
          ],
          [
           "female"
          ],
          [
           "male"
          ],
          [
           "male"
          ],
          [
           "female"
          ],
          [
           "female"
          ],
          [
           "female"
          ],
          [
           "male"
          ],
          [
           "female"
          ],
          [
           "female"
          ],
          [
           "female"
          ],
          [
           "male"
          ],
          [
           "male"
          ],
          [
           "male"
          ],
          [
           "male"
          ],
          [
           "male"
          ],
          [
           "female"
          ],
          [
           "male"
          ],
          [
           "female"
          ],
          [
           "male"
          ],
          [
           "male"
          ],
          [
           "male"
          ],
          [
           "female"
          ],
          [
           "female"
          ],
          [
           "male"
          ],
          [
           "male"
          ],
          [
           "female"
          ],
          [
           "male"
          ],
          [
           "male"
          ],
          [
           "female"
          ],
          [
           "male"
          ],
          [
           "female"
          ],
          [
           "male"
          ],
          [
           "male"
          ],
          [
           "female"
          ],
          [
           "male"
          ],
          [
           "male"
          ],
          [
           "female"
          ],
          [
           "male"
          ],
          [
           "female"
          ],
          [
           "female"
          ],
          [
           "male"
          ],
          [
           "male"
          ],
          [
           "male"
          ],
          [
           "female"
          ],
          [
           "female"
          ],
          [
           "male"
          ],
          [
           "female"
          ],
          [
           "male"
          ],
          [
           "male"
          ],
          [
           "female"
          ],
          [
           "female"
          ],
          [
           "male"
          ],
          [
           "female"
          ],
          [
           "female"
          ],
          [
           "female"
          ],
          [
           "female"
          ],
          [
           "female"
          ],
          [
           "male"
          ],
          [
           "male"
          ],
          [
           "male"
          ],
          [
           "male"
          ],
          [
           "female"
          ],
          [
           "female"
          ],
          [
           "female"
          ],
          [
           "male"
          ],
          [
           "male"
          ],
          [
           "female"
          ],
          [
           "male"
          ],
          [
           "female"
          ],
          [
           "male"
          ],
          [
           "female"
          ],
          [
           "male"
          ],
          [
           "female"
          ],
          [
           "male"
          ],
          [
           "male"
          ],
          [
           "male"
          ],
          [
           "female"
          ],
          [
           "female"
          ],
          [
           "male"
          ],
          [
           "male"
          ],
          [
           "female"
          ],
          [
           "male"
          ],
          [
           "male"
          ],
          [
           "male"
          ],
          [
           "female"
          ],
          [
           "male"
          ],
          [
           "male"
          ],
          [
           "male"
          ],
          [
           "female"
          ],
          [
           "female"
          ],
          [
           "female"
          ],
          [
           "male"
          ],
          [
           "male"
          ],
          [
           "male"
          ],
          [
           "male"
          ],
          [
           "male"
          ],
          [
           "female"
          ],
          [
           "female"
          ],
          [
           "female"
          ],
          [
           "female"
          ],
          [
           "female"
          ],
          [
           "male"
          ],
          [
           "male"
          ],
          [
           "male"
          ],
          [
           "female"
          ],
          [
           "female"
          ],
          [
           "male"
          ],
          [
           "male"
          ],
          [
           "female"
          ],
          [
           "male"
          ],
          [
           "female"
          ],
          [
           "male"
          ],
          [
           "female"
          ],
          [
           "male"
          ],
          [
           "female"
          ],
          [
           "female"
          ],
          [
           "female"
          ],
          [
           "male"
          ],
          [
           "female"
          ],
          [
           "female"
          ],
          [
           "female"
          ],
          [
           "female"
          ],
          [
           "female"
          ],
          [
           "male"
          ],
          [
           "male"
          ],
          [
           "male"
          ],
          [
           "male"
          ],
          [
           "male"
          ],
          [
           "male"
          ],
          [
           "male"
          ],
          [
           "female"
          ],
          [
           "female"
          ],
          [
           "male"
          ],
          [
           "female"
          ],
          [
           "male"
          ],
          [
           "female"
          ],
          [
           "female"
          ],
          [
           "female"
          ],
          [
           "female"
          ],
          [
           "male"
          ],
          [
           "male"
          ],
          [
           "female"
          ],
          [
           "female"
          ],
          [
           "male"
          ],
          [
           "male"
          ],
          [
           "female"
          ],
          [
           "female"
          ],
          [
           "male"
          ],
          [
           "female"
          ],
          [
           "male"
          ],
          [
           "male"
          ],
          [
           "male"
          ],
          [
           "female"
          ],
          [
           "male"
          ],
          [
           "female"
          ],
          [
           "female"
          ],
          [
           "female"
          ],
          [
           "male"
          ],
          [
           "male"
          ],
          [
           "female"
          ],
          [
           "male"
          ],
          [
           "female"
          ],
          [
           "female"
          ],
          [
           "female"
          ],
          [
           "male"
          ],
          [
           "male"
          ],
          [
           "male"
          ],
          [
           "male"
          ],
          [
           "female"
          ],
          [
           "female"
          ],
          [
           "male"
          ],
          [
           "male"
          ],
          [
           "male"
          ],
          [
           "female"
          ],
          [
           "male"
          ],
          [
           "male"
          ],
          [
           "female"
          ],
          [
           "female"
          ],
          [
           "female"
          ],
          [
           "female"
          ],
          [
           "male"
          ],
          [
           "male"
          ],
          [
           "male"
          ],
          [
           "male"
          ],
          [
           "male"
          ],
          [
           "male"
          ],
          [
           "female"
          ],
          [
           "male"
          ],
          [
           "male"
          ],
          [
           "male"
          ],
          [
           "male"
          ],
          [
           "female"
          ],
          [
           "male"
          ],
          [
           "female"
          ],
          [
           "female"
          ],
          [
           "male"
          ],
          [
           "female"
          ],
          [
           "female"
          ],
          [
           "male"
          ],
          [
           "male"
          ],
          [
           "male"
          ],
          [
           "male"
          ],
          [
           "female"
          ],
          [
           "female"
          ],
          [
           "female"
          ],
          [
           "male"
          ],
          [
           "male"
          ],
          [
           "female"
          ],
          [
           "female"
          ],
          [
           "male"
          ],
          [
           "male"
          ],
          [
           "male"
          ],
          [
           "female"
          ],
          [
           "male"
          ],
          [
           "female"
          ],
          [
           "female"
          ],
          [
           "male"
          ],
          [
           "female"
          ],
          [
           "male"
          ],
          [
           "female"
          ],
          [
           "female"
          ],
          [
           "male"
          ],
          [
           "male"
          ],
          [
           "female"
          ],
          [
           "male"
          ],
          [
           "female"
          ],
          [
           "female"
          ],
          [
           "female"
          ],
          [
           "male"
          ],
          [
           "male"
          ],
          [
           "female"
          ],
          [
           "female"
          ],
          [
           "male"
          ],
          [
           "male"
          ],
          [
           "male"
          ],
          [
           "female"
          ],
          [
           "male"
          ],
          [
           "male"
          ],
          [
           "female"
          ],
          [
           "female"
          ],
          [
           "female"
          ],
          [
           "female"
          ],
          [
           "female"
          ],
          [
           "female"
          ],
          [
           "female"
          ],
          [
           "female"
          ],
          [
           "female"
          ],
          [
           "male"
          ],
          [
           "male"
          ],
          [
           "female"
          ],
          [
           "female"
          ],
          [
           "female"
          ],
          [
           "male"
          ],
          [
           "female"
          ],
          [
           "male"
          ],
          [
           "female"
          ],
          [
           "female"
          ],
          [
           "male"
          ],
          [
           "male"
          ],
          [
           "female"
          ],
          [
           "female"
          ],
          [
           "female"
          ],
          [
           "female"
          ],
          [
           "female"
          ],
          [
           "female"
          ],
          [
           "female"
          ],
          [
           "male"
          ],
          [
           "female"
          ],
          [
           "female"
          ],
          [
           "female"
          ],
          [
           "female"
          ],
          [
           "female"
          ],
          [
           "female"
          ],
          [
           "female"
          ],
          [
           "female"
          ],
          [
           "male"
          ],
          [
           "male"
          ],
          [
           "female"
          ],
          [
           "male"
          ],
          [
           "male"
          ],
          [
           "male"
          ],
          [
           "male"
          ],
          [
           "male"
          ],
          [
           "female"
          ],
          [
           "male"
          ],
          [
           "male"
          ],
          [
           "male"
          ],
          [
           "male"
          ],
          [
           "female"
          ],
          [
           "female"
          ],
          [
           "male"
          ],
          [
           "male"
          ],
          [
           "male"
          ],
          [
           "female"
          ],
          [
           "female"
          ],
          [
           "male"
          ],
          [
           "male"
          ],
          [
           "male"
          ],
          [
           "female"
          ],
          [
           "male"
          ],
          [
           "male"
          ],
          [
           "male"
          ],
          [
           "male"
          ],
          [
           "female"
          ],
          [
           "male"
          ],
          [
           "female"
          ],
          [
           "male"
          ],
          [
           "female"
          ],
          [
           "female"
          ],
          [
           "male"
          ],
          [
           "female"
          ],
          [
           "female"
          ],
          [
           "female"
          ],
          [
           "male"
          ],
          [
           "male"
          ],
          [
           "female"
          ],
          [
           "male"
          ],
          [
           "female"
          ],
          [
           "male"
          ],
          [
           "female"
          ],
          [
           "female"
          ],
          [
           "female"
          ],
          [
           "female"
          ],
          [
           "female"
          ],
          [
           "male"
          ],
          [
           "female"
          ],
          [
           "female"
          ],
          [
           "male"
          ],
          [
           "female"
          ],
          [
           "female"
          ],
          [
           "female"
          ],
          [
           "female"
          ],
          [
           "female"
          ],
          [
           "male"
          ],
          [
           "male"
          ],
          [
           "female"
          ],
          [
           "male"
          ],
          [
           "male"
          ],
          [
           "male"
          ],
          [
           "female"
          ],
          [
           "female"
          ],
          [
           "female"
          ],
          [
           "female"
          ],
          [
           "male"
          ],
          [
           "female"
          ],
          [
           "female"
          ],
          [
           "female"
          ],
          [
           "male"
          ],
          [
           "female"
          ],
          [
           "male"
          ],
          [
           "male"
          ],
          [
           "male"
          ],
          [
           "male"
          ],
          [
           "male"
          ],
          [
           "female"
          ],
          [
           "male"
          ],
          [
           "female"
          ],
          [
           "female"
          ],
          [
           "female"
          ],
          [
           "male"
          ],
          [
           "male"
          ],
          [
           "female"
          ],
          [
           "male"
          ],
          [
           "male"
          ],
          [
           "female"
          ],
          [
           "male"
          ],
          [
           "male"
          ],
          [
           "female"
          ],
          [
           "male"
          ],
          [
           "male"
          ],
          [
           "male"
          ],
          [
           "male"
          ],
          [
           "female"
          ],
          [
           "male"
          ],
          [
           "female"
          ],
          [
           "male"
          ],
          [
           "female"
          ],
          [
           "female"
          ],
          [
           "female"
          ],
          [
           "male"
          ],
          [
           "female"
          ],
          [
           "female"
          ],
          [
           "female"
          ]
         ],
         "hovertemplate": "smoker=no<br>bmi=%{x}<br>charges=%{y}<br>sex=%{customdata[0]}<extra></extra>",
         "legendgroup": "no",
         "marker": {
          "color": "#EF553B",
          "opacity": 0.8,
          "size": 5,
          "symbol": "circle"
         },
         "mode": "markers",
         "name": "no",
         "showlegend": true,
         "type": "scattergl",
         "x": {
          "bdata": "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",
          "dtype": "f8"
         },
         "xaxis": "x",
         "y": {
          "bdata": "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",
          "dtype": "f8"
         },
         "yaxis": "y"
        }
       ],
       "layout": {
        "legend": {
         "title": {
          "text": "smoker"
         },
         "tracegroupgap": 0
        },
        "template": {
         "data": {
          "bar": [
           {
            "error_x": {
             "color": "#2a3f5f"
            },
            "error_y": {
             "color": "#2a3f5f"
            },
            "marker": {
             "line": {
              "color": "#E5ECF6",
              "width": 0.5
             },
             "pattern": {
              "fillmode": "overlay",
              "size": 10,
              "solidity": 0.2
             }
            },
            "type": "bar"
           }
          ],
          "barpolar": [
           {
            "marker": {
             "line": {
              "color": "#E5ECF6",
              "width": 0.5
             },
             "pattern": {
              "fillmode": "overlay",
              "size": 10,
              "solidity": 0.2
             }
            },
            "type": "barpolar"
           }
          ],
          "carpet": [
           {
            "aaxis": {
             "endlinecolor": "#2a3f5f",
             "gridcolor": "white",
             "linecolor": "white",
             "minorgridcolor": "white",
             "startlinecolor": "#2a3f5f"
            },
            "baxis": {
             "endlinecolor": "#2a3f5f",
             "gridcolor": "white",
             "linecolor": "white",
             "minorgridcolor": "white",
             "startlinecolor": "#2a3f5f"
            },
            "type": "carpet"
           }
          ],
          "choropleth": [
           {
            "colorbar": {
             "outlinewidth": 0,
             "ticks": ""
            },
            "type": "choropleth"
           }
          ],
          "contour": [
           {
            "colorbar": {
             "outlinewidth": 0,
             "ticks": ""
            },
            "colorscale": [
             [
              0,
              "#0d0887"
             ],
             [
              0.1111111111111111,
              "#46039f"
             ],
             [
              0.2222222222222222,
              "#7201a8"
             ],
             [
              0.3333333333333333,
              "#9c179e"
             ],
             [
              0.4444444444444444,
              "#bd3786"
             ],
             [
              0.5555555555555556,
              "#d8576b"
             ],
             [
              0.6666666666666666,
              "#ed7953"
             ],
             [
              0.7777777777777778,
              "#fb9f3a"
             ],
             [
              0.8888888888888888,
              "#fdca26"
             ],
             [
              1,
              "#f0f921"
             ]
            ],
            "type": "contour"
           }
          ],
          "contourcarpet": [
           {
            "colorbar": {
             "outlinewidth": 0,
             "ticks": ""
            },
            "type": "contourcarpet"
           }
          ],
          "heatmap": [
           {
            "colorbar": {
             "outlinewidth": 0,
             "ticks": ""
            },
            "colorscale": [
             [
              0,
              "#0d0887"
             ],
             [
              0.1111111111111111,
              "#46039f"
             ],
             [
              0.2222222222222222,
              "#7201a8"
             ],
             [
              0.3333333333333333,
              "#9c179e"
             ],
             [
              0.4444444444444444,
              "#bd3786"
             ],
             [
              0.5555555555555556,
              "#d8576b"
             ],
             [
              0.6666666666666666,
              "#ed7953"
             ],
             [
              0.7777777777777778,
              "#fb9f3a"
             ],
             [
              0.8888888888888888,
              "#fdca26"
             ],
             [
              1,
              "#f0f921"
             ]
            ],
            "type": "heatmap"
           }
          ],
          "histogram": [
           {
            "marker": {
             "pattern": {
              "fillmode": "overlay",
              "size": 10,
              "solidity": 0.2
             }
            },
            "type": "histogram"
           }
          ],
          "histogram2d": [
           {
            "colorbar": {
             "outlinewidth": 0,
             "ticks": ""
            },
            "colorscale": [
             [
              0,
              "#0d0887"
             ],
             [
              0.1111111111111111,
              "#46039f"
             ],
             [
              0.2222222222222222,
              "#7201a8"
             ],
             [
              0.3333333333333333,
              "#9c179e"
             ],
             [
              0.4444444444444444,
              "#bd3786"
             ],
             [
              0.5555555555555556,
              "#d8576b"
             ],
             [
              0.6666666666666666,
              "#ed7953"
             ],
             [
              0.7777777777777778,
              "#fb9f3a"
             ],
             [
              0.8888888888888888,
              "#fdca26"
             ],
             [
              1,
              "#f0f921"
             ]
            ],
            "type": "histogram2d"
           }
          ],
          "histogram2dcontour": [
           {
            "colorbar": {
             "outlinewidth": 0,
             "ticks": ""
            },
            "colorscale": [
             [
              0,
              "#0d0887"
             ],
             [
              0.1111111111111111,
              "#46039f"
             ],
             [
              0.2222222222222222,
              "#7201a8"
             ],
             [
              0.3333333333333333,
              "#9c179e"
             ],
             [
              0.4444444444444444,
              "#bd3786"
             ],
             [
              0.5555555555555556,
              "#d8576b"
             ],
             [
              0.6666666666666666,
              "#ed7953"
             ],
             [
              0.7777777777777778,
              "#fb9f3a"
             ],
             [
              0.8888888888888888,
              "#fdca26"
             ],
             [
              1,
              "#f0f921"
             ]
            ],
            "type": "histogram2dcontour"
           }
          ],
          "mesh3d": [
           {
            "colorbar": {
             "outlinewidth": 0,
             "ticks": ""
            },
            "type": "mesh3d"
           }
          ],
          "parcoords": [
           {
            "line": {
             "colorbar": {
              "outlinewidth": 0,
              "ticks": ""
             }
            },
            "type": "parcoords"
           }
          ],
          "pie": [
           {
            "automargin": true,
            "type": "pie"
           }
          ],
          "scatter": [
           {
            "fillpattern": {
             "fillmode": "overlay",
             "size": 10,
             "solidity": 0.2
            },
            "type": "scatter"
           }
          ],
          "scatter3d": [
           {
            "line": {
             "colorbar": {
              "outlinewidth": 0,
              "ticks": ""
             }
            },
            "marker": {
             "colorbar": {
              "outlinewidth": 0,
              "ticks": ""
             }
            },
            "type": "scatter3d"
           }
          ],
          "scattercarpet": [
           {
            "marker": {
             "colorbar": {
              "outlinewidth": 0,
              "ticks": ""
             }
            },
            "type": "scattercarpet"
           }
          ],
          "scattergeo": [
           {
            "marker": {
             "colorbar": {
              "outlinewidth": 0,
              "ticks": ""
             }
            },
            "type": "scattergeo"
           }
          ],
          "scattergl": [
           {
            "marker": {
             "colorbar": {
              "outlinewidth": 0,
              "ticks": ""
             }
            },
            "type": "scattergl"
           }
          ],
          "scattermap": [
           {
            "marker": {
             "colorbar": {
              "outlinewidth": 0,
              "ticks": ""
             }
            },
            "type": "scattermap"
           }
          ],
          "scattermapbox": [
           {
            "marker": {
             "colorbar": {
              "outlinewidth": 0,
              "ticks": ""
             }
            },
            "type": "scattermapbox"
           }
          ],
          "scatterpolar": [
           {
            "marker": {
             "colorbar": {
              "outlinewidth": 0,
              "ticks": ""
             }
            },
            "type": "scatterpolar"
           }
          ],
          "scatterpolargl": [
           {
            "marker": {
             "colorbar": {
              "outlinewidth": 0,
              "ticks": ""
             }
            },
            "type": "scatterpolargl"
           }
          ],
          "scatterternary": [
           {
            "marker": {
             "colorbar": {
              "outlinewidth": 0,
              "ticks": ""
             }
            },
            "type": "scatterternary"
           }
          ],
          "surface": [
           {
            "colorbar": {
             "outlinewidth": 0,
             "ticks": ""
            },
            "colorscale": [
             [
              0,
              "#0d0887"
             ],
             [
              0.1111111111111111,
              "#46039f"
             ],
             [
              0.2222222222222222,
              "#7201a8"
             ],
             [
              0.3333333333333333,
              "#9c179e"
             ],
             [
              0.4444444444444444,
              "#bd3786"
             ],
             [
              0.5555555555555556,
              "#d8576b"
             ],
             [
              0.6666666666666666,
              "#ed7953"
             ],
             [
              0.7777777777777778,
              "#fb9f3a"
             ],
             [
              0.8888888888888888,
              "#fdca26"
             ],
             [
              1,
              "#f0f921"
             ]
            ],
            "type": "surface"
           }
          ],
          "table": [
           {
            "cells": {
             "fill": {
              "color": "#EBF0F8"
             },
             "line": {
              "color": "white"
             }
            },
            "header": {
             "fill": {
              "color": "#C8D4E3"
             },
             "line": {
              "color": "white"
             }
            },
            "type": "table"
           }
          ]
         },
         "layout": {
          "annotationdefaults": {
           "arrowcolor": "#2a3f5f",
           "arrowhead": 0,
           "arrowwidth": 1
          },
          "autotypenumbers": "strict",
          "coloraxis": {
           "colorbar": {
            "outlinewidth": 0,
            "ticks": ""
           }
          },
          "colorscale": {
           "diverging": [
            [
             0,
             "#8e0152"
            ],
            [
             0.1,
             "#c51b7d"
            ],
            [
             0.2,
             "#de77ae"
            ],
            [
             0.3,
             "#f1b6da"
            ],
            [
             0.4,
             "#fde0ef"
            ],
            [
             0.5,
             "#f7f7f7"
            ],
            [
             0.6,
             "#e6f5d0"
            ],
            [
             0.7,
             "#b8e186"
            ],
            [
             0.8,
             "#7fbc41"
            ],
            [
             0.9,
             "#4d9221"
            ],
            [
             1,
             "#276419"
            ]
           ],
           "sequential": [
            [
             0,
             "#0d0887"
            ],
            [
             0.1111111111111111,
             "#46039f"
            ],
            [
             0.2222222222222222,
             "#7201a8"
            ],
            [
             0.3333333333333333,
             "#9c179e"
            ],
            [
             0.4444444444444444,
             "#bd3786"
            ],
            [
             0.5555555555555556,
             "#d8576b"
            ],
            [
             0.6666666666666666,
             "#ed7953"
            ],
            [
             0.7777777777777778,
             "#fb9f3a"
            ],
            [
             0.8888888888888888,
             "#fdca26"
            ],
            [
             1,
             "#f0f921"
            ]
           ],
           "sequentialminus": [
            [
             0,
             "#0d0887"
            ],
            [
             0.1111111111111111,
             "#46039f"
            ],
            [
             0.2222222222222222,
             "#7201a8"
            ],
            [
             0.3333333333333333,
             "#9c179e"
            ],
            [
             0.4444444444444444,
             "#bd3786"
            ],
            [
             0.5555555555555556,
             "#d8576b"
            ],
            [
             0.6666666666666666,
             "#ed7953"
            ],
            [
             0.7777777777777778,
             "#fb9f3a"
            ],
            [
             0.8888888888888888,
             "#fdca26"
            ],
            [
             1,
             "#f0f921"
            ]
           ]
          },
          "colorway": [
           "#636efa",
           "#EF553B",
           "#00cc96",
           "#ab63fa",
           "#FFA15A",
           "#19d3f3",
           "#FF6692",
           "#B6E880",
           "#FF97FF",
           "#FECB52"
          ],
          "font": {
           "color": "#2a3f5f"
          },
          "geo": {
           "bgcolor": "white",
           "lakecolor": "white",
           "landcolor": "#E5ECF6",
           "showlakes": true,
           "showland": true,
           "subunitcolor": "white"
          },
          "hoverlabel": {
           "align": "left"
          },
          "hovermode": "closest",
          "mapbox": {
           "style": "light"
          },
          "paper_bgcolor": "white",
          "plot_bgcolor": "#E5ECF6",
          "polar": {
           "angularaxis": {
            "gridcolor": "white",
            "linecolor": "white",
            "ticks": ""
           },
           "bgcolor": "#E5ECF6",
           "radialaxis": {
            "gridcolor": "white",
            "linecolor": "white",
            "ticks": ""
           }
          },
          "scene": {
           "xaxis": {
            "backgroundcolor": "#E5ECF6",
            "gridcolor": "white",
            "gridwidth": 2,
            "linecolor": "white",
            "showbackground": true,
            "ticks": "",
            "zerolinecolor": "white"
           },
           "yaxis": {
            "backgroundcolor": "#E5ECF6",
            "gridcolor": "white",
            "gridwidth": 2,
            "linecolor": "white",
            "showbackground": true,
            "ticks": "",
            "zerolinecolor": "white"
           },
           "zaxis": {
            "backgroundcolor": "#E5ECF6",
            "gridcolor": "white",
            "gridwidth": 2,
            "linecolor": "white",
            "showbackground": true,
            "ticks": "",
            "zerolinecolor": "white"
           }
          },
          "shapedefaults": {
           "line": {
            "color": "#2a3f5f"
           }
          },
          "ternary": {
           "aaxis": {
            "gridcolor": "white",
            "linecolor": "white",
            "ticks": ""
           },
           "baxis": {
            "gridcolor": "white",
            "linecolor": "white",
            "ticks": ""
           },
           "bgcolor": "#E5ECF6",
           "caxis": {
            "gridcolor": "white",
            "linecolor": "white",
            "ticks": ""
           }
          },
          "title": {
           "x": 0.05
          },
          "xaxis": {
           "automargin": true,
           "gridcolor": "white",
           "linecolor": "white",
           "ticks": "",
           "title": {
            "standoff": 15
           },
           "zerolinecolor": "white",
           "zerolinewidth": 2
          },
          "yaxis": {
           "automargin": true,
           "gridcolor": "white",
           "linecolor": "white",
           "ticks": "",
           "title": {
            "standoff": 15
           },
           "zerolinecolor": "white",
           "zerolinewidth": 2
          }
         }
        },
        "title": {
         "text": "BMI vs. Charges"
        },
        "xaxis": {
         "anchor": "y",
         "domain": [
          0,
          1
         ],
         "title": {
          "text": "bmi"
         }
        },
        "yaxis": {
         "anchor": "x",
         "domain": [
          0,
          1
         ],
         "title": {
          "text": "charges"
         }
        }
       }
      }
     },
     "metadata": {},
     "output_type": "display_data"
    }
   ],
   "source": [
    "fig = px.scatter(medical_df, \n",
    "                 x='bmi', \n",
    "                 y='charges', \n",
    "                 color='smoker', \n",
    "                 opacity=0.8, \n",
    "                 hover_data=['sex'], \n",
    "                 title='BMI vs. Charges')\n",
    "fig.update_traces(marker_size=5)\n",
    "fig.show()"
   ]
  },
  {
   "cell_type": "markdown",
   "id": "political-climb",
   "metadata": {},
   "source": [
    "It appears that for non-smokers, an increase in BMI doesn't seem to be related to an increase in medical charges. However, medical charges seem to be significantly higher for smokers with a BMI greater than 30.\n",
    "\n",
    "What other insights can you gather from the above graph?"
   ]
  },
  {
   "cell_type": "markdown",
   "id": "nutritional-wrapping",
   "metadata": {},
   "source": [
    "> **EXERCISE**: Create some more graphs to visualize how the \"charges\" column is related to other columns (\"children\", \"sex\", \"region\" and \"smoker\"). Summarize the insights gathered from these graphs.\n",
    ">\n",
    "> *Hint*: Use violin plots (`px.violin`) and bar plots (`sns.barplot`)\n"
   ]
  },
  {
   "cell_type": "code",
   "execution_count": null,
   "id": "productive-mayor",
   "metadata": {},
   "outputs": [],
   "source": []
  },
  {
   "cell_type": "code",
   "execution_count": null,
   "id": "running-knight",
   "metadata": {},
   "outputs": [],
   "source": []
  },
  {
   "cell_type": "code",
   "execution_count": null,
   "id": "young-leeds",
   "metadata": {},
   "outputs": [],
   "source": []
  },
  {
   "cell_type": "code",
   "execution_count": null,
   "id": "abroad-flesh",
   "metadata": {},
   "outputs": [],
   "source": []
  },
  {
   "cell_type": "markdown",
   "id": "german-triangle",
   "metadata": {},
   "source": [
    "### Correlation\n",
    "\n",
    "As you can tell from the analysis, the values in some columns are more closely related to the values in \"charges\" compared to other columns. E.g. \"age\" and \"charges\" seem to grow together, whereas \"bmi\" and \"charges\" don't.\n",
    "\n",
    "This relationship is often expressed numerically using a measure called the _correlation coefficient_, which can be computed using the `.corr` method of a Pandas series."
   ]
  },
  {
   "cell_type": "code",
   "execution_count": 42,
   "id": "liked-current",
   "metadata": {},
   "outputs": [
    {
     "data": {
      "text/plain": [
       "np.float64(0.2990081933306476)"
      ]
     },
     "execution_count": 42,
     "metadata": {},
     "output_type": "execute_result"
    }
   ],
   "source": [
    "medical_df.charges.corr(medical_df.age)"
   ]
  },
  {
   "cell_type": "code",
   "execution_count": 43,
   "id": "likely-intent",
   "metadata": {},
   "outputs": [
    {
     "data": {
      "text/plain": [
       "np.float64(0.19834096883362895)"
      ]
     },
     "execution_count": 43,
     "metadata": {},
     "output_type": "execute_result"
    }
   ],
   "source": [
    "medical_df.charges.corr(medical_df.bmi)"
   ]
  },
  {
   "cell_type": "markdown",
   "id": "assigned-affairs",
   "metadata": {},
   "source": [
    "To compute the correlation for categorical columns, they must first be converted into numeric columns."
   ]
  },
  {
   "cell_type": "code",
   "execution_count": 44,
   "id": "african-chosen",
   "metadata": {},
   "outputs": [
    {
     "data": {
      "text/plain": [
       "np.float64(0.787251430498478)"
      ]
     },
     "execution_count": 44,
     "metadata": {},
     "output_type": "execute_result"
    }
   ],
   "source": [
    "smoker_values = {'no': 0, 'yes': 1}\n",
    "smoker_numeric = medical_df.smoker.map(smoker_values)\n",
    "medical_df.charges.corr(smoker_numeric)"
   ]
  },
  {
   "cell_type": "markdown",
   "id": "elegant-origin",
   "metadata": {},
   "source": [
    "\n",
    "\n",
    "\n",
    "Here's how correlation coefficients can be interpreted ([source](https://statisticsbyjim.com/basics/correlations)):\n",
    "\n",
    "* **Strength**: The greater the absolute value of the correlation coefficient, the stronger the relationship.\n",
    "\n",
    "    * The extreme values of -1 and 1 indicate a perfectly linear relationship where a change in one variable is accompanied by a perfectly consistent change in the other. For these relationships, all of the data points fall on a line. In practice, you won’t see either type of perfect relationship.\n",
    "\n",
    "    * A coefficient of zero represents no linear relationship. As one variable increases, there is no tendency in the other variable to either increase or decrease.\n",
    "    \n",
    "    * When the value is in-between 0 and +1/-1, there is a relationship, but the points don’t all fall on a line. As r approaches -1 or 1, the strength of the relationship increases and the data points tend to fall closer to a line.\n",
    "\n",
    "\n",
    "* **Direction**: The sign of the correlation coefficient represents the direction of the relationship.\n",
    "\n",
    "    * Positive coefficients indicate that when the value of one variable increases, the value of the other variable also tends to increase. Positive relationships produce an upward slope on a scatterplot.\n",
    "    \n",
    "    * Negative coefficients represent cases when the value of one variable increases, the value of the other variable tends to decrease. Negative relationships produce a downward slope.\n",
    "\n",
    "Here's the same relationship expressed visually ([source](https://www.cuemath.com/data/how-to-calculate-correlation-coefficient/)):\n",
    "\n",
    "<img src=\"https://i.imgur.com/3XUpDlw.png\" width=\"360\">\n",
    "\n",
    "The correlation coefficient has the following formula:\n",
    "\n",
    "<img src=\"https://i.imgur.com/unapugP.png\" width=\"360\">\n",
    "\n",
    "You can learn more about the mathematical definition and geometric interpretation of correlation here: https://www.youtube.com/watch?v=xZ_z8KWkhXE\n",
    "\n",
    "Pandas dataframes also provide a `.corr` method to compute the correlation coefficients between all pairs of numeric columns."
   ]
  },
  {
   "cell_type": "code",
   "execution_count": 45,
   "id": "relative-supply",
   "metadata": {},
   "outputs": [
    {
     "ename": "ValueError",
     "evalue": "could not convert string to float: 'female'",
     "output_type": "error",
     "traceback": [
      "\u001b[31m---------------------------------------------------------------------------\u001b[39m",
      "\u001b[31mValueError\u001b[39m                                Traceback (most recent call last)",
      "\u001b[36mCell\u001b[39m\u001b[36m \u001b[39m\u001b[32mIn[45]\u001b[39m\u001b[32m, line 1\u001b[39m\n\u001b[32m----> \u001b[39m\u001b[32m1\u001b[39m \u001b[43mmedical_df\u001b[49m\u001b[43m.\u001b[49m\u001b[43mcorr\u001b[49m\u001b[43m(\u001b[49m\u001b[43m)\u001b[49m\n",
      "\u001b[36mFile \u001b[39m\u001b[32m~/Coursera/MachineLearning/venv/lib/python3.12/site-packages/pandas/core/frame.py:11049\u001b[39m, in \u001b[36mDataFrame.corr\u001b[39m\u001b[34m(self, method, min_periods, numeric_only)\u001b[39m\n\u001b[32m  11047\u001b[39m cols = data.columns\n\u001b[32m  11048\u001b[39m idx = cols.copy()\n\u001b[32m> \u001b[39m\u001b[32m11049\u001b[39m mat = \u001b[43mdata\u001b[49m\u001b[43m.\u001b[49m\u001b[43mto_numpy\u001b[49m\u001b[43m(\u001b[49m\u001b[43mdtype\u001b[49m\u001b[43m=\u001b[49m\u001b[38;5;28;43mfloat\u001b[39;49m\u001b[43m,\u001b[49m\u001b[43m \u001b[49m\u001b[43mna_value\u001b[49m\u001b[43m=\u001b[49m\u001b[43mnp\u001b[49m\u001b[43m.\u001b[49m\u001b[43mnan\u001b[49m\u001b[43m,\u001b[49m\u001b[43m \u001b[49m\u001b[43mcopy\u001b[49m\u001b[43m=\u001b[49m\u001b[38;5;28;43;01mFalse\u001b[39;49;00m\u001b[43m)\u001b[49m\n\u001b[32m  11051\u001b[39m \u001b[38;5;28;01mif\u001b[39;00m method == \u001b[33m\"\u001b[39m\u001b[33mpearson\u001b[39m\u001b[33m\"\u001b[39m:\n\u001b[32m  11052\u001b[39m     correl = libalgos.nancorr(mat, minp=min_periods)\n",
      "\u001b[36mFile \u001b[39m\u001b[32m~/Coursera/MachineLearning/venv/lib/python3.12/site-packages/pandas/core/frame.py:1993\u001b[39m, in \u001b[36mDataFrame.to_numpy\u001b[39m\u001b[34m(self, dtype, copy, na_value)\u001b[39m\n\u001b[32m   1991\u001b[39m \u001b[38;5;28;01mif\u001b[39;00m dtype \u001b[38;5;129;01mis\u001b[39;00m \u001b[38;5;129;01mnot\u001b[39;00m \u001b[38;5;28;01mNone\u001b[39;00m:\n\u001b[32m   1992\u001b[39m     dtype = np.dtype(dtype)\n\u001b[32m-> \u001b[39m\u001b[32m1993\u001b[39m result = \u001b[38;5;28;43mself\u001b[39;49m\u001b[43m.\u001b[49m\u001b[43m_mgr\u001b[49m\u001b[43m.\u001b[49m\u001b[43mas_array\u001b[49m\u001b[43m(\u001b[49m\u001b[43mdtype\u001b[49m\u001b[43m=\u001b[49m\u001b[43mdtype\u001b[49m\u001b[43m,\u001b[49m\u001b[43m \u001b[49m\u001b[43mcopy\u001b[49m\u001b[43m=\u001b[49m\u001b[43mcopy\u001b[49m\u001b[43m,\u001b[49m\u001b[43m \u001b[49m\u001b[43mna_value\u001b[49m\u001b[43m=\u001b[49m\u001b[43mna_value\u001b[49m\u001b[43m)\u001b[49m\n\u001b[32m   1994\u001b[39m \u001b[38;5;28;01mif\u001b[39;00m result.dtype \u001b[38;5;129;01mis\u001b[39;00m \u001b[38;5;129;01mnot\u001b[39;00m dtype:\n\u001b[32m   1995\u001b[39m     result = np.asarray(result, dtype=dtype)\n",
      "\u001b[36mFile \u001b[39m\u001b[32m~/Coursera/MachineLearning/venv/lib/python3.12/site-packages/pandas/core/internals/managers.py:1694\u001b[39m, in \u001b[36mBlockManager.as_array\u001b[39m\u001b[34m(self, dtype, copy, na_value)\u001b[39m\n\u001b[32m   1692\u001b[39m         arr.flags.writeable = \u001b[38;5;28;01mFalse\u001b[39;00m\n\u001b[32m   1693\u001b[39m \u001b[38;5;28;01melse\u001b[39;00m:\n\u001b[32m-> \u001b[39m\u001b[32m1694\u001b[39m     arr = \u001b[38;5;28;43mself\u001b[39;49m\u001b[43m.\u001b[49m\u001b[43m_interleave\u001b[49m\u001b[43m(\u001b[49m\u001b[43mdtype\u001b[49m\u001b[43m=\u001b[49m\u001b[43mdtype\u001b[49m\u001b[43m,\u001b[49m\u001b[43m \u001b[49m\u001b[43mna_value\u001b[49m\u001b[43m=\u001b[49m\u001b[43mna_value\u001b[49m\u001b[43m)\u001b[49m\n\u001b[32m   1695\u001b[39m     \u001b[38;5;66;03m# The underlying data was copied within _interleave, so no need\u001b[39;00m\n\u001b[32m   1696\u001b[39m     \u001b[38;5;66;03m# to further copy if copy=True or setting na_value\u001b[39;00m\n\u001b[32m   1698\u001b[39m \u001b[38;5;28;01mif\u001b[39;00m na_value \u001b[38;5;129;01mis\u001b[39;00m lib.no_default:\n",
      "\u001b[36mFile \u001b[39m\u001b[32m~/Coursera/MachineLearning/venv/lib/python3.12/site-packages/pandas/core/internals/managers.py:1753\u001b[39m, in \u001b[36mBlockManager._interleave\u001b[39m\u001b[34m(self, dtype, na_value)\u001b[39m\n\u001b[32m   1751\u001b[39m     \u001b[38;5;28;01melse\u001b[39;00m:\n\u001b[32m   1752\u001b[39m         arr = blk.get_values(dtype)\n\u001b[32m-> \u001b[39m\u001b[32m1753\u001b[39m     \u001b[43mresult\u001b[49m\u001b[43m[\u001b[49m\u001b[43mrl\u001b[49m\u001b[43m.\u001b[49m\u001b[43mindexer\u001b[49m\u001b[43m]\u001b[49m = arr\n\u001b[32m   1754\u001b[39m     itemmask[rl.indexer] = \u001b[32m1\u001b[39m\n\u001b[32m   1756\u001b[39m \u001b[38;5;28;01mif\u001b[39;00m \u001b[38;5;129;01mnot\u001b[39;00m itemmask.all():\n",
      "\u001b[31mValueError\u001b[39m: could not convert string to float: 'female'"
     ]
    }
   ],
   "source": [
    "medical_df.corr()"
   ]
  },
  {
   "cell_type": "markdown",
   "id": "organized-portuguese",
   "metadata": {},
   "source": [
    "The result of `.corr` is called a correlation matrix and is often visualized using a heatmap."
   ]
  },
  {
   "cell_type": "code",
   "execution_count": null,
   "id": "collect-cloud",
   "metadata": {},
   "outputs": [],
   "source": [
    "sns.heatmap(medical_df.corr(), cmap='Reds', annot=True)\n",
    "plt.title('Correlation Matrix');"
   ]
  },
  {
   "cell_type": "markdown",
   "id": "bacterial-stack",
   "metadata": {},
   "source": [
    "**Correlation vs causation fallacy:** Note that a high correlation cannot be used to interpret a cause-effect relationship between features. Two features $X$ and $Y$ can be correlated if $X$ causes $Y$ or if $Y$ causes $X$, or if both are caused independently by some other factor $Z$, and the correlation will no longer hold true if one of the cause-effect relationships is broken. It's also possible that $X$ are $Y$ simply appear to be correlated because the sample is too small. \n",
    "\n",
    "While this may seem obvious, computers can't differentiate between correlation and causation, and decisions based on automated system can often have major consequences on society, so it's important to study why automated systems lead to a given result. Determining cause-effect relationships requires human insight."
   ]
  },
  {
   "cell_type": "markdown",
   "id": "conceptual-favorite",
   "metadata": {},
   "source": [
    "Let's save our work before continuing."
   ]
  },
  {
   "cell_type": "code",
   "execution_count": null,
   "id": "blank-dancing",
   "metadata": {},
   "outputs": [],
   "source": [
    "jovian.commit()"
   ]
  },
  {
   "cell_type": "markdown",
   "id": "encouraging-evaluation",
   "metadata": {},
   "source": [
    "## Linear Regression using a Single Feature\n",
    "\n",
    "We now know that the \"smoker\" and \"age\" columns have the strongest correlation with \"charges\". Let's try to find a way of estimating the value of \"charges\" using the value of \"age\" for non-smokers. First, let's create a data frame containing just the data for non-smokers."
   ]
  },
  {
   "cell_type": "code",
   "execution_count": null,
   "id": "spiritual-colorado",
   "metadata": {},
   "outputs": [],
   "source": [
    "non_smoker_df = medical_df[medical_df.smoker == 'no']"
   ]
  },
  {
   "cell_type": "markdown",
   "id": "injured-joyce",
   "metadata": {},
   "source": [
    "Next, let's visualize the relationship between \"age\" and \"charges\""
   ]
  },
  {
   "cell_type": "code",
   "execution_count": 29,
   "id": "acute-mainstream",
   "metadata": {},
   "outputs": [
    {
     "ename": "NameError",
     "evalue": "name 'plt' is not defined",
     "output_type": "error",
     "traceback": [
      "\u001b[31m---------------------------------------------------------------------------\u001b[39m",
      "\u001b[31mNameError\u001b[39m                                 Traceback (most recent call last)",
      "\u001b[36mCell\u001b[39m\u001b[36m \u001b[39m\u001b[32mIn[29]\u001b[39m\u001b[32m, line 1\u001b[39m\n\u001b[32m----> \u001b[39m\u001b[32m1\u001b[39m \u001b[43mplt\u001b[49m.title(\u001b[33m'\u001b[39m\u001b[33mAge vs. Charges\u001b[39m\u001b[33m'\u001b[39m)\n\u001b[32m      2\u001b[39m sns.scatterplot(data=non_smoker_df, x=\u001b[33m'\u001b[39m\u001b[33mage\u001b[39m\u001b[33m'\u001b[39m, y=\u001b[33m'\u001b[39m\u001b[33mcharges\u001b[39m\u001b[33m'\u001b[39m, alpha=\u001b[32m0.7\u001b[39m, s=\u001b[32m15\u001b[39m);\n",
      "\u001b[31mNameError\u001b[39m: name 'plt' is not defined"
     ]
    }
   ],
   "source": [
    "plt.title('Age vs. Charges')\n",
    "sns.scatterplot(data=non_smoker_df, x='age', y='charges', alpha=0.7, s=15);"
   ]
  },
  {
   "cell_type": "markdown",
   "id": "affiliated-quality",
   "metadata": {},
   "source": [
    "Apart from a few exceptions, the points seem to form a line. We'll try and \"fit\" a line using this points, and use the line to predict charges for a given age. A line on the X&Y coordinates has the following formula:\n",
    "\n",
    "$y = wx + b$\n",
    "\n",
    "The line is characterized two numbers: $w$ (called \"slope\") and $b$ (called \"intercept\"). \n",
    "\n",
    "### Model\n",
    "\n",
    "In the above case, the x axis shows \"age\" and the y axis shows \"charges\". Thus, we're assume the following relationship between the two:\n",
    "\n",
    "$charges = w \\times age + b$\n",
    "\n",
    "We'll try determine $w$ and $b$ for the line that best fits the data. \n",
    "\n",
    "* This technique is called _linear regression_, and we call the above equation a _linear regression model_, because it models the relationship between \"age\" and \"charges\" as a straight line. \n",
    "\n",
    "* The numbers $w$ and $b$ are called the _parameters_ or _weights_ of the model.\n",
    "\n",
    "* The values in the \"age\" column of the dataset are called the _inputs_ to the model and the values in the charges column are called \"targets\". \n",
    "\n",
    "Let define a helper function `estimate_charges`, to compute $charges$, given $age$, $w$ and $b$.\n"
   ]
  },
  {
   "cell_type": "code",
   "execution_count": null,
   "id": "diverse-capture",
   "metadata": {},
   "outputs": [],
   "source": [
    "def estimate_charges(age, w, b):\n",
    "    return w * age + b"
   ]
  },
  {
   "cell_type": "markdown",
   "id": "optimum-colleague",
   "metadata": {},
   "source": [
    "The `estimate_charges` function is our very first _model_.\n",
    "\n",
    "Let's _guess_ the values for $w$ and $b$ and use them to estimate the value for charges."
   ]
  },
  {
   "cell_type": "code",
   "execution_count": null,
   "id": "fallen-navigation",
   "metadata": {},
   "outputs": [],
   "source": [
    "w = 50\n",
    "b = 100"
   ]
  },
  {
   "cell_type": "code",
   "execution_count": null,
   "id": "excellent-pennsylvania",
   "metadata": {},
   "outputs": [],
   "source": [
    "ages = non_smoker_df.age\n",
    "estimated_charges = estimate_charges(ages, w, b)"
   ]
  },
  {
   "cell_type": "markdown",
   "id": "everyday-polyester",
   "metadata": {},
   "source": [
    "We can plot the estimated charges using a line graph."
   ]
  },
  {
   "cell_type": "code",
   "execution_count": null,
   "id": "frozen-arthritis",
   "metadata": {},
   "outputs": [],
   "source": [
    "plt.plot(ages, estimated_charges, 'r-o');\n",
    "plt.xlabel('Age');\n",
    "plt.ylabel('Estimated Charges');"
   ]
  },
  {
   "cell_type": "markdown",
   "id": "abroad-visit",
   "metadata": {},
   "source": [
    "As expected, the points lie on a straight line. \n",
    "\n",
    "We can overlay this line on the actual data, so see how well our _model_ fits the _data_."
   ]
  },
  {
   "cell_type": "code",
   "execution_count": null,
   "id": "injured-modification",
   "metadata": {},
   "outputs": [],
   "source": [
    "target = non_smoker_df.charges\n",
    "\n",
    "plt.plot(ages, estimated_charges, 'r', alpha=0.9);\n",
    "plt.scatter(ages, target, s=8,alpha=0.8);\n",
    "plt.xlabel('Age');\n",
    "plt.ylabel('Charges')\n",
    "plt.legend(['Estimate', 'Actual']);"
   ]
  },
  {
   "cell_type": "markdown",
   "id": "prepared-export",
   "metadata": {},
   "source": [
    "Clearly, the our estimates are quite poor and the line does not \"fit\" the data. However, we can try different values of $w$ and $b$ to move the line around. Let's define a helper function `try_parameters` which takes `w` and `b` as inputs and creates the above plot."
   ]
  },
  {
   "cell_type": "code",
   "execution_count": null,
   "id": "consistent-johnston",
   "metadata": {},
   "outputs": [],
   "source": [
    "def try_parameters(w, b):\n",
    "    ages = non_smoker_df.age\n",
    "    target = non_smoker_df.charges\n",
    "    \n",
    "    estimated_charges = estimate_charges(ages, w, b)\n",
    "    \n",
    "    plt.plot(ages, estimated_charges, 'r', alpha=0.9);\n",
    "    plt.scatter(ages, target, s=8,alpha=0.8);\n",
    "    plt.xlabel('Age');\n",
    "    plt.ylabel('Charges')\n",
    "    plt.legend(['Estimate', 'Actual']);"
   ]
  },
  {
   "cell_type": "code",
   "execution_count": null,
   "id": "dominican-planner",
   "metadata": {},
   "outputs": [],
   "source": [
    "try_parameters(60, 200)"
   ]
  },
  {
   "cell_type": "code",
   "execution_count": null,
   "id": "proof-scotland",
   "metadata": {
    "scrolled": false
   },
   "outputs": [],
   "source": [
    "try_parameters(400, 5000)"
   ]
  },
  {
   "cell_type": "markdown",
   "id": "checked-slovenia",
   "metadata": {},
   "source": [
    "> **EXERCISE**: Try various values of $w$ and $b$ to find a line that best fits the data. What is the effect of changing the value of $w$? What is the effect of changing $b$?"
   ]
  },
  {
   "cell_type": "code",
   "execution_count": null,
   "id": "orange-arthritis",
   "metadata": {},
   "outputs": [],
   "source": []
  },
  {
   "cell_type": "code",
   "execution_count": null,
   "id": "competitive-inside",
   "metadata": {},
   "outputs": [],
   "source": []
  },
  {
   "cell_type": "code",
   "execution_count": null,
   "id": "spanish-fishing",
   "metadata": {},
   "outputs": [],
   "source": []
  },
  {
   "cell_type": "markdown",
   "id": "acoustic-final",
   "metadata": {},
   "source": []
  },
  {
   "cell_type": "markdown",
   "id": "related-belle",
   "metadata": {},
   "source": [
    "As we change the values, of $w$ and $b$ manually, trying to move the line visually closer to the points, we are _learning_ the approximate relationship between \"age\" and \"charges\". \n",
    "\n",
    "Wouldn't it be nice if a computer could try several different values of `w` and `b` and _learn_ the relationship between \"age\" and \"charges\"? To do this, we need to solve a couple of problems:\n",
    "\n",
    "1. We need a way to measure numerically how well the line fits the points.\n",
    "\n",
    "2. Once the \"measure of fit\" has been computed, we need a way to modify `w` and `b` to improve the the fit.\n",
    "\n",
    "If we can solve the above problems, it should be possible for a computer to determine `w` and `b` for the best fit line, starting from a random guess."
   ]
  },
  {
   "attachments": {},
   "cell_type": "markdown",
   "id": "underlying-addition",
   "metadata": {},
   "source": [
    "### Loss/Cost Function\n",
    "\n",
    "We can compare our model's predictions with the actual targets using the following method:\n",
    "\n",
    "* Calculate the difference between the targets and predictions (the differenced is called the \"residual\")\n",
    "* Square all elements of the difference matrix to remove negative values.\n",
    "* Calculate the average of the elements in the resulting matrix.\n",
    "* Take the square root of the result\n",
    "\n",
    "The result is a single number, known as the **root mean squared error** (RMSE). The above description can be stated mathematically as follows: \n",
    "\n",
    "<img src=\"https://i.imgur.com/WCanPkA.png\" width=\"360\">\n",
    "\n",
    "Geometrically, the residuals can be visualized as follows:\n",
    "\n",
    "<img src=\"https://i.imgur.com/ll3NL80.png\" width=\"420\">\n",
    "\n",
    "Let's define a function to compute the RMSE."
   ]
  },
  {
   "cell_type": "code",
   "execution_count": null,
   "id": "thick-wales",
   "metadata": {},
   "outputs": [],
   "source": [
    "!pip install numpy --quiet"
   ]
  },
  {
   "cell_type": "code",
   "execution_count": null,
   "id": "preliminary-tobacco",
   "metadata": {},
   "outputs": [],
   "source": [
    "import numpy as np"
   ]
  },
  {
   "cell_type": "code",
   "execution_count": null,
   "id": "desperate-operator",
   "metadata": {},
   "outputs": [],
   "source": [
    "def rmse(targets, predictions):\n",
    "    return np.sqrt(np.mean(np.square(targets - predictions)))"
   ]
  },
  {
   "cell_type": "markdown",
   "id": "higher-stuff",
   "metadata": {},
   "source": [
    "Let's compute the RMSE for our model with a sample set of weights"
   ]
  },
  {
   "cell_type": "code",
   "execution_count": null,
   "id": "rough-quantity",
   "metadata": {},
   "outputs": [],
   "source": [
    "w = 50\n",
    "b = 100"
   ]
  },
  {
   "cell_type": "code",
   "execution_count": null,
   "id": "black-press",
   "metadata": {},
   "outputs": [],
   "source": [
    "try_parameters(w, b)"
   ]
  },
  {
   "cell_type": "code",
   "execution_count": null,
   "id": "recorded-armstrong",
   "metadata": {},
   "outputs": [],
   "source": [
    "targets = non_smoker_df['charges']\n",
    "predicted = estimate_charges(non_smoker_df.age, w, b)"
   ]
  },
  {
   "cell_type": "code",
   "execution_count": null,
   "id": "descending-alert",
   "metadata": {},
   "outputs": [],
   "source": [
    "rmse(targets, predicted)"
   ]
  },
  {
   "cell_type": "markdown",
   "id": "beautiful-pastor",
   "metadata": {},
   "source": [
    "Here's how we can interpret the above number: *On average, each element in the prediction differs from the actual target by \\\\$8461*. \n",
    "\n",
    "The result is called the *loss* because it indicates how bad the model is at predicting the target variables. It represents information loss in the model: the lower the loss, the better the model.\n",
    "\n",
    "Let's modify the `try_parameters` functions to also display the loss."
   ]
  },
  {
   "cell_type": "code",
   "execution_count": null,
   "id": "radical-allergy",
   "metadata": {},
   "outputs": [],
   "source": [
    "def try_parameters(w, b):\n",
    "    ages = non_smoker_df.age\n",
    "    target = non_smoker_df.charges\n",
    "    predictions = estimate_charges(ages, w, b)\n",
    "    \n",
    "    plt.plot(ages, predictions, 'r', alpha=0.9);\n",
    "    plt.scatter(ages, target, s=8,alpha=0.8);\n",
    "    plt.xlabel('Age');\n",
    "    plt.ylabel('Charges')\n",
    "    plt.legend(['Prediction', 'Actual']);\n",
    "    \n",
    "    loss = rmse(target, predictions)\n",
    "    print(\"RMSE Loss: \", loss)"
   ]
  },
  {
   "cell_type": "code",
   "execution_count": null,
   "id": "worthy-peninsula",
   "metadata": {},
   "outputs": [],
   "source": [
    "try_parameters(50, 100)"
   ]
  },
  {
   "cell_type": "markdown",
   "id": "fixed-outside",
   "metadata": {},
   "source": [
    "> **EXERCISE**: Try different values of $w$ and $b$ to minimize the RMSE loss. What's the lowest value of loss you are able to achieve? Can you come with a general strategy for finding better values of $w$ and $b$ by trial and error?"
   ]
  },
  {
   "cell_type": "code",
   "execution_count": null,
   "id": "minor-shade",
   "metadata": {},
   "outputs": [],
   "source": []
  },
  {
   "cell_type": "code",
   "execution_count": null,
   "id": "steady-preserve",
   "metadata": {},
   "outputs": [],
   "source": []
  },
  {
   "cell_type": "code",
   "execution_count": null,
   "id": "conventional-smoke",
   "metadata": {},
   "outputs": [],
   "source": []
  },
  {
   "cell_type": "markdown",
   "id": "jewish-heart",
   "metadata": {},
   "source": [
    "### Optimizer\n",
    "\n",
    "Next, we need a strategy to modify weights `w` and `b` to reduce the loss and improve the \"fit\" of the line to the data.\n",
    "\n",
    "* Ordinary Least Squares: https://www.youtube.com/watch?v=szXbuO3bVRk (better for smaller datasets)\n",
    "* Stochastic gradient descent: https://www.youtube.com/watch?v=sDv4f4s2SB8 (better for larger datasets)\n",
    "\n",
    "Both of these have the same objective: to minimize the loss, however, while ordinary least squares directly computes the best values for `w` and `b` using matrix operations, while gradient descent uses a iterative approach, starting with a random values of `w` and `b` and slowly improving them using derivatives. \n",
    "\n",
    "Here's a visualization of how gradient descent works:\n",
    "\n",
    "![](https://miro.medium.com/max/1728/1*NO-YvpHHadk5lLxtg4Gfrw.gif)\n",
    "\n",
    "Doesn't it look similar to our own strategy of gradually moving the line closer to the points?\n",
    "\n"
   ]
  },
  {
   "cell_type": "markdown",
   "id": "proud-dublin",
   "metadata": {},
   "source": [
    "### Linear Regression using Scikit-learn\n",
    "\n",
    "In practice, you'll never need to implement either of the above methods yourself. You can use a library like `scikit-learn` to do this for you. "
   ]
  },
  {
   "cell_type": "code",
   "execution_count": null,
   "id": "rough-bolivia",
   "metadata": {},
   "outputs": [],
   "source": [
    "!pip install scikit-learn --quiet"
   ]
  },
  {
   "cell_type": "markdown",
   "id": "going-youth",
   "metadata": {},
   "source": [
    "Let's use the `LinearRegression` class from `scikit-learn` to find the best fit line for \"age\" vs. \"charges\" using the ordinary least squares optimization technique."
   ]
  },
  {
   "cell_type": "code",
   "execution_count": null,
   "id": "medieval-quality",
   "metadata": {},
   "outputs": [],
   "source": [
    "from sklearn.linear_model import LinearRegression"
   ]
  },
  {
   "cell_type": "markdown",
   "id": "looking-passing",
   "metadata": {},
   "source": [
    "First, we create a new model object."
   ]
  },
  {
   "cell_type": "code",
   "execution_count": null,
   "id": "honest-directory",
   "metadata": {},
   "outputs": [],
   "source": [
    "model = LinearRegression()"
   ]
  },
  {
   "cell_type": "markdown",
   "id": "distinct-fishing",
   "metadata": {},
   "source": [
    "Next, we can use the `fit` method of the model to find the best fit line for the inputs and targets."
   ]
  },
  {
   "cell_type": "code",
   "execution_count": null,
   "id": "extensive-cruise",
   "metadata": {},
   "outputs": [],
   "source": [
    "help(model.fit)"
   ]
  },
  {
   "cell_type": "markdown",
   "id": "forty-chance",
   "metadata": {},
   "source": [
    "Not that the input `X` must be a 2-d array, so we'll need to pass a dataframe, instead of a single column."
   ]
  },
  {
   "cell_type": "code",
   "execution_count": null,
   "id": "systematic-wright",
   "metadata": {},
   "outputs": [],
   "source": [
    "inputs = non_smoker_df[['age']]\n",
    "targets = non_smoker_df.charges\n",
    "print('inputs.shape :', inputs.shape)\n",
    "print('targes.shape :', targets.shape)"
   ]
  },
  {
   "cell_type": "markdown",
   "id": "oriental-authority",
   "metadata": {},
   "source": [
    "Let's fit the model to the data."
   ]
  },
  {
   "cell_type": "code",
   "execution_count": null,
   "id": "short-hurricane",
   "metadata": {},
   "outputs": [],
   "source": [
    "model.fit(inputs, targets)"
   ]
  },
  {
   "cell_type": "markdown",
   "id": "mathematical-sally",
   "metadata": {},
   "source": [
    "We can now make predictions using the model. Let's try predicting the charges for the ages 23, 37 and 61"
   ]
  },
  {
   "cell_type": "code",
   "execution_count": null,
   "id": "decimal-thursday",
   "metadata": {},
   "outputs": [],
   "source": [
    "model.predict(np.array([[23], \n",
    "                        [37], \n",
    "                        [61]]))"
   ]
  },
  {
   "cell_type": "markdown",
   "id": "victorian-nickname",
   "metadata": {},
   "source": [
    "Do these values seem reasonable? Compare them with the scatter plot above.\n",
    "\n",
    "Let compute the predictions for the entire set of inputs"
   ]
  },
  {
   "cell_type": "code",
   "execution_count": null,
   "id": "prospective-point",
   "metadata": {},
   "outputs": [],
   "source": [
    "predictions = model.predict(inputs)"
   ]
  },
  {
   "cell_type": "code",
   "execution_count": null,
   "id": "sound-middle",
   "metadata": {},
   "outputs": [],
   "source": [
    "predictions"
   ]
  },
  {
   "cell_type": "markdown",
   "id": "lesbian-raising",
   "metadata": {},
   "source": [
    "Let's compute the RMSE loss to evaluate the model."
   ]
  },
  {
   "cell_type": "code",
   "execution_count": null,
   "id": "dramatic-cuisine",
   "metadata": {},
   "outputs": [],
   "source": [
    "rmse(targets, predictions)"
   ]
  },
  {
   "cell_type": "markdown",
   "id": "mediterranean-principle",
   "metadata": {},
   "source": [
    "Seems like our prediction is off by $4000 on average, which is not too bad considering the fact that there are several outliers."
   ]
  },
  {
   "cell_type": "markdown",
   "id": "graphic-nevada",
   "metadata": {},
   "source": [
    "The parameters of the model are stored in the `coef_` and `intercept_` properties."
   ]
  },
  {
   "cell_type": "code",
   "execution_count": null,
   "id": "square-christianity",
   "metadata": {},
   "outputs": [],
   "source": [
    "# w\n",
    "model.coef_"
   ]
  },
  {
   "cell_type": "code",
   "execution_count": null,
   "id": "needed-vegetarian",
   "metadata": {},
   "outputs": [],
   "source": [
    "# b\n",
    "model.intercept_"
   ]
  },
  {
   "cell_type": "markdown",
   "id": "pacific-hierarchy",
   "metadata": {},
   "source": [
    "Are these parameters close to your best guesses?\n",
    "\n",
    "Let's visualize the line created by the above parameters."
   ]
  },
  {
   "cell_type": "code",
   "execution_count": null,
   "id": "defensive-shield",
   "metadata": {},
   "outputs": [],
   "source": [
    "try_parameters(model.coef_, model.intercept_)"
   ]
  },
  {
   "cell_type": "markdown",
   "id": "sensitive-condition",
   "metadata": {},
   "source": [
    "Indeed the line is quite close to the points. It is slightly above the cluster of points, because it's also trying to account for the outliers. \n",
    "\n",
    "> **EXERCISE**: Use the [`SGDRegressor`](https://scikit-learn.org/stable/modules/generated/sklearn.linear_model.SGDRegressor.html) class from `scikit-learn` to train a model using the stochastic gradient descent technique. Make predictions and compute the loss. Do you see any difference in the result?"
   ]
  },
  {
   "cell_type": "code",
   "execution_count": null,
   "id": "numerous-brisbane",
   "metadata": {},
   "outputs": [],
   "source": []
  },
  {
   "cell_type": "code",
   "execution_count": null,
   "id": "impressive-galaxy",
   "metadata": {},
   "outputs": [],
   "source": []
  },
  {
   "cell_type": "code",
   "execution_count": null,
   "id": "documented-performer",
   "metadata": {},
   "outputs": [],
   "source": []
  },
  {
   "cell_type": "markdown",
   "id": "successful-swaziland",
   "metadata": {},
   "source": [
    "> **EXERCISE**: Repeat the steps is this section to train a linear regression model to estimate medical charges for smokers. Visualize the targets and predictions, and compute the loss."
   ]
  },
  {
   "cell_type": "code",
   "execution_count": null,
   "id": "weird-chamber",
   "metadata": {},
   "outputs": [],
   "source": []
  },
  {
   "cell_type": "code",
   "execution_count": null,
   "id": "prepared-adaptation",
   "metadata": {},
   "outputs": [],
   "source": []
  },
  {
   "cell_type": "code",
   "execution_count": null,
   "id": "magnetic-cooper",
   "metadata": {},
   "outputs": [],
   "source": []
  },
  {
   "cell_type": "markdown",
   "id": "intellectual-forward",
   "metadata": {},
   "source": [
    "### Machine Learning\n",
    "\n",
    "Congratulations, you've just trained your first _machine learning model!_ Machine learning is simply the process of computing the best parameters to model the relationship between some feature and targets. \n",
    "\n",
    "Every machine learning problem has three components:\n",
    "\n",
    "1. **Model**\n",
    "\n",
    "2. **Cost Function**\n",
    "\n",
    "3. **Optimizer**\n",
    "\n",
    "We'll look at several examples of each of the above in future tutorials. Here's how the relationship between these three components can be visualized:\n",
    "\n",
    "<img src=\"https://www.deepnetts.com/blog/wp-content/uploads/2019/02/SupervisedLearning.png\" width=\"480\">"
   ]
  },
  {
   "cell_type": "markdown",
   "id": "billion-intermediate",
   "metadata": {},
   "source": [
    "As we've seen above, it takes just a few lines of code to train a machine learning model using `scikit-learn`."
   ]
  },
  {
   "cell_type": "code",
   "execution_count": null,
   "id": "deluxe-sally",
   "metadata": {},
   "outputs": [],
   "source": [
    "# Create inputs and targets\n",
    "inputs, targets = non_smoker_df[['age']], non_smoker_df['charges']\n",
    "\n",
    "# Create and train the model\n",
    "model = LinearRegression().fit(inputs, targets)\n",
    "\n",
    "# Generate predictions\n",
    "predictions = model.predict(inputs)\n",
    "\n",
    "# Compute loss to evalute the model\n",
    "loss = rmse(targets, predictions)\n",
    "print('Loss:', loss)"
   ]
  },
  {
   "cell_type": "markdown",
   "id": "balanced-arcade",
   "metadata": {},
   "source": [
    "Let's save our work before continuing."
   ]
  },
  {
   "cell_type": "code",
   "execution_count": null,
   "id": "southwest-witch",
   "metadata": {
    "scrolled": true
   },
   "outputs": [],
   "source": [
    "jovian.commit()"
   ]
  },
  {
   "cell_type": "markdown",
   "id": "sitting-nitrogen",
   "metadata": {},
   "source": [
    "## Linear Regression using Multiple Features\n",
    "\n",
    "So far, we've used on the \"age\" feature to estimate \"charges\". Adding another feature like \"bmi\" is fairly straightforward. We simply assume the following relationship:\n",
    "\n",
    "$charges = w_1 \\times age + w_2 \\times bmi + b$\n",
    "\n",
    "We need to change just one line of code to include the BMI."
   ]
  },
  {
   "cell_type": "code",
   "execution_count": null,
   "id": "acknowledged-preparation",
   "metadata": {},
   "outputs": [],
   "source": [
    "# Create inputs and targets\n",
    "inputs, targets = non_smoker_df[['age', 'bmi']], non_smoker_df['charges']\n",
    "\n",
    "# Create and train the model\n",
    "model = LinearRegression().fit(inputs, targets)\n",
    "\n",
    "# Generate predictions\n",
    "predictions = model.predict(inputs)\n",
    "\n",
    "# Compute loss to evalute the model\n",
    "loss = rmse(targets, predictions)\n",
    "print('Loss:', loss)"
   ]
  },
  {
   "cell_type": "markdown",
   "id": "superior-syntax",
   "metadata": {},
   "source": [
    "As you can see, adding the BMI doesn't seem to reduce the loss by much, as the BMI has a very weak correlation with charges, especially for non smokers."
   ]
  },
  {
   "cell_type": "code",
   "execution_count": null,
   "id": "strategic-round",
   "metadata": {},
   "outputs": [],
   "source": [
    "non_smoker_df.charges.corr(non_smoker_df.bmi)"
   ]
  },
  {
   "cell_type": "code",
   "execution_count": null,
   "id": "convinced-louis",
   "metadata": {},
   "outputs": [],
   "source": [
    "fig = px.scatter(non_smoker_df, x='bmi', y='charges', title='BMI vs. Charges')\n",
    "fig.update_traces(marker_size=5)\n",
    "fig.show()"
   ]
  },
  {
   "cell_type": "markdown",
   "id": "exposed-toronto",
   "metadata": {},
   "source": [
    "We can also visualize the relationship between all 3 variables \"age\", \"bmi\" and \"charges\" using a 3D scatter plot."
   ]
  },
  {
   "cell_type": "code",
   "execution_count": null,
   "id": "bibliographic-disposition",
   "metadata": {},
   "outputs": [],
   "source": [
    "fig = px.scatter_3d(non_smoker_df, x='age', y='bmi', z='charges')\n",
    "fig.update_traces(marker_size=3, marker_opacity=0.5)\n",
    "fig.show()"
   ]
  },
  {
   "cell_type": "markdown",
   "id": "czech-outdoors",
   "metadata": {},
   "source": [
    "You can see that it's harder to interpret a 3D scatter plot compared to a 2D scatter plot. As we add more features, it becomes impossible to visualize all feature at once, which is why we use measures like correlation and loss. \n",
    "\n",
    "Let's also check the parameters of the model."
   ]
  },
  {
   "cell_type": "code",
   "execution_count": null,
   "id": "afraid-kennedy",
   "metadata": {},
   "outputs": [],
   "source": [
    "model.coef_, model.intercept_"
   ]
  },
  {
   "cell_type": "markdown",
   "id": "unnecessary-rapid",
   "metadata": {},
   "source": [
    "Clearly, BMI has a much lower weightage, and you can see why. It has a tiny contribution, and even that is probably accidental. This is an important thing to keep in mind: you can't find a relationship that doesn't exist, no matter what machine learning technique or optimization algorithm you apply. "
   ]
  },
  {
   "cell_type": "markdown",
   "id": "adaptive-dublin",
   "metadata": {},
   "source": [
    "> **EXERCISE**: Train a linear regression model to estimate charges using BMI alone. Do you expect it to be better or worse than the previously trained models?"
   ]
  },
  {
   "cell_type": "code",
   "execution_count": null,
   "id": "contrary-movie",
   "metadata": {},
   "outputs": [],
   "source": []
  },
  {
   "cell_type": "code",
   "execution_count": null,
   "id": "peaceful-contact",
   "metadata": {},
   "outputs": [],
   "source": []
  },
  {
   "cell_type": "code",
   "execution_count": null,
   "id": "usual-salem",
   "metadata": {},
   "outputs": [],
   "source": []
  },
  {
   "cell_type": "markdown",
   "id": "sensitive-notification",
   "metadata": {},
   "source": [
    "Let's go one step further, and add the final numeric column: \"children\", which seems to have some correlation with \"charges\".\n",
    "\n",
    "$charges = w_1 \\times age + w_2 \\times bmi + w_3 \\times charges + b$"
   ]
  },
  {
   "cell_type": "code",
   "execution_count": null,
   "id": "southeast-panic",
   "metadata": {},
   "outputs": [],
   "source": [
    "non_smoker_df.charges.corr(non_smoker_df.children)"
   ]
  },
  {
   "cell_type": "code",
   "execution_count": null,
   "id": "widespread-inventory",
   "metadata": {},
   "outputs": [],
   "source": [
    "fig = px.strip(non_smoker_df, x='children', y='charges', title= \"Children vs. Charges\")\n",
    "fig.update_traces(marker_size=4, marker_opacity=0.7)\n",
    "fig.show()"
   ]
  },
  {
   "cell_type": "code",
   "execution_count": null,
   "id": "super-theory",
   "metadata": {},
   "outputs": [],
   "source": [
    "# Create inputs and targets\n",
    "inputs, targets = non_smoker_df[['age', 'bmi', 'children']], non_smoker_df['charges']\n",
    "\n",
    "# Create and train the model\n",
    "model = LinearRegression().fit(inputs, targets)\n",
    "\n",
    "# Generate predictions\n",
    "predictions = model.predict(inputs)\n",
    "\n",
    "# Compute loss to evalute the model\n",
    "loss = rmse(targets, predictions)\n",
    "print('Loss:', loss)"
   ]
  },
  {
   "cell_type": "markdown",
   "id": "helpful-profession",
   "metadata": {},
   "source": [
    "Once again, we don't see a big reduction in the loss, even though it's greater than in the case of BMI."
   ]
  },
  {
   "cell_type": "markdown",
   "id": "proper-beaver",
   "metadata": {},
   "source": [
    "> **EXERCISE**: Repeat the steps is this section to train a linear regression model to estimate medical charges for smokers. Visualize the targets and predictions, and compute the loss."
   ]
  },
  {
   "cell_type": "code",
   "execution_count": null,
   "id": "authorized-growing",
   "metadata": {},
   "outputs": [],
   "source": []
  },
  {
   "cell_type": "code",
   "execution_count": null,
   "id": "incredible-looking",
   "metadata": {},
   "outputs": [],
   "source": []
  },
  {
   "cell_type": "markdown",
   "id": "instant-closer",
   "metadata": {},
   "source": [
    "> **EXERCISE**: Repeat the steps is this section to train a linear regression model to estimate medical charges for all customers. Visualize the targets and predictions, and compute the loss. Is the loss lower or higher?"
   ]
  },
  {
   "cell_type": "code",
   "execution_count": null,
   "id": "prospective-estimate",
   "metadata": {},
   "outputs": [],
   "source": [
    "# Create inputs and targets\n",
    "inputs, targets = medical_df[['age', 'bmi', 'children']], medical_df['charges']\n",
    "\n",
    "# Create and train the model\n",
    "model = LinearRegression().fit(inputs, targets)\n",
    "\n",
    "# Generate predictions\n",
    "predictions = model.predict(inputs)\n",
    "\n",
    "# Compute loss to evalute the model\n",
    "loss = rmse(targets, predictions)\n",
    "print('Loss:', loss)"
   ]
  },
  {
   "cell_type": "code",
   "execution_count": null,
   "id": "greater-sleeve",
   "metadata": {},
   "outputs": [],
   "source": []
  },
  {
   "cell_type": "code",
   "execution_count": null,
   "id": "cross-stereo",
   "metadata": {},
   "outputs": [],
   "source": []
  },
  {
   "cell_type": "markdown",
   "id": "brazilian-washington",
   "metadata": {},
   "source": [
    "Let's save our work before continuing."
   ]
  },
  {
   "cell_type": "code",
   "execution_count": null,
   "id": "choice-makeup",
   "metadata": {
    "scrolled": true
   },
   "outputs": [],
   "source": [
    "jovian.commit()"
   ]
  },
  {
   "cell_type": "markdown",
   "id": "international-denmark",
   "metadata": {},
   "source": [
    "## Using Categorical Features for Machine Learning\n",
    "\n",
    "So far we've been using only numeric columns, since we can only perform computations with numbers. If we could use categorical columns like \"smoker\", we can train a single model for the entire dataset.\n",
    "\n",
    "To use the categorical columns, we simply need to convert them to numbers. There are three common techniques for doing this:\n",
    "\n",
    "1. If a categorical column has just two categories (it's called a binary category), then we can replace their values with 0 and 1.\n",
    "2. If a categorical column has more than 2 categories, we can perform one-hot encoding i.e. create a new column for each category with 1s and 0s.\n",
    "3. If the categories have a natural order (e.g. cold, neutral, warm, hot), then they can be converted to numbers (e.g. 1, 2, 3, 4) preserving the order. These are called ordinals\n",
    "\n",
    "\n"
   ]
  },
  {
   "cell_type": "markdown",
   "id": "million-share",
   "metadata": {},
   "source": [
    "## Binary Categories\n",
    "\n",
    "The \"smoker\" category has just two values \"yes\" and \"no\". Let's create a new column \"smoker_code\" containing 0 for \"no\" and 1 for \"yes\".\n"
   ]
  },
  {
   "cell_type": "code",
   "execution_count": null,
   "id": "senior-condition",
   "metadata": {},
   "outputs": [],
   "source": [
    "sns.barplot(data=medical_df, x='smoker', y='charges');"
   ]
  },
  {
   "cell_type": "code",
   "execution_count": null,
   "id": "developed-wireless",
   "metadata": {},
   "outputs": [],
   "source": [
    "smoker_codes = {'no': 0, 'yes': 1}\n",
    "medical_df['smoker_code'] = medical_df.smoker.map(smoker_codes)"
   ]
  },
  {
   "cell_type": "code",
   "execution_count": null,
   "id": "suburban-pulse",
   "metadata": {},
   "outputs": [],
   "source": [
    "medical_df.charges.corr(medical_df.smoker_code)"
   ]
  },
  {
   "cell_type": "code",
   "execution_count": null,
   "id": "religious-wedding",
   "metadata": {},
   "outputs": [],
   "source": [
    "medical_df"
   ]
  },
  {
   "cell_type": "markdown",
   "id": "another-ambassador",
   "metadata": {},
   "source": [
    "We can now use the `smoker_df` column for linear regression.\n",
    "\n",
    "$charges = w_1 \\times age + w_2 \\times bmi + w_3 \\times charges + w_4 \\times smoker + b$"
   ]
  },
  {
   "cell_type": "code",
   "execution_count": null,
   "id": "greatest-semiconductor",
   "metadata": {},
   "outputs": [],
   "source": [
    "# Create inputs and targets\n",
    "inputs, targets = medical_df[['age', 'bmi', 'children', 'smoker_code']], medical_df['charges']\n",
    "\n",
    "# Create and train the model\n",
    "model = LinearRegression().fit(inputs, targets)\n",
    "\n",
    "# Generate predictions\n",
    "predictions = model.predict(inputs)\n",
    "\n",
    "# Compute loss to evalute the model\n",
    "loss = rmse(targets, predictions)\n",
    "print('Loss:', loss)"
   ]
  },
  {
   "cell_type": "markdown",
   "id": "recent-robinson",
   "metadata": {},
   "source": [
    "The loss reduces from `11355` to `6056`, almost by 50%! This is an important lesson: never ignore categorical data.\n",
    "\n",
    "\n",
    "Let's try adding the \"sex\" column as well.\n",
    "\n",
    "$charges = w_1 \\times age + w_2 \\times bmi + w_3 \\times charges + w_4 \\times smoker + w_5 \\times sex + b$"
   ]
  },
  {
   "cell_type": "code",
   "execution_count": null,
   "id": "growing-marker",
   "metadata": {},
   "outputs": [],
   "source": [
    "sns.barplot(data=medical_df, x='sex', y='charges')"
   ]
  },
  {
   "cell_type": "code",
   "execution_count": null,
   "id": "sublime-complexity",
   "metadata": {},
   "outputs": [],
   "source": [
    "sex_codes = {'female': 0, 'male': 1}"
   ]
  },
  {
   "cell_type": "code",
   "execution_count": null,
   "id": "cathedral-destruction",
   "metadata": {},
   "outputs": [],
   "source": [
    "medical_df['sex_code'] = medical_df.sex.map(sex_codes)"
   ]
  },
  {
   "cell_type": "code",
   "execution_count": null,
   "id": "patient-liberal",
   "metadata": {},
   "outputs": [],
   "source": [
    "medical_df.charges.corr(medical_df.sex_code)"
   ]
  },
  {
   "cell_type": "code",
   "execution_count": null,
   "id": "dynamic-actor",
   "metadata": {},
   "outputs": [],
   "source": [
    "# Create inputs and targets\n",
    "inputs, targets = medical_df[['age', 'bmi', 'children', 'smoker_code', 'sex_code']], medical_df['charges']\n",
    "\n",
    "# Create and train the model\n",
    "model = LinearRegression().fit(inputs, targets)\n",
    "\n",
    "# Generate predictions\n",
    "predictions = model.predict(inputs)\n",
    "\n",
    "# Compute loss to evalute the model\n",
    "loss = rmse(targets, predictions)\n",
    "print('Loss:', loss)"
   ]
  },
  {
   "cell_type": "markdown",
   "id": "employed-jumping",
   "metadata": {},
   "source": [
    "As you might expect, this does have a significant impact on the loss."
   ]
  },
  {
   "cell_type": "markdown",
   "id": "egyptian-moscow",
   "metadata": {},
   "source": [
    "\n",
    "### One-hot Encoding\n",
    "\n",
    "The \"region\" column contains 4 values, so we'll need to use hot encoding and create a new column for each region.\n",
    "\n",
    "![](https://i.imgur.com/n8GuiOO.png)\n"
   ]
  },
  {
   "cell_type": "code",
   "execution_count": null,
   "id": "nuclear-breed",
   "metadata": {},
   "outputs": [],
   "source": [
    "sns.barplot(data=medical_df, x='region', y='charges');"
   ]
  },
  {
   "cell_type": "code",
   "execution_count": null,
   "id": "victorian-thailand",
   "metadata": {},
   "outputs": [],
   "source": [
    "from sklearn import preprocessing\n",
    "enc = preprocessing.OneHotEncoder()\n",
    "enc.fit(medical_df[['region']])\n",
    "enc.categories_"
   ]
  },
  {
   "cell_type": "code",
   "execution_count": null,
   "id": "raising-budapest",
   "metadata": {},
   "outputs": [],
   "source": [
    "one_hot = enc.transform(medical_df[['region']]).toarray()\n",
    "one_hot"
   ]
  },
  {
   "cell_type": "code",
   "execution_count": null,
   "id": "sacred-committee",
   "metadata": {},
   "outputs": [],
   "source": [
    "medical_df[['northeast', 'northwest', 'southeast', 'southwest']] = one_hot"
   ]
  },
  {
   "cell_type": "code",
   "execution_count": null,
   "id": "southwest-montgomery",
   "metadata": {},
   "outputs": [],
   "source": [
    "medical_df"
   ]
  },
  {
   "cell_type": "markdown",
   "id": "known-discount",
   "metadata": {},
   "source": [
    "Let's include the region columns into our linear regression model.\n",
    "\n",
    "$charges = w_1 \\times age + w_2 \\times bmi + w_3 \\times charges + w_4 \\times smoker + w_5 \\times sex + w_6 \\times region + b$"
   ]
  },
  {
   "cell_type": "code",
   "execution_count": null,
   "id": "cross-doctrine",
   "metadata": {},
   "outputs": [],
   "source": [
    "# Create inputs and targets\n",
    "input_cols = ['age', 'bmi', 'children', 'smoker_code', 'sex_code', 'northeast', 'northwest', 'southeast', 'southwest']\n",
    "inputs, targets = medical_df[input_cols], medical_df['charges']\n",
    "\n",
    "# Create and train the model\n",
    "model = LinearRegression().fit(inputs, targets)\n",
    "\n",
    "# Generate predictions\n",
    "predictions = model.predict(inputs)\n",
    "\n",
    "# Compute loss to evalute the model\n",
    "loss = rmse(targets, predictions)\n",
    "print('Loss:', loss)"
   ]
  },
  {
   "cell_type": "markdown",
   "id": "helpful-clothing",
   "metadata": {},
   "source": [
    "Once again, this leads to a fairly small reduction in the loss. \n",
    "\n",
    "> **EXERCISE**: Are two separate linear regression models, one for smokers and one of non-smokers, better than a single linear regression model? Why or why not? Try it out and see if you can justify your answer with data."
   ]
  },
  {
   "cell_type": "code",
   "execution_count": null,
   "id": "soviet-smart",
   "metadata": {},
   "outputs": [],
   "source": []
  },
  {
   "cell_type": "code",
   "execution_count": null,
   "id": "bearing-forwarding",
   "metadata": {},
   "outputs": [],
   "source": []
  },
  {
   "cell_type": "code",
   "execution_count": null,
   "id": "confirmed-pavilion",
   "metadata": {},
   "outputs": [],
   "source": []
  },
  {
   "cell_type": "markdown",
   "id": "preceding-content",
   "metadata": {},
   "source": [
    "Let's save our work before continuing."
   ]
  },
  {
   "cell_type": "code",
   "execution_count": null,
   "id": "asian-liechtenstein",
   "metadata": {},
   "outputs": [],
   "source": [
    "jovian.commit()"
   ]
  },
  {
   "cell_type": "markdown",
   "id": "direct-federal",
   "metadata": {},
   "source": [
    "## Model Improvements\n",
    "\n",
    "Let's discuss and apply some more improvements to our model.\n",
    "\n",
    "### Feature Scaling\n",
    "\n",
    "Recall that due to regulatory requirements, we also need to explain the rationale behind the predictions our model. \n",
    "\n",
    "$charges = w_1 \\times age + w_2 \\times bmi + w_3 \\times charges + w_4 \\times smoker + w_5 \\times sex + w_6 \\times region + b$\n",
    "\n",
    "To compare the importance of each feature in the model, our first instinct might be to compare their weights. "
   ]
  },
  {
   "cell_type": "code",
   "execution_count": null,
   "id": "hired-focus",
   "metadata": {},
   "outputs": [],
   "source": [
    "model.coef_"
   ]
  },
  {
   "cell_type": "code",
   "execution_count": null,
   "id": "satisfied-brake",
   "metadata": {},
   "outputs": [],
   "source": [
    "model.intercept_"
   ]
  },
  {
   "cell_type": "code",
   "execution_count": null,
   "id": "noted-dodge",
   "metadata": {},
   "outputs": [],
   "source": [
    "weights_df = pd.DataFrame({\n",
    "    'feature': np.append(input_cols, 1),\n",
    "    'weight': np.append(model.coef_, model.intercept_)\n",
    "})\n",
    "weights_df"
   ]
  },
  {
   "cell_type": "markdown",
   "id": "meaning-diana",
   "metadata": {},
   "source": [
    "While it seems like BMI and the \"northeast\" have a higher weight than age, keep in mind that the range of values for BMI is limited (15 to 40) and the \"northeast\" column only takes the values 0 and 1.\n",
    "\n",
    "Because different columns have different ranges, we run into two issues:\n",
    "\n",
    "1. We can't compare the weights of different column to identify which features are important\n",
    "2. A column with a larger range of inputs may disproportionately affect the loss and dominate the optimization process.\n",
    "\n",
    "For this reason, it's common practice to scale (or standardize) the values in numeric column by subtracting the mean and dividing by the standard deviation.\n",
    "\n",
    "![](https://i.imgur.com/dT5fLFI.png)\n",
    "\n",
    "We can apply scaling using the StandardScaler class from `scikit-learn`."
   ]
  },
  {
   "cell_type": "code",
   "execution_count": null,
   "id": "universal-heading",
   "metadata": {},
   "outputs": [],
   "source": [
    "medical_df"
   ]
  },
  {
   "cell_type": "code",
   "execution_count": null,
   "id": "coastal-passport",
   "metadata": {},
   "outputs": [],
   "source": [
    "from sklearn.preprocessing import StandardScaler"
   ]
  },
  {
   "cell_type": "code",
   "execution_count": null,
   "id": "tutorial-husband",
   "metadata": {},
   "outputs": [],
   "source": [
    "numeric_cols = ['age', 'bmi', 'children'] \n",
    "scaler = StandardScaler()\n",
    "scaler.fit(medical_df[numeric_cols])"
   ]
  },
  {
   "cell_type": "code",
   "execution_count": null,
   "id": "corrected-victoria",
   "metadata": {},
   "outputs": [],
   "source": [
    "scaler.mean_"
   ]
  },
  {
   "cell_type": "code",
   "execution_count": null,
   "id": "corresponding-induction",
   "metadata": {},
   "outputs": [],
   "source": [
    "scaler.var_"
   ]
  },
  {
   "cell_type": "markdown",
   "id": "horizontal-mills",
   "metadata": {},
   "source": [
    "We can now scale data as follows:"
   ]
  },
  {
   "cell_type": "code",
   "execution_count": null,
   "id": "printable-entertainment",
   "metadata": {},
   "outputs": [],
   "source": [
    "scaled_inputs = scaler.transform(medical_df[numeric_cols])\n",
    "scaled_inputs"
   ]
  },
  {
   "cell_type": "markdown",
   "id": "derived-large",
   "metadata": {},
   "source": [
    "These can now we combined with the categorical data"
   ]
  },
  {
   "cell_type": "code",
   "execution_count": null,
   "id": "earlier-genesis",
   "metadata": {},
   "outputs": [],
   "source": [
    "cat_cols = ['smoker_code', 'sex_code', 'northeast', 'northwest', 'southeast', 'southwest']\n",
    "categorical_data = medical_df[cat_cols].values"
   ]
  },
  {
   "cell_type": "code",
   "execution_count": null,
   "id": "stylish-light",
   "metadata": {},
   "outputs": [],
   "source": [
    "inputs = np.concatenate((scaled_inputs, categorical_data), axis=1)\n",
    "targets = medical_df.charges\n",
    "\n",
    "# Create and train the model\n",
    "model = LinearRegression().fit(inputs, targets)\n",
    "\n",
    "# Generate predictions\n",
    "predictions = model.predict(inputs)\n",
    "\n",
    "# Compute loss to evalute the model\n",
    "loss = rmse(targets, predictions)\n",
    "print('Loss:', loss)"
   ]
  },
  {
   "cell_type": "markdown",
   "id": "flying-premiere",
   "metadata": {},
   "source": [
    "We can now compare the weights in the formula:\n",
    "\n",
    "$charges = w_1 \\times age + w_2 \\times bmi + w_3 \\times charges + w_4 \\times smoker + w_5 \\times sex + w_6 \\times region + b$"
   ]
  },
  {
   "cell_type": "code",
   "execution_count": null,
   "id": "brazilian-benchmark",
   "metadata": {},
   "outputs": [],
   "source": [
    "weights_df = pd.DataFrame({\n",
    "    'feature': np.append(numeric_cols + cat_cols, 1),\n",
    "    'weight': np.append(model.coef_, model.intercept_)\n",
    "})\n",
    "weights_df.sort_values('weight', ascending=False)"
   ]
  },
  {
   "cell_type": "markdown",
   "id": "significant-secretariat",
   "metadata": {},
   "source": [
    "As you can see now, the most important feature are:\n",
    "\n",
    "1. Smoker\n",
    "2. Age\n",
    "3. BMI\n"
   ]
  },
  {
   "cell_type": "markdown",
   "id": "patient-moses",
   "metadata": {},
   "source": [
    "### Creating a Test Set\n",
    "\n",
    "Models like the one we've created in this tutorial are designed to be used in the real world. It's common practice to set aside a small fraction of the data (e.g. 10%) just for testing and reporting the results of the model."
   ]
  },
  {
   "cell_type": "code",
   "execution_count": null,
   "id": "french-maria",
   "metadata": {},
   "outputs": [],
   "source": [
    "from sklearn.model_selection import train_test_split"
   ]
  },
  {
   "cell_type": "code",
   "execution_count": null,
   "id": "continental-outreach",
   "metadata": {},
   "outputs": [],
   "source": [
    "inputs_train, inputs_test, targets_train, targets_test = train_test_split(inputs, targets, test_size=0.1)"
   ]
  },
  {
   "cell_type": "code",
   "execution_count": null,
   "id": "stock-money",
   "metadata": {},
   "outputs": [],
   "source": [
    "# Create and train the model\n",
    "model = LinearRegression().fit(inputs_train, targets_train)\n",
    "\n",
    "# Generate predictions\n",
    "predictions_test = model.predict(inputs_test)\n",
    "\n",
    "# Compute loss to evalute the model\n",
    "loss = rmse(targets_test, predictions_test)\n",
    "print('Test Loss:', loss)"
   ]
  },
  {
   "cell_type": "markdown",
   "id": "martial-possible",
   "metadata": {},
   "source": [
    "Let's compare this with the training loss."
   ]
  },
  {
   "cell_type": "code",
   "execution_count": null,
   "id": "still-petite",
   "metadata": {},
   "outputs": [],
   "source": [
    "# Generate predictions\n",
    "predictions_train = model.predict(inputs_train)\n",
    "\n",
    "# Compute loss to evalute the model\n",
    "loss = rmse(targets_train, predictions_train)\n",
    "print('Training Loss:', loss)"
   ]
  },
  {
   "cell_type": "markdown",
   "id": "muslim-weekend",
   "metadata": {},
   "source": [
    "Can you explain why the training loss is lower than the test loss? We'll discuss this in a lot more detail in future tutorials."
   ]
  },
  {
   "cell_type": "markdown",
   "id": "empty-survival",
   "metadata": {},
   "source": [
    "### How to Approach a Machine Learning Problem\n",
    "\n",
    "Here's a strategy you can apply to approach any machine learning problem:\n",
    "\n",
    "1. Explore the data and find correlations between inputs and targets\n",
    "2. Pick the right model, loss functions and optimizer for the problem at hand\n",
    "3. Scale numeric variables and one-hot encode categorical data\n",
    "4. Set aside a test set (using a fraction of the training set)\n",
    "5. Train the model\n",
    "6. Make predictions on the test set and compute the loss\n",
    "\n",
    "We'll apply this process to several problems in future tutorials."
   ]
  },
  {
   "cell_type": "markdown",
   "id": "sorted-jaguar",
   "metadata": {},
   "source": [
    "Let's save our work before continuing."
   ]
  },
  {
   "cell_type": "code",
   "execution_count": null,
   "id": "organizational-supplement",
   "metadata": {
    "scrolled": true
   },
   "outputs": [],
   "source": [
    "jovian.commit()"
   ]
  },
  {
   "cell_type": "markdown",
   "id": "theoretical-scottish",
   "metadata": {},
   "source": [
    "## Summary and Further Reading\n",
    "\n",
    "We've covered the following topics in this tutorial:\n",
    "\n",
    "- A typical problem statement for machine learning\n",
    "- Downloading and exploring a dataset for machine learning\n",
    "- Linear regression with one variable using Scikit-learn\n",
    "- Linear regression with multiple variables \n",
    "- Using categorical features for machine learning\n",
    "- Regression coefficients and feature importance\n",
    "- Creating a training and test set for reporting results\n",
    "\n",
    "Apply the techniques covered in this tutorial to the following datasets:\n",
    "\n",
    "- https://www.kaggle.com/vikrishnan/boston-house-prices\n",
    "- https://www.kaggle.com/sohier/calcofi\n",
    "- https://www.kaggle.com/budincsevity/szeged-weather \n",
    "\n",
    "\n",
    "Check out the following links to learn more about linear regression:\n",
    "\n",
    "- https://jovian.ai/aakashns/02-linear-regression\n",
    "- https://www.kaggle.com/hely333/eda-regression\n",
    "- https://www.youtube.com/watch?v=kHwlB_j7Hkc\n",
    "\n"
   ]
  },
  {
   "cell_type": "code",
   "execution_count": null,
   "id": "blond-cholesterol",
   "metadata": {},
   "outputs": [],
   "source": []
  }
 ],
 "metadata": {
  "kernelspec": {
   "display_name": "venv",
   "language": "python",
   "name": "python3"
  },
  "language_info": {
   "codemirror_mode": {
    "name": "ipython",
    "version": 3
   },
   "file_extension": ".py",
   "mimetype": "text/x-python",
   "name": "python",
   "nbconvert_exporter": "python",
   "pygments_lexer": "ipython3",
   "version": "3.12.3"
  }
 },
 "nbformat": 4,
 "nbformat_minor": 5
}
